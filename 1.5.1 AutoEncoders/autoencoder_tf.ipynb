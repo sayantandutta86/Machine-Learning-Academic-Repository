{
  "nbformat": 4,
  "nbformat_minor": 0,
  "metadata": {
    "colab": {
      "name": "autoencoder_tf.ipynb",
      "provenance": [],
      "collapsed_sections": []
    },
    "kernelspec": {
      "name": "python3",
      "display_name": "Python 3"
    }
  },
  "cells": [
    {
      "cell_type": "code",
      "metadata": {
        "id": "kAoDpkqD3Q6L",
        "colab_type": "code",
        "colab": {}
      },
      "source": [
        "import os; os.chdir('/content/drive/My Drive/Colab Notebooks/Lazy courses/Unsupervised Learning')"
      ],
      "execution_count": 0,
      "outputs": []
    },
    {
      "cell_type": "code",
      "metadata": {
        "id": "1MCKpQhUNNhG",
        "colab_type": "code",
        "colab": {}
      },
      "source": [
        "%tensorflow_version 1.x"
      ],
      "execution_count": 0,
      "outputs": []
    },
    {
      "cell_type": "code",
      "metadata": {
        "id": "BipW_oKNM9LS",
        "colab_type": "code",
        "colab": {}
      },
      "source": [
        "import numpy as np\n",
        "import tensorflow as tf\n",
        "import matplotlib.pyplot as plt\n",
        "\n",
        "from sklearn.utils import shuffle\n",
        "from util import error_rate, getKaggleMNIST"
      ],
      "execution_count": 0,
      "outputs": []
    },
    {
      "cell_type": "code",
      "metadata": {
        "id": "AwEAzd-93KUg",
        "colab_type": "code",
        "colab": {}
      },
      "source": [
        "class AutoEncoder(object):\n",
        "    def __init__(self, D, M, an_id):\n",
        "        self.M = M\n",
        "        self.id = an_id\n",
        "        self.build(D, M)\n",
        "\n",
        "    def set_session(self, session):\n",
        "        self.session = session\n",
        "\n",
        "    def build(self, D, M):\n",
        "        #self.W = tf.Variable(tf.random_normal(shape=(D,M)))\n",
        "        self.W = tf.Variable(tf.random_normal(shape=(D, M)))\n",
        "        self.bh = tf.Variable(np.zeros(M).astype(np.float32))\n",
        "        self.bo = tf.Variable(np.zeros(D).astype(np.float32))\n",
        "\n",
        "        self.X_in = tf.placeholder(tf.float32, shape= (None,D))\n",
        "        self.Z = self.forward_hidden(self.X_in) #for transform later\n",
        "        self.X_hat = self.forward_output(self.X_in)\n",
        "\n",
        "        #using the naive formulation for cross-entropy\n",
        "        #will have numerical stability issues if X_hat = 0 or 1\n",
        "        logits = self.forward_logits(self.X_in)\n",
        "        self.cost = tf.reduce_mean(\n",
        "            tf.nn.sigmoid_cross_entropy_with_logits(\n",
        "            labels = self.X_in,\n",
        "            logits = logits,    \n",
        "            )\n",
        "        )   \n",
        "        #self.train_op = tf.train.MomentumOptimizer(1e-3, momentum=0.9).minimize(self.cost)\n",
        "        self.train_op = tf.train.AdamOptimizer(1e-1).minimize(self.cost)\n",
        "\n",
        "    #Train\n",
        "    def fit(self, X, epochs=1, batch_sz=100, show_fig=False):\n",
        "        N,D = X.shape\n",
        "        n_batches = N // batch_sz\n",
        "\n",
        "        costs= []\n",
        "        print(\"Training encoder: %s\" %self.id)\n",
        "        for i in range(epochs):\n",
        "            print(\"Epochs\", i)\n",
        "            X = shuffle(X)\n",
        "            for j in range(n_batches):\n",
        "                batch = X[j*batch_sz:(j*batch_sz+batch_sz)]\n",
        "                _,c = self.session.run((self.train_op, self.cost), feed_dict={self.X_in:batch})\n",
        "                if j%10 == 0:\n",
        "                    print(\"j / n_batches:\", j, \"/\", n_batches, \"cost:\", c)\n",
        "                costs.append(c)\n",
        "        if show_fig:\n",
        "            plt.plot(costs)\n",
        "            plt.show()\n",
        "\n",
        "    def transform(self, X):\n",
        "        #accepts and returns a real numpy array\n",
        "        #unlike forward_hidden and forward_output\n",
        "        #which deal with tensorflow variables\n",
        "        return self.session.run(self.Z, feed_dict={self.X_in: X})\n",
        "\n",
        "    def predict(self, X):\n",
        "        #accepts and returns a real numpy array\n",
        "        #unlike forward_hidden and forward_output\n",
        "        #which deal with tensorflow variables\n",
        "        return self.session.run(self.X_hat, feed_dict={self.X_in: X})\n",
        "\n",
        "    def forward_hidden(self, X):\n",
        "        Z = tf.nn.sigmoid(tf.matmul(X, self.W) +self.bh)\n",
        "        return Z\n",
        "\n",
        "    def forward_logits(self, X):\n",
        "        Z = self.forward_hidden(X)\n",
        "        return tf.matmul(Z, tf.transpose(self.W)) + self.bo\n",
        "\n",
        "    def forward_output(self, X):\n",
        "        return tf.nn.sigmoid(self.forward_logits(X))\n",
        "\n",
        "class DNN(object):\n",
        "    def __init__(self, D, hidden_layer_sizes, K, UnsupervisedModel = AutoEncoder):\n",
        "        self.hidden_layers = []\n",
        "        count = 0\n",
        "        input_size = D        \n",
        "        for output_size in hidden_layer_sizes:\n",
        "            ae = UnsupervisedModel(input_size, output_size, count)\n",
        "            self.hidden_layers.append(ae)\n",
        "            count += 1\n",
        "            input_size = output_size\n",
        "        self.build_final_layer(D, hidden_layer_sizes[-1], K)\n",
        "\n",
        "    def set_session(self, session):\n",
        "        self.session = session\n",
        "        for layer in self.hidden_layers:\n",
        "            layer.set_session(session)\n",
        "\n",
        "    def build_final_layer(self, D, M, K):\n",
        "        #initialize logistic regress\n",
        "        self.W = tf.Variable(tf.random_normal(shape=(M, K)))\n",
        "        self.b = tf.Variable(np.zeros(K).astype(np.float32))\n",
        "\n",
        "        self.X = tf.placeholder(tf.float32, shape=(None, D))\n",
        "        labels = tf.placeholder(tf.int32, shape=(None,))\n",
        "        self.Y = labels\n",
        "        logits = self.forward(self.X)\n",
        "\n",
        "        self.cost = tf.reduce_mean(\n",
        "            tf.nn.sparse_softmax_cross_entropy_with_logits(\n",
        "                logits = logits,\n",
        "                labels = labels\n",
        "            )\n",
        "        )\n",
        "        self.train_op = tf.train.AdamOptimizer(1e-2).minimize(self.cost)\n",
        "        self.prediction = tf.argmax(logits, 1)\n",
        "\n",
        "    def fit(self, X, Y, Xtest, Ytest, pretrain=True, epochs=1, batch_sz=100):\n",
        "        N = len(X)\n",
        "\n",
        "        #greedy layer-wise training of autoencoders\n",
        "        pretrain_epochs = 1\n",
        "        if not pretrain:\n",
        "            pretrain_epochs = 0\n",
        "\n",
        "        current_input = X\n",
        "        for ae in self.hidden_layers:\n",
        "            ae.fit(current_input, epochs=pretrain_epochs)\n",
        "            #create current input for the next layer\n",
        "            current_input = ae.transform(current_input)\n",
        "        \n",
        "        n_batches = N // batch_sz\n",
        "        costs = []\n",
        "        print('Supervised Training..')\n",
        "        for i in range(epochs):\n",
        "            print(\"Epoch:\", i)\n",
        "            X, Y = shuffle(X, Y)\n",
        "            for j in range(n_batches):\n",
        "                Xbatch = X[j*batch_sz:(j*batch_sz + batch_sz)]\n",
        "                Ybatch = Y[j*batch_sz:(j*batch_sz + batch_sz)]\n",
        "                self.session.run(self.train_op, feed_dict={self.X: Xbatch, self.Y: Ybatch})\n",
        "                c, p = self.session.run((self.cost, self.prediction), feed_dict={self.X: Xtest, self.Y: Ytest})\n",
        "                error = error_rate(p, Ytest)\n",
        "                if j%10 == 0:\n",
        "                    print(\"j / n_batches:\", j, \"/\", n_batches, \"Cost:\", c, \"error:\", error)\n",
        "                costs.append(c)\n",
        "        plt.plot(costs)\n",
        "        plt.show()\n",
        "\n",
        "    def forward(self, X):\n",
        "        current_input = X\n",
        "        for ae in self.hidden_layers:\n",
        "            Z = ae.forward_hidden(current_input)\n",
        "            current_input = Z\n",
        "\n",
        "        #logistic layer\n",
        "        logits = tf.matmul(current_input, self.W) + self.b\n",
        "        return logits\n",
        "\n",
        "def test_pretraining_dnn():\n",
        "    Xtrain, Ytrain, Xtest, Ytest = getKaggleMNIST()\n",
        "    #dnn = DNN([1000, 750, 500])\n",
        "    #dnn.fit(Xtrain, Ytrain, Xtest, Ytest, epochs=3)\n",
        "    #vs\n",
        "    Xtrain = Xtrain.astype(np.float32)\n",
        "    Xtest = Xtest.astype(np.float32)\n",
        "    _, D = Xtrain.shape\n",
        "    K = len(set(Ytrain))\n",
        "    dnn = DNN(D, [1000, 750, 500], K)\n",
        "    init_op = tf.global_variables_initializer()\n",
        "    with tf.Session() as session:\n",
        "        session.run(init_op)\n",
        "        dnn.set_session(session)\n",
        "        dnn.fit(Xtrain, Ytrain, Xtest, Ytest, pretrain=True, epochs=10)\n",
        "\n",
        "def test_single_autoencoder():\n",
        "    Xtrain, Ytrain, Xtest, Ytest = getKaggleMNIST()\n",
        "    Xtrain = Xtrain.astype(np.float32)\n",
        "    Xtest = Xtest.astype(np.float32)\n",
        "    _, D = Xtrain.shape\n",
        "    autoencoder = AutoEncoder(D, 300, 0)\n",
        "    init_op = tf.global_variables_initializer()\n",
        "    with tf.Session() as session:\n",
        "        session.run(init_op)\n",
        "        autoencoder.set_session(session)\n",
        "        autoencoder.fit(Xtrain, show_fig=True)\n",
        "        \n",
        "        done = False\n",
        "        while not done:\n",
        "            i = np.random.choice(len(Xtest))\n",
        "            x = Xtest[i]\n",
        "            y = autoencoder.predict([x])\n",
        "            \n",
        "            plt.subplot(1,2,1)\n",
        "            plt.imshow(x.reshape(28,28), cmap='gray')\n",
        "            plt.title('Original')\n",
        "\n",
        "            plt.subplot(1,2,2)\n",
        "            plt.imshow(y.reshape(28,28), cmap='gray')\n",
        "            plt.title('Reconstructed')\n",
        "\n",
        "            plt.show()\n",
        "\n",
        "            ans = input('Generate another?')\n",
        "            if ans and ans[0] in ('n' or 'Y'):\n",
        "                done = True\n",
        "                 "
      ],
      "execution_count": 0,
      "outputs": []
    },
    {
      "cell_type": "code",
      "metadata": {
        "id": "5PravvIN3ZIJ",
        "colab_type": "code",
        "colab": {
          "base_uri": "https://localhost:8080/",
          "height": 1000
        },
        "outputId": "cd0a8ddb-3bad-4b47-bc81-075bd50abe12"
      },
      "source": [
        "if __name__ == '__main__':\n",
        "    #test_pretraining_dnn()\n",
        "    test_single_autoencoder()    "
      ],
      "execution_count": 13,
      "outputs": [
        {
          "output_type": "stream",
          "text": [
            "Training encoder: 0\n",
            "Epochs 0\n",
            "j / n_batches: 0 / 590 cost: 4.4310594\n",
            "j / n_batches: 10 / 590 cost: 0.29453224\n",
            "j / n_batches: 20 / 590 cost: 0.24996263\n",
            "j / n_batches: 30 / 590 cost: 0.21770371\n",
            "j / n_batches: 40 / 590 cost: 0.19242199\n",
            "j / n_batches: 50 / 590 cost: 0.19584356\n",
            "j / n_batches: 60 / 590 cost: 0.17223541\n",
            "j / n_batches: 70 / 590 cost: 0.18568397\n",
            "j / n_batches: 80 / 590 cost: 0.17021425\n",
            "j / n_batches: 90 / 590 cost: 0.15780245\n",
            "j / n_batches: 100 / 590 cost: 0.16025326\n",
            "j / n_batches: 110 / 590 cost: 0.15846029\n",
            "j / n_batches: 120 / 590 cost: 0.1410261\n",
            "j / n_batches: 130 / 590 cost: 0.15318085\n",
            "j / n_batches: 140 / 590 cost: 0.14069328\n",
            "j / n_batches: 150 / 590 cost: 0.15116423\n",
            "j / n_batches: 160 / 590 cost: 0.14461857\n",
            "j / n_batches: 170 / 590 cost: 0.1461885\n",
            "j / n_batches: 180 / 590 cost: 0.15462913\n",
            "j / n_batches: 190 / 590 cost: 0.14770363\n",
            "j / n_batches: 200 / 590 cost: 0.14124407\n",
            "j / n_batches: 210 / 590 cost: 0.1442257\n",
            "j / n_batches: 220 / 590 cost: 0.13981977\n",
            "j / n_batches: 230 / 590 cost: 0.1495717\n",
            "j / n_batches: 240 / 590 cost: 0.13350222\n",
            "j / n_batches: 250 / 590 cost: 0.13934144\n",
            "j / n_batches: 260 / 590 cost: 0.13577518\n",
            "j / n_batches: 270 / 590 cost: 0.13426556\n",
            "j / n_batches: 280 / 590 cost: 0.13101025\n",
            "j / n_batches: 290 / 590 cost: 0.1352358\n",
            "j / n_batches: 300 / 590 cost: 0.13401169\n",
            "j / n_batches: 310 / 590 cost: 0.12464076\n",
            "j / n_batches: 320 / 590 cost: 0.12707736\n",
            "j / n_batches: 330 / 590 cost: 0.12811936\n",
            "j / n_batches: 340 / 590 cost: 0.13543119\n",
            "j / n_batches: 350 / 590 cost: 0.13299783\n",
            "j / n_batches: 360 / 590 cost: 0.13103895\n",
            "j / n_batches: 370 / 590 cost: 0.12307636\n",
            "j / n_batches: 380 / 590 cost: 0.12633944\n",
            "j / n_batches: 390 / 590 cost: 0.12064184\n",
            "j / n_batches: 400 / 590 cost: 0.119201064\n",
            "j / n_batches: 410 / 590 cost: 0.12328481\n",
            "j / n_batches: 420 / 590 cost: 0.123625964\n",
            "j / n_batches: 430 / 590 cost: 0.12022179\n",
            "j / n_batches: 440 / 590 cost: 0.118340395\n",
            "j / n_batches: 450 / 590 cost: 0.11855109\n",
            "j / n_batches: 460 / 590 cost: 0.1190172\n",
            "j / n_batches: 470 / 590 cost: 0.119047955\n",
            "j / n_batches: 480 / 590 cost: 0.11971857\n",
            "j / n_batches: 490 / 590 cost: 0.11492484\n",
            "j / n_batches: 500 / 590 cost: 0.105292305\n",
            "j / n_batches: 510 / 590 cost: 0.11826911\n",
            "j / n_batches: 520 / 590 cost: 0.12148579\n",
            "j / n_batches: 530 / 590 cost: 0.12108548\n",
            "j / n_batches: 540 / 590 cost: 0.11105074\n",
            "j / n_batches: 550 / 590 cost: 0.11634289\n",
            "j / n_batches: 560 / 590 cost: 0.12342851\n",
            "j / n_batches: 570 / 590 cost: 0.119605616\n",
            "j / n_batches: 580 / 590 cost: 0.12511618\n"
          ],
          "name": "stdout"
        },
        {
          "output_type": "display_data",
          "data": {
            "image/png": "[encoded data removed]",
            "text/plain": [
              "<Figure size 432x288 with 1 Axes>"
            ]
          },
          "metadata": {
            "tags": [],
            "needs_background": "light"
          }
        },
        {
          "output_type": "display_data",
          "data": {
            "image/png": "[encoded data removed]",
            "text/plain": [
              "<Figure size 432x288 with 2 Axes>"
            ]
          },
          "metadata": {
            "tags": [],
            "needs_background": "light"
          }
        },
        {
          "output_type": "stream",
          "text": [
            "Generate another?y\n"
          ],
          "name": "stdout"
        },
        {
          "output_type": "display_data",
          "data": {
            "image/png": "[encoded data removed]",
            "text/plain": [
              "<Figure size 432x288 with 2 Axes>"
            ]
          },
          "metadata": {
            "tags": [],
            "needs_background": "light"
          }
        },
        {
          "output_type": "stream",
          "text": [
            "Generate another?y\n"
          ],
          "name": "stdout"
        },
        {
          "output_type": "display_data",
          "data": {
            "image/png": "[encoded data removed]",
            "text/plain": [
              "<Figure size 432x288 with 2 Axes>"
            ]
          },
          "metadata": {
            "tags": [],
            "needs_background": "light"
          }
        },
        {
          "output_type": "stream",
          "text": [
            "Generate another?y\n"
          ],
          "name": "stdout"
        },
        {
          "output_type": "display_data",
          "data": {
            "image/png": "[encoded data removed]",
            "text/plain": [
              "<Figure size 432x288 with 2 Axes>"
            ]
          },
          "metadata": {
            "tags": [],
            "needs_background": "light"
          }
        },
        {
          "output_type": "stream",
          "text": [
            "Generate another?n\n"
          ],
          "name": "stdout"
        }
      ]
    },
    {
      "cell_type": "code",
      "metadata": {
        "id": "61pHecyN3ZMc",
        "colab_type": "code",
        "colab": {}
      },
      "source": [
        ""
      ],
      "execution_count": 0,
      "outputs": []
    },
    {
      "cell_type": "code",
      "metadata": {
        "id": "6kq7tq9Y3ZOl",
        "colab_type": "code",
        "colab": {}
      },
      "source": [
        ""
      ],
      "execution_count": 0,
      "outputs": []
    },
    {
      "cell_type": "code",
      "metadata": {
        "id": "oJQuULSB3ZSn",
        "colab_type": "code",
        "colab": {}
      },
      "source": [
        ""
      ],
      "execution_count": 0,
      "outputs": []
    },
    {
      "cell_type": "code",
      "metadata": {
        "id": "-1HIhI9O3ZVW",
        "colab_type": "code",
        "colab": {}
      },
      "source": [
        ""
      ],
      "execution_count": 0,
      "outputs": []
    }
  ]
}