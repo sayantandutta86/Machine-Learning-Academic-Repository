{
 "cells": [
  {
   "cell_type": "code",
   "execution_count": 1,
   "metadata": {
    "colab": {},
    "colab_type": "code",
    "id": "uFCl-X3J8UGM"
   },
   "outputs": [],
   "source": [
    "#import os ; os.chdir('/content/drive/My Drive/Colab Notebooks/Project- Loan Prediction')"
   ]
  },
  {
   "cell_type": "code",
   "execution_count": 5,
   "metadata": {},
   "outputs": [
    {
     "name": "stdout",
     "output_type": "stream",
     "text": [
      "Collecting xgboost\n",
      "  Downloading https://files.pythonhosted.org/packages/b1/11/cba4be5a737c6431323b89b5ade818b3bbe1df6e8261c6c70221a767c5d9/xgboost-1.0.2-py3-none-win_amd64.whl (24.6MB)\n",
      "Requirement already satisfied: scipy in c:\\users\\sayan\\anaconda3\\lib\\site-packages (from xgboost) (1.1.0)\n",
      "Requirement already satisfied: numpy in c:\\users\\sayan\\anaconda3\\lib\\site-packages (from xgboost) (1.17.4)\n",
      "Installing collected packages: xgboost\n",
      "Successfully installed xgboost-1.0.2\n",
      "Note: you may need to restart the kernel to use updated packages.\n"
     ]
    }
   ],
   "source": [
    "pip install xgboost"
   ]
  },
  {
   "cell_type": "code",
   "execution_count": 1,
   "metadata": {
    "colab": {},
    "colab_type": "code",
    "id": "rOEdo31ECOmg"
   },
   "outputs": [
    {
     "name": "stderr",
     "output_type": "stream",
     "text": [
      "C:\\Users\\sayan\\Anaconda3\\lib\\site-packages\\distributed\\config.py:20: YAMLLoadWarning: calling yaml.load() without Loader=... is deprecated, as the default Loader is unsafe. Please read https://msg.pyyaml.org/load for full details.\n",
      "  defaults = yaml.load(f)\n"
     ]
    }
   ],
   "source": [
    "import numpy as np\n",
    "import pandas as pd\n",
    "import matplotlib.pyplot as plt\n",
    "import seaborn as sns\n",
    "from sklearn.model_selection import train_test_split\n",
    "from sklearn.ensemble import GradientBoostingClassifier\n",
    "from sklearn.ensemble import RandomForestClassifier\n",
    "from sklearn.linear_model import LogisticRegression\n",
    "from sklearn.metrics import accuracy_score\n",
    "from sklearn.metrics import roc_auc_score\n",
    "from xgboost import XGBClassifier\n",
    "from sklearn.model_selection import cross_val_score\n",
    "\n",
    "#import classes for imputation\n",
    "from sklearn.compose import ColumnTransformer\n",
    "from sklearn.pipeline import Pipeline\n",
    "from sklearn.impute import SimpleImputer\n",
    "\n",
    "# import extra classes for modelling\n",
    "from sklearn.preprocessing import StandardScaler, OneHotEncoder\n",
    "from sklearn.linear_model import Lasso\n",
    "from sklearn.model_selection import train_test_split, GridSearchCV\n",
    "\n",
    "#Pytorch Libraries\n",
    "import time\n",
    "import torch\n",
    "import torch.nn as nn\n",
    "from torch.autograd import Variable\n",
    "import torch.nn.functional as F\n",
    "import torch.utils.data as Data\n",
    "from torch import nn, optim\n",
    "from torch.utils.data import TensorDataset, DataLoader\n",
    "from torch.optim.lr_scheduler import StepLR, ReduceLROnPlateau"
   ]
  },
  {
   "cell_type": "code",
   "execution_count": 2,
   "metadata": {
    "colab": {},
    "colab_type": "code",
    "id": "q7KQ7EymCOpF"
   },
   "outputs": [],
   "source": [
    "data = pd.read_csv('train.csv')\n",
    "test = pd.read_csv('test.csv')"
   ]
  },
  {
   "cell_type": "code",
   "execution_count": 3,
   "metadata": {
    "colab": {
     "base_uri": "https://localhost:8080/",
     "height": 241
    },
    "colab_type": "code",
    "id": "tGXBSv_NCOuW",
    "outputId": "79f4bf55-f22f-4e3b-bcfc-9bd62cfd02c9"
   },
   "outputs": [
    {
     "data": {
      "text/html": [
       "<div>\n",
       "<style scoped>\n",
       "    .dataframe tbody tr th:only-of-type {\n",
       "        vertical-align: middle;\n",
       "    }\n",
       "\n",
       "    .dataframe tbody tr th {\n",
       "        vertical-align: top;\n",
       "    }\n",
       "\n",
       "    .dataframe thead th {\n",
       "        text-align: right;\n",
       "    }\n",
       "</style>\n",
       "<table border=\"1\" class=\"dataframe\">\n",
       "  <thead>\n",
       "    <tr style=\"text-align: right;\">\n",
       "      <th></th>\n",
       "      <th>Loan_ID</th>\n",
       "      <th>Gender</th>\n",
       "      <th>Married</th>\n",
       "      <th>Dependents</th>\n",
       "      <th>Education</th>\n",
       "      <th>Self_Employed</th>\n",
       "      <th>ApplicantIncome</th>\n",
       "      <th>CoapplicantIncome</th>\n",
       "      <th>LoanAmount</th>\n",
       "      <th>Loan_Amount_Term</th>\n",
       "      <th>Credit_History</th>\n",
       "      <th>Property_Area</th>\n",
       "      <th>Loan_Status</th>\n",
       "    </tr>\n",
       "  </thead>\n",
       "  <tbody>\n",
       "    <tr>\n",
       "      <th>0</th>\n",
       "      <td>LP001002</td>\n",
       "      <td>Male</td>\n",
       "      <td>No</td>\n",
       "      <td>0</td>\n",
       "      <td>Graduate</td>\n",
       "      <td>No</td>\n",
       "      <td>5849</td>\n",
       "      <td>0.0</td>\n",
       "      <td>NaN</td>\n",
       "      <td>360.0</td>\n",
       "      <td>1.0</td>\n",
       "      <td>Urban</td>\n",
       "      <td>Y</td>\n",
       "    </tr>\n",
       "    <tr>\n",
       "      <th>1</th>\n",
       "      <td>LP001003</td>\n",
       "      <td>Male</td>\n",
       "      <td>Yes</td>\n",
       "      <td>1</td>\n",
       "      <td>Graduate</td>\n",
       "      <td>No</td>\n",
       "      <td>4583</td>\n",
       "      <td>1508.0</td>\n",
       "      <td>128.0</td>\n",
       "      <td>360.0</td>\n",
       "      <td>1.0</td>\n",
       "      <td>Rural</td>\n",
       "      <td>N</td>\n",
       "    </tr>\n",
       "    <tr>\n",
       "      <th>2</th>\n",
       "      <td>LP001005</td>\n",
       "      <td>Male</td>\n",
       "      <td>Yes</td>\n",
       "      <td>0</td>\n",
       "      <td>Graduate</td>\n",
       "      <td>Yes</td>\n",
       "      <td>3000</td>\n",
       "      <td>0.0</td>\n",
       "      <td>66.0</td>\n",
       "      <td>360.0</td>\n",
       "      <td>1.0</td>\n",
       "      <td>Urban</td>\n",
       "      <td>Y</td>\n",
       "    </tr>\n",
       "    <tr>\n",
       "      <th>3</th>\n",
       "      <td>LP001006</td>\n",
       "      <td>Male</td>\n",
       "      <td>Yes</td>\n",
       "      <td>0</td>\n",
       "      <td>Not Graduate</td>\n",
       "      <td>No</td>\n",
       "      <td>2583</td>\n",
       "      <td>2358.0</td>\n",
       "      <td>120.0</td>\n",
       "      <td>360.0</td>\n",
       "      <td>1.0</td>\n",
       "      <td>Urban</td>\n",
       "      <td>Y</td>\n",
       "    </tr>\n",
       "    <tr>\n",
       "      <th>4</th>\n",
       "      <td>LP001008</td>\n",
       "      <td>Male</td>\n",
       "      <td>No</td>\n",
       "      <td>0</td>\n",
       "      <td>Graduate</td>\n",
       "      <td>No</td>\n",
       "      <td>6000</td>\n",
       "      <td>0.0</td>\n",
       "      <td>141.0</td>\n",
       "      <td>360.0</td>\n",
       "      <td>1.0</td>\n",
       "      <td>Urban</td>\n",
       "      <td>Y</td>\n",
       "    </tr>\n",
       "  </tbody>\n",
       "</table>\n",
       "</div>"
      ],
      "text/plain": [
       "    Loan_ID Gender Married Dependents     Education Self_Employed  \\\n",
       "0  LP001002   Male      No          0      Graduate            No   \n",
       "1  LP001003   Male     Yes          1      Graduate            No   \n",
       "2  LP001005   Male     Yes          0      Graduate           Yes   \n",
       "3  LP001006   Male     Yes          0  Not Graduate            No   \n",
       "4  LP001008   Male      No          0      Graduate            No   \n",
       "\n",
       "   ApplicantIncome  CoapplicantIncome  LoanAmount  Loan_Amount_Term  \\\n",
       "0             5849                0.0         NaN             360.0   \n",
       "1             4583             1508.0       128.0             360.0   \n",
       "2             3000                0.0        66.0             360.0   \n",
       "3             2583             2358.0       120.0             360.0   \n",
       "4             6000                0.0       141.0             360.0   \n",
       "\n",
       "   Credit_History Property_Area Loan_Status  \n",
       "0             1.0         Urban           Y  \n",
       "1             1.0         Rural           N  \n",
       "2             1.0         Urban           Y  \n",
       "3             1.0         Urban           Y  \n",
       "4             1.0         Urban           Y  "
      ]
     },
     "execution_count": 3,
     "metadata": {},
     "output_type": "execute_result"
    }
   ],
   "source": [
    "data.head()"
   ]
  },
  {
   "cell_type": "code",
   "execution_count": 4,
   "metadata": {
    "colab": {},
    "colab_type": "code",
    "id": "VYXS_wysCO0v"
   },
   "outputs": [],
   "source": [
    "cols = list(data.columns)"
   ]
  },
  {
   "cell_type": "code",
   "execution_count": 5,
   "metadata": {
    "colab": {
     "base_uri": "https://localhost:8080/",
     "height": 238
    },
    "colab_type": "code",
    "id": "wo9E8w5bCO3C",
    "outputId": "3d572921-428f-4379-f97d-b5fa3a6113d5"
   },
   "outputs": [
    {
     "data": {
      "text/plain": [
       "['Loan_ID',\n",
       " 'Gender',\n",
       " 'Married',\n",
       " 'Dependents',\n",
       " 'Education',\n",
       " 'Self_Employed',\n",
       " 'ApplicantIncome',\n",
       " 'CoapplicantIncome',\n",
       " 'LoanAmount',\n",
       " 'Loan_Amount_Term',\n",
       " 'Credit_History',\n",
       " 'Property_Area',\n",
       " 'Loan_Status']"
      ]
     },
     "execution_count": 5,
     "metadata": {},
     "output_type": "execute_result"
    }
   ],
   "source": [
    "cols"
   ]
  },
  {
   "cell_type": "code",
   "execution_count": 6,
   "metadata": {
    "colab": {
     "base_uri": "https://localhost:8080/",
     "height": 255
    },
    "colab_type": "code",
    "id": "p2sTxpyRCOzC",
    "outputId": "a6b78678-8c38-40f8-f5f9-00f66bb0b942"
   },
   "outputs": [
    {
     "data": {
      "text/plain": [
       "Loan_ID               object\n",
       "Gender                object\n",
       "Married               object\n",
       "Dependents            object\n",
       "Education             object\n",
       "Self_Employed         object\n",
       "ApplicantIncome        int64\n",
       "CoapplicantIncome    float64\n",
       "LoanAmount           float64\n",
       "Loan_Amount_Term     float64\n",
       "Credit_History       float64\n",
       "Property_Area         object\n",
       "Loan_Status           object\n",
       "dtype: object"
      ]
     },
     "execution_count": 6,
     "metadata": {},
     "output_type": "execute_result"
    }
   ],
   "source": [
    "#inspect data types\n",
    "data.dtypes"
   ]
  },
  {
   "cell_type": "code",
   "execution_count": 7,
   "metadata": {
    "colab": {
     "base_uri": "https://localhost:8080/",
     "height": 561
    },
    "colab_type": "code",
    "id": "XIadtr3mCOsy",
    "outputId": "a5b7cdf6-8d72-458b-fbd4-e2a0b8a4c967"
   },
   "outputs": [
    {
     "name": "stdout",
     "output_type": "stream",
     "text": [
      "Loan_ID ['LP001002' 'LP001003' 'LP001005' 'LP001006' 'LP001008' 'LP001011'\n",
      " 'LP001013' 'LP001014' 'LP001018' 'LP001020' 'LP001024' 'LP001027'\n",
      " 'LP001028' 'LP001029' 'LP001030' 'LP001032' 'LP001034' 'LP001036'\n",
      " 'LP001038' 'LP001041'] \n",
      "\n",
      "Gender ['Male' 'Female' nan] \n",
      "\n",
      "Married ['No' 'Yes' nan] \n",
      "\n",
      "Dependents ['0' '1' '2' '3+' nan] \n",
      "\n",
      "Education ['Graduate' 'Not Graduate'] \n",
      "\n",
      "Self_Employed ['No' 'Yes' nan] \n",
      "\n",
      "ApplicantIncome [ 5849  4583  3000  2583  6000  5417  2333  3036  4006 12841  3200  2500\n",
      "  3073  1853  1299  4950  3596  3510  4887  2600] \n",
      "\n",
      "CoapplicantIncome [    0.  1508.  2358.  4196.  1516.  2504.  1526. 10968.   700.  1840.\n",
      "  8106.  2840.  1086.  3500.  5625.  1911.  1917.  2925.  2253.  1040.] \n",
      "\n",
      "LoanAmount [ nan 128.  66. 120. 141. 267.  95. 158. 168. 349.  70. 109. 200. 114.\n",
      "  17. 125. 100.  76. 133. 115.] \n",
      "\n",
      "Loan_Amount_Term [360. 120. 240.  nan 180.  60. 300. 480.  36.  84.  12.] \n",
      "\n",
      "Credit_History [ 1.  0. nan] \n",
      "\n",
      "Property_Area ['Urban' 'Rural' 'Semiurban'] \n",
      "\n",
      "Loan_Status ['Y' 'N'] \n",
      "\n"
     ]
    }
   ],
   "source": [
    "#inspect the variable values\n",
    "\n",
    "for var in data.columns:\n",
    "    print(var, data[var].unique()[0:20], '\\n')"
   ]
  },
  {
   "cell_type": "markdown",
   "metadata": {
    "colab_type": "text",
    "id": "RMdXJo67O7-Y"
   },
   "source": [
    "There are continuous and discrete variables."
   ]
  },
  {
   "cell_type": "code",
   "execution_count": 8,
   "metadata": {
    "colab": {
     "base_uri": "https://localhost:8080/",
     "height": 357
    },
    "colab_type": "code",
    "id": "p6BClf8KLzrJ",
    "outputId": "b02bdfa0-1251-46e0-d774-18cbb1027211"
   },
   "outputs": [
    {
     "name": "stdout",
     "output_type": "stream",
     "text": [
      "<class 'pandas.core.frame.DataFrame'>\n",
      "RangeIndex: 614 entries, 0 to 613\n",
      "Data columns (total 13 columns):\n",
      "Loan_ID              614 non-null object\n",
      "Gender               601 non-null object\n",
      "Married              611 non-null object\n",
      "Dependents           599 non-null object\n",
      "Education            614 non-null object\n",
      "Self_Employed        582 non-null object\n",
      "ApplicantIncome      614 non-null int64\n",
      "CoapplicantIncome    614 non-null float64\n",
      "LoanAmount           592 non-null float64\n",
      "Loan_Amount_Term     600 non-null float64\n",
      "Credit_History       564 non-null float64\n",
      "Property_Area        614 non-null object\n",
      "Loan_Status          614 non-null object\n",
      "dtypes: float64(4), int64(1), object(8)\n",
      "memory usage: 62.4+ KB\n"
     ]
    }
   ],
   "source": [
    "data.info()"
   ]
  },
  {
   "cell_type": "code",
   "execution_count": 9,
   "metadata": {
    "colab": {},
    "colab_type": "code",
    "id": "yDJN7SxByWYn"
   },
   "outputs": [],
   "source": [
    "#data['Credit_History'] = data['Credit_History'].astype()"
   ]
  },
  {
   "cell_type": "code",
   "execution_count": 10,
   "metadata": {
    "colab": {
     "base_uri": "https://localhost:8080/",
     "height": 357
    },
    "colab_type": "code",
    "id": "vE2HJRWsylo8",
    "outputId": "d850bc7c-6453-4784-dc78-bf52bd4ddd16"
   },
   "outputs": [
    {
     "name": "stdout",
     "output_type": "stream",
     "text": [
      "<class 'pandas.core.frame.DataFrame'>\n",
      "RangeIndex: 614 entries, 0 to 613\n",
      "Data columns (total 13 columns):\n",
      "Loan_ID              614 non-null object\n",
      "Gender               601 non-null object\n",
      "Married              611 non-null object\n",
      "Dependents           599 non-null object\n",
      "Education            614 non-null object\n",
      "Self_Employed        582 non-null object\n",
      "ApplicantIncome      614 non-null int64\n",
      "CoapplicantIncome    614 non-null float64\n",
      "LoanAmount           592 non-null float64\n",
      "Loan_Amount_Term     600 non-null float64\n",
      "Credit_History       564 non-null float64\n",
      "Property_Area        614 non-null object\n",
      "Loan_Status          614 non-null object\n",
      "dtypes: float64(4), int64(1), object(8)\n",
      "memory usage: 62.4+ KB\n"
     ]
    }
   ],
   "source": [
    "data.info()"
   ]
  },
  {
   "cell_type": "code",
   "execution_count": 11,
   "metadata": {
    "colab": {},
    "colab_type": "code",
    "id": "tTQ_d89xRX6R"
   },
   "outputs": [],
   "source": [
    "data = data.drop('Loan_ID', axis=1)"
   ]
  },
  {
   "cell_type": "code",
   "execution_count": 12,
   "metadata": {
    "colab": {
     "base_uri": "https://localhost:8080/",
     "height": 34
    },
    "colab_type": "code",
    "id": "zUU5A2bNLzvx",
    "outputId": "bb9db08e-5518-41e7-9f06-53a205f6651a"
   },
   "outputs": [
    {
     "data": {
      "text/plain": [
       "(614, 12)"
      ]
     },
     "execution_count": 12,
     "metadata": {},
     "output_type": "execute_result"
    }
   ],
   "source": [
    "data.shape"
   ]
  },
  {
   "cell_type": "code",
   "execution_count": 13,
   "metadata": {
    "colab": {},
    "colab_type": "code",
    "id": "h_xMxwiBF22g"
   },
   "outputs": [],
   "source": [
    "#make a list of variable types\n",
    "\n",
    "#numerical: discrete bvs continuous\n",
    "discrete = [var for var in data.columns if data[var].dtype != 'O' and var != 'Loan_Status' and data[var].nunique()<10]\n",
    "continuous = [var for var in data.columns if data[var].dtype != 'O' and var != 'Loan_Status' and var not in discrete]\n",
    "#categorical\n",
    "categorical = [var for var in data.columns if data[var].dtype == 'O' and var != 'Loan_Status']"
   ]
  },
  {
   "cell_type": "code",
   "execution_count": 14,
   "metadata": {
    "colab": {
     "base_uri": "https://localhost:8080/",
     "height": 34
    },
    "colab_type": "code",
    "id": "3qb0S0bjF3Dt",
    "outputId": "3ee76b23-cd82-4b21-de84-f04845832121"
   },
   "outputs": [
    {
     "data": {
      "text/plain": [
       "['Credit_History']"
      ]
     },
     "execution_count": 14,
     "metadata": {},
     "output_type": "execute_result"
    }
   ],
   "source": [
    "discrete"
   ]
  },
  {
   "cell_type": "code",
   "execution_count": 15,
   "metadata": {
    "colab": {
     "base_uri": "https://localhost:8080/",
     "height": 34
    },
    "colab_type": "code",
    "id": "BXr114htF3ZY",
    "outputId": "269cb5db-cd2c-4db4-f261-ca418172a584"
   },
   "outputs": [
    {
     "data": {
      "text/plain": [
       "['ApplicantIncome', 'CoapplicantIncome', 'LoanAmount', 'Loan_Amount_Term']"
      ]
     },
     "execution_count": 15,
     "metadata": {},
     "output_type": "execute_result"
    }
   ],
   "source": [
    "continuous"
   ]
  },
  {
   "cell_type": "code",
   "execution_count": 16,
   "metadata": {
    "colab": {
     "base_uri": "https://localhost:8080/",
     "height": 119
    },
    "colab_type": "code",
    "id": "LC3mYfDKLzih",
    "outputId": "0029d557-e18c-456b-804a-02239ba5e0ed"
   },
   "outputs": [
    {
     "data": {
      "text/plain": [
       "['Gender',\n",
       " 'Married',\n",
       " 'Dependents',\n",
       " 'Education',\n",
       " 'Self_Employed',\n",
       " 'Property_Area']"
      ]
     },
     "execution_count": 16,
     "metadata": {},
     "output_type": "execute_result"
    }
   ],
   "source": [
    "categorical"
   ]
  },
  {
   "cell_type": "code",
   "execution_count": 17,
   "metadata": {
    "colab": {
     "base_uri": "https://localhost:8080/",
     "height": 102
    },
    "colab_type": "code",
    "id": "w2undevjLzlH",
    "outputId": "35b53820-2f53-466a-81cc-87681ff78e94"
   },
   "outputs": [
    {
     "name": "stdout",
     "output_type": "stream",
     "text": [
      "There are 1 discrete features\n",
      "\n",
      "There are 4 continuous features\n",
      "\n",
      "There are 6 categorical features\n"
     ]
    }
   ],
   "source": [
    "print(f'There are {len(discrete)} discrete features')\n",
    "print(f'\\nThere are {len(continuous)} continuous features')\n",
    "print(f'\\nThere are {len(categorical)} categorical features')"
   ]
  },
  {
   "cell_type": "code",
   "execution_count": 18,
   "metadata": {
    "colab": {
     "base_uri": "https://localhost:8080/",
     "height": 238
    },
    "colab_type": "code",
    "id": "8TDvr4apLzoM",
    "outputId": "8e787e49-7435-4252-804f-2490034b974c"
   },
   "outputs": [
    {
     "data": {
      "text/plain": [
       "Gender               0.021173\n",
       "Married              0.004886\n",
       "Dependents           0.024430\n",
       "Education            0.000000\n",
       "Self_Employed        0.052117\n",
       "ApplicantIncome      0.000000\n",
       "CoapplicantIncome    0.000000\n",
       "LoanAmount           0.035831\n",
       "Loan_Amount_Term     0.022801\n",
       "Credit_History       0.081433\n",
       "Property_Area        0.000000\n",
       "Loan_Status          0.000000\n",
       "dtype: float64"
      ]
     },
     "execution_count": 18,
     "metadata": {},
     "output_type": "execute_result"
    }
   ],
   "source": [
    "#Missing data\n",
    "\n",
    "data.isnull().mean()"
   ]
  },
  {
   "cell_type": "markdown",
   "metadata": {
    "colab_type": "text",
    "id": "ySOxH93cR13D"
   },
   "source": [
    "There are missing data in our variables."
   ]
  },
  {
   "cell_type": "code",
   "execution_count": 19,
   "metadata": {
    "colab": {
     "base_uri": "https://localhost:8080/",
     "height": 136
    },
    "colab_type": "code",
    "id": "HK0dXkOCRNXH",
    "outputId": "b28547cb-fcef-4aac-ae37-e162f0de283e"
   },
   "outputs": [
    {
     "data": {
      "text/plain": [
       "Gender           2\n",
       "Married          2\n",
       "Dependents       4\n",
       "Education        2\n",
       "Self_Employed    2\n",
       "Property_Area    3\n",
       "dtype: int64"
      ]
     },
     "execution_count": 19,
     "metadata": {},
     "output_type": "execute_result"
    }
   ],
   "source": [
    "#check cardinality of categorical variables\n",
    "data[categorical].nunique()"
   ]
  },
  {
   "cell_type": "code",
   "execution_count": 20,
   "metadata": {
    "colab": {
     "base_uri": "https://localhost:8080/",
     "height": 283
    },
    "colab_type": "code",
    "id": "7CPSaZEXRNgq",
    "outputId": "e69e9502-fa8c-4889-bcbb-124161c2d3c2"
   },
   "outputs": [
    {
     "data": {
      "text/plain": [
       "<matplotlib.axes._subplots.AxesSubplot at 0x1fc26cde0f0>"
      ]
     },
     "execution_count": 20,
     "metadata": {},
     "output_type": "execute_result"
    },
    {
     "data": {
      "image/png": "[encoded data removed]",
      "text/plain": [
       "<Figure size 720x288 with 1 Axes>"
      ]
     },
     "metadata": {
      "needs_background": "light"
     },
     "output_type": "display_data"
    }
   ],
   "source": [
    "#outliers in continuous variables\n",
    "data[continuous].boxplot(figsize=(10,4))"
   ]
  },
  {
   "cell_type": "code",
   "execution_count": 21,
   "metadata": {
    "colab": {
     "base_uri": "https://localhost:8080/",
     "height": 297
    },
    "colab_type": "code",
    "id": "Okdgvx4DRNdp",
    "outputId": "91366c11-cd1a-4de0-aed3-949fc2f55da4"
   },
   "outputs": [
    {
     "data": {
      "text/html": [
       "<div>\n",
       "<style scoped>\n",
       "    .dataframe tbody tr th:only-of-type {\n",
       "        vertical-align: middle;\n",
       "    }\n",
       "\n",
       "    .dataframe tbody tr th {\n",
       "        vertical-align: top;\n",
       "    }\n",
       "\n",
       "    .dataframe thead th {\n",
       "        text-align: right;\n",
       "    }\n",
       "</style>\n",
       "<table border=\"1\" class=\"dataframe\">\n",
       "  <thead>\n",
       "    <tr style=\"text-align: right;\">\n",
       "      <th></th>\n",
       "      <th>ApplicantIncome</th>\n",
       "      <th>CoapplicantIncome</th>\n",
       "      <th>LoanAmount</th>\n",
       "      <th>Loan_Amount_Term</th>\n",
       "      <th>Credit_History</th>\n",
       "    </tr>\n",
       "  </thead>\n",
       "  <tbody>\n",
       "    <tr>\n",
       "      <th>count</th>\n",
       "      <td>614.000000</td>\n",
       "      <td>614.000000</td>\n",
       "      <td>592.000000</td>\n",
       "      <td>600.00000</td>\n",
       "      <td>564.000000</td>\n",
       "    </tr>\n",
       "    <tr>\n",
       "      <th>mean</th>\n",
       "      <td>5403.459283</td>\n",
       "      <td>1621.245798</td>\n",
       "      <td>146.412162</td>\n",
       "      <td>342.00000</td>\n",
       "      <td>0.842199</td>\n",
       "    </tr>\n",
       "    <tr>\n",
       "      <th>std</th>\n",
       "      <td>6109.041673</td>\n",
       "      <td>2926.248369</td>\n",
       "      <td>85.587325</td>\n",
       "      <td>65.12041</td>\n",
       "      <td>0.364878</td>\n",
       "    </tr>\n",
       "    <tr>\n",
       "      <th>min</th>\n",
       "      <td>150.000000</td>\n",
       "      <td>0.000000</td>\n",
       "      <td>9.000000</td>\n",
       "      <td>12.00000</td>\n",
       "      <td>0.000000</td>\n",
       "    </tr>\n",
       "    <tr>\n",
       "      <th>25%</th>\n",
       "      <td>2877.500000</td>\n",
       "      <td>0.000000</td>\n",
       "      <td>100.000000</td>\n",
       "      <td>360.00000</td>\n",
       "      <td>1.000000</td>\n",
       "    </tr>\n",
       "    <tr>\n",
       "      <th>50%</th>\n",
       "      <td>3812.500000</td>\n",
       "      <td>1188.500000</td>\n",
       "      <td>128.000000</td>\n",
       "      <td>360.00000</td>\n",
       "      <td>1.000000</td>\n",
       "    </tr>\n",
       "    <tr>\n",
       "      <th>75%</th>\n",
       "      <td>5795.000000</td>\n",
       "      <td>2297.250000</td>\n",
       "      <td>168.000000</td>\n",
       "      <td>360.00000</td>\n",
       "      <td>1.000000</td>\n",
       "    </tr>\n",
       "    <tr>\n",
       "      <th>max</th>\n",
       "      <td>81000.000000</td>\n",
       "      <td>41667.000000</td>\n",
       "      <td>700.000000</td>\n",
       "      <td>480.00000</td>\n",
       "      <td>1.000000</td>\n",
       "    </tr>\n",
       "  </tbody>\n",
       "</table>\n",
       "</div>"
      ],
      "text/plain": [
       "       ApplicantIncome  CoapplicantIncome  LoanAmount  Loan_Amount_Term  \\\n",
       "count       614.000000         614.000000  592.000000         600.00000   \n",
       "mean       5403.459283        1621.245798  146.412162         342.00000   \n",
       "std        6109.041673        2926.248369   85.587325          65.12041   \n",
       "min         150.000000           0.000000    9.000000          12.00000   \n",
       "25%        2877.500000           0.000000  100.000000         360.00000   \n",
       "50%        3812.500000        1188.500000  128.000000         360.00000   \n",
       "75%        5795.000000        2297.250000  168.000000         360.00000   \n",
       "max       81000.000000       41667.000000  700.000000         480.00000   \n",
       "\n",
       "       Credit_History  \n",
       "count      564.000000  \n",
       "mean         0.842199  \n",
       "std          0.364878  \n",
       "min          0.000000  \n",
       "25%          1.000000  \n",
       "50%          1.000000  \n",
       "75%          1.000000  \n",
       "max          1.000000  "
      ]
     },
     "execution_count": 21,
     "metadata": {},
     "output_type": "execute_result"
    }
   ],
   "source": [
    "#feature magnitude\n",
    "data.describe()"
   ]
  },
  {
   "cell_type": "code",
   "execution_count": 22,
   "metadata": {
    "colab": {
     "base_uri": "https://localhost:8080/",
     "height": 68
    },
    "colab_type": "code",
    "id": "sMZTnRmzRNaL",
    "outputId": "0208769e-d64d-47be-b449-f15c9775da54"
   },
   "outputs": [
    {
     "data": {
      "text/plain": [
       "Y    422\n",
       "N    192\n",
       "Name: Loan_Status, dtype: int64"
      ]
     },
     "execution_count": 22,
     "metadata": {},
     "output_type": "execute_result"
    }
   ],
   "source": [
    "data['Loan_Status'].value_counts()"
   ]
  },
  {
   "cell_type": "code",
   "execution_count": 23,
   "metadata": {
    "colab": {},
    "colab_type": "code",
    "id": "aujsdQJY5ypb"
   },
   "outputs": [],
   "source": [
    "#Convert target column values to 0 and 1\n",
    "data['Loan_Status'] = [1 if x == 'Y' else (0 if x=='N' else np.nan) for x in data['Loan_Status'] ]\n",
    "#data['Loan_Status'].replace('N', 0,inplace=True) \n",
    "#data['Loan_Status'].replace('Y', 1,inplace=True)"
   ]
  },
  {
   "cell_type": "markdown",
   "metadata": {
    "colab_type": "text",
    "id": "epAU0rFT9-dx"
   },
   "source": [
    "###Train Test Split"
   ]
  },
  {
   "cell_type": "code",
   "execution_count": 24,
   "metadata": {
    "colab": {
     "base_uri": "https://localhost:8080/",
     "height": 54
    },
    "colab_type": "code",
    "id": "ccduOefHpfRW",
    "outputId": "bd0c589f-b1cd-43b5-ccd3-6c82032a9721"
   },
   "outputs": [
    {
     "data": {
      "text/plain": [
       "\"\\n#Train test split\\nXtrain, Xtest, Ytrain, Ytest = train_test_split(data.drop(['Loan_Status'], axis=1), #predictors\\n                                                data['Loan_Status'], #target\\n                                                stratify = data['Loan_Status'], #equal class split\\n                                                test_size = 0.25)\\nXtrain.shape, Ytrain.shape\\nXtest.shape, Ytest.shape\\n#train class distribution\\nYtrain.value_counts()\\n#test class distribution\\nYtest.value_counts()\\n#Train class distribution\\nfor x in Ytrain.unique():\\n    print(f'Class {x}: {np.round(Ytrain[Ytrain==x].shape[0]/Ytrain.shape[0] * 100, 2)}%')\\n#Test class distribution\\nfor x in Ytest.unique():\\n    print(f'Class {x}: {np.round(Ytest[Ytest==x].shape[0]/Ytest.shape[0] * 100, 2)}%')\\n\""
      ]
     },
     "execution_count": 24,
     "metadata": {},
     "output_type": "execute_result"
    }
   ],
   "source": [
    "'''\n",
    "#Train test split\n",
    "Xtrain, Xtest, Ytrain, Ytest = train_test_split(data.drop(['Loan_Status'], axis=1), #predictors\n",
    "                                                data['Loan_Status'], #target\n",
    "                                                stratify = data['Loan_Status'], #equal class split\n",
    "                                                test_size = 0.25)\n",
    "Xtrain.shape, Ytrain.shape\n",
    "Xtest.shape, Ytest.shape\n",
    "#train class distribution\n",
    "Ytrain.value_counts()\n",
    "#test class distribution\n",
    "Ytest.value_counts()\n",
    "#Train class distribution\n",
    "for x in Ytrain.unique():\n",
    "    print(f'Class {x}: {np.round(Ytrain[Ytrain==x].shape[0]/Ytrain.shape[0] * 100, 2)}%')\n",
    "#Test class distribution\n",
    "for x in Ytest.unique():\n",
    "    print(f'Class {x}: {np.round(Ytest[Ytest==x].shape[0]/Ytest.shape[0] * 100, 2)}%')\n",
    "'''"
   ]
  },
  {
   "cell_type": "code",
   "execution_count": 25,
   "metadata": {
    "colab": {},
    "colab_type": "code",
    "id": "A24yYEI9OJH4"
   },
   "outputs": [],
   "source": [
    "Xtrain = data.drop(['Loan_Status'], axis=1).copy()\n",
    "Ytrain = data['Loan_Status'].copy()                    "
   ]
  },
  {
   "cell_type": "markdown",
   "metadata": {
    "colab_type": "text",
    "id": "CcqRJbaVKAPx"
   },
   "source": [
    "##Univariate Analysis"
   ]
  },
  {
   "cell_type": "markdown",
   "metadata": {
    "colab_type": "text",
    "id": "8m703nalPYGw"
   },
   "source": [
    "####Target Variable"
   ]
  },
  {
   "cell_type": "code",
   "execution_count": 26,
   "metadata": {
    "colab": {
     "base_uri": "https://localhost:8080/",
     "height": 68
    },
    "colab_type": "code",
    "id": "S4gbegEGJj5q",
    "outputId": "cf4d0d1f-b98f-4944-809a-4766919974f2"
   },
   "outputs": [
    {
     "data": {
      "text/plain": [
       "1    0.687296\n",
       "0    0.312704\n",
       "Name: Loan_Status, dtype: float64"
      ]
     },
     "execution_count": 26,
     "metadata": {},
     "output_type": "execute_result"
    }
   ],
   "source": [
    "Ytrain.value_counts(normalize=True)"
   ]
  },
  {
   "cell_type": "code",
   "execution_count": 27,
   "metadata": {
    "colab": {
     "base_uri": "https://localhost:8080/",
     "height": 279
    },
    "colab_type": "code",
    "id": "UXIdMKW8JkEL",
    "outputId": "e9034f11-2692-4512-f112-10ad2bd57dbd"
   },
   "outputs": [
    {
     "data": {
      "text/plain": [
       "<matplotlib.axes._subplots.AxesSubplot at 0x1fc28dea390>"
      ]
     },
     "execution_count": 27,
     "metadata": {},
     "output_type": "execute_result"
    },
    {
     "data": {
      "image/png": "[encoded data removed]",
      "text/plain": [
       "<Figure size 432x288 with 1 Axes>"
      ]
     },
     "metadata": {
      "needs_background": "light"
     },
     "output_type": "display_data"
    }
   ],
   "source": [
    "Ytrain.value_counts().plot.bar()"
   ]
  },
  {
   "cell_type": "markdown",
   "metadata": {
    "colab_type": "text",
    "id": "DQ5RzdvAPb47"
   },
   "source": [
    "####Categorical Features"
   ]
  },
  {
   "cell_type": "code",
   "execution_count": 28,
   "metadata": {
    "colab": {
     "base_uri": "https://localhost:8080/",
     "height": 173
    },
    "colab_type": "code",
    "id": "aY7DhlWO3n-i",
    "outputId": "9ce7a259-3f71-45a8-9d73-a57c8cf02384"
   },
   "outputs": [
    {
     "data": {
      "text/html": [
       "<div>\n",
       "<style scoped>\n",
       "    .dataframe tbody tr th:only-of-type {\n",
       "        vertical-align: middle;\n",
       "    }\n",
       "\n",
       "    .dataframe tbody tr th {\n",
       "        vertical-align: top;\n",
       "    }\n",
       "\n",
       "    .dataframe thead th {\n",
       "        text-align: right;\n",
       "    }\n",
       "</style>\n",
       "<table border=\"1\" class=\"dataframe\">\n",
       "  <thead>\n",
       "    <tr style=\"text-align: right;\">\n",
       "      <th></th>\n",
       "      <th>Gender</th>\n",
       "      <th>Married</th>\n",
       "      <th>Dependents</th>\n",
       "      <th>Education</th>\n",
       "      <th>Self_Employed</th>\n",
       "      <th>Property_Area</th>\n",
       "    </tr>\n",
       "  </thead>\n",
       "  <tbody>\n",
       "    <tr>\n",
       "      <th>count</th>\n",
       "      <td>601</td>\n",
       "      <td>611</td>\n",
       "      <td>599</td>\n",
       "      <td>614</td>\n",
       "      <td>582</td>\n",
       "      <td>614</td>\n",
       "    </tr>\n",
       "    <tr>\n",
       "      <th>unique</th>\n",
       "      <td>2</td>\n",
       "      <td>2</td>\n",
       "      <td>4</td>\n",
       "      <td>2</td>\n",
       "      <td>2</td>\n",
       "      <td>3</td>\n",
       "    </tr>\n",
       "    <tr>\n",
       "      <th>top</th>\n",
       "      <td>Male</td>\n",
       "      <td>Yes</td>\n",
       "      <td>0</td>\n",
       "      <td>Graduate</td>\n",
       "      <td>No</td>\n",
       "      <td>Semiurban</td>\n",
       "    </tr>\n",
       "    <tr>\n",
       "      <th>freq</th>\n",
       "      <td>489</td>\n",
       "      <td>398</td>\n",
       "      <td>345</td>\n",
       "      <td>480</td>\n",
       "      <td>500</td>\n",
       "      <td>233</td>\n",
       "    </tr>\n",
       "  </tbody>\n",
       "</table>\n",
       "</div>"
      ],
      "text/plain": [
       "       Gender Married Dependents Education Self_Employed Property_Area\n",
       "count     601     611        599       614           582           614\n",
       "unique      2       2          4         2             2             3\n",
       "top      Male     Yes          0  Graduate            No     Semiurban\n",
       "freq      489     398        345       480           500           233"
      ]
     },
     "execution_count": 28,
     "metadata": {},
     "output_type": "execute_result"
    }
   ],
   "source": [
    "#Inspect variable distribution\n",
    "\n",
    "#categorical\n",
    "Xtrain.select_dtypes(include='O').describe()"
   ]
  },
  {
   "cell_type": "code",
   "execution_count": 29,
   "metadata": {
    "colab": {
     "base_uri": "https://localhost:8080/",
     "height": 1000
    },
    "colab_type": "code",
    "id": "iS0EX9zHJkHt",
    "outputId": "75e02977-a612-4265-d095-8f18c8f6df09"
   },
   "outputs": [
    {
     "data": {
      "image/png": "[encoded data removed]",
      "text/plain": [
       "<Figure size 1440x720 with 4 Axes>"
      ]
     },
     "metadata": {
      "needs_background": "light"
     },
     "output_type": "display_data"
    },
    {
     "data": {
      "image/png": "[encoded data removed]",
      "text/plain": [
       "<Figure size 1440x720 with 3 Axes>"
      ]
     },
     "metadata": {
      "needs_background": "light"
     },
     "output_type": "display_data"
    }
   ],
   "source": [
    "plt.figure(1)\n",
    "plt.subplot(221)\n",
    "Xtrain['Gender'].value_counts(normalize=True).plot.bar(figsize=(20,10), title='Gender')\n",
    "\n",
    "plt.subplot(222)\n",
    "Xtrain['Married'].value_counts(normalize=True).plot.bar(figsize=(20,10), title='Married')\n",
    "\n",
    "plt.subplot(223)\n",
    "Xtrain['Self_Employed'].value_counts(normalize=True).plot.bar(figsize=(20,10), title='Self_Employed')\n",
    "\n",
    "plt.subplot(224)\n",
    "Xtrain['Credit_History'].value_counts(normalize=True).plot.bar(figsize=(20,10), title='Credit_History')\n",
    "\n",
    "plt.figure(2)\n",
    "\n",
    "plt.subplot(221)\n",
    "Xtrain['Dependents'].value_counts(normalize=True).plot.bar(figsize=(20,10), title='Dependents')\n",
    "\n",
    "plt.subplot(222)\n",
    "Xtrain['Education'].value_counts(normalize=True).plot.bar(figsize=(20,10), title='Education')\n",
    "\n",
    "plt.subplot(223)\n",
    "Xtrain['Property_Area'].value_counts(normalize=True).plot.bar(figsize=(20,10), title='Property_Area')\n",
    "\n",
    "plt.show()"
   ]
  },
  {
   "cell_type": "markdown",
   "metadata": {
    "colab_type": "text",
    "id": "I1m-kVaXD5yU"
   },
   "source": [
    "It can be inferred from the above bar plots that:\n",
    "\n",
    "80% applicants in the dataset are male.\n",
    "Around 65% of the applicants in the dataset are married.\n",
    "Around 15% applicants in the dataset are self employed.\n",
    "Around 85% applicants have repaid their debts.\n",
    "\n",
    "Most of the applicants don’t have any dependents.\n",
    "Around 80% of the applicants are Graduate.\n",
    "Most of the applicants are from Semiurban area."
   ]
  },
  {
   "cell_type": "markdown",
   "metadata": {
    "colab_type": "text",
    "id": "EfJ6PN3BiGqX"
   },
   "source": [
    "#### Numerical Features"
   ]
  },
  {
   "cell_type": "code",
   "execution_count": 30,
   "metadata": {
    "colab": {
     "base_uri": "https://localhost:8080/",
     "height": 499
    },
    "colab_type": "code",
    "id": "GEnSSyEZ3oAT",
    "outputId": "f7b13272-1c71-4ec0-cd54-9647728085d2"
   },
   "outputs": [
    {
     "data": {
      "image/png": "[encoded data removed]",
      "text/plain": [
       "<Figure size 576x576 with 6 Axes>"
      ]
     },
     "metadata": {
      "needs_background": "light"
     },
     "output_type": "display_data"
    }
   ],
   "source": [
    "#Inspect variable distribution\n",
    "\n",
    "#numerical\n",
    "Xtrain.select_dtypes(exclude='O').hist(bins=30, figsize=(8,8))\n",
    "plt.show()\n"
   ]
  },
  {
   "cell_type": "code",
   "execution_count": 31,
   "metadata": {
    "colab": {
     "base_uri": "https://localhost:8080/",
     "height": 497
    },
    "colab_type": "code",
    "id": "kwGAEdnxJkCI",
    "outputId": "638fe1b9-f5bd-48c4-da44-fd14531c667c"
   },
   "outputs": [
    {
     "name": "stderr",
     "output_type": "stream",
     "text": [
      "C:\\Users\\sayan\\Anaconda3\\lib\\site-packages\\scipy\\stats\\stats.py:1713: FutureWarning: Using a non-tuple sequence for multidimensional indexing is deprecated; use `arr[tuple(seq)]` instead of `arr[seq]`. In the future this will be interpreted as an array index, `arr[np.array(seq)]`, which will result either in an error or a different result.\n",
      "  return np.add.reduce(sorted[indexer] * weights, axis=axis) / sumval\n"
     ]
    },
    {
     "data": {
      "image/png": "[encoded data removed]",
      "text/plain": [
       "<Figure size 720x576 with 2 Axes>"
      ]
     },
     "metadata": {
      "needs_background": "light"
     },
     "output_type": "display_data"
    }
   ],
   "source": [
    "#ApplicantIncome\n",
    "plt.figure(1)\n",
    "plt.subplot(121)\n",
    "sns.distplot(Xtrain['ApplicantIncome'])\n",
    "plt.subplot(122)\n",
    "Xtrain['ApplicantIncome'].plot.box(figsize=(10,8))\n",
    "plt.show()"
   ]
  },
  {
   "cell_type": "markdown",
   "metadata": {
    "colab_type": "text",
    "id": "YgSumqkdEW1e"
   },
   "source": [
    "It can be inferred that most of the data in the distribution of applicant income is towards left which means it is not normally distributed.\n",
    "\n",
    "The boxplot confirms the presence of a lot of outliers/extreme values. This can be attributed to the income disparity in the society. Part of this can be driven by the fact that we are looking at people with different education levels."
   ]
  },
  {
   "cell_type": "code",
   "execution_count": 32,
   "metadata": {
    "colab": {
     "base_uri": "https://localhost:8080/",
     "height": 294
    },
    "colab_type": "code",
    "id": "T7TOuAJuCLUd",
    "outputId": "f305c4a4-51a1-49b9-b2d1-1cf53e21f4b0"
   },
   "outputs": [
    {
     "data": {
      "image/png": "[encoded data removed]",
      "text/plain": [
       "<Figure size 432x288 with 1 Axes>"
      ]
     },
     "metadata": {
      "needs_background": "light"
     },
     "output_type": "display_data"
    }
   ],
   "source": [
    "#Visualize Applicant income based on education\n",
    "Xtrain.boxplot(column='ApplicantIncome', by='Education')\n",
    "plt.suptitle(\"\")\n",
    "plt.show()"
   ]
  },
  {
   "cell_type": "markdown",
   "metadata": {
    "colab_type": "text",
    "id": "t_sPnxpIEhiD"
   },
   "source": [
    "We can see that there are a higher number of graduates with very high incomes, which are appearing to be the outliers."
   ]
  },
  {
   "cell_type": "code",
   "execution_count": 33,
   "metadata": {
    "colab": {
     "base_uri": "https://localhost:8080/",
     "height": 497
    },
    "colab_type": "code",
    "id": "2bQ_u-n4CLXa",
    "outputId": "db726d1c-65ce-4f16-94c6-d11bfc706096"
   },
   "outputs": [
    {
     "name": "stderr",
     "output_type": "stream",
     "text": [
      "C:\\Users\\sayan\\Anaconda3\\lib\\site-packages\\scipy\\stats\\stats.py:1713: FutureWarning: Using a non-tuple sequence for multidimensional indexing is deprecated; use `arr[tuple(seq)]` instead of `arr[seq]`. In the future this will be interpreted as an array index, `arr[np.array(seq)]`, which will result either in an error or a different result.\n",
      "  return np.add.reduce(sorted[indexer] * weights, axis=axis) / sumval\n"
     ]
    },
    {
     "data": {
      "image/png": "[encoded data removed]",
      "text/plain": [
       "<Figure size 720x576 with 2 Axes>"
      ]
     },
     "metadata": {
      "needs_background": "light"
     },
     "output_type": "display_data"
    }
   ],
   "source": [
    "#CoapplicantIncome\n",
    "plt.figure(1)\n",
    "plt.subplot(121)\n",
    "sns.distplot(Xtrain['CoapplicantIncome'])\n",
    "plt.subplot(122)\n",
    "Xtrain['CoapplicantIncome'].plot.box(figsize=(10,8))\n",
    "plt.show()"
   ]
  },
  {
   "cell_type": "markdown",
   "metadata": {
    "colab_type": "text",
    "id": "xo3iFA6BEljC"
   },
   "source": [
    "We see a similar distribution as that of the applicant income. Majority of coapplicant’s income ranges from 0 to 5000. We also see a lot of outliers in the coapplicant income and it is not normally distributed."
   ]
  },
  {
   "cell_type": "code",
   "execution_count": 36,
   "metadata": {
    "colab": {
     "base_uri": "https://localhost:8080/",
     "height": 497
    },
    "colab_type": "code",
    "id": "j3-IG9rXCLSM",
    "outputId": "972a209a-1898-4f32-fd6f-96250fe0538b"
   },
   "outputs": [
    {
     "data": {
      "image/png": "[encoded data removed]",
      "text/plain": [
       "<Figure size 720x576 with 2 Axes>"
      ]
     },
     "metadata": {
      "needs_background": "light"
     },
     "output_type": "display_data"
    }
   ],
   "source": [
    "#Loan amount\n",
    "plt.figure(1)\n",
    "plt.subplot(121)\n",
    "sns.distplot(Xtrain['LoanAmount'].dropna())\n",
    "plt.subplot(122)\n",
    "Xtrain['LoanAmount'].plot.box(figsize=(10,8))\n",
    "plt.show()"
   ]
  },
  {
   "cell_type": "markdown",
   "metadata": {
    "colab_type": "text",
    "id": "xYudA2AOEshN"
   },
   "source": [
    "We see a lot of outliers in this variable and the distribution is fairly normal."
   ]
  },
  {
   "cell_type": "markdown",
   "metadata": {
    "colab_type": "text",
    "id": "4sCj71UOEt9D"
   },
   "source": [
    "## Bivariate Analysis\n",
    "\n",
    "We would like to know how well each feature correlate with Loan Status."
   ]
  },
  {
   "cell_type": "markdown",
   "metadata": {
    "colab_type": "text",
    "id": "tdvalI4DE8mc"
   },
   "source": [
    "*Categorical Variables vs Target Variable*"
   ]
  },
  {
   "cell_type": "code",
   "execution_count": 37,
   "metadata": {
    "colab": {
     "base_uri": "https://localhost:8080/",
     "height": 305
    },
    "colab_type": "code",
    "id": "tvIXsB8iE3yt",
    "outputId": "5bbc83c4-0725-4e72-d5a2-9a490074df2c"
   },
   "outputs": [
    {
     "data": {
      "image/png": "[encoded data removed]",
      "text/plain": [
       "<Figure size 288x288 with 1 Axes>"
      ]
     },
     "metadata": {
      "needs_background": "light"
     },
     "output_type": "display_data"
    }
   ],
   "source": [
    "#Gender vs Loan status\n",
    "Gender = pd.crosstab(Xtrain['Gender'], Ytrain)\n",
    "Gender.div(Gender.sum(axis=1), axis=0).plot(kind='bar', stacked=True, figsize=(4,4))\n",
    "plt.show()"
   ]
  },
  {
   "cell_type": "code",
   "execution_count": 38,
   "metadata": {
    "colab": {
     "base_uri": "https://localhost:8080/",
     "height": 305
    },
    "colab_type": "code",
    "id": "QW8l3JRwGPtE",
    "outputId": "ad6987cd-f4d8-45ec-a939-30a8ea48ab35"
   },
   "outputs": [
    {
     "data": {
      "image/png": "[encoded data removed]",
      "text/plain": [
       "<Figure size 288x288 with 1 Axes>"
      ]
     },
     "metadata": {
      "needs_background": "light"
     },
     "output_type": "display_data"
    }
   ],
   "source": [
    "#Gender vs Loan status\n",
    "Gender = pd.crosstab(Xtrain['Gender'], Ytrain)\n",
    "Gender.div(Gender.sum(axis=0), axis=1).plot(kind='bar', stacked=True, figsize=(4,4))\n",
    "plt.show()"
   ]
  },
  {
   "cell_type": "markdown",
   "metadata": {
    "colab_type": "text",
    "id": "KbILuH-9G8e3"
   },
   "source": [
    "It can be inferred that the proportion of male and female applicants is more or less same for both approved and unapproved loans."
   ]
  },
  {
   "cell_type": "code",
   "execution_count": 39,
   "metadata": {
    "colab": {
     "base_uri": "https://localhost:8080/",
     "height": 285
    },
    "colab_type": "code",
    "id": "PyUy0zNpE31Q",
    "outputId": "5bceaed2-192e-43e2-b4bd-0d081af96157"
   },
   "outputs": [
    {
     "data": {
      "image/png": "[encoded data removed]",
      "text/plain": [
       "<Figure size 288x288 with 1 Axes>"
      ]
     },
     "metadata": {
      "needs_background": "light"
     },
     "output_type": "display_data"
    }
   ],
   "source": [
    "#Married vs Loan status\n",
    "Married = pd.crosstab(Xtrain['Married'],Ytrain) \n",
    "Married.div(Married.sum(axis=1).astype(float), axis=0).plot(kind=\"bar\", stacked=True, figsize=(4,4)) \n",
    "plt.show()"
   ]
  },
  {
   "cell_type": "code",
   "execution_count": 40,
   "metadata": {
    "colab": {
     "base_uri": "https://localhost:8080/",
     "height": 284
    },
    "colab_type": "code",
    "id": "a4ieHXeRHZjL",
    "outputId": "e453f0f1-ade3-4abd-d3f3-a3fe8028f690"
   },
   "outputs": [
    {
     "data": {
      "image/png": "[encoded data removed]",
      "text/plain": [
       "<Figure size 432x288 with 1 Axes>"
      ]
     },
     "metadata": {
      "needs_background": "light"
     },
     "output_type": "display_data"
    }
   ],
   "source": [
    "#Dependents vs Loan Status\n",
    "Dependents=pd.crosstab(Xtrain['Dependents'],Ytrain) \n",
    "Dependents.div(Dependents.sum(axis=1).astype(float), axis=0).plot(kind=\"bar\", stacked=True) \n",
    "plt.show() "
   ]
  },
  {
   "cell_type": "code",
   "execution_count": 41,
   "metadata": {
    "colab": {
     "base_uri": "https://localhost:8080/",
     "height": 337
    },
    "colab_type": "code",
    "id": "gXEhTFxtHrX0",
    "outputId": "bce183eb-db93-4b34-9f8c-4c2890dbe3fd"
   },
   "outputs": [
    {
     "data": {
      "image/png": "[encoded data removed]",
      "text/plain": [
       "<Figure size 288x288 with 1 Axes>"
      ]
     },
     "metadata": {
      "needs_background": "light"
     },
     "output_type": "display_data"
    }
   ],
   "source": [
    "#Education vs Loan Status\n",
    "Education = pd.crosstab(Xtrain['Education'],Ytrain) \n",
    "Education.div(Education.sum(axis=1).astype(float), axis=0).plot(kind=\"bar\", stacked=True, figsize=(4,4)) \n",
    "plt.show()"
   ]
  },
  {
   "cell_type": "code",
   "execution_count": 42,
   "metadata": {
    "colab": {
     "base_uri": "https://localhost:8080/",
     "height": 286
    },
    "colab_type": "code",
    "id": "-EqKLqrnIVEs",
    "outputId": "7c0c8c15-e31c-4fb7-f76e-528b057b44d1"
   },
   "outputs": [
    {
     "data": {
      "image/png": "[encoded data removed]",
      "text/plain": [
       "<Figure size 288x288 with 1 Axes>"
      ]
     },
     "metadata": {
      "needs_background": "light"
     },
     "output_type": "display_data"
    }
   ],
   "source": [
    "#Self-Employed vs Loan Status\n",
    "Self_Employed=pd.crosstab(Xtrain['Self_Employed'],Ytrain)\n",
    "Self_Employed.div(Self_Employed.sum(axis=1).astype(float), axis=0).plot(kind=\"bar\", stacked=True, figsize=(4,4)) \n",
    "plt.show()"
   ]
  },
  {
   "cell_type": "markdown",
   "metadata": {
    "colab_type": "text",
    "id": "x6wfbI7FIiG7"
   },
   "source": [
    "Proportion of married applicants is higher for the approved loans.\n",
    "Distribution of applicants with 1 or 3+ dependents is similar across both the categories of Loan_Status.\n",
    "There is nothing significant we can infer from Self_Employed vs Loan_Status plot."
   ]
  },
  {
   "cell_type": "code",
   "execution_count": null,
   "metadata": {
    "colab": {},
    "colab_type": "code",
    "id": "cYIh4MHsIo6s"
   },
   "outputs": [],
   "source": []
  },
  {
   "cell_type": "code",
   "execution_count": 43,
   "metadata": {
    "colab": {
     "base_uri": "https://localhost:8080/",
     "height": 286
    },
    "colab_type": "code",
    "id": "nkVgn7BwIpJP",
    "outputId": "7a3cae15-7ff8-4a2c-c169-f4bd5a5c1cff"
   },
   "outputs": [
    {
     "data": {
      "image/png": "[encoded data removed]",
      "text/plain": [
       "<Figure size 288x288 with 1 Axes>"
      ]
     },
     "metadata": {
      "needs_background": "light"
     },
     "output_type": "display_data"
    }
   ],
   "source": [
    "#Credit History\n",
    "Credit_History=pd.crosstab(Xtrain['Credit_History'],Ytrain) \n",
    "Credit_History.div(Credit_History.sum(axis=1).astype(float), axis=0).plot(kind=\"bar\", stacked=True, figsize=(4,4))\n",
    "plt.show()"
   ]
  },
  {
   "cell_type": "code",
   "execution_count": 44,
   "metadata": {
    "colab": {
     "base_uri": "https://localhost:8080/",
     "height": 324
    },
    "colab_type": "code",
    "id": "1Ob3As2vIpHK",
    "outputId": "9fe508e0-5a0f-40f0-c2ef-d79d087870eb"
   },
   "outputs": [
    {
     "data": {
      "image/png": "[encoded data removed]",
      "text/plain": [
       "<Figure size 432x288 with 1 Axes>"
      ]
     },
     "metadata": {
      "needs_background": "light"
     },
     "output_type": "display_data"
    }
   ],
   "source": [
    "#Property Area vs Loan Status\n",
    "Property_Area=pd.crosstab(Xtrain['Property_Area'], Ytrain)\n",
    "Property_Area.div(Property_Area.sum(axis=1).astype(float), axis=0).plot(kind=\"bar\", stacked=True)  \n",
    "plt.show()"
   ]
  },
  {
   "cell_type": "markdown",
   "metadata": {
    "colab_type": "text",
    "id": "L3xz4xZaJNH1"
   },
   "source": [
    "It seems people with credit history as 1 are more likely to get their loans approved.\n",
    "Proportion of loans getting approved in semiurban area is higher as compared to that in rural or urban areas."
   ]
  },
  {
   "cell_type": "markdown",
   "metadata": {
    "colab_type": "text",
    "id": "y8xAGWtSKPX8"
   },
   "source": [
    "#### *Numerical Variables vs Target Variable*"
   ]
  },
  {
   "cell_type": "markdown",
   "metadata": {
    "colab_type": "text",
    "id": "uJ_zgOK7UAtZ"
   },
   "source": [
    "Income vs Loan Status"
   ]
  },
  {
   "cell_type": "code",
   "execution_count": 45,
   "metadata": {
    "colab": {
     "base_uri": "https://localhost:8080/",
     "height": 277
    },
    "colab_type": "code",
    "id": "UO00kOJoIpE1",
    "outputId": "437cb59c-06a5-4a83-b6f9-8db5bbc7912e"
   },
   "outputs": [
    {
     "data": {
      "image/png": "[encoded data removed]",
      "text/plain": [
       "<Figure size 432x288 with 1 Axes>"
      ]
     },
     "metadata": {
      "needs_background": "light"
     },
     "output_type": "display_data"
    }
   ],
   "source": [
    "data.groupby('Loan_Status')['ApplicantIncome'].mean().plot.bar()\n",
    "plt.show()"
   ]
  },
  {
   "cell_type": "markdown",
   "metadata": {
    "colab_type": "text",
    "id": "TTsFIK8jSWP-"
   },
   "source": [
    "Here the y-axis represents the mean applicant income. We don’t see any change in the mean income."
   ]
  },
  {
   "cell_type": "code",
   "execution_count": 46,
   "metadata": {
    "colab": {
     "base_uri": "https://localhost:8080/",
     "height": 317
    },
    "colab_type": "code",
    "id": "v-EOe4jEIpC6",
    "outputId": "637d4596-d999-43e5-a876-cd9894905553"
   },
   "outputs": [
    {
     "data": {
      "image/png": "[encoded data removed]",
      "text/plain": [
       "<Figure size 432x288 with 1 Axes>"
      ]
     },
     "metadata": {
      "needs_background": "light"
     },
     "output_type": "display_data"
    }
   ],
   "source": [
    "#let’s make bins for the applicant income variable based on the values in it and analyze the corresponding loan status for each bin.\n",
    "bins=[0,2500,4000,6000,81000]\n",
    "group=['Low','Average','High', 'Very high'] \n",
    "Xtrain['Income_bin'] = pd.cut(Xtrain['ApplicantIncome'], bins, labels=group)\n",
    "Income_bin = pd.crosstab(Xtrain['Income_bin'], Ytrain)\n",
    "Income_bin.div(Income_bin.sum(axis=1).astype(float), axis=0).plot(kind=\"bar\", stacked=True)\n",
    "plt.xlabel('ApplicantIncome')\n",
    "plt.ylabel('Percentage')\n",
    "plt.show()"
   ]
  },
  {
   "cell_type": "markdown",
   "metadata": {
    "colab_type": "text",
    "id": "BbwPy-NiT3xE"
   },
   "source": [
    "It can be inferred that Applicant income does not affect the chances of loan approval which contradicts our hypothesis in which we assumed that if the applicant income is high the chances of loan approval will also be high."
   ]
  },
  {
   "cell_type": "markdown",
   "metadata": {
    "colab_type": "text",
    "id": "qN3L419rUD8B"
   },
   "source": [
    "CoApplicant vs Loan Status"
   ]
  },
  {
   "cell_type": "code",
   "execution_count": 47,
   "metadata": {
    "colab": {
     "base_uri": "https://localhost:8080/",
     "height": 310
    },
    "colab_type": "code",
    "id": "UVrSVJ0XIpBA",
    "outputId": "fd4d1b70-9fdd-4e08-ed90-a37f6950e414"
   },
   "outputs": [
    {
     "data": {
      "image/png": "[encoded data removed]",
      "text/plain": [
       "<Figure size 432x288 with 1 Axes>"
      ]
     },
     "metadata": {
      "needs_background": "light"
     },
     "output_type": "display_data"
    }
   ],
   "source": [
    "bins=[0,1000,3000,42000] \n",
    "group=['Low','Average','High'] \n",
    "Xtrain['Coapplicant_Income_bin']=pd.cut(Xtrain['CoapplicantIncome'],bins,labels=group)\n",
    "Coapplicant_Income_bin=pd.crosstab(Xtrain['Coapplicant_Income_bin'],Ytrain) \n",
    "Coapplicant_Income_bin.div(Coapplicant_Income_bin.sum(axis=1).astype(float), axis=0).plot(kind=\"bar\", stacked=True) \n",
    "plt.xlabel('CoapplicantIncome') \n",
    "plt.ylabel('Percentage')\n",
    "plt.show()"
   ]
  },
  {
   "cell_type": "markdown",
   "metadata": {
    "colab_type": "text",
    "id": "SEUVmBbxaDhP"
   },
   "source": [
    "It shows that if coapplicant’s income is less the chances of loan approval are high. But this does not look right. The possible reason behind this may be that most of the applicants don’t have any coapplicant so the coapplicant income for such applicants is 0 and hence the loan approval is not dependent on it. So we can make a new variable in which we will combine the applicant’s and coapplicant’s income to visualize the combined effect of income on loan approval."
   ]
  },
  {
   "cell_type": "code",
   "execution_count": 48,
   "metadata": {
    "colab": {
     "base_uri": "https://localhost:8080/",
     "height": 318
    },
    "colab_type": "code",
    "id": "iCfiCPtMaEd-",
    "outputId": "1906b568-3def-4819-c7bf-deb730a76026"
   },
   "outputs": [
    {
     "data": {
      "image/png": "[encoded data removed]",
      "text/plain": [
       "<Figure size 432x288 with 1 Axes>"
      ]
     },
     "metadata": {
      "needs_background": "light"
     },
     "output_type": "display_data"
    }
   ],
   "source": [
    "#Let us combine the Applicant Income and Coapplicant Income and see the combined effect of Total Income on the Loan_Status.\n",
    "Xtrain['Total_Income'] = Xtrain['ApplicantIncome'] + Xtrain['CoapplicantIncome']\n",
    "bins=[0,2500,4000,6000,81000] \n",
    "group=['Low','Average','High', 'Very high'] \n",
    "Xtrain['Total_Income_bin']=pd.cut(Xtrain['Total_Income'],bins,labels=group)\n",
    "Total_Income_bin = pd.crosstab(Xtrain['Total_Income_bin'],Ytrain)\n",
    "Total_Income_bin.div(Total_Income_bin.sum(axis=1).astype(float), axis=0).plot(kind=\"bar\", stacked=True)  \n",
    "plt.xlabel('Total_Income') \n",
    "plt.ylabel('Percentage')\n",
    "plt.show()"
   ]
  },
  {
   "cell_type": "markdown",
   "metadata": {
    "colab_type": "text",
    "id": "SfSpBissbE-i"
   },
   "source": [
    "We can see that Proportion of loans getting approved for applicants having low Total_Income is very less as compared to that of applicants with Average, High and Very High Income."
   ]
  },
  {
   "cell_type": "markdown",
   "metadata": {
    "colab_type": "text",
    "id": "7m7rI7nAbI90"
   },
   "source": [
    "Loan amount vs Loan status"
   ]
  },
  {
   "cell_type": "code",
   "execution_count": 49,
   "metadata": {
    "colab": {
     "base_uri": "https://localhost:8080/",
     "height": 327
    },
    "colab_type": "code",
    "id": "zYskZxIBaEjM",
    "outputId": "b8327768-179e-4d7a-94c2-090582849e7f"
   },
   "outputs": [
    {
     "data": {
      "text/plain": [
       "Text(0, 0.5, 'Percentage')"
      ]
     },
     "execution_count": 49,
     "metadata": {},
     "output_type": "execute_result"
    },
    {
     "data": {
      "image/png": "[encoded data removed]",
      "text/plain": [
       "<Figure size 432x288 with 1 Axes>"
      ]
     },
     "metadata": {
      "needs_background": "light"
     },
     "output_type": "display_data"
    }
   ],
   "source": [
    "bins=[0,100,200,700] \n",
    "group=['Low','Average','High'] \n",
    "Xtrain['LoanAmount_bin']=pd.cut(Xtrain['LoanAmount'],bins,labels=group)\n",
    "LoanAmount_bin=pd.crosstab(Xtrain['LoanAmount_bin'],Ytrain)\n",
    "LoanAmount_bin.div(LoanAmount_bin.sum(axis=1).astype(float), axis=0).plot(kind=\"bar\", stacked=True) \n",
    "plt.xlabel('LoanAmount') \n",
    "plt.ylabel('Percentage')"
   ]
  },
  {
   "cell_type": "markdown",
   "metadata": {
    "colab_type": "text",
    "id": "yWGXhD5Fbz00"
   },
   "source": [
    "It can be seen that the proportion of approved loans is higher for Low and Average Loan Amount as compared to that of High Loan Amount."
   ]
  },
  {
   "cell_type": "code",
   "execution_count": 50,
   "metadata": {
    "colab": {},
    "colab_type": "code",
    "id": "DmFI66q_aEn0"
   },
   "outputs": [],
   "source": [
    "Xtrain = Xtrain.drop(['Income_bin', 'Coapplicant_Income_bin', 'LoanAmount_bin', 'Total_Income_bin', 'Total_Income'], axis=1)"
   ]
  },
  {
   "cell_type": "code",
   "execution_count": 51,
   "metadata": {
    "colab": {},
    "colab_type": "code",
    "id": "E3k8vOggcHz4"
   },
   "outputs": [],
   "source": [
    "#Change the 3+ in dependents variable to 3 to make it a numerical variable.\n",
    "Xtrain['Dependents'].replace('3+', 3, inplace=True)\n",
    "test['Dependents'].replace('3+', 3, inplace=True)"
   ]
  },
  {
   "cell_type": "code",
   "execution_count": 52,
   "metadata": {
    "colab": {},
    "colab_type": "code",
    "id": "qRg6bLdEhQNi"
   },
   "outputs": [],
   "source": [
    "Xtrain['Dependents'] = Xtrain['Dependents'].astype(float)\n",
    "test['Dependents'] = test['Dependents'].astype(float)"
   ]
  },
  {
   "cell_type": "markdown",
   "metadata": {
    "colab_type": "text",
    "id": "Pl6OTreuerpJ"
   },
   "source": [
    "#####Correlation between numeric variables"
   ]
  },
  {
   "cell_type": "code",
   "execution_count": 53,
   "metadata": {
    "colab": {},
    "colab_type": "code",
    "id": "cQm3IvD-aEhM"
   },
   "outputs": [],
   "source": [
    "#lets look at the correlation between all the numerical variables."
   ]
  },
  {
   "cell_type": "code",
   "execution_count": 54,
   "metadata": {
    "colab": {
     "base_uri": "https://localhost:8080/",
     "height": 574
    },
    "colab_type": "code",
    "id": "IiAKi_UbezBq",
    "outputId": "d52909e7-cd0a-4980-8ab8-bfc81d8141f1"
   },
   "outputs": [
    {
     "data": {
      "image/png": "[encoded data removed]",
      "text/plain": [
       "<Figure size 720x576 with 2 Axes>"
      ]
     },
     "metadata": {
      "needs_background": "light"
     },
     "output_type": "display_data"
    }
   ],
   "source": [
    "matrix = data.corr()\n",
    "f, ax = plt.subplots(figsize=(10,8))\n",
    "sns.heatmap(matrix, vmax=0.8, square=True, cmap=\"BuPu\")\n",
    "plt.show()"
   ]
  },
  {
   "cell_type": "markdown",
   "metadata": {
    "colab_type": "text",
    "id": "_BcW_d4YKmeX"
   },
   "source": [
    "We see that the most correlated variables are (ApplicantIncome - LoanAmount) and (Credit_History - Loan_Status). LoanAmount is also correlated with CoapplicantIncome."
   ]
  },
  {
   "cell_type": "code",
   "execution_count": 55,
   "metadata": {
    "colab": {
     "base_uri": "https://localhost:8080/",
     "height": 265
    },
    "colab_type": "code",
    "id": "NV91sJjNezE7",
    "outputId": "7449b70b-eb6f-47eb-cb44-fdb6de4fb794"
   },
   "outputs": [
    {
     "data": {
      "image/png": "[encoded data removed]",
      "text/plain": [
       "<Figure size 432x288 with 1 Axes>"
      ]
     },
     "metadata": {
      "needs_background": "light"
     },
     "output_type": "display_data"
    }
   ],
   "source": [
    "#Log transformation to tackle the skewness feature distribution\n",
    "Xtrain['LoanAmount'] = np.log(Xtrain['LoanAmount'])\n",
    "test['LoanAmount'] = np.log(test['LoanAmount'])\n",
    "Xtrain['LoanAmount'].hist(bins=20)\n",
    "plt.show()\n"
   ]
  },
  {
   "cell_type": "markdown",
   "metadata": {
    "colab_type": "text",
    "id": "y5cLZH45Lj8X"
   },
   "source": [
    "Now the distribution looks much closer to normal and effect of extreme values has been significantly subsided. "
   ]
  },
  {
   "cell_type": "markdown",
   "metadata": {
    "colab_type": "text",
    "id": "HURmllENL3x0"
   },
   "source": [
    "##Model building"
   ]
  },
  {
   "cell_type": "markdown",
   "metadata": {
    "colab_type": "text",
    "id": "b7WsJi_8-Osy"
   },
   "source": [
    "####Missing Data Imputation"
   ]
  },
  {
   "cell_type": "code",
   "execution_count": 56,
   "metadata": {
    "colab": {
     "base_uri": "https://localhost:8080/",
     "height": 136
    },
    "colab_type": "code",
    "id": "gDvZkicY3oG_",
    "outputId": "91da09aa-fe45-411c-b445-fab3678d20db"
   },
   "outputs": [
    {
     "data": {
      "text/plain": [
       "Dependents           0.024430\n",
       "ApplicantIncome      0.000000\n",
       "CoapplicantIncome    0.000000\n",
       "LoanAmount           0.035831\n",
       "Loan_Amount_Term     0.022801\n",
       "Credit_History       0.081433\n",
       "dtype: float64"
      ]
     },
     "execution_count": 56,
     "metadata": {},
     "output_type": "execute_result"
    }
   ],
   "source": [
    "#numerical\n",
    "Xtrain.select_dtypes(exclude='O').isnull().mean()"
   ]
  },
  {
   "cell_type": "code",
   "execution_count": 57,
   "metadata": {
    "colab": {
     "base_uri": "https://localhost:8080/",
     "height": 119
    },
    "colab_type": "code",
    "id": "8-yK5EtC3oC7",
    "outputId": "df1e9e09-02ec-4e15-8c2e-b03baee4e044"
   },
   "outputs": [
    {
     "data": {
      "text/plain": [
       "Gender           0.021173\n",
       "Married          0.004886\n",
       "Education        0.000000\n",
       "Self_Employed    0.052117\n",
       "Property_Area    0.000000\n",
       "dtype: float64"
      ]
     },
     "execution_count": 57,
     "metadata": {},
     "output_type": "execute_result"
    }
   ],
   "source": [
    "#categorical\n",
    "Xtrain.select_dtypes(include='O').isnull().mean()"
   ]
  },
  {
   "cell_type": "code",
   "execution_count": 58,
   "metadata": {
    "colab": {},
    "colab_type": "code",
    "id": "KqhwgcEdM5gX"
   },
   "outputs": [],
   "source": [
    "#make a list of variable types\n",
    "\n",
    "#numerical:\n",
    "numerical = [var for var in Xtrain.columns if Xtrain[var].dtype != 'O']\n",
    "#categorical\n",
    "categorical = [var for var in Xtrain.columns if data[var].dtype == 'O']"
   ]
  },
  {
   "cell_type": "code",
   "execution_count": 59,
   "metadata": {
    "colab": {},
    "colab_type": "code",
    "id": "An1tZ8wuM5s0"
   },
   "outputs": [],
   "source": [
    "Xcols = Xtrain.columns"
   ]
  },
  {
   "cell_type": "code",
   "execution_count": 60,
   "metadata": {
    "colab": {},
    "colab_type": "code",
    "id": "AjZp6bstM5mg"
   },
   "outputs": [],
   "source": [
    "#defining preprocessor\n",
    "numeric_transformer = Pipeline(steps=[('imputer', SimpleImputer(strategy='median')), ('scaler', StandardScaler())])\n",
    "categorical_transformer = Pipeline(steps=[('imputer', SimpleImputer(strategy='most_frequent', fill_value = 'missing')),\n",
    "                                          ('onehot', OneHotEncoder(handle_unknown='ignore'))])\n",
    "preprocessor = ColumnTransformer(transformers=[('numerical', numeric_transformer, numerical),\n",
    "                                               ('categorical', categorical_transformer, categorical)])"
   ]
  },
  {
   "cell_type": "code",
   "execution_count": 61,
   "metadata": {
    "colab": {},
    "colab_type": "code",
    "id": "frhzVtSiM5kj"
   },
   "outputs": [],
   "source": [
    "#Apply preprocessing pipeline\n",
    "preprocess = Pipeline(steps=[('preprocessor', preprocessor)])\n",
    "\n",
    "#fit the pipeline\n",
    "Xtrain = preprocess.fit_transform(Xtrain)\n",
    "Xtest = preprocess.fit_transform(test.drop(['Loan_ID'], axis=1))\n",
    "Ytrain = Ytrain.values"
   ]
  },
  {
   "cell_type": "code",
   "execution_count": 62,
   "metadata": {
    "colab": {
     "base_uri": "https://localhost:8080/",
     "height": 34
    },
    "colab_type": "code",
    "id": "8REEKpIZSp-A",
    "outputId": "c75dbbcd-2d56-489d-8178-d62f40146492"
   },
   "outputs": [
    {
     "name": "stdout",
     "output_type": "stream",
     "text": [
      "Mean score over 10 cross-validation sets: 0.8095716552088842\n"
     ]
    }
   ],
   "source": [
    "#Model building- Logistic Regression\n",
    "\n",
    "#Logistic regression\n",
    "clf = LogisticRegression()\n",
    "scores = cross_val_score(clf, Xtrain, Ytrain, cv=10, scoring='accuracy')\n",
    "print(f'Mean score over 10 cross-validation sets: {scores.mean()}')\n",
    "\n",
    "#test set\n",
    "clf.fit(Xtrain, Ytrain)\n",
    "test_predictions = clf.predict(Xtest)\n",
    "submission = pd.read_csv('sample_submission_49d68Cx.csv')\n",
    "submission['Loan_Status'] = ['Y' if x == 1 else 'N' for x in test_predictions]\n",
    "submission['Loan_ID'] = test['Loan_ID']\n",
    "pd.DataFrame(submission, columns=['Loan_ID','Loan_Status']).to_csv('logistic.csv', index=False)"
   ]
  },
  {
   "cell_type": "code",
   "execution_count": 63,
   "metadata": {
    "colab": {
     "base_uri": "https://localhost:8080/",
     "height": 68
    },
    "colab_type": "code",
    "id": "oIUVHHeoG7A6",
    "outputId": "a91fdbee-f5a9-469a-89ba-3f0bbeeb6c21"
   },
   "outputs": [
    {
     "name": "stdout",
     "output_type": "stream",
     "text": [
      "\n",
      "mean score over 10 cross-validation sets: 0.7818085668958223\n",
      "\n"
     ]
    }
   ],
   "source": [
    "#Model building- RandomForest\n",
    "\n",
    "#RandomForest\n",
    "clf = RandomForestClassifier(n_estimators=1000)\n",
    "scores = cross_val_score(clf, Xtrain, Ytrain, cv=10, scoring='accuracy')\n",
    "print(f'\\nmean score over 10 cross-validation sets: {scores.mean()}\\n')\n",
    "\n",
    "#test set\n",
    "clf.fit(Xtrain, Ytrain)\n",
    "test_predictions = clf.predict(Xtest)\n",
    "submission = pd.read_csv('sample_submission_49d68Cx.csv')\n",
    "submission['Loan_Status'] = ['Y' if x == 1 else 'N' for x in test_predictions]\n",
    "submission['Loan_ID'] = test['Loan_ID']\n",
    "pd.DataFrame(submission, columns=['Loan_ID','Loan_Status']).to_csv('randomforest.csv', index=False)"
   ]
  },
  {
   "cell_type": "code",
   "execution_count": 64,
   "metadata": {
    "colab": {
     "base_uri": "https://localhost:8080/",
     "height": 483
    },
    "colab_type": "code",
    "id": "6xrjY1tjTYHW",
    "outputId": "6e0a616f-93d9-46ab-a806-613c88076ae7"
   },
   "outputs": [
    {
     "data": {
      "image/png": "[encoded data removed]",
      "text/plain": [
       "<Figure size 864x576 with 1 Axes>"
      ]
     },
     "metadata": {
      "needs_background": "light"
     },
     "output_type": "display_data"
    }
   ],
   "source": [
    "importance = pd.Series(clf.feature_importances_)\n",
    "importance.plot(kind='barh', figsize=(12,8))\n",
    "plt.show()"
   ]
  },
  {
   "cell_type": "code",
   "execution_count": 65,
   "metadata": {
    "colab": {
     "base_uri": "https://localhost:8080/",
     "height": 68
    },
    "colab_type": "code",
    "id": "q60SLi1QTO9g",
    "outputId": "f9ce6c04-065d-45b8-8195-891b3fc4011e"
   },
   "outputs": [
    {
     "name": "stdout",
     "output_type": "stream",
     "text": [
      "\n",
      "mean score over 10 cross-validation sets: 0.7590428344791116\n",
      "\n"
     ]
    }
   ],
   "source": [
    "#Model building- XGBoost\n",
    "\n",
    "#XGBoost\n",
    "clf = XGBClassifier()\n",
    "scores = cross_val_score(clf, Xtrain, Ytrain, cv=10, scoring='accuracy')\n",
    "print(f'\\nmean score over 10 cross-validation sets: {scores.mean()}\\n')\n",
    "\n",
    "#test set\n",
    "clf.fit(Xtrain, Ytrain)\n",
    "test_predictions = clf.predict(Xtest)\n",
    "submission = pd.read_csv('sample_submission_49d68Cx.csv')\n",
    "submission['Loan_Status'] = ['Y' if x == 1 else 'N' for x in test_predictions]\n",
    "submission['Loan_ID'] = test['Loan_ID']\n",
    "pd.DataFrame(submission, columns=['Loan_ID','Loan_Status']).to_csv('xgboost.csv', index=False)"
   ]
  },
  {
   "cell_type": "markdown",
   "metadata": {
    "colab_type": "text",
    "id": "aXL2ym1rKev0"
   },
   "source": [
    "##Neural Network"
   ]
  },
  {
   "cell_type": "code",
   "execution_count": 83,
   "metadata": {
    "colab": {},
    "colab_type": "code",
    "id": "hfEiFM0aKhL2"
   },
   "outputs": [],
   "source": [
    "#Model Architecture\n",
    "class Classifier(nn.Module):\n",
    "    def __init__(self, input_layer, hidden_1, hidden_2, hidden_3, output_layer, p):\n",
    "        super().__init__()\n",
    "        self.fc1 = nn.Linear(input_layer, hidden_1)\n",
    "        self.fc2 = nn.Linear(hidden_1, hidden_2)\n",
    "        self.fc3 = nn.Linear(hidden_2, hidden_3)\n",
    "        self.fc4 = nn.Linear(hidden_3, output_layer)\n",
    "        \n",
    "        #batch-normalization\n",
    "        self.bn1 = nn.BatchNorm1d(hidden_1)\n",
    "        self.bn2 = nn.BatchNorm1d(hidden_2)\n",
    "        self.bn3 = nn.BatchNorm1d(hidden_3)\n",
    "                        \n",
    "        #Dropout module with p drop probability\n",
    "        self.dropout = nn.Dropout(p)\n",
    "        self.softmax = nn.Softmax(dim=1)\n",
    "        \n",
    "    def forward(self, x):\n",
    "        # make sure input tensor is flattened\n",
    "        #pdb.set_trace()\n",
    "        x = x.view(x.shape[0], -1)\n",
    "        \n",
    "        x = self.dropout(self.bn1(F.relu(self.fc1(x))))\n",
    "        x = self.dropout(self.bn2(F.relu(self.fc2(x))))\n",
    "        x = self.dropout(self.bn3(F.relu(self.fc3(x))))\n",
    "        x = self.fc4(x)\n",
    "        \n",
    "        return self.softmax(x)"
   ]
  },
  {
   "cell_type": "code",
   "execution_count": 84,
   "metadata": {
    "colab": {},
    "colab_type": "code",
    "id": "zEoTgVf6K3Tn"
   },
   "outputs": [],
   "source": [
    "def test(X_test, y_test,model, criterion):\n",
    "    y_pred = model(X_test)\n",
    "    loss = criterion(y_pred, y_test)\n",
    "    test_loss = loss.item()\n",
    "    return test_loss\n",
    "\n",
    "#Model Training\n",
    "def train_model(X_train, X_test, y_train, y_test, p = 0.2, epochs=250, lr=0.1, input_layer=6, hidden_1=1000,hidden_2=1000, hidden_3=1000, resume_training=False):\n",
    "\n",
    "#     if resume_training:\n",
    "#         model, scaler, lr = load_checkpoint('model20.t7')\n",
    "#     else:\n",
    "    model = Classifier(input_layer = input_layer, hidden_1 = hidden_1, hidden_2 = hidden_2, hidden_3 = hidden_3, output_layer = 2, p = p)\n",
    "        \n",
    "    criterion = nn.CrossEntropyLoss()\n",
    "    optimizer = torch.optim.Adam(model.parameters(), lr = lr)\n",
    "    \n",
    "    #optimizer = torch.optim.SGD(model.parameters(), lr=lr, momentum=0.5, weight_decay=0.001)\n",
    "    #optimizer = torch.optim.SGD(model.parameters(), lr=learning_rate, momentum=0.9, nesterov=True)\n",
    "    #scheduler = StepLR(optimizer, step_size=10, gamma=0.5)\n",
    "    #scheduler = ReduceLROnPlateau(optimizer, mode='max', factor=0.1, patience=4 , verbose=True)\n",
    "    start_time = time.time()\n",
    "    train_losses = []\n",
    "    test_loss_min = np.Inf # set initial \"min\" to infinity\n",
    "    c = 0\n",
    "    accuracy = 0\n",
    "    for e in range(epochs):\n",
    "\n",
    "        model.train()\n",
    "        optimizer.zero_grad()\n",
    "        y_pred = model(X_train)\n",
    "        \n",
    "        #accuracy\n",
    "        \n",
    "        \n",
    "        #loss\n",
    "        loss = criterion(y_pred, y_train)\n",
    "        loss.backward()\n",
    "                        \n",
    "        train_loss = loss.item()\n",
    "        train_losses.append(train_loss)\n",
    "        optimizer.step()\n",
    "        \n",
    "        \n",
    "        \n",
    "        \n",
    "        #scheduler.step()\n",
    "\n",
    "        if e%5==4:\n",
    "            lr = lr * 0.95\n",
    "            for param_group in optimizer.param_groups:\n",
    "                param_group['lr'] = lr\n",
    "            \n",
    "\n",
    "        if e%20==19:  \n",
    "            with torch.no_grad():\n",
    "                model.eval()\n",
    "                test_loss= test(X_test, y_test, model, criterion)\n",
    "                print(f\"Epoch: {e+1}/{epochs}.. Training Loss: {train_loss:.3f} \")\n",
    "                print(f\"Epoch: {e+1}/{epochs}.. Test Loss: {test_loss:.3f} \")\n",
    "\n",
    "        #if test_loss <= test_loss_min:\n",
    "        #    test_loss_min = test_loss\n",
    "#             for param_group in optimizer.param_groups:\n",
    "#                 lr = param_group['lr']\n",
    "#             state = {'model': model, 'state_dict': model.state_dict(),'scaler': scaler, 'lr': lr}\n",
    "#             torch.save(state, 'model20.pth')\n",
    "#             #print(f\"Validation loss decreased ({test_loss_min:.6f} --> {test_loss:.6f})  Saving model at epoch {e+1}...\")\n",
    "#             c = e+1\n",
    "#             print(f'Model last saved at epoch {c}..')\n",
    "\n",
    "\n",
    "#     state = {'model': model, 'state_dict': model.state_dict(),'scaler': scaler, 'lr': lr}\n",
    "#     torch.save(state, 'model20.pth')\n",
    "    print(f'\\nDuration: {time.time() - start_time:.0f} seconds') # print the time elapsed\n",
    "    model.eval()\n",
    "    test_loss= test(X_test, y_test, model, criterion)\n",
    "    print(f\"\\nFinal Test Loss: {test_loss:.3f} \")"
   ]
  },
  {
   "cell_type": "code",
   "execution_count": 85,
   "metadata": {
    "colab": {},
    "colab_type": "code",
    "id": "YVsLMfnGpzDd"
   },
   "outputs": [],
   "source": [
    "X_train, X_test, y_train, y_test = train_test_split(Xtrain, Ytrain, test_size=0.20, random_state=10)\n",
    "\n",
    "# scaler = StandardScaler()\n",
    "# X_train = scaler.fit_transform(X_train)\n",
    "# X_test = scaler.transform(X_test)\n",
    "# y_train = y_train.values\n",
    "# y_test = y_test.values\n",
    "\n",
    "X_train = torch.FloatTensor(X_train)\n",
    "y_train = torch.LongTensor(y_train).view(-1,1)\n",
    "X_test = torch.FloatTensor(X_test)\n",
    "y_test = torch.LongTensor(y_test).view(-1,1)\n",
    "X_train.shape, X_test.shape\n",
    "input_count = X_train.shape[1]"
   ]
  },
  {
   "cell_type": "code",
   "execution_count": 86,
   "metadata": {},
   "outputs": [
    {
     "data": {
      "text/plain": [
       "21"
      ]
     },
     "execution_count": 86,
     "metadata": {},
     "output_type": "execute_result"
    }
   ],
   "source": [
    "input_count"
   ]
  },
  {
   "cell_type": "code",
   "execution_count": 82,
   "metadata": {
    "colab": {
     "base_uri": "https://localhost:8080/",
     "height": 306
    },
    "colab_type": "code",
    "id": "ao-n9nc8EYFs",
    "outputId": "40a3a6dc-2917-4c8f-ba02-9eb91da29b34"
   },
   "outputs": [
    {
     "ename": "RuntimeError",
     "evalue": "Expected object of scalar type Long but got scalar type Float for argument #2 'target'",
     "output_type": "error",
     "traceback": [
      "\u001b[1;31m---------------------------------------------------------------------------\u001b[0m",
      "\u001b[1;31mRuntimeError\u001b[0m                              Traceback (most recent call last)",
      "\u001b[1;32m<ipython-input-82-e19916d1f8da>\u001b[0m in \u001b[0;36m<module>\u001b[1;34m\u001b[0m\n\u001b[1;32m----> 1\u001b[1;33m \u001b[0mtrain_model\u001b[0m\u001b[1;33m(\u001b[0m\u001b[0mX_train\u001b[0m\u001b[1;33m,\u001b[0m \u001b[0mX_test\u001b[0m\u001b[1;33m,\u001b[0m \u001b[0my_train\u001b[0m\u001b[1;33m,\u001b[0m \u001b[0my_test\u001b[0m\u001b[1;33m,\u001b[0m \u001b[0mepochs\u001b[0m\u001b[1;33m=\u001b[0m\u001b[1;36m800\u001b[0m\u001b[1;33m,\u001b[0m \u001b[0mp\u001b[0m\u001b[1;33m=\u001b[0m\u001b[1;36m0.20\u001b[0m\u001b[1;33m,\u001b[0m \u001b[0mlr\u001b[0m\u001b[1;33m=\u001b[0m\u001b[1;36m0.001\u001b[0m\u001b[1;33m,\u001b[0m \u001b[0minput_layer\u001b[0m\u001b[1;33m=\u001b[0m\u001b[0minput_count\u001b[0m\u001b[1;33m,\u001b[0m \u001b[0mresume_training\u001b[0m\u001b[1;33m=\u001b[0m\u001b[1;32mFalse\u001b[0m\u001b[1;33m)\u001b[0m\u001b[1;33m\u001b[0m\u001b[1;33m\u001b[0m\u001b[0m\n\u001b[0m",
      "\u001b[1;32m<ipython-input-79-8eadc8be055c>\u001b[0m in \u001b[0;36mtrain_model\u001b[1;34m(X_train, X_test, y_train, y_test, p, epochs, lr, input_layer, hidden_1, hidden_2, hidden_3, resume_training)\u001b[0m\n\u001b[0;32m     29\u001b[0m         \u001b[0moptimizer\u001b[0m\u001b[1;33m.\u001b[0m\u001b[0mzero_grad\u001b[0m\u001b[1;33m(\u001b[0m\u001b[1;33m)\u001b[0m\u001b[1;33m\u001b[0m\u001b[1;33m\u001b[0m\u001b[0m\n\u001b[0;32m     30\u001b[0m         \u001b[0my_pred\u001b[0m \u001b[1;33m=\u001b[0m \u001b[0mmodel\u001b[0m\u001b[1;33m(\u001b[0m\u001b[0mX_train\u001b[0m\u001b[1;33m)\u001b[0m\u001b[1;33m\u001b[0m\u001b[1;33m\u001b[0m\u001b[0m\n\u001b[1;32m---> 31\u001b[1;33m         \u001b[0mloss\u001b[0m \u001b[1;33m=\u001b[0m \u001b[0mcriterion\u001b[0m\u001b[1;33m(\u001b[0m\u001b[0my_pred\u001b[0m\u001b[1;33m,\u001b[0m \u001b[0my_train\u001b[0m\u001b[1;33m)\u001b[0m\u001b[1;33m\u001b[0m\u001b[1;33m\u001b[0m\u001b[0m\n\u001b[0m\u001b[0;32m     32\u001b[0m         \u001b[0mloss\u001b[0m\u001b[1;33m.\u001b[0m\u001b[0mbackward\u001b[0m\u001b[1;33m(\u001b[0m\u001b[1;33m)\u001b[0m\u001b[1;33m\u001b[0m\u001b[1;33m\u001b[0m\u001b[0m\n\u001b[0;32m     33\u001b[0m \u001b[1;33m\u001b[0m\u001b[0m\n",
      "\u001b[1;32m~\\Anaconda3\\lib\\site-packages\\torch\\nn\\modules\\module.py\u001b[0m in \u001b[0;36m__call__\u001b[1;34m(self, *input, **kwargs)\u001b[0m\n\u001b[0;32m    491\u001b[0m             \u001b[0mresult\u001b[0m \u001b[1;33m=\u001b[0m \u001b[0mself\u001b[0m\u001b[1;33m.\u001b[0m\u001b[0m_slow_forward\u001b[0m\u001b[1;33m(\u001b[0m\u001b[1;33m*\u001b[0m\u001b[0minput\u001b[0m\u001b[1;33m,\u001b[0m \u001b[1;33m**\u001b[0m\u001b[0mkwargs\u001b[0m\u001b[1;33m)\u001b[0m\u001b[1;33m\u001b[0m\u001b[1;33m\u001b[0m\u001b[0m\n\u001b[0;32m    492\u001b[0m         \u001b[1;32melse\u001b[0m\u001b[1;33m:\u001b[0m\u001b[1;33m\u001b[0m\u001b[1;33m\u001b[0m\u001b[0m\n\u001b[1;32m--> 493\u001b[1;33m             \u001b[0mresult\u001b[0m \u001b[1;33m=\u001b[0m \u001b[0mself\u001b[0m\u001b[1;33m.\u001b[0m\u001b[0mforward\u001b[0m\u001b[1;33m(\u001b[0m\u001b[1;33m*\u001b[0m\u001b[0minput\u001b[0m\u001b[1;33m,\u001b[0m \u001b[1;33m**\u001b[0m\u001b[0mkwargs\u001b[0m\u001b[1;33m)\u001b[0m\u001b[1;33m\u001b[0m\u001b[1;33m\u001b[0m\u001b[0m\n\u001b[0m\u001b[0;32m    494\u001b[0m         \u001b[1;32mfor\u001b[0m \u001b[0mhook\u001b[0m \u001b[1;32min\u001b[0m \u001b[0mself\u001b[0m\u001b[1;33m.\u001b[0m\u001b[0m_forward_hooks\u001b[0m\u001b[1;33m.\u001b[0m\u001b[0mvalues\u001b[0m\u001b[1;33m(\u001b[0m\u001b[1;33m)\u001b[0m\u001b[1;33m:\u001b[0m\u001b[1;33m\u001b[0m\u001b[1;33m\u001b[0m\u001b[0m\n\u001b[0;32m    495\u001b[0m             \u001b[0mhook_result\u001b[0m \u001b[1;33m=\u001b[0m \u001b[0mhook\u001b[0m\u001b[1;33m(\u001b[0m\u001b[0mself\u001b[0m\u001b[1;33m,\u001b[0m \u001b[0minput\u001b[0m\u001b[1;33m,\u001b[0m \u001b[0mresult\u001b[0m\u001b[1;33m)\u001b[0m\u001b[1;33m\u001b[0m\u001b[1;33m\u001b[0m\u001b[0m\n",
      "\u001b[1;32m~\\Anaconda3\\lib\\site-packages\\torch\\nn\\modules\\loss.py\u001b[0m in \u001b[0;36mforward\u001b[1;34m(self, input, target)\u001b[0m\n\u001b[0;32m    940\u001b[0m     \u001b[1;32mdef\u001b[0m \u001b[0mforward\u001b[0m\u001b[1;33m(\u001b[0m\u001b[0mself\u001b[0m\u001b[1;33m,\u001b[0m \u001b[0minput\u001b[0m\u001b[1;33m,\u001b[0m \u001b[0mtarget\u001b[0m\u001b[1;33m)\u001b[0m\u001b[1;33m:\u001b[0m\u001b[1;33m\u001b[0m\u001b[1;33m\u001b[0m\u001b[0m\n\u001b[0;32m    941\u001b[0m         return F.cross_entropy(input, target, weight=self.weight,\n\u001b[1;32m--> 942\u001b[1;33m                                ignore_index=self.ignore_index, reduction=self.reduction)\n\u001b[0m\u001b[0;32m    943\u001b[0m \u001b[1;33m\u001b[0m\u001b[0m\n\u001b[0;32m    944\u001b[0m \u001b[1;33m\u001b[0m\u001b[0m\n",
      "\u001b[1;32m~\\Anaconda3\\lib\\site-packages\\torch\\nn\\functional.py\u001b[0m in \u001b[0;36mcross_entropy\u001b[1;34m(input, target, weight, size_average, ignore_index, reduce, reduction)\u001b[0m\n\u001b[0;32m   2054\u001b[0m     \u001b[1;32mif\u001b[0m \u001b[0msize_average\u001b[0m \u001b[1;32mis\u001b[0m \u001b[1;32mnot\u001b[0m \u001b[1;32mNone\u001b[0m \u001b[1;32mor\u001b[0m \u001b[0mreduce\u001b[0m \u001b[1;32mis\u001b[0m \u001b[1;32mnot\u001b[0m \u001b[1;32mNone\u001b[0m\u001b[1;33m:\u001b[0m\u001b[1;33m\u001b[0m\u001b[1;33m\u001b[0m\u001b[0m\n\u001b[0;32m   2055\u001b[0m         \u001b[0mreduction\u001b[0m \u001b[1;33m=\u001b[0m \u001b[0m_Reduction\u001b[0m\u001b[1;33m.\u001b[0m\u001b[0mlegacy_get_string\u001b[0m\u001b[1;33m(\u001b[0m\u001b[0msize_average\u001b[0m\u001b[1;33m,\u001b[0m \u001b[0mreduce\u001b[0m\u001b[1;33m)\u001b[0m\u001b[1;33m\u001b[0m\u001b[1;33m\u001b[0m\u001b[0m\n\u001b[1;32m-> 2056\u001b[1;33m     \u001b[1;32mreturn\u001b[0m \u001b[0mnll_loss\u001b[0m\u001b[1;33m(\u001b[0m\u001b[0mlog_softmax\u001b[0m\u001b[1;33m(\u001b[0m\u001b[0minput\u001b[0m\u001b[1;33m,\u001b[0m \u001b[1;36m1\u001b[0m\u001b[1;33m)\u001b[0m\u001b[1;33m,\u001b[0m \u001b[0mtarget\u001b[0m\u001b[1;33m,\u001b[0m \u001b[0mweight\u001b[0m\u001b[1;33m,\u001b[0m \u001b[1;32mNone\u001b[0m\u001b[1;33m,\u001b[0m \u001b[0mignore_index\u001b[0m\u001b[1;33m,\u001b[0m \u001b[1;32mNone\u001b[0m\u001b[1;33m,\u001b[0m \u001b[0mreduction\u001b[0m\u001b[1;33m)\u001b[0m\u001b[1;33m\u001b[0m\u001b[1;33m\u001b[0m\u001b[0m\n\u001b[0m\u001b[0;32m   2057\u001b[0m \u001b[1;33m\u001b[0m\u001b[0m\n\u001b[0;32m   2058\u001b[0m \u001b[1;33m\u001b[0m\u001b[0m\n",
      "\u001b[1;32m~\\Anaconda3\\lib\\site-packages\\torch\\nn\\functional.py\u001b[0m in \u001b[0;36mnll_loss\u001b[1;34m(input, target, weight, size_average, ignore_index, reduce, reduction)\u001b[0m\n\u001b[0;32m   1869\u001b[0m                          .format(input.size(0), target.size(0)))\n\u001b[0;32m   1870\u001b[0m     \u001b[1;32mif\u001b[0m \u001b[0mdim\u001b[0m \u001b[1;33m==\u001b[0m \u001b[1;36m2\u001b[0m\u001b[1;33m:\u001b[0m\u001b[1;33m\u001b[0m\u001b[1;33m\u001b[0m\u001b[0m\n\u001b[1;32m-> 1871\u001b[1;33m         \u001b[0mret\u001b[0m \u001b[1;33m=\u001b[0m \u001b[0mtorch\u001b[0m\u001b[1;33m.\u001b[0m\u001b[0m_C\u001b[0m\u001b[1;33m.\u001b[0m\u001b[0m_nn\u001b[0m\u001b[1;33m.\u001b[0m\u001b[0mnll_loss\u001b[0m\u001b[1;33m(\u001b[0m\u001b[0minput\u001b[0m\u001b[1;33m,\u001b[0m \u001b[0mtarget\u001b[0m\u001b[1;33m,\u001b[0m \u001b[0mweight\u001b[0m\u001b[1;33m,\u001b[0m \u001b[0m_Reduction\u001b[0m\u001b[1;33m.\u001b[0m\u001b[0mget_enum\u001b[0m\u001b[1;33m(\u001b[0m\u001b[0mreduction\u001b[0m\u001b[1;33m)\u001b[0m\u001b[1;33m,\u001b[0m \u001b[0mignore_index\u001b[0m\u001b[1;33m)\u001b[0m\u001b[1;33m\u001b[0m\u001b[1;33m\u001b[0m\u001b[0m\n\u001b[0m\u001b[0;32m   1872\u001b[0m     \u001b[1;32melif\u001b[0m \u001b[0mdim\u001b[0m \u001b[1;33m==\u001b[0m \u001b[1;36m4\u001b[0m\u001b[1;33m:\u001b[0m\u001b[1;33m\u001b[0m\u001b[1;33m\u001b[0m\u001b[0m\n\u001b[0;32m   1873\u001b[0m         \u001b[0mret\u001b[0m \u001b[1;33m=\u001b[0m \u001b[0mtorch\u001b[0m\u001b[1;33m.\u001b[0m\u001b[0m_C\u001b[0m\u001b[1;33m.\u001b[0m\u001b[0m_nn\u001b[0m\u001b[1;33m.\u001b[0m\u001b[0mnll_loss2d\u001b[0m\u001b[1;33m(\u001b[0m\u001b[0minput\u001b[0m\u001b[1;33m,\u001b[0m \u001b[0mtarget\u001b[0m\u001b[1;33m,\u001b[0m \u001b[0mweight\u001b[0m\u001b[1;33m,\u001b[0m \u001b[0m_Reduction\u001b[0m\u001b[1;33m.\u001b[0m\u001b[0mget_enum\u001b[0m\u001b[1;33m(\u001b[0m\u001b[0mreduction\u001b[0m\u001b[1;33m)\u001b[0m\u001b[1;33m,\u001b[0m \u001b[0mignore_index\u001b[0m\u001b[1;33m)\u001b[0m\u001b[1;33m\u001b[0m\u001b[1;33m\u001b[0m\u001b[0m\n",
      "\u001b[1;31mRuntimeError\u001b[0m: Expected object of scalar type Long but got scalar type Float for argument #2 'target'"
     ]
    }
   ],
   "source": [
    "train_model(X_train, X_test, y_train, y_test, epochs=800, p=0.20, lr=0.001, input_layer=input_count, resume_training=False)"
   ]
  },
  {
   "cell_type": "code",
   "execution_count": 0,
   "metadata": {
    "colab": {
     "base_uri": "https://localhost:8080/",
     "height": 54
    },
    "colab_type": "code",
    "id": "Cg1eYTTw0wtx",
    "outputId": "977b82c3-f942-4cf4-831c-5ef51ef70725"
   },
   "outputs": [
    {
     "data": {
      "text/plain": [
       "'\\n##Attempt-3 Grid Search, XGBoost\\n\\n#Preprocessing pipeline for numeric and categorical data \\n\\nnumeric_transformer = Pipeline(steps=[\\n    (\\'imputer\\', SimpleImputer(strategy=\\'mean\\')),\\n    (\\'scaler\\', StandardScaler())])\\n\\ncategorical_transformer = Pipeline(steps=[\\n    (\\'imputer\\', SimpleImputer(strategy=\\'constant\\', fill_value = \\'missing\\')),\\n    (\\'onehot\\', OneHotEncoder(handle_unknown=\\'ignore\\'))])\\n\\npreprocessor = ColumnTransformer(\\n    transformers=[\\n        (\\'numerical\\', numeric_transformer, continuous+discrete),\\n        (\\'categorical\\', categorical_transformer, categorical)\\n    ]\\n)\\n\\n#Append classifier to the preprocessing pipeline\\n#clf = Pipeline(steps=[(\\'preprocessor\\', preprocessor), (\\'classifier\\', RandomForestClassifier(n_estimators=10000, verbose=True))])\\nclf = Pipeline(steps=[(\\'preprocessor\\', preprocessor), (\\'classifier\\', XGBClassifier())])\\n\\nparam_grid = {\\n    \\'preprocessor__numerical__imputer__strategy\\': [\\'mean\\', \\'median\\'],\\n    \\'preprocessor__categorical__imputer__strategy\\': [\\'most_frequent\\', \\'constant\\']\\n    \\n}\\n\\ngrid_search = GridSearchCV(clf, param_grid, cv=5, iid=False, n_jobs=-1, scoring=\\'roc_auc\\')\\n\\n# and now we train over all the possible combinations of the parameters above\\ngrid_search.fit(Xtrain, Ytrain) \\n\\n# and finally let\\'s check the performance over the test set\\nprint((\"best classifier from grid search: %.3f\" % grid_search.score(Xtest, Ytest)))\\n\\n# and find the best fit parameters like this\\ngrid_search.best_params_\\n\\n#Yval = grid_search.predict(Xval.drop(\\'Loan_ID\\', axis=1))\\n'"
      ]
     },
     "execution_count": 68,
     "metadata": {
      "tags": []
     },
     "output_type": "execute_result"
    }
   ],
   "source": [
    "'''\n",
    "##Attempt-3 Grid Search, XGBoost\n",
    "\n",
    "#Preprocessing pipeline for numeric and categorical data \n",
    "\n",
    "numeric_transformer = Pipeline(steps=[\n",
    "    ('imputer', SimpleImputer(strategy='mean')),\n",
    "    ('scaler', StandardScaler())])\n",
    "\n",
    "categorical_transformer = Pipeline(steps=[\n",
    "    ('imputer', SimpleImputer(strategy='constant', fill_value = 'missing')),\n",
    "    ('onehot', OneHotEncoder(handle_unknown='ignore'))])\n",
    "\n",
    "preprocessor = ColumnTransformer(\n",
    "    transformers=[\n",
    "        ('numerical', numeric_transformer, continuous+discrete),\n",
    "        ('categorical', categorical_transformer, categorical)\n",
    "    ]\n",
    ")\n",
    "\n",
    "#Append classifier to the preprocessing pipeline\n",
    "#clf = Pipeline(steps=[('preprocessor', preprocessor), ('classifier', RandomForestClassifier(n_estimators=10000, verbose=True))])\n",
    "clf = Pipeline(steps=[('preprocessor', preprocessor), ('classifier', XGBClassifier())])\n",
    "\n",
    "param_grid = {\n",
    "    'preprocessor__numerical__imputer__strategy': ['mean', 'median'],\n",
    "    'preprocessor__categorical__imputer__strategy': ['most_frequent', 'constant']\n",
    "    \n",
    "}\n",
    "\n",
    "grid_search = GridSearchCV(clf, param_grid, cv=5, iid=False, n_jobs=-1, scoring='roc_auc')\n",
    "\n",
    "# and now we train over all the possible combinations of the parameters above\n",
    "grid_search.fit(Xtrain, Ytrain) \n",
    "\n",
    "# and finally let's check the performance over the test set\n",
    "print((\"best classifier from grid search: %.3f\" % grid_search.score(Xtest, Ytest)))\n",
    "\n",
    "# and find the best fit parameters like this\n",
    "grid_search.best_params_\n",
    "\n",
    "#Yval = grid_search.predict(Xval.drop('Loan_ID', axis=1))\n",
    "'''"
   ]
  },
  {
   "cell_type": "markdown",
   "metadata": {
    "colab_type": "text",
    "id": "2bdivokcu12D"
   },
   "source": [
    "#Feature Engineering"
   ]
  },
  {
   "cell_type": "markdown",
   "metadata": {
    "colab_type": "text",
    "id": "K7u--3oYvBaA"
   },
   "source": [
    "Based on the domain knowledge, we can come up with new features that might affect the target variable. We will create the following three new features:\n",
    "\n",
    "Total Income - As discussed during bivariate analysis we will combine the Applicant Income and Coapplicant Income. If the total income is high, chances of loan approval might also be high.\n",
    "EMI - EMI is the monthly amount to be paid by the applicant to repay the loan. Idea behind making this variable is that people who have high EMI’s might find it difficult to pay back the loan. We can calculate the EMI by taking the ratio of loan amount with respect to loan amount term.\n",
    "Balance Income - This is the income left after the EMI has been paid. Idea behind creating this variable is that if this value is high, the chances are high that a person will repay the loan and hence increasing the chances of loan approval."
   ]
  },
  {
   "cell_type": "code",
   "execution_count": 0,
   "metadata": {
    "colab": {},
    "colab_type": "code",
    "id": "Olhlr53g6YNw"
   },
   "outputs": [],
   "source": [
    "data = pd.read_csv('train.csv')\n",
    "test = pd.read_csv('test.csv')\n",
    "Xtrain2 = data.drop(['Loan_ID','Loan_Status'], axis=1).copy()\n",
    "Xtest2 = test.drop(['Loan_ID'], axis=1).copy()\n",
    "Ytrain2 = data['Loan_Status'].copy()     "
   ]
  },
  {
   "cell_type": "code",
   "execution_count": 0,
   "metadata": {
    "colab": {
     "base_uri": "https://localhost:8080/",
     "height": 153
    },
    "colab_type": "code",
    "id": "xRqzJUyo5tc0",
    "outputId": "0b6a6441-9faf-435b-9d2c-fdc339f6740e"
   },
   "outputs": [
    {
     "data": {
      "text/plain": [
       "(Index(['Gender', 'Married', 'Dependents', 'Education', 'Self_Employed',\n",
       "        'ApplicantIncome', 'CoapplicantIncome', 'LoanAmount',\n",
       "        'Loan_Amount_Term', 'Credit_History', 'Property_Area'],\n",
       "       dtype='object'),\n",
       " Index(['Gender', 'Married', 'Dependents', 'Education', 'Self_Employed',\n",
       "        'ApplicantIncome', 'CoapplicantIncome', 'LoanAmount',\n",
       "        'Loan_Amount_Term', 'Credit_History', 'Property_Area'],\n",
       "       dtype='object'))"
      ]
     },
     "execution_count": 70,
     "metadata": {
      "tags": []
     },
     "output_type": "execute_result"
    }
   ],
   "source": [
    "Xtrain2.columns, Xtest2.columns"
   ]
  },
  {
   "cell_type": "code",
   "execution_count": 0,
   "metadata": {
    "colab": {},
    "colab_type": "code",
    "id": "4HMN9a3exW20"
   },
   "outputs": [],
   "source": [
    "#create new feature -  Total_Income\n",
    "Xtrain2['Total_Income'] = Xtrain2['ApplicantIncome'] + Xtrain2['CoapplicantIncome']\n",
    "Xtest2['Total_Income'] = Xtest2['ApplicantIncome'] + Xtest2['CoapplicantIncome']"
   ]
  },
  {
   "cell_type": "code",
   "execution_count": 0,
   "metadata": {
    "colab": {
     "base_uri": "https://localhost:8080/",
     "height": 297
    },
    "colab_type": "code",
    "id": "CC7SFtMIuyxG",
    "outputId": "eaf8a924-acbd-44e8-c623-6576f646c76b"
   },
   "outputs": [
    {
     "data": {
      "text/plain": [
       "<matplotlib.axes._subplots.AxesSubplot at 0x7f0fbe68d358>"
      ]
     },
     "execution_count": 72,
     "metadata": {
      "tags": []
     },
     "output_type": "execute_result"
    },
    {
     "data": {
      "image/png": "[encoded data removed]",
      "text/plain": [
       "<Figure size 432x288 with 1 Axes>"
      ]
     },
     "metadata": {
      "tags": []
     },
     "output_type": "display_data"
    }
   ],
   "source": [
    "#visualize - Total_Income\n",
    "sns.distplot(Xtrain2['Total_Income'])"
   ]
  },
  {
   "cell_type": "code",
   "execution_count": 0,
   "metadata": {
    "colab": {},
    "colab_type": "code",
    "id": "NR90Ugf-uy8U"
   },
   "outputs": [],
   "source": [
    "#log-transformation\n",
    "Xtrain2['Total_Income'] = np.log(Xtrain2['Total_Income'])\n",
    "Xtest2['Total_Income'] = np.log(Xtest2['Total_Income'])"
   ]
  },
  {
   "cell_type": "code",
   "execution_count": 0,
   "metadata": {
    "colab": {
     "base_uri": "https://localhost:8080/",
     "height": 297
    },
    "colab_type": "code",
    "id": "8Dnc3wOnuy5Z",
    "outputId": "9dbc6186-ecdd-4b35-dba9-8eae5b674d69"
   },
   "outputs": [
    {
     "data": {
      "text/plain": [
       "<matplotlib.axes._subplots.AxesSubplot at 0x7f0fbe201fd0>"
      ]
     },
     "execution_count": 74,
     "metadata": {
      "tags": []
     },
     "output_type": "execute_result"
    },
    {
     "data": {
      "image/png": "[encoded data removed]",
      "text/plain": [
       "<Figure size 432x288 with 1 Axes>"
      ]
     },
     "metadata": {
      "tags": []
     },
     "output_type": "display_data"
    }
   ],
   "source": [
    "#visualize after log-transformation\n",
    "sns.distplot(Xtrain2['Total_Income'])"
   ]
  },
  {
   "cell_type": "markdown",
   "metadata": {
    "colab_type": "text",
    "id": "CoE0dqu5zWCd"
   },
   "source": [
    "Now the distribution looks much closer to normal and effect of extreme values has been significantly subsided. "
   ]
  },
  {
   "cell_type": "code",
   "execution_count": 0,
   "metadata": {
    "colab": {},
    "colab_type": "code",
    "id": "F1_gVJLhuy3b"
   },
   "outputs": [],
   "source": [
    "#create new feature -  EMI\n",
    "Xtrain2['EMI'] =  (Xtrain2['LoanAmount']) / (Xtrain2['Loan_Amount_Term'])\n",
    "Xtest2['EMI'] =  (Xtest2['LoanAmount']) / (Xtest2['Loan_Amount_Term'])"
   ]
  },
  {
   "cell_type": "code",
   "execution_count": 0,
   "metadata": {
    "colab": {
     "base_uri": "https://localhost:8080/",
     "height": 296
    },
    "colab_type": "code",
    "id": "XAZLKHyZAwlJ",
    "outputId": "767fa236-e7ce-4629-993a-9d972af0d78f"
   },
   "outputs": [
    {
     "data": {
      "text/plain": [
       "<matplotlib.axes._subplots.AxesSubplot at 0x7f0fbe87f390>"
      ]
     },
     "execution_count": 76,
     "metadata": {
      "tags": []
     },
     "output_type": "execute_result"
    },
    {
     "data": {
      "image/png": "[encoded data removed]",
      "text/plain": [
       "<Figure size 432x288 with 1 Axes>"
      ]
     },
     "metadata": {
      "tags": []
     },
     "output_type": "display_data"
    }
   ],
   "source": [
    "#Visualize EMI\n",
    "sns.distplot(Xtrain2['EMI'])"
   ]
  },
  {
   "cell_type": "code",
   "execution_count": 0,
   "metadata": {
    "colab": {},
    "colab_type": "code",
    "id": "2201T6cSshDj"
   },
   "outputs": [],
   "source": [
    "#log-transformation\n",
    "Xtrain2['EMI'] = np.log(Xtrain2['EMI'])\n",
    "Xtest2['EMI'] = np.log(Xtest2['EMI'])"
   ]
  },
  {
   "cell_type": "code",
   "execution_count": 0,
   "metadata": {
    "colab": {
     "base_uri": "https://localhost:8080/",
     "height": 296
    },
    "colab_type": "code",
    "id": "fCQqWjsa0fFx",
    "outputId": "b77d8bc2-377f-4831-cbf3-72b37b097d53"
   },
   "outputs": [
    {
     "data": {
      "text/plain": [
       "<matplotlib.axes._subplots.AxesSubplot at 0x7f0fbe3f7c50>"
      ]
     },
     "execution_count": 78,
     "metadata": {
      "tags": []
     },
     "output_type": "execute_result"
    },
    {
     "data": {
      "image/png": "[encoded data removed]",
      "text/plain": [
       "<Figure size 432x288 with 1 Axes>"
      ]
     },
     "metadata": {
      "tags": []
     },
     "output_type": "display_data"
    }
   ],
   "source": [
    "#visualize after log-transformation\n",
    "sns.distplot(Xtrain2['EMI'])"
   ]
  },
  {
   "cell_type": "markdown",
   "metadata": {
    "colab_type": "text",
    "id": "QNHprVSK0wS7"
   },
   "source": [
    "The distribution looks much closer to normal and effect of extreme values has been significantly subsided."
   ]
  },
  {
   "cell_type": "code",
   "execution_count": 0,
   "metadata": {
    "colab": {},
    "colab_type": "code",
    "id": "fHwkZxhR0fPk"
   },
   "outputs": [],
   "source": [
    "#create new feature - Balance_Income\n",
    "Xtrain2['Balance_Income'] = Xtrain2['Total_Income'] - (Xtrain2['EMI']*1000) #Multiply with 1000 to make units equal\n",
    "Xtest2['Balance_Income'] = Xtest2['Total_Income'] - (Xtest2['EMI']*1000)"
   ]
  },
  {
   "cell_type": "code",
   "execution_count": 0,
   "metadata": {
    "colab": {
     "base_uri": "https://localhost:8080/",
     "height": 297
    },
    "colab_type": "code",
    "id": "HSkk79rw0fN6",
    "outputId": "f984bbc8-9944-4e73-9490-7e83e221fbc1"
   },
   "outputs": [
    {
     "data": {
      "text/plain": [
       "<matplotlib.axes._subplots.AxesSubplot at 0x7f0fbe4bf860>"
      ]
     },
     "execution_count": 80,
     "metadata": {
      "tags": []
     },
     "output_type": "execute_result"
    },
    {
     "data": {
      "image/png": "[encoded data removed]",
      "text/plain": [
       "<Figure size 432x288 with 1 Axes>"
      ]
     },
     "metadata": {
      "tags": []
     },
     "output_type": "display_data"
    }
   ],
   "source": [
    "#visualize Balance_Income\n",
    "sns.distplot(Xtrain2['Balance_Income'])"
   ]
  },
  {
   "cell_type": "markdown",
   "metadata": {
    "colab_type": "text",
    "id": "w1mfHRum1u8D"
   },
   "source": [
    "Let us now drop the variables which we used to create these new features. Reason for doing this is, the correlation between those old features and these new features will be very high and logistic regression assumes that the variables are not highly correlated. We also wants to remove the noise from the dataset, so removing correlated features will help in reducing the noise too."
   ]
  },
  {
   "cell_type": "code",
   "execution_count": 0,
   "metadata": {
    "colab": {},
    "colab_type": "code",
    "id": "EzfdD1Nt0fL6"
   },
   "outputs": [],
   "source": [
    "#Drop the previous features used to make new features, to reduce feature correlation\n",
    "Xtrain2 = Xtrain2.drop(['ApplicantIncome', 'CoapplicantIncome', 'LoanAmount', 'Loan_Amount_Term'], axis=1) \n",
    "Xtest2 = Xtest2.drop(['ApplicantIncome', 'CoapplicantIncome', 'LoanAmount', 'Loan_Amount_Term'], axis=1)"
   ]
  },
  {
   "cell_type": "code",
   "execution_count": 0,
   "metadata": {
    "colab": {},
    "colab_type": "code",
    "id": "fiDIX6NPi96S"
   },
   "outputs": [],
   "source": [
    "#make a list of variable types\n",
    "\n",
    "#numerical:\n",
    "numerical = [var for var in Xtrain2.columns if Xtrain2[var].dtype != 'O']\n",
    "#categorical\n",
    "categorical = [var for var in Xtrain2.columns if Xtrain2[var].dtype == 'O']"
   ]
  },
  {
   "cell_type": "code",
   "execution_count": 0,
   "metadata": {
    "colab": {},
    "colab_type": "code",
    "id": "v5IEW6CKkJqQ"
   },
   "outputs": [],
   "source": [
    "#defining preprocessor\n",
    "numeric_transformer = Pipeline(steps=[('imputer', SimpleImputer(strategy='median')), ('scaler', StandardScaler())])\n",
    "categorical_transformer = Pipeline(steps=[('imputer', SimpleImputer(strategy='most_frequent', fill_value = 'missing')),\n",
    "                                          ('onehot', OneHotEncoder(handle_unknown='ignore'))])\n",
    "preprocessor = ColumnTransformer(transformers=[('numerical', numeric_transformer, numerical),\n",
    "                                               ('categorical', categorical_transformer, categorical)])"
   ]
  },
  {
   "cell_type": "code",
   "execution_count": 0,
   "metadata": {
    "colab": {},
    "colab_type": "code",
    "id": "ZVqpW-5t0fJq"
   },
   "outputs": [],
   "source": [
    "#Apply preprocessing pipeline\n",
    "preprocess = Pipeline(steps=[('preprocessor', preprocessor)])\n",
    "\n",
    "#fit the pipeline\n",
    "Xtrain2 = preprocess.fit_transform(Xtrain2)\n",
    "Xtest2 = preprocess.fit_transform(Xtest2)\n",
    "Ytrain2 = Ytrain2.values"
   ]
  },
  {
   "cell_type": "code",
   "execution_count": 0,
   "metadata": {
    "colab": {
     "base_uri": "https://localhost:8080/",
     "height": 34
    },
    "colab_type": "code",
    "id": "Na9d0LUxiP4O",
    "outputId": "5d9fb8d4-90ad-4469-9876-d2efbe6bac46"
   },
   "outputs": [
    {
     "name": "stdout",
     "output_type": "stream",
     "text": [
      "Mean score over 10 cross-validation sets: 0.8095716552088842\n"
     ]
    }
   ],
   "source": [
    "#Model building- Logistic Regression\n",
    "\n",
    "#Logistic regression\n",
    "clf = LogisticRegression()\n",
    "scores = cross_val_score(clf, Xtrain2, Ytrain2, cv=10, scoring='accuracy')\n",
    "print(f'Mean score over 10 cross-validation sets: {scores.mean()}')\n",
    "\n",
    "#test set\n",
    "clf.fit(Xtrain2, Ytrain2)\n",
    "test_predictions = clf.predict(Xtest2)\n",
    "submission = pd.read_csv('sample_submission_49d68Cx.csv')\n",
    "submission['Loan_Status'] = ['Y' if x == 1 else 'N' for x in test_predictions]\n",
    "submission['Loan_ID'] = test['Loan_ID']\n",
    "pd.DataFrame(submission, columns=['Loan_ID','Loan_Status']).to_csv('logistic2.csv', index=False)"
   ]
  },
  {
   "cell_type": "code",
   "execution_count": 0,
   "metadata": {
    "colab": {
     "base_uri": "https://localhost:8080/",
     "height": 68
    },
    "colab_type": "code",
    "id": "LIgMMZFYiR6x",
    "outputId": "f72435ef-4af9-4439-db34-1bec8ce9b742"
   },
   "outputs": [
    {
     "name": "stdout",
     "output_type": "stream",
     "text": [
      "\n",
      "mean score over 10 cross-validation sets: 0.7868323638286621\n",
      "\n"
     ]
    }
   ],
   "source": [
    "#Model building- RandomForest\n",
    "\n",
    "#RandomForest\n",
    "clf = RandomForestClassifier(n_estimators=1000)\n",
    "scores = cross_val_score(clf, Xtrain2, Ytrain2, cv=10, scoring='accuracy')\n",
    "print(f'\\nmean score over 10 cross-validation sets: {scores.mean()}\\n')\n",
    "\n",
    "#test set\n",
    "clf.fit(Xtrain2, Ytrain2)\n",
    "test_predictions = clf.predict(Xtest2)\n",
    "submission = pd.read_csv('sample_submission_49d68Cx.csv')\n",
    "submission['Loan_Status'] = ['Y' if x == 1 else 'N' for x in test_predictions]\n",
    "submission['Loan_ID'] = test['Loan_ID']\n",
    "pd.DataFrame(submission, columns=['Loan_ID','Loan_Status']).to_csv('randomforest2.csv', index=False)"
   ]
  },
  {
   "cell_type": "code",
   "execution_count": 0,
   "metadata": {
    "colab": {},
    "colab_type": "code",
    "id": "rSvuPii991qB"
   },
   "outputs": [],
   "source": []
  }
 ],
 "metadata": {
  "colab": {
   "collapsed_sections": [],
   "name": "loan_prediction.ipynb",
   "provenance": []
  },
  "kernelspec": {
   "display_name": "Python 3",
   "language": "python",
   "name": "python3"
  },
  "language_info": {
   "codemirror_mode": {
    "name": "ipython",
    "version": 3
   },
   "file_extension": ".py",
   "mimetype": "text/x-python",
   "name": "python",
   "nbconvert_exporter": "python",
   "pygments_lexer": "ipython3",
   "version": "3.6.8"
  }
 },
 "nbformat": 4,
 "nbformat_minor": 1
}
