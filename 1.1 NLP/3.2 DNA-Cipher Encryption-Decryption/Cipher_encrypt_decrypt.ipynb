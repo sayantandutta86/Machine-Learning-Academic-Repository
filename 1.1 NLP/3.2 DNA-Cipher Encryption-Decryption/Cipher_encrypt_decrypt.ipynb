{
  "nbformat": 4,
  "nbformat_minor": 0,
  "metadata": {
    "colab": {
      "name": "Cipher_encrypt_decrypt.ipynb",
      "provenance": [],
      "collapsed_sections": []
    },
    "kernelspec": {
      "name": "python3",
      "display_name": "Python 3"
    },
    "accelerator": "GPU"
  },
  "cells": [
    {
      "cell_type": "code",
      "metadata": {
        "id": "YPNU2JDW1ZEj",
        "colab_type": "code",
        "colab": {}
      },
      "source": [
        "import os;os.chdir('/content/drive/My Drive/Colab Notebooks/Lazy courses/NLP/NLP-1')"
      ],
      "execution_count": 0,
      "outputs": []
    },
    {
      "cell_type": "markdown",
      "metadata": {
        "id": "s2pSm2s5fv1B",
        "colab_type": "text"
      },
      "source": [
        "#Cipher encryption-decryption\n",
        "\n",
        "1. Create a substitution cipher\n",
        "2. Build a Probabilistic Language Model using Genetic algorithm\n",
        "3. Encrypt a message based on the substitution cipher\n",
        "4. Decrypt the encrypted model by using Language Model\n",
        "\n",
        "Data Source:\n",
        "https://lazyprogrammer.me/course_files/moby_dick.txt\n",
        "\n",
        "**Encode the below message**\n",
        "\n",
        "this is a random excerpt from Project Gutenberg's\n",
        "The Adventures of Sherlock Holmes, by Arthur Conan Doyle\n",
        "https://www.gutenberg.org/ebooks/1661\n",
        "\n",
        "original_message = '''I then lounged down the street and found,\n",
        "as I expected, that there was a mews in a lane which runs down\n",
        "by one wall of the garden. I lent the ostlers a hand in rubbing\n",
        "down their horses, and received in exchange twopence, a glass of\n",
        "half-and-half, two fills of shag tobacco, and as much information\n",
        "as I could desire about Miss Adler, to say nothing of half a dozen\n",
        "other people in the neighbourhood in whom I was not in the least\n",
        "interested, but whose biographies I was compelled to listen to.\n",
        "'''\n",
        "##### **Decode the message based on the Language Model**"
      ]
    },
    {
      "cell_type": "code",
      "metadata": {
        "id": "sXtyl16vn4Fd",
        "colab_type": "code",
        "colab": {}
      },
      "source": [
        "import numpy as np\n",
        "import matplotlib.pyplot as plt\n",
        "\n",
        "import string\n",
        "import random\n",
        "import re\n",
        "import requests\n",
        "import os\n",
        "import textwrap"
      ],
      "execution_count": 0,
      "outputs": []
    },
    {
      "cell_type": "markdown",
      "metadata": {
        "id": "mNWEXOQZaabg",
        "colab_type": "text"
      },
      "source": [
        "##Create substitution cipher"
      ]
    },
    {
      "cell_type": "code",
      "metadata": {
        "id": "WMVN4RM4Z_H_",
        "colab_type": "code",
        "colab": {}
      },
      "source": [
        "# one will act as the key, other as the value\n",
        "letters1 = list(string.ascii_lowercase)\n",
        "letters2 = list(string.ascii_lowercase)\n",
        "\n",
        "true_mapping = {}\n",
        "\n",
        "# shuffle second set of letters\n",
        "random.shuffle(letters2)\n",
        "\n",
        "# populate map\n",
        "for k, v in zip(letters1, letters2):\n",
        "  true_mapping[k] = v"
      ],
      "execution_count": 0,
      "outputs": []
    },
    {
      "cell_type": "markdown",
      "metadata": {
        "id": "05nEjuiVfnxo",
        "colab_type": "text"
      },
      "source": [
        "##The Language Model"
      ]
    },
    {
      "cell_type": "code",
      "metadata": {
        "id": "yds6XqO7Z_tE",
        "colab_type": "code",
        "colab": {}
      },
      "source": [
        "### the language model\n",
        "\n",
        "# initialize the Markov matrix to store bi-gram probabilities\n",
        "# Theya re initialized to ones (not zeros) due to add one smoothing\n",
        "M = np.ones((26, 26))\n",
        "\n",
        "# initial state distribution to store uni-gram probabilities\n",
        "pi = np.zeros(26)\n",
        "\n",
        "'''\n",
        "a function to update the Markov matrix, M\n",
        "it takes two arguments, ch1 --> represents the starting character, ch2 --> represents the ending character\n",
        "In order to index a matrix we must use integers, func ord() is used here. \n",
        "'''\n",
        "def update_transition(ch1, ch2):\n",
        "  # ord('a') = 97, ord('b') = 98, ...\n",
        "  i = ord(ch1) - 97\n",
        "  j = ord(ch2) - 97\n",
        "  M[i,j] += 1\n",
        "\n",
        "# a function to update the initial state distribution\n",
        "# add one smoothing\n",
        "def update_pi(ch):\n",
        "  i = ord(ch) - 97\n",
        "  pi[i] += 1\n",
        "\n",
        "# get the log-probability of a word / token\n",
        "def get_word_prob(word):\n",
        "  # print(\"word:\", word)\n",
        "  i = ord(word[0]) - 97\n",
        "  logp = np.log(pi[i])\n",
        "\n",
        "  for ch in word[1:]:\n",
        "    j = ord(ch) - 97 # i represents the first letter, j represents the letter next to it\n",
        "    logp += np.log(M[i, j]) # update prob\n",
        "    i = j # update j\n",
        "\n",
        "  return logp\n",
        "\n",
        "# get the probability of a sequence of words\n",
        "def get_sequence_prob(words):\n",
        "  # if input is a string, split into an array of tokens\n",
        "  if type(words) == str:\n",
        "    words = words.split()\n",
        "\n",
        "  logp = 0\n",
        "  for word in words:\n",
        "    logp += get_word_prob(word)\n",
        "  return logp"
      ],
      "execution_count": 0,
      "outputs": []
    },
    {
      "cell_type": "code",
      "metadata": {
        "id": "CRVCXk1cZ_wV",
        "colab_type": "code",
        "colab": {}
      },
      "source": [
        "#Create the markov model based on an English Text from Mobi Dick\n",
        "#Original source: https://www.gutenberg.org/ebooks/2701\n",
        "#Edited source used in this program: https://lazyprogrammer.me/course_files/moby_dick.txt')\n",
        "\n",
        "#download file\n",
        "if not os.path.exists('moby_dick.txt'):\n",
        "  print(\"Downloading moby dick...\")\n",
        "  r = requests.get('https://lazyprogrammer.me/course_files/moby_dick.txt')\n",
        "  with open('moby_dick.txt', 'w') as f:\n",
        "    f.write(r.content.decode())"
      ],
      "execution_count": 0,
      "outputs": []
    },
    {
      "cell_type": "code",
      "metadata": {
        "id": "qNUp5Gj6Z_x9",
        "colab_type": "code",
        "colab": {}
      },
      "source": [
        "# for replacing non-alpha characters\n",
        "regex = re.compile('[^a-zA-Z]')\n",
        "\n",
        "# load in words\n",
        "for line in open('moby_dick.txt'):\n",
        "  line = line.rstrip()\n",
        "\n",
        "  # there are blank lines in the file\n",
        "  if line:\n",
        "    line = regex.sub(' ', line) # replace all non-alpha characters with space\n",
        "\n",
        "    # split the tokens in the line and lowercase\n",
        "    tokens = line.lower().split()\n",
        "\n",
        "    for token in tokens:\n",
        "      # update the model\n",
        "\n",
        "      # first letter\n",
        "      ch0 = token[0]\n",
        "      update_pi(ch0)\n",
        "\n",
        "      # other letters\n",
        "      for ch1 in token[1:]:\n",
        "        update_transition(ch0, ch1)\n",
        "        ch0 = ch1\n",
        "\n",
        "# normalize the probabilities\n",
        "pi /= pi.sum()\n",
        "M /= M.sum(axis=1, keepdims=True)"
      ],
      "execution_count": 0,
      "outputs": []
    },
    {
      "cell_type": "code",
      "metadata": {
        "id": "CaJRUprhZ_13",
        "colab_type": "code",
        "colab": {}
      },
      "source": [
        "### encode a message\n",
        "\n",
        "# this is a random excerpt from Project Gutenberg's\n",
        "# The Adventures of Sherlock Holmes, by Arthur Conan Doyle\n",
        "# https://www.gutenberg.org/ebooks/1661\n",
        "\n",
        "original_message = '''I then lounged down the street and found,\n",
        "as I expected, that there was a mews in a lane which runs down\n",
        "by one wall of the garden. I lent the ostlers a hand in rubbing\n",
        "down their horses, and received in exchange twopence, a glass of\n",
        "half-and-half, two fills of shag tobacco, and as much information\n",
        "as I could desire about Miss Adler, to say nothing of half a dozen\n",
        "other people in the neighbourhood in whom I was not in the least\n",
        "interested, but whose biographies I was compelled to listen to.\n",
        "'''\n",
        "\n",
        "# Away they went, and I was just wondering whether I should not do well\n",
        "# to follow them when up the lane came a neat little landau, the coachman\n",
        "# with his coat only half-buttoned, and his tie under his ear, while all\n",
        "# the tags of his harness were sticking out of the buckles. It hadn't\n",
        "# pulled up before she shot out of the hall door and into it. I only\n",
        "# caught a glimpse of her at the moment, but she was a lovely woman, with\n",
        "# a face that a man might die for.\n",
        "\n",
        "# My cabby drove fast. I don't think I ever drove faster, but the others\n",
        "# were there before us. The cab and the landau with their steaming horses\n",
        "# were in front of the door when I arrived. I paid the man and hurried\n",
        "# into the church. There was not a soul there save the two whom I had\n",
        "# followed and a surpliced clergyman, who seemed to be expostulating with\n",
        "# them. They were all three standing in a knot in front of the altar. I\n",
        "# lounged up the side aisle like any other idler who has dropped into a\n",
        "# church. Suddenly, to my surprise, the three at the altar faced round to\n",
        "# me, and Godfrey Norton came running as hard as he could towards me."
      ],
      "execution_count": 0,
      "outputs": []
    },
    {
      "cell_type": "code",
      "metadata": {
        "id": "YV1EC1LNZ_5u",
        "colab_type": "code",
        "colab": {}
      },
      "source": [
        "# a function to encode a message\n",
        "def encode_message(msg):\n",
        "  # downcase\n",
        "  msg = msg.lower()\n",
        "\n",
        "  # replace non-alpha characters\n",
        "  msg = regex.sub(' ', msg)\n",
        "\n",
        "  # make the encoded message\n",
        "  coded_msg = []\n",
        "  for ch in msg:\n",
        "    coded_ch = ch # could just be a space\n",
        "    if ch in true_mapping:\n",
        "      coded_ch = true_mapping[ch]\n",
        "    coded_msg.append(coded_ch)\n",
        "\n",
        "  return ''.join(coded_msg)\n",
        "\n",
        "\n",
        "encoded_message = encode_message(original_message)\n",
        "\n",
        "\n",
        "# a function to decode a message\n",
        "def decode_message(msg, word_map):\n",
        "  decoded_msg = []\n",
        "  for ch in msg:\n",
        "    decoded_ch = ch # could just be a space\n",
        "    if ch in word_map:\n",
        "      decoded_ch = word_map[ch]\n",
        "    decoded_msg.append(decoded_ch)\n",
        "\n",
        "  return ''.join(decoded_msg)"
      ],
      "execution_count": 0,
      "outputs": []
    },
    {
      "cell_type": "markdown",
      "metadata": {
        "id": "U8bRMwJRVq6I",
        "colab_type": "text"
      },
      "source": [
        "##Evolutionary algorithm to decode the message"
      ]
    },
    {
      "cell_type": "code",
      "metadata": {
        "id": "awwEwkm1Z__t",
        "colab_type": "code",
        "colab": {}
      },
      "source": [
        "#this is our initialization point\n",
        "dna_pool = []\n",
        "for _ in range(20):\n",
        "    dna = list(string.ascii_lowercase)\n",
        "    random.shuffle(dna)\n",
        "    dna_pool.append(dna)"
      ],
      "execution_count": 0,
      "outputs": []
    },
    {
      "cell_type": "code",
      "metadata": {
        "id": "9gOcOboBaACs",
        "colab_type": "code",
        "colab": {}
      },
      "source": [
        "def evolve_offspring(dna_pool, n_children):\n",
        "    #make n_children per offspring \n",
        "    offspring = []\n",
        "\n",
        "    for dna in dna_pool:\n",
        "        for _ in range(n_children):\n",
        "            copy = dna.copy()\n",
        "            j = np.random.randint(len(copy))\n",
        "            k = np.random.randint(len(copy))\n",
        "\n",
        "            #switch DNA pattern\n",
        "            tmp = copy[j]\n",
        "            copy[j] = copy[k]\n",
        "            copy[k] = tmp\n",
        "            offspring.append(copy)\n",
        "\n",
        "    return offspring + dna_pool"
      ],
      "execution_count": 0,
      "outputs": []
    },
    {
      "cell_type": "code",
      "metadata": {
        "id": "x9tn9HilaAG2",
        "colab_type": "code",
        "colab": {
          "base_uri": "https://localhost:8080/",
          "height": 187
        },
        "outputId": "7fe9d117-4935-46b0-9306-239e0dcbf73f"
      },
      "source": [
        "#Main Loop \n",
        "\n",
        "num_iters = 2000\n",
        "scores = np.zeros(num_iters)\n",
        "best_dna = None\n",
        "best_map = None\n",
        "best_score = float('-inf')\n",
        "for i in range(num_iters):\n",
        "    if i > 0:\n",
        "        #get offspring from the current dna pool\n",
        "        dna_pool = evolve_offspring(dna_pool, 3)\n",
        "\n",
        "    #calculate score for each dna\n",
        "    dna2score = {}\n",
        "    for dna in dna_pool:\n",
        "        #populate map\n",
        "        current_map = {}\n",
        "        for k, v in zip(letters1, dna):\n",
        "            current_map[k] = v\n",
        "        \n",
        "        decoded_message = decode_message(encoded_message, current_map)\n",
        "        score = get_sequence_prob(decoded_message)\n",
        "\n",
        "        #store the dna,score\n",
        "        dna2score[''.join(dna)] = score\n",
        "\n",
        "        #record the best so far\n",
        "        if score > best_score:\n",
        "            best_dna = dna\n",
        "            best_map = current_map\n",
        "            best_score = score\n",
        "    \n",
        "    #average score for this generation\n",
        "    scores[i] = np.mean(list(dna2score.values()))\n",
        "\n",
        "    # keep the best 5 dna\n",
        "    # return back into a single list of chars\n",
        "    sorted_dna = sorted(dna2score.items(), key=lambda x: x[1], reverse=True)\n",
        "    dna_pool = [list(k) for k, v in sorted_dna[:5]]\n",
        "\n",
        "    if i%200 == 0:\n",
        "        print(f\"Iter: {i}, Scores: {scores[i]}, best score so far: {best_score}\")\n"
      ],
      "execution_count": 113,
      "outputs": [
        {
          "output_type": "stream",
          "text": [
            "Iter: 0, Scores: -2107.7319759076327, best score so far: -1887.981224804608\n",
            "Iter: 200, Scores: -1083.129471990629, best score so far: -1012.940345263356\n",
            "Iter: 400, Scores: -1002.8001995576822, best score so far: -929.9491082513806\n",
            "Iter: 600, Scores: -1015.9696805444534, best score so far: -929.5902922650557\n",
            "Iter: 800, Scores: -1034.5648985301323, best score so far: -929.5902922650557\n",
            "Iter: 1000, Scores: -1064.8176297495697, best score so far: -929.5902922650557\n",
            "Iter: 1200, Scores: -1025.4916598390237, best score so far: -929.5902922650557\n",
            "Iter: 1400, Scores: -994.6443848624751, best score so far: -929.5902922650557\n",
            "Iter: 1600, Scores: -1054.9560847184039, best score so far: -929.5902922650557\n",
            "Iter: 1800, Scores: -1035.7040613410309, best score so far: -929.5902922650557\n"
          ],
          "name": "stdout"
        }
      ]
    },
    {
      "cell_type": "code",
      "metadata": {
        "id": "qMoPVfWaaAMD",
        "colab_type": "code",
        "colab": {
          "base_uri": "https://localhost:8080/",
          "height": 85
        },
        "outputId": "5bce2ae0-e282-49ce-e781-23905098853a"
      },
      "source": [
        "# use the best score\n",
        "decoded_message = decode_message(encoded_message, best_map)\n",
        "\n",
        "print('Log-Likelihood of decoded message:', get_sequence_prob(decoded_message))\n",
        "print('Log-Likelihood of true message:', get_sequence_prob(regex.sub(' ', original_message.lower())))\n",
        "\n",
        "#identify wrong letters\n",
        "for true, v in true_mapping.items():\n",
        "    pred = best_map[v]\n",
        "    if true != pred:\n",
        "        print('true: %s, pred: %s' %(true, pred))"
      ],
      "execution_count": 114,
      "outputs": [
        {
          "output_type": "stream",
          "text": [
            "Log-Likelihood of decoded message: -929.5902922650557\n",
            "Log-Likelihood of true message: -933.0312453751817\n",
            "true: k, pred: z\n",
            "true: z, pred: k\n"
          ],
          "name": "stdout"
        }
      ]
    },
    {
      "cell_type": "code",
      "metadata": {
        "id": "t-BNF73OaAJ4",
        "colab_type": "code",
        "colab": {
          "base_uri": "https://localhost:8080/",
          "height": 357
        },
        "outputId": "8926999f-cab0-4937-c01f-66694957860d"
      },
      "source": [
        "# print the final decoded message\n",
        "print(\"Decoded message:\\n\", textwrap.fill(decoded_message))\n",
        "\n",
        "print(\"\\nTrue message:\\n\", original_message)"
      ],
      "execution_count": 115,
      "outputs": [
        {
          "output_type": "stream",
          "text": [
            "Decoded message:\n",
            " i then lounged down the street and found  as i expected  that there\n",
            "was a mews in a lane which runs down by one wall of the garden  i lent\n",
            "the ostlers a hand in rubbing down their horses  and received in\n",
            "exchange twopence  a glass of half and half  two fills of shag tobacco\n",
            "and as much information as i could desire about miss adler  to say\n",
            "nothing of half a doken other people in the neighbourhood in whom i\n",
            "was not in the least interested  but whose biographies i was compelled\n",
            "to listen to\n",
            "\n",
            "True message:\n",
            " I then lounged down the street and found,\n",
            "as I expected, that there was a mews in a lane which runs down\n",
            "by one wall of the garden. I lent the ostlers a hand in rubbing\n",
            "down their horses, and received in exchange twopence, a glass of\n",
            "half-and-half, two fills of shag tobacco, and as much information\n",
            "as I could desire about Miss Adler, to say nothing of half a dozen\n",
            "other people in the neighbourhood in whom I was not in the least\n",
            "interested, but whose biographies I was compelled to listen to.\n",
            "\n"
          ],
          "name": "stdout"
        }
      ]
    },
    {
      "cell_type": "code",
      "metadata": {
        "id": "H7WI4UhoaAE_",
        "colab_type": "code",
        "colab": {
          "base_uri": "https://localhost:8080/",
          "height": 265
        },
        "outputId": "64ad9735-ad5d-432a-d3fe-a0841094562c"
      },
      "source": [
        "plt.plot(scores)\n",
        "plt.show()"
      ],
      "execution_count": 116,
      "outputs": [
        {
          "output_type": "display_data",
          "data": {
            "image/png": "[encoded data removed]",
            "text/plain": [
              "<Figure size 432x288 with 1 Axes>"
            ]
          },
          "metadata": {
            "tags": []
          }
        }
      ]
    },
    {
      "cell_type": "markdown",
      "metadata": {
        "id": "9PUmUrVHdRBj",
        "colab_type": "text"
      },
      "source": [
        "##### **Observations:** \n",
        "###### We got the mapping of 'z'  wrong, it predicts 'k' instead of 'z' and vice-versa.\n",
        "###### So in the message the word 'dozen' was predicted as 'doken' \n",
        "The reason for this is that the bi-grams 'oz' and 'ze' are probably very rare bi-grams, so their probabilities are also very small leading to smaller log-likelihood.\n",
        "###### On other hand bi-grams 'ok' and 'ke' are probably not as rare as 'oz' , 'ze' simply because K is more common than Z. So 'ok' and 'ke' lead to higher log-likelihood. Thus under our model assumptions using K makes more sense. So the genetic algorithm is working as intended, finding the maximum likelihood.\n",
        "\n",
        "###### In this case the model is at fault. Markov assumptions/bi-grams are too restrictive. But still these are common in NLP  and a very good first approach. "
      ]
    },
    {
      "cell_type": "code",
      "metadata": {
        "id": "LX-IsItdaABS",
        "colab_type": "code",
        "colab": {}
      },
      "source": [
        " "
      ],
      "execution_count": 0,
      "outputs": []
    },
    {
      "cell_type": "code",
      "metadata": {
        "id": "VL0_WH2yZ_91",
        "colab_type": "code",
        "colab": {}
      },
      "source": [
        ""
      ],
      "execution_count": 0,
      "outputs": []
    },
    {
      "cell_type": "code",
      "metadata": {
        "id": "4PIzzPdXZ_8O",
        "colab_type": "code",
        "colab": {}
      },
      "source": [
        ""
      ],
      "execution_count": 0,
      "outputs": []
    },
    {
      "cell_type": "code",
      "metadata": {
        "id": "RxKBolyFZ_33",
        "colab_type": "code",
        "colab": {}
      },
      "source": [
        ""
      ],
      "execution_count": 0,
      "outputs": []
    },
    {
      "cell_type": "code",
      "metadata": {
        "id": "_fmVTusgZ_0P",
        "colab_type": "code",
        "colab": {}
      },
      "source": [
        ""
      ],
      "execution_count": 0,
      "outputs": []
    }
  ]
}