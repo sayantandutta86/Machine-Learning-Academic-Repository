{
  "nbformat": 4,
  "nbformat_minor": 0,
  "metadata": {
    "colab": {
      "name": "word_analogies_using_pretrained_word2vec.ipynb",
      "provenance": [],
      "collapsed_sections": []
    },
    "kernelspec": {
      "name": "python3",
      "display_name": "Python 3"
    }
  },
  "cells": [
    {
      "cell_type": "code",
      "metadata": {
        "id": "PxWVo67u3U8Y",
        "colab_type": "code",
        "colab": {}
      },
      "source": [
        "import os; os.chdir('/content/drive/My Drive/Colab Notebooks/Lazy courses/NLP2/pretrained_data')"
      ],
      "execution_count": 0,
      "outputs": []
    },
    {
      "cell_type": "code",
      "metadata": {
        "id": "vkMCKMVi32dl",
        "colab_type": "code",
        "colab": {}
      },
      "source": [
        "# https://code.google.com/archive/p/word2vec/\n",
        "# direct link: https://drive.google.com/file/d/0B7XkCwpI5KDYNlNUTTlSS21pQmM/edit?usp=sharing\n",
        "# 3 million words and phrases\n",
        "# D = 300"
      ],
      "execution_count": 0,
      "outputs": []
    },
    {
      "cell_type": "code",
      "metadata": {
        "id": "f1xXQYVx38dG",
        "colab_type": "code",
        "colab": {}
      },
      "source": [
        "import gzip\n",
        "from gensim.models import KeyedVectors"
      ],
      "execution_count": 0,
      "outputs": []
    },
    {
      "cell_type": "code",
      "metadata": {
        "id": "JT7kxx8UZfcZ",
        "colab_type": "code",
        "colab": {}
      },
      "source": [
        "#decompress- Gzip compression\n",
        "# f = gzip.open('GoogleNews-vectors-negative300.bin.gz', 'rb')\n",
        "# file_content = f.read()\n",
        "# file_content.write(data.bin)"
      ],
      "execution_count": 0,
      "outputs": []
    },
    {
      "cell_type": "code",
      "metadata": {
        "id": "78u6Qfca38fh",
        "colab_type": "code",
        "colab": {
          "base_uri": "https://localhost:8080/",
          "height": 71
        },
        "outputId": "178e0f94-2fa5-476c-fd88-ae50d5602119"
      },
      "source": [
        "word_vectors = KeyedVectors.load_word2vec_format('GoogleNews-vectors-negative300.bin', binary=True)"
      ],
      "execution_count": 5,
      "outputs": [
        {
          "output_type": "stream",
          "text": [
            "/usr/local/lib/python3.6/dist-packages/smart_open/smart_open_lib.py:253: UserWarning: This function is deprecated, use smart_open.open instead. See the migration notes for details: https://github.com/RaRe-Technologies/smart_open/blob/master/README.rst#migrating-to-the-new-open-function\n",
            "  'See the migration notes for details: %s' % _MIGRATION_NOTES_URL\n"
          ],
          "name": "stderr"
        }
      ]
    },
    {
      "cell_type": "code",
      "metadata": {
        "id": "JpdRx16a38kL",
        "colab_type": "code",
        "colab": {}
      },
      "source": [
        "def find_analogies(w1, w2, w3):\n",
        "    r = word_vectors.most_similar(positive=[w1, w3], negative=[w2])\n",
        "    print(f\"{w1} - {w2} = {r[0][0]}, {w3}\")"
      ],
      "execution_count": 0,
      "outputs": []
    },
    {
      "cell_type": "code",
      "metadata": {
        "id": "Jj05RMVN38mD",
        "colab_type": "code",
        "colab": {}
      },
      "source": [
        "def nearest_neighbors(w):\n",
        "    r = word_vectors.most_similar(positive=[w])\n",
        "    print(f\"Neighbors of {w}\")\n",
        "    for word, score in r:\n",
        "        print(f\"\\t {word}\")"
      ],
      "execution_count": 0,
      "outputs": []
    },
    {
      "cell_type": "code",
      "metadata": {
        "id": "fKx_BsjO38qL",
        "colab_type": "code",
        "outputId": "0aa37cae-96b4-4a1d-c935-c7f620eb995f",
        "colab": {
          "base_uri": "https://localhost:8080/",
          "height": 1000
        }
      },
      "source": [
        "find_analogies('king', 'man', 'woman')\n",
        "find_analogies('france', 'paris', 'london')\n",
        "find_analogies('france', 'paris', 'rome')\n",
        "find_analogies('paris', 'france', 'italy')\n",
        "find_analogies('france', 'french', 'english')\n",
        "find_analogies('japan', 'japanese', 'chinese')\n",
        "find_analogies('japan', 'japanese', 'italian')\n",
        "find_analogies('japan', 'japanese', 'australian')\n",
        "find_analogies('december', 'november', 'june')\n",
        "find_analogies('miami', 'florida', 'texas')\n",
        "find_analogies('einstein', 'scientist', 'painter')\n",
        "find_analogies('china', 'rice', 'bread')\n",
        "find_analogies('man', 'woman', 'she')\n",
        "find_analogies('man', 'woman', 'aunt')\n",
        "find_analogies('man', 'woman', 'sister')\n",
        "find_analogies('man', 'woman', 'wife')\n",
        "find_analogies('man', 'woman', 'actress')\n",
        "find_analogies('man', 'woman', 'mother')\n",
        "find_analogies('heir', 'heiress', 'princess')\n",
        "find_analogies('nephew', 'niece', 'aunt')\n",
        "find_analogies('france', 'paris', 'tokyo')\n",
        "find_analogies('france', 'paris', 'beijing')\n",
        "find_analogies('february', 'january', 'november')\n",
        "find_analogies('france', 'paris', 'rome')\n",
        "find_analogies('paris', 'france', 'italy')\n",
        "\n",
        "nearest_neighbors('king')\n",
        "nearest_neighbors('france')\n",
        "nearest_neighbors('japan')\n",
        "nearest_neighbors('einstein')\n",
        "nearest_neighbors('woman')\n",
        "nearest_neighbors('nephew')\n",
        "nearest_neighbors('february')\n",
        "nearest_neighbors('rome')"
      ],
      "execution_count": 8,
      "outputs": [
        {
          "output_type": "stream",
          "text": [
            "/usr/local/lib/python3.6/dist-packages/gensim/matutils.py:737: FutureWarning: Conversion of the second argument of issubdtype from `int` to `np.signedinteger` is deprecated. In future, it will be treated as `np.int64 == np.dtype(int).type`.\n",
            "  if np.issubdtype(vec.dtype, np.int):\n"
          ],
          "name": "stderr"
        },
        {
          "output_type": "stream",
          "text": [
            "king - man = queen, woman\n",
            "france - paris = england, london\n",
            "france - paris = italy, rome\n",
            "paris - france = lohan, italy\n",
            "france - french = england, english\n",
            "japan - japanese = tibet, chinese\n",
            "japan - japanese = italy, italian\n",
            "japan - japanese = queensland, australian\n",
            "december - november = september, june\n",
            "miami - florida = dallas, texas\n",
            "einstein - scientist = jude, painter\n",
            "china - rice = dinnerware, bread\n",
            "man - woman = he, she\n",
            "man - woman = uncle, aunt\n",
            "man - woman = brother, sister\n",
            "man - woman = son, wife\n",
            "man - woman = actor, actress\n",
            "man - woman = father, mother\n",
            "heir - heiress = prince, princess\n",
            "nephew - niece = uncle, aunt\n",
            "france - paris = japan, tokyo\n",
            "france - paris = chinese, beijing\n",
            "february - january = april, november\n",
            "france - paris = italy, rome\n",
            "paris - france = lohan, italy\n",
            "Neighbors of king\n",
            "\t kings\n",
            "\t queen\n",
            "\t monarch\n",
            "\t crown_prince\n",
            "\t prince\n",
            "\t sultan\n",
            "\t ruler\n",
            "\t princes\n",
            "\t Prince_Paras\n",
            "\t throne\n",
            "Neighbors of france\n",
            "\t spain\n",
            "\t french\n",
            "\t germany\n",
            "\t europe\n",
            "\t italy\n",
            "\t england\n",
            "\t european\n",
            "\t belgium\n",
            "\t usa\n",
            "\t serbia\n",
            "Neighbors of japan\n",
            "\t japanese\n",
            "\t tokyo\n",
            "\t america\n",
            "\t europe\n",
            "\t germany\n",
            "\t chinese\n",
            "\t india\n",
            "\t hawaii\n",
            "\t usa\n",
            "\t korea\n",
            "Neighbors of einstein\n",
            "\t nikki\n",
            "\t lmfao\n",
            "\t albert\n",
            "\t armstrong\n",
            "\t joan\n",
            "\t becky\n",
            "\t mcmahon\n",
            "\t conrad\n",
            "\t lori\n",
            "\t haley\n",
            "Neighbors of woman\n",
            "\t man\n",
            "\t girl\n",
            "\t teenage_girl\n",
            "\t teenager\n",
            "\t lady\n",
            "\t teenaged_girl\n",
            "\t mother\n",
            "\t policewoman\n",
            "\t boy\n",
            "\t Woman\n",
            "Neighbors of nephew\n",
            "\t son\n",
            "\t uncle\n",
            "\t brother\n",
            "\t grandson\n",
            "\t cousin\n",
            "\t father\n",
            "\t niece\n",
            "\t younger_brother\n",
            "\t nephews\n",
            "\t stepson\n",
            "Neighbors of february\n",
            "\t january\n",
            "\t april\n",
            "\t september\n",
            "\t december\n",
            "\t july\n",
            "\t october\n",
            "\t november\n",
            "\t june\n",
            "\t feb\n",
            "\t norway\n",
            "Neighbors of rome\n",
            "\t athens\n",
            "\t albert\n",
            "\t holmes\n",
            "\t donnie\n",
            "\t italy\n",
            "\t toni\n",
            "\t spain\n",
            "\t jh\n",
            "\t pablo\n",
            "\t malta\n"
          ],
          "name": "stdout"
        }
      ]
    },
    {
      "cell_type": "code",
      "metadata": {
        "id": "_4ffy3-638uO",
        "colab_type": "code",
        "colab": {}
      },
      "source": [
        ""
      ],
      "execution_count": 0,
      "outputs": []
    },
    {
      "cell_type": "code",
      "metadata": {
        "id": "GIcX3ebv380X",
        "colab_type": "code",
        "colab": {}
      },
      "source": [
        ""
      ],
      "execution_count": 0,
      "outputs": []
    },
    {
      "cell_type": "code",
      "metadata": {
        "id": "hpZ86YHT384h",
        "colab_type": "code",
        "colab": {}
      },
      "source": [
        ""
      ],
      "execution_count": 0,
      "outputs": []
    },
    {
      "cell_type": "code",
      "metadata": {
        "id": "GO4nyklm3861",
        "colab_type": "code",
        "colab": {}
      },
      "source": [
        ""
      ],
      "execution_count": 0,
      "outputs": []
    },
    {
      "cell_type": "code",
      "metadata": {
        "id": "kX07zOqP38yl",
        "colab_type": "code",
        "colab": {}
      },
      "source": [
        ""
      ],
      "execution_count": 0,
      "outputs": []
    },
    {
      "cell_type": "code",
      "metadata": {
        "id": "U5no1S7G38xD",
        "colab_type": "code",
        "colab": {}
      },
      "source": [
        ""
      ],
      "execution_count": 0,
      "outputs": []
    },
    {
      "cell_type": "code",
      "metadata": {
        "id": "fIICotQ-38sU",
        "colab_type": "code",
        "colab": {}
      },
      "source": [
        ""
      ],
      "execution_count": 0,
      "outputs": []
    },
    {
      "cell_type": "code",
      "metadata": {
        "id": "2lTyh-f338on",
        "colab_type": "code",
        "colab": {}
      },
      "source": [
        ""
      ],
      "execution_count": 0,
      "outputs": []
    },
    {
      "cell_type": "code",
      "metadata": {
        "id": "LWJk1K6S38h4",
        "colab_type": "code",
        "colab": {}
      },
      "source": [
        ""
      ],
      "execution_count": 0,
      "outputs": []
    }
  ]
}