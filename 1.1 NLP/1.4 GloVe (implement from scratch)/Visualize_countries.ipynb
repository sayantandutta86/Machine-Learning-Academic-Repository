{
  "nbformat": 4,
  "nbformat_minor": 0,
  "metadata": {
    "colab": {
      "name": "Visualize_countries.ipynb",
      "provenance": [],
      "collapsed_sections": []
    },
    "kernelspec": {
      "name": "python3",
      "display_name": "Python 3"
    }
  },
  "cells": [
    {
      "cell_type": "code",
      "metadata": {
        "id": "ruQl8IZUOQ_d",
        "colab_type": "code",
        "colab": {}
      },
      "source": [
        "    import os;os.chdir('/content/drive/My Drive/Colab Notebooks/Lazy courses/NLP2')"
      ],
      "execution_count": 0,
      "outputs": []
    },
    {
      "cell_type": "code",
      "metadata": {
        "id": "nhAOHycmTsek",
        "colab_type": "code",
        "colab": {}
      },
      "source": [
        "import json\n",
        "import numpy as np\n",
        "import matplotlib.pyplot as plt\n",
        "from sklearn.manifold import TSNE "
      ],
      "execution_count": 0,
      "outputs": []
    },
    {
      "cell_type": "code",
      "metadata": {
        "id": "iORMba7ATsjX",
        "colab_type": "code",
        "colab": {}
      },
      "source": [
        "def main(we_file = 'glove_model_50.npz', w2i_file = 'glove_word2idx_50.json'):\n",
        "    words = ['japan', 'japanese', 'england', 'english', 'australia', 'australian', 'china', 'chinese', 'italy', 'italian', 'french', 'france', 'spain', 'spanish']\n",
        "\n",
        "    with open(w2i_file) as f:\n",
        "        word2idx = json.load(f)\n",
        "\n",
        "    npz = np.load(we_file)\n",
        "    W = npz['arr_0']\n",
        "    V = npz['arr_1']\n",
        "    We = (W + V.T) / 2\n",
        "\n",
        "    idx = [word2idx[w] for w in words]\n",
        "    #We = We[idx]\n",
        "\n",
        "    tsne = TSNE()\n",
        "    Z = tsne.fit_transform(We)\n",
        "    Z = Z[idx]\n",
        "    plt.scatter(Z[:,0], Z[:,1])\n",
        "    for i in range(len(words)):\n",
        "        plt.annotate(s=words[i], xy=(Z[i,0], Z[i,1]))\n",
        "    plt.show()"
      ],
      "execution_count": 0,
      "outputs": []
    },
    {
      "cell_type": "code",
      "metadata": {
        "id": "7JdXW25sTsub",
        "colab_type": "code",
        "colab": {
          "base_uri": "https://localhost:8080/",
          "height": 265
        },
        "outputId": "6746f9e8-a415-4423-aee6-930e44593867"
      },
      "source": [
        "if __name__ == '__main__':\n",
        "    main()"
      ],
      "execution_count": 8,
      "outputs": [
        {
          "output_type": "display_data",
          "data": {
            "image/png": "[encoded data removed]",
            "text/plain": [
              "<Figure size 432x288 with 1 Axes>"
            ]
          },
          "metadata": {
            "tags": [],
            "needs_background": "light"
          }
        }
      ]
    },
    {
      "cell_type": "code",
      "metadata": {
        "id": "LBCNLt2OTsrn",
        "colab_type": "code",
        "colab": {}
      },
      "source": [
        ""
      ],
      "execution_count": 0,
      "outputs": []
    },
    {
      "cell_type": "code",
      "metadata": {
        "id": "CT7G3L9OTspg",
        "colab_type": "code",
        "colab": {}
      },
      "source": [
        ""
      ],
      "execution_count": 0,
      "outputs": []
    },
    {
      "cell_type": "code",
      "metadata": {
        "id": "u5r4PvHyTsm4",
        "colab_type": "code",
        "colab": {}
      },
      "source": [
        ""
      ],
      "execution_count": 0,
      "outputs": []
    }
  ]
}