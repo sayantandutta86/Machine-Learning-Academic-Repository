{
  "nbformat": 4,
  "nbformat_minor": 0,
  "metadata": {
    "colab": {
      "name": "sgd.ipynb",
      "provenance": [],
      "collapsed_sections": []
    },
    "kernelspec": {
      "name": "python3",
      "display_name": "Python 3"
    },
    "accelerator": "GPU"
  },
  "cells": [
    {
      "cell_type": "code",
      "metadata": {
        "id": "Or9-IWBGw8Gi",
        "colab_type": "code",
        "colab": {
          "base_uri": "https://localhost:8080/",
          "height": 54
        },
        "outputId": "4b01005c-8105-44b2-a763-ba3f78be63c3"
      },
      "source": [
        "'''\n",
        "We will compare the progression of cost function vs iteration for the below 3 cases:\n",
        "1) full gradient descent\n",
        "2) batch gradient descent\n",
        "3) stochastic gradient descent\n",
        "\n",
        "We will use the PCA- transformed data to keep the dimensionality to D=300\n",
        "We will experiment with how each type of GD can converge and the cost-iteration plot \n",
        "'''"
      ],
      "execution_count": 1,
      "outputs": [
        {
          "output_type": "execute_result",
          "data": {
            "text/plain": [
              "'\\nWe will compare the progression of cost function vs iteration for the below 3 cases:\\n1) full gradient descent\\n2) batch gradient descent\\n3) stochastic gradient descent\\n\\nWe will use the PCA- transformed data to keep the dimensionality to D=300\\nWe will experiment with how each type of GD can converge and the cost-iteration plot \\n'"
            ]
          },
          "metadata": {
            "tags": []
          },
          "execution_count": 1
        }
      ]
    },
    {
      "cell_type": "code",
      "metadata": {
        "id": "nP0bDNgdzuLs",
        "colab_type": "code",
        "colab": {}
      },
      "source": [
        "import os\n",
        "os.chdir('/content/drive/My Drive/Colab Notebooks/Lazy courses/DS:Deep Learning in Python/Digit Recognizer')"
      ],
      "execution_count": 0,
      "outputs": []
    },
    {
      "cell_type": "code",
      "metadata": {
        "id": "V2TFhqtOzFXf",
        "colab_type": "code",
        "colab": {}
      },
      "source": [
        "from __future__ import print_function, division\n",
        "from builtins import range\n",
        "import numpy as np\n",
        "import pandas as pd\n",
        "import matplotlib.pyplot as plt\n",
        "from sklearn.utils import shuffle\n",
        "from datetime import datetime\n",
        "\n",
        "from util import get_transformed_data, forward, error_rate, cost, gradW, gradb, y2indicator"
      ],
      "execution_count": 0,
      "outputs": []
    },
    {
      "cell_type": "code",
      "metadata": {
        "id": "Brxt9MBqzFZ9",
        "colab_type": "code",
        "colab": {
          "base_uri": "https://localhost:8080/",
          "height": 1000
        },
        "outputId": "c6c88872-0e7c-416d-8480-b6ee9b7e362f"
      },
      "source": [
        "def main():\n",
        "    Xtrain, Xtest, Ytrain, Ytest = get_transformed_data()\n",
        "    print('Performing logistic regression..')\n",
        "\n",
        "    N, D = Xtrain.shape\n",
        "    Ytrain_ind = y2indicator(Ytrain)\n",
        "    Ytest_ind = y2indicator(Ytest)\n",
        "\n",
        "    # 1.Full gradient descent\n",
        "    W = np.random.randn(D, 10)/np.sqrt(D)\n",
        "    b = np.zeros(10)\n",
        "    LL = []\n",
        "    lr = 0.0001\n",
        "    reg = 0.01\n",
        "    t0 = datetime.now()\n",
        "    for i in range(50):\n",
        "        p_y = forward(Xtrain, W, b)\n",
        "\n",
        "        W += lr*(gradW(Ytrain_ind, p_y, Xtrain) - reg*W)\n",
        "        b += lr*(gradb(Ytrain_ind, p_y) - reg*b)\n",
        "\n",
        "        p_y_test = forward(Xtest, W, b)\n",
        "        ll = cost(p_y_test, Ytest_ind)\n",
        "        LL.append(ll)\n",
        "        if i % 1 == 0:\n",
        "            err = error_rate(p_y_test, Ytest)\n",
        "            if i % 10 ==0:\n",
        "                print(f\"Cost at iteration {i}: {ll:0.6f}\")\n",
        "                print('Error rate:', err)\n",
        "    p_y = forward(Xtest, W, b)\n",
        "    print(f'Final error rate: {error_rate(p_y, Ytest)}')\n",
        "    print(f'Elapsed time for Full GD: {datetime.now() - t0}')\n",
        "\n",
        "    # 2.Stochastic Gradient descent\n",
        "    W = np.random.randn(D, 10) /np.sqrt(D)\n",
        "    b = np.zeros(10)\n",
        "    LL_stochastic = []\n",
        "    lr = 0.0001\n",
        "    reg = 0.01\n",
        "\n",
        "    t0 = datetime.now()\n",
        "    for i in range(50):\n",
        "        tmpX, tmpY = shuffle(Xtrain, Ytrain_ind)\n",
        "        for n in range(min(N, 500)): \n",
        "            x = tmpX[n, :].reshape(1, D)\n",
        "            y = tmpY[n, :].reshape(1,10)\n",
        "            p_y = forward(x, W, b)\n",
        "\n",
        "            W += lr*(gradW(y, p_y, x) - reg*W)\n",
        "            b += lr*(gradb(y, p_y) -  reg*b)\n",
        "\n",
        "            p_y_test = forward(Xtest, W, b)\n",
        "            ll = cost(p_y_test, Ytest_ind)\n",
        "            LL_stochastic.append(ll)\n",
        "\n",
        "        if i%1 == 0:\n",
        "            err = error_rate(p_y_test, Ytest)\n",
        "            if i%10 == 0:\n",
        "                print(f'Cost of iteration {i}: {ll:.6f}')\n",
        "                print(f'Error rate: {err}')\n",
        "\n",
        "    p_y = forward(Xtest, W, b)\n",
        "    print(f'Final error rate: {error_rate(p_y, Ytest)}')\n",
        "    print(f'Time elapsed for SGD: {datetime.now() - t0}')\n",
        "\n",
        "    #3.batch Gradient Descent\n",
        "    W = np.random.randn(D, 10) /np.sqrt(D)\n",
        "    b = np.zeros(10)\n",
        "    LL_batch = []\n",
        "    lr =0.0001\n",
        "    reg = 0.01\n",
        "    batch_sz = 500\n",
        "    n_batches = N //batch_sz\n",
        "\n",
        "    t0 = datetime.now()\n",
        "    for i in range(50):\n",
        "        tmpx, tmpy = shuffle(Xtrain, Ytrain_ind)\n",
        "        for j in range(n_batches):\n",
        "            x = tmpX[j*batch_sz:(j*batch_sz+batch_sz), :]\n",
        "            y = tmpY[j*batch_sz:(j*batch_sz+batch_sz), :]\n",
        "            p_y = forward(x,W,b)\n",
        "\n",
        "            W += lr*(gradW(y, p_y, x) - reg*W)\n",
        "            b += lr*(gradb(y, p_y) - reg*b)\n",
        "\n",
        "            p_y_test = forward(Xtest, W, b)\n",
        "            ll = cost(p_y_test, Ytest_ind)\n",
        "            LL_batch.append(ll)\n",
        "        if i % 1 == 0:\n",
        "            err = error_rate(p_y_test, Ytest)\n",
        "            if i % 10 ==0:\n",
        "                print(f'Cost of iteration {i}: {ll:.6f}')\n",
        "                print(f'Error rate', err)\n",
        "    \n",
        "    p_y = forward(Xtest, W, b)\n",
        "    print(f\"Final error rate: {error_rate(p_y, Ytest)}\")\n",
        "    print(f\"Elapsed time for batch gradient descent: {datetime.now() - t0}\")\n",
        "\n",
        "    x1 = np.linspace(0,1, len(LL))\n",
        "    plt.plot(x1, LL, label='full')\n",
        "    x2 = np.linspace(0,1, len(LL_stochastic))\n",
        "    plt.plot(x2, LL_stochastic, label='LL_stochastic')\n",
        "    x3 = np.linspace(0,1, len(LL_batch))\n",
        "    plt.plot(x3, LL_batch, label='LL_batch')\n",
        "    plt.legend()\n",
        "    plt.show()\n",
        "    \n",
        "\n",
        "if __name__ == '__main__':\n",
        "    main()\n",
        "\n",
        "\n",
        "\n",
        "\n",
        "\n",
        "\n",
        "\n",
        "\n",
        "\n",
        "\n",
        "\n",
        "\n",
        "\n"
      ],
      "execution_count": 22,
      "outputs": [
        {
          "output_type": "stream",
          "text": [
            "Reading in and transforming data\n"
          ],
          "name": "stdout"
        },
        {
          "output_type": "display_data",
          "data": {
            "image/png": "[encoded data removed]",
            "text/plain": [
              "<Figure size 432x288 with 1 Axes>"
            ]
          },
          "metadata": {
            "tags": []
          }
        },
        {
          "output_type": "stream",
          "text": [
            "Performing logistic regression..\n",
            "Cost at iteration 0: 1018.669716\n",
            "Error rate: 0.259\n",
            "Cost at iteration 10: 367.853937\n",
            "Error rate: 0.092\n",
            "Cost at iteration 20: 323.352328\n",
            "Error rate: 0.084\n",
            "Cost at iteration 30: 304.642014\n",
            "Error rate: 0.082\n",
            "Cost at iteration 40: 293.907949\n",
            "Error rate: 0.079\n",
            "Final error rate: 0.077\n",
            "Elapsed time for Full GD: 0:00:05.484104\n",
            "Cost of iteration 0: 2733.445065\n",
            "Error rate: 0.894\n",
            "Cost of iteration 10: 2449.283347\n",
            "Error rate: 0.842\n",
            "Cost of iteration 20: 2195.856118\n",
            "Error rate: 0.765\n",
            "Cost of iteration 30: 1970.792927\n",
            "Error rate: 0.667\n",
            "Cost of iteration 40: 1776.792704\n",
            "Error rate: 0.552\n",
            "Final error rate: 0.468\n",
            "Time elapsed for SGD: 0:00:50.768551\n",
            "Cost of iteration 0: 1191.208056\n",
            "Error rate 0.296\n",
            "Cost of iteration 10: 376.579532\n",
            "Error rate 0.093\n",
            "Cost of iteration 20: 326.186842\n",
            "Error rate 0.082\n",
            "Cost of iteration 30: 305.990373\n",
            "Error rate 0.081\n",
            "Cost of iteration 40: 294.682289\n",
            "Error rate 0.077\n",
            "Final error rate: 0.076\n",
            "Elapsed time for batch gradient descent: 0:00:17.800276\n"
          ],
          "name": "stdout"
        },
        {
          "output_type": "display_data",
          "data": {
            "image/png": "[encoded data removed]",
            "text/plain": [
              "<Figure size 432x288 with 1 Axes>"
            ]
          },
          "metadata": {
            "tags": []
          }
        }
      ]
    },
    {
      "cell_type": "code",
      "metadata": {
        "id": "LAN-qd42zEFg",
        "colab_type": "code",
        "colab": {}
      },
      "source": [
        ""
      ],
      "execution_count": 0,
      "outputs": []
    }
  ]
}