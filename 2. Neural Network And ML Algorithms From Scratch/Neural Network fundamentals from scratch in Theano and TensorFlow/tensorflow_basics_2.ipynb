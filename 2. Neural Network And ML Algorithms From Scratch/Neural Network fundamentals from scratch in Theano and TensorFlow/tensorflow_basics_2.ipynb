{
  "nbformat": 4,
  "nbformat_minor": 0,
  "metadata": {
    "colab": {
      "name": "tensorflow_basics-2.ipynb",
      "provenance": [],
      "collapsed_sections": []
    },
    "kernelspec": {
      "name": "python3",
      "display_name": "Python 3"
    },
    "accelerator": "GPU"
  },
  "cells": [
    {
      "cell_type": "code",
      "metadata": {
        "id": "37CJc7riXeOM",
        "colab_type": "code",
        "colab": {}
      },
      "source": [
        "import os\n",
        "os.chdir('/content/drive/My Drive/Colab Notebooks/Lazy courses/DS:Deep Learning in Python/NN -Fundamental concepts from scratch')"
      ],
      "execution_count": 0,
      "outputs": []
    },
    {
      "cell_type": "code",
      "metadata": {
        "id": "JZr2pMvZ6kbU",
        "colab_type": "code",
        "colab": {
          "base_uri": "https://localhost:8080/",
          "height": 792
        },
        "outputId": "afad6dc6-05a8-4304-fe75-629b670f1363"
      },
      "source": [
        "from __future__ import print_function, division\n",
        "from builtins import range\n",
        "import numpy as np\n",
        "import tensorflow as tf\n",
        "from util import get_normalized_data, y2indicator\n",
        "import matplotlib.pyplot as plt\n",
        "\n",
        "def error_rate(p,t):\n",
        "    return np.mean(p != t)\n",
        "    \n",
        "def main():\n",
        "    #get the data and and define all the variables\n",
        "    Xtrain, Xtest, Ytrain, Ytest = get_normalized_data()\n",
        "\n",
        "    max_iter = 15\n",
        "    print_period = 50\n",
        "\n",
        "    lr = 0.00004\n",
        "    reg = 0.01\n",
        "\n",
        "    Ytrain_ind = y2indicator(Ytrain)\n",
        "    Ytest_ind = y2indicator(Ytest)\n",
        "\n",
        "    N, D = Xtrain.shape\n",
        "    batch_sz = 500\n",
        "    n_batches = N // batch_sz\n",
        "\n",
        "    #adding an extra layer\n",
        "\n",
        "    M1 = 300\n",
        "    M2 = 100\n",
        "    K = 10\n",
        "    W1_init = np.random.randn(D, M1) / np.sqrt(D)\n",
        "    b1_init = np.zeros(M1)\n",
        "    W2_init = np.random.randn(M1, M2) / np.sqrt(M1)\n",
        "    b2_init = np.zeros(M2)\n",
        "    W3_init = np.random.randn(M2, K) / np.sqrt(M2)\n",
        "    b3_init = np.zeros(K)\n",
        "\n",
        "\n",
        "    #define variables and expressions\n",
        "\n",
        "    X = tf.placeholder(tf.float32, shape = (None, D), name = 'X')\n",
        "    T = tf.placeholder(tf.float32, shape = (None, K), name = 'T')\n",
        "    W1 = tf.Variable(W1_init.astype(np.float32))\n",
        "    b1 = tf.Variable(b1_init.astype(np.float32))\n",
        "    W2 = tf.Variable(W2_init.astype(np.float32))\n",
        "    b2 = tf.Variable(b2_init.astype(np.float32))\n",
        "    W3 = tf.Variable(W3_init.astype(np.float32))\n",
        "    b3 = tf.Variable(b3_init.astype(np.float32))\n",
        "\n",
        "    #define the model\n",
        "    Z1 = tf.nn.relu(tf.matmul(X, W1) + b1)\n",
        "    Z2 = tf.nn.relu(tf.matmul(Z1, W2) + b2)\n",
        "    Yish = tf.matmul(Z2, W3) + b3 \n",
        "    # the cost function does the softmax operation\n",
        "    # softmax_cross_entropy_with_logits take in the logits\n",
        "\n",
        "    cost  = tf.reduce_sum(tf.nn.softmax_cross_entropy_with_logits_v2(logits=Yish, labels = T))\n",
        "\n",
        "    #choosing the optimizer\n",
        "    train_op = tf.train.RMSPropOptimizer(lr, decay=0.99, momentum=0.9).minimize(cost)\n",
        "\n",
        "    #prediction\n",
        "    predict_op = tf.argmax(Yish, 1)\n",
        "\n",
        "    costs = []\n",
        "\n",
        "    init = tf.global_variables_initializer()\n",
        "    with tf.Session() as session:\n",
        "        session.run(init)\n",
        "\n",
        "        for i in range(max_iter):\n",
        "            for j in range(n_batches):\n",
        "                Xbatch = Xtrain[j*batch_sz:(j*batch_sz+batch_sz),]\n",
        "                Ybatch = Ytrain_ind[j*batch_sz:(j*batch_sz+batch_sz),]\n",
        "\n",
        "                session.run(train_op, feed_dict= {X: Xbatch, T: Ybatch})\n",
        "                if j % print_period == 0:\n",
        "                    test_cost = session.run(cost, feed_dict = {X:Xtest, T:Ytest_ind})\n",
        "                    prediction = session.run(predict_op, feed_dict = {X:Xtest})\n",
        "                    err = error_rate(prediction, Ytest)\n",
        "                    #print(\"Cost / err at iteration i=%d: %.3f / %.3f\" % (i, j, test_cost, err))\n",
        "                    print(\"Cost / err at iteration i=%d, j=%d: %.3f / %.3f\" % (i, j, test_cost, err))\n",
        "                    costs.append(test_cost)\n",
        "    plt.plot(costs)\n",
        "    plt.show()\n",
        "\n",
        "if __name__ == '__main__':\n",
        "    main()"
      ],
      "execution_count": 20,
      "outputs": [
        {
          "output_type": "stream",
          "text": [
            "Reading in and transforming data\n",
            "Cost / err at iteration i=0, j=0: 2436.182 / 0.889\n",
            "Cost / err at iteration i=0, j=50: 438.614 / 0.114\n",
            "Cost / err at iteration i=1, j=0: 350.359 / 0.083\n",
            "Cost / err at iteration i=1, j=50: 293.982 / 0.067\n",
            "Cost / err at iteration i=2, j=0: 272.168 / 0.059\n",
            "Cost / err at iteration i=2, j=50: 254.507 / 0.058\n",
            "Cost / err at iteration i=3, j=0: 245.712 / 0.051\n",
            "Cost / err at iteration i=3, j=50: 235.676 / 0.046\n",
            "Cost / err at iteration i=4, j=0: 233.485 / 0.046\n",
            "Cost / err at iteration i=4, j=50: 226.497 / 0.042\n",
            "Cost / err at iteration i=5, j=0: 226.771 / 0.041\n",
            "Cost / err at iteration i=5, j=50: 220.446 / 0.036\n",
            "Cost / err at iteration i=6, j=0: 223.188 / 0.038\n",
            "Cost / err at iteration i=6, j=50: 218.080 / 0.036\n",
            "Cost / err at iteration i=7, j=0: 223.266 / 0.036\n",
            "Cost / err at iteration i=7, j=50: 216.614 / 0.032\n",
            "Cost / err at iteration i=8, j=0: 223.971 / 0.035\n",
            "Cost / err at iteration i=8, j=50: 216.729 / 0.032\n",
            "Cost / err at iteration i=9, j=0: 225.957 / 0.035\n",
            "Cost / err at iteration i=9, j=50: 218.215 / 0.030\n",
            "Cost / err at iteration i=10, j=0: 228.891 / 0.034\n",
            "Cost / err at iteration i=10, j=50: 220.175 / 0.029\n",
            "Cost / err at iteration i=11, j=0: 233.421 / 0.034\n",
            "Cost / err at iteration i=11, j=50: 226.278 / 0.031\n",
            "Cost / err at iteration i=12, j=0: 239.925 / 0.035\n",
            "Cost / err at iteration i=12, j=50: 229.937 / 0.033\n",
            "Cost / err at iteration i=13, j=0: 246.349 / 0.035\n",
            "Cost / err at iteration i=13, j=50: 240.404 / 0.032\n",
            "Cost / err at iteration i=14, j=0: 255.819 / 0.035\n",
            "Cost / err at iteration i=14, j=50: 247.447 / 0.031\n"
          ],
          "name": "stdout"
        },
        {
          "output_type": "display_data",
          "data": {
            "image/png": "[encoded data removed]",
            "text/plain": [
              "<Figure size 432x288 with 1 Axes>"
            ]
          },
          "metadata": {
            "tags": []
          }
        }
      ]
    },
    {
      "cell_type": "code",
      "metadata": {
        "id": "Swj8BSpz6xhV",
        "colab_type": "code",
        "colab": {}
      },
      "source": [
        ""
      ],
      "execution_count": 0,
      "outputs": []
    },
    {
      "cell_type": "code",
      "metadata": {
        "id": "I-48bU-66xeo",
        "colab_type": "code",
        "colab": {}
      },
      "source": [
        ""
      ],
      "execution_count": 0,
      "outputs": []
    },
    {
      "cell_type": "code",
      "metadata": {
        "id": "tOUMfJm76xaK",
        "colab_type": "code",
        "colab": {}
      },
      "source": [
        ""
      ],
      "execution_count": 0,
      "outputs": []
    }
  ]
}