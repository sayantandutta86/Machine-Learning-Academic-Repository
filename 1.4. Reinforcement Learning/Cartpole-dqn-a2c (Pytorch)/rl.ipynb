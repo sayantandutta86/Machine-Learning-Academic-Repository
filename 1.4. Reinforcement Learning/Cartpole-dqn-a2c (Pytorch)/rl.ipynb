{
 "cells": [
  {
   "cell_type": "markdown",
   "metadata": {},
   "source": [
    "# IE 534 HW: Reinforcement Learning\n",
    "    v1, Designed for IE 534/CS 547 Deep Learning, Fall 2019 at UIUC\n",
    "\n",
    "In this assignment, we will experiment with the (deep) reinforcement learning algorithms covered in the lecture. In particular, you will implement variants of the popular `DQN` (Deep Q-Network) (1) and `A2C` (Advantage Actor-Critic) (2) algorithms (by the same first author! orz), and test your implementation on both a small example (CartPole problem) and an Atari game (Breakout game). We focus on model-free algorithms rather than model-based ones, because neural nets are easier applicable and more popular nowadays in the model-free setting. (When the system dynamic is known or can be easily inferred, model-based can sometimes do better.)\n",
    "\n",
    "The assignment breaks into **three parts**:\n",
    "\n",
    "- **In Part I** (50 pts), you basically need to follow the instructions in this notebook to do a little bit of coding. We'll be able to see if your code trains by testing against the CartPole environment provided by the OpenAI gym package. We'll generate some plots that are required for grading.\n",
    "\n",
    "- **In Part II** (40 pts), you'll copy your code onto Blue Waters (or actually any good server..), and run a much larger-scale experiment with the Breakout game. Hopefully, you can teach the computer to play Breakout in less than half a day! Share your final game score in this notebook. **<font color=red>This part will take at least a day. Please start early!!</font>**\n",
    "\n",
    "- **In Part III** (10 pts), you'll be asked to think about a few questions. These questions are mostly open-ended. Please write down your thoughts on them.\n",
    "\n",
    "Finally, after you finished everything in this notebook **<font color=red>(code snippets C1-C5, plots P1-P5, question answers Q1-Q5)</font>**, please save the notebook, and export to a PDF (or an HTML file), and submit:\n",
    "    \n",
    "1. the **.ipynb notebook and exported .pdf/.html file**, PDF is preferred (I usually do File -> Print Preview -> use Chrome's Save as PDF);\n",
    "\n",
    "2. your code (**Algo.py, Model.py files**);\n",
    "\n",
    "3. job artifacts (**.log files** only, pytorch models and images not required)\n",
    "\n",
    "to Compass 2g for grading.\n",
    "\n",
    "**PS: Remember to save your notebook occasionally as you work through it!**\n",
    "\n",
    "#### References\n",
    "\n",
    "- (1) Mnih, V., Kavukcuoglu, K., Silver, D., Rusu, A.A., Veness, J., Bellemare, M.G., Graves, A., Riedmiller, M., Fidjeland, A.K., Ostrovski, G. and Petersen, S., 2015. Human-level control through deep reinforcement learning. Nature, 518(7540), p.529.\n",
    "- (2) Mnih, V., Badia, A.P., Mirza, M., Graves, A., Lillicrap, T., Harley, T., Silver, D. and Kavukcuoglu, K., 2016, June. Asynchronous methods for deep reinforcement learning. In International conference on machine learning (pp. 1928-1937).\n",
    "- (3) A useful tutorial: https://spinningup.openai.com/en/latest/\n",
    "- (4) *Useful code references*: https://github.com/deepmind/bsuite; https://github.com/openai/baselines; https://github.com/astooke/rlpyt;\n",
    "\n",
    "***\n",
    "First of all, **enter your NetID here** in the cell below:"
   ]
  },
  {
   "cell_type": "raw",
   "metadata": {},
   "source": [
    "Your NetID: sdutta26"
   ]
  },
  {
   "cell_type": "markdown",
   "metadata": {},
   "source": [
    "## Part I: DQN and A2C on CartPole\n",
    "***\n",
    "This part is designed to run on your own local laptop/PC.\n",
    "\n",
    "Before you start, there are some python dependencies: `pytorch, gym, numpy, multiprocessing, matplotlib`. Please install them correctly. You can install `pytorch` following instruction here https://pytorch.org/get-started/locally/. The code is compatible with PyTorch 0.4.x ~ 1.x. PyTorch 1.1 with cuda 10.0 worked for me (`conda install pytorch==1.1.0 torchvision==0.3.0 cudatoolkit=10.0 -c pytorch`).\n",
    "\n",
    "Please <font color=red>**always**</font> run the code cell below each time you open this notebook, to make sure `gym` is installed and to enable `autoreload` which **allows code changes to be effective immediately**. So if you changed `Algo.py` or `Model.py` but the test codes are not reflecting your changes, restart the notebook kernel and run this cell!!"
   ]
  },
  {
   "cell_type": "code",
   "execution_count": 1,
   "metadata": {},
   "outputs": [
    {
     "name": "stdout",
     "output_type": "stream",
     "text": [
      "Collecting package metadata (repodata.json): ...working... done\n",
      "Solving environment: ...working... done\n",
      "\n",
      "# All requested packages already installed.\n",
      "\n",
      "\n",
      "Note: you may need to restart the kernel to use updated packages.\n"
     ]
    }
   ],
   "source": [
    "conda install pytorch==1.1.0 torchvision==0.3.0 cudatoolkit=10.0 -c pytorch"
   ]
  },
  {
   "cell_type": "code",
   "execution_count": 2,
   "metadata": {},
   "outputs": [
    {
     "name": "stdout",
     "output_type": "stream",
     "text": [
      "Requirement already satisfied: gym in c:\\users\\sayan\\anaconda3\\lib\\site-packages (0.15.4)\n",
      "Requirement already satisfied: scipy in c:\\users\\sayan\\anaconda3\\lib\\site-packages (from gym) (1.1.0)\n",
      "Requirement already satisfied: pyglet<=1.3.2,>=1.2.0 in c:\\users\\sayan\\anaconda3\\lib\\site-packages (from gym) (1.3.2)\n",
      "Requirement already satisfied: opencv-python in c:\\users\\sayan\\anaconda3\\lib\\site-packages (from gym) (4.1.2.30)\n",
      "Requirement already satisfied: cloudpickle~=1.2.0 in c:\\users\\sayan\\anaconda3\\lib\\site-packages (from gym) (1.2.2)\n",
      "Requirement already satisfied: six in c:\\users\\sayan\\anaconda3\\lib\\site-packages (from gym) (1.12.0)\n",
      "Requirement already satisfied: numpy>=1.10.4 in c:\\users\\sayan\\anaconda3\\lib\\site-packages (from gym) (1.14.5)\n",
      "Requirement already satisfied: future in c:\\users\\sayan\\anaconda3\\lib\\site-packages (from pyglet<=1.3.2,>=1.2.0->gym) (0.17.1)\n",
      "Note: you may need to restart the kernel to use updated packages.\n"
     ]
    }
   ],
   "source": [
    "# install openai gym\n",
    "%pip install gym\n",
    "# enable autoreload\n",
    "%load_ext autoreload\n",
    "%autoreload 2"
   ]
  },
  {
   "cell_type": "markdown",
   "metadata": {},
   "source": [
    "### 1.1 Code Structure\n",
    "\n",
    "The code is structured in 5 python files:\n",
    "\n",
    "- `Main.py`: contains the main entry point and training loop\n",
    "- `Model.py`: constructs the torch neural network modules\n",
    "- `Env.py`: contains the environment simulations interface, based on openai gym\n",
    "- `Algo.py`: implements the DQN and A2C algorithms\n",
    "- `Replay.py`: implements the experience replay buffer for DQN\n",
    "- `Draw.py`: saves some game snapshots to jpeg files\n",
    "\n",
    "Some parts of the code `Model.py` and `Algo.py` are left blank for you to complete. You are not required to modify the other parts (unless, of course, you want to boost the performance!). This is kind of a minimalist implementation, and might be different from the other code on the internet in details. You're welcomed to improve it,  after you've finished all the required things of this assignment."
   ]
  },
  {
   "cell_type": "markdown",
   "metadata": {},
   "source": [
    "### 1.2 OpenAI gym and CartPole environment\n",
    "OpenAI developed python package `gym` a while ago to facilitate RL research. `gym` provides a common interface between the program and the environments. For instance, the code cell below will create the CartPole environment. A window will show up when you run the code. The goal is to keep adjusting the cart so that the pole stays in its upright position.\n",
    "\n",
    "A demo video from OpenAI:\n",
    "<video width=\"320\" controls src=\"http://s3-us-west-2.amazonaws.com/rl-gym-doc/cartpole-no-reset.mp4\" />\n",
    "\n",
    "`gym` also provides interface to Atari games. However, installing package `atari-py` is not easy on Windows/Mac, so we won't demonstrate it here. More info: http://gym.openai.com/docs/."
   ]
  },
  {
   "cell_type": "code",
   "execution_count": 3,
   "metadata": {},
   "outputs": [],
   "source": [
    "import time\n",
    "import gym\n",
    "env = gym.make('CartPole-v1')\n",
    "env.reset()\n",
    "for _ in range(200):\n",
    "    env.render()\n",
    "    state, reward, done, _ = env.step(env.action_space.sample()) # take a random action\n",
    "    if done: break\n",
    "    time.sleep(0.15)\n",
    "env.close()"
   ]
  },
  {
   "cell_type": "markdown",
   "metadata": {},
   "source": [
    "### 1.3 Deep Q Learning\n",
    "\n",
    "A little recap on DQN. We learned from lecture that Q-Learning is a model-free reinforcement learning algorithm. It falls into the off-policy type algorithm since it can utilize past experiences stored in a buffer. It also falls into the (approximate) dynamic programming type algorithm, since it tries to learn an optimal state-action value function using time difference (TD) errors. Q Learning is particularly interesting because it exploits the optimality structure in MDP. It's related to the Hamilton–Jacobi–Bellman equation in classical control.\n",
    "\n",
    "For MDP\n",
    "$$\n",
    "M = (S,A,P,r,\\gamma)\n",
    "$$\n",
    "where $S$ is the state space, $A$ is the action space, $P$ is the transition dynamic, $r(s,a)$ is a reward function $S\\times A \\mapsto R$, and $\\gamma$ is the discount factor.\n",
    "\n",
    "The tabular case (when $S,A$ are finite), Q-Learning does the following value iteration update repeatedly when collecting experience $(s_t, a_t, r_t)$ ($\\eta$ is the learning rate):\n",
    "$$\n",
    "Q^{new}(s_t, a_t) \\leftarrow Q^{old}(s_t, a_t) + \\eta \\left( r_t + \\gamma \\max_{a'\\in A} Q^{old}(s_t, a') - Q^{old}(s_t, a_t) \\right) .\n",
    "$$\n",
    "\n",
    "With function approximation, meaning model $Q(s,a)$ with a function $Q_{\\theta}(s,a)$ parameterized by $\\theta$, we arrive at the Fitted Q Iteration (FQI) algorithm, or better known as Deep Q Learning if the function class is neural networks. Q-Learning with neural network as function approximator was known long ago, but it was only recently (year 2013) that DeepMind made this algorithm actually work on Atari games. Deep Q Learning iteratively optimize the following objective:\n",
    "$$\n",
    "\\theta_{new} \\leftarrow \\arg\\min_{\\theta} \\mathbb{E}_{(s,a,r,s')\\sim D} \\left( r + \\gamma \\max_{a'\\in A} Q_{\\theta_{old}}(s', a') - Q_{\\theta}(s, a) \\right)^2  .\n",
    "$$\n",
    "\n",
    "Therefore, with a batch of $\\{(s^i,a^i,r^i,s'^i)\\}_{i=1}^N$ sampled from the replay buffer, we can build a loss function $L$ in pytorch:\n",
    "$$\n",
    "L(\\theta) = \\frac1N \\sum_{i=1}^N \\left( r^i + \\gamma \\max_{a'\\in A} Q_{\\theta_{old}}(s'^i, a') - Q_{\\theta}(s^i, a^i) \\right)^2\n",
    ",\n",
    "$$\n",
    "and run the usual gradient descent on $\\theta$ with a pytorch optimizer.\n",
    "\n",
    "\n",
    "#### Exploration\n",
    "Exploration, as the word suggests, refers to explore novel unvisited states in RL. The FQI (or DQN) needs an exploratory datasets to work well. The common way to produce exploratory dataset is through randomization, such as the $\\epsilon$-greedy exploration strategy we will implement in this assignment.\n",
    "- $\\epsilon$-greedy exploration:\n",
    "\n",
    "At training iteration $it$, the agent chooses to play\n",
    "$$\n",
    "a = \\begin{cases}\n",
    "\\arg\\max_a Q_{\\theta}(s, a)      &  \\text{ with probability $1 - \\epsilon_{it}$ },  \\\\\n",
    "\\text{a random action $a \\in A$} &  \\text{ with probability $\\epsilon_{it}$ }.  \\\\\n",
    "\\end{cases}\n",
    "$$\n",
    "And $\\epsilon_{it}$ is annealed, for example, linearly from $1$ to $0.01$ as training progresses until iteration $it_{\\text{decay}}$:\n",
    "$$\n",
    "\\epsilon_{it} = \\max\\Big\\{ 0.01, 1 + (0.01-1)\\frac{it}{it_{\\text{decay}}} \\Big\\}.\n",
    "$$\n",
    "\n",
    "#### Two Caveats\n",
    "1. There's an improvement on DQN called Double-DQN with the following loss $L$, which has shown to be empirically more stable than the original DQN loss described above. You may want to implement the improved one in your code:\n",
    "$$\n",
    "L(\\theta) = \\frac1N \\sum_{i=1}^N \\left( r^i + \\gamma Q_{\\theta_{old}}\\big( s'^i, \\arg\\max_{a'\\in A} Q_{\\theta}(s'^i, a' ) \\big) - Q_{\\theta}(s^i, a^i) \\right)^2\n",
    ".\n",
    "$$\n",
    "2. Huber loss (a.k.a smooth L1 loss) is commonly used to reduce the effect of extreme values:\n",
    "$$\n",
    "L(\\theta) = \\frac1N \\sum_{i=1}^N Huber\\left( r^i + \\gamma Q_{\\theta_{old}}\\big( s'^i, \\arg\\max_{a'\\in A} Q_{\\theta}(s'^i, a' ) \\big) - Q_{\\theta}(s^i, a^i) \\right)\n",
    "$$\n",
    "You can look up the pytorch document here: https://pytorch.org/docs/stable/nn.functional.html#smooth-l1-loss"
   ]
  },
  {
   "cell_type": "markdown",
   "metadata": {},
   "source": [
    "##### C1 (5 pts): Complete the code for the two layered fully connected network class `TwoLayerFCNet` in file `Model.py`\n",
    "And run the cell below to test the output shape of your module."
   ]
  },
  {
   "cell_type": "code",
   "execution_count": 4,
   "metadata": {},
   "outputs": [
    {
     "name": "stdout",
     "output_type": "stream",
     "text": [
      "Output shape test passed!\n"
     ]
    }
   ],
   "source": [
    "## Test code\n",
    "from Model import TwoLayerFCNet\n",
    "import torch\n",
    "net = TwoLayerFCNet(n_in=4, n_hidden=16, n_out=5)\n",
    "x = torch.randn(10, 4)\n",
    "y = net(x)\n",
    "assert y.shape == (10, 5), \"ERROR: network output has the wrong shape!\"\n",
    "print (\"Output shape test passed!\")"
   ]
  },
  {
   "cell_type": "markdown",
   "metadata": {},
   "source": [
    "##### C2 (5 pts): Complete the code for $\\epsilon$-greedy exploration strategy in function `DQN.act` in file `Algo.py'\n",
    "And run the cell below to test it."
   ]
  },
  {
   "cell_type": "code",
   "execution_count": 5,
   "metadata": {},
   "outputs": [
    {
     "name": "stdout",
     "output_type": "stream",
     "text": [
      "Epsilon-greedy test passed!\n"
     ]
    }
   ],
   "source": [
    "## Test code\n",
    "from Algo import DQN\n",
    "class Nothing: pass\n",
    "dummy = Nothing()\n",
    "dummy.eps_decay = 500000\n",
    "\n",
    "dummy.num_act_steps = 0\n",
    "eps = DQN.compute_epsilon(dummy)\n",
    "assert abs( eps - 1.0 ) < 0.01, \"ERROR: compute_epsilon at t=0 should be 1 but got %f!\" % eps\n",
    "\n",
    "dummy.num_act_steps = 250000\n",
    "eps = DQN.compute_epsilon(dummy)\n",
    "assert abs( eps - 0.505 ) < 0.01, \"ERROR: compute_epsilon at t=250000 should around .505 but got %f!\" % eps\n",
    "\n",
    "dummy.num_act_steps = 500000\n",
    "eps = DQN.compute_epsilon(dummy)\n",
    "assert abs( eps - 0.01 ) < 0.01, \"ERROR: compute_epsilon at t=500000 should be .01 but got %f!\" % eps\n",
    "\n",
    "dummy.num_act_steps = 600000\n",
    "eps = DQN.compute_epsilon(dummy)\n",
    "assert abs( eps - 0.01 ) < 0.01, \"ERROR: compute_epsilon after t=500000 should be .01 but got %f!\" % eps\n",
    "print (\"Epsilon-greedy test passed!\")"
   ]
  },
  {
   "cell_type": "markdown",
   "metadata": {},
   "source": [
    "##### C3 (10 pts): Complete the code for computing the loss function in `DQN.train` in file `Algo.py`\n",
    "And run the cell below to verify your code decreses the loss value in one iteration."
   ]
  },
  {
   "cell_type": "code",
   "execution_count": 6,
   "metadata": {},
   "outputs": [
    {
     "name": "stdout",
     "output_type": "stream",
     "text": [
      "parameters to optimize: [('fc1.weight', torch.Size([128, 10]), True), ('fc1.bias', torch.Size([128]), True), ('fc2.weight', torch.Size([3, 128]), True), ('fc2.bias', torch.Size([3]), True)] \n",
      "\n",
      "0.14874370396137238 > 0.14560644328594208 ?\n",
      "DQN.train test passed!\n"
     ]
    }
   ],
   "source": [
    "import numpy as np\n",
    "from Algo import DQN\n",
    "class Nothing: pass\n",
    "dummy_obs_space, dummy_act_space = Nothing(), Nothing()\n",
    "dummy_obs_space.shape = [10]\n",
    "dummy_act_space.n = 3\n",
    "\n",
    "dqn = DQN(dummy_obs_space, dummy_act_space, batch_size=2)\n",
    "\n",
    "for t in range(3):\n",
    "    dqn.observe([np.random.randn(10).astype('float32')], [np.random.randint(3)],\n",
    "                [(np.random.randn(10).astype('float32'), np.random.rand(), False, None)])\n",
    "\n",
    "b = dqn.replay.cur_batch\n",
    "loss1 = dqn.train()\n",
    "dqn.replay.cur_batch = b\n",
    "loss2 = dqn.train()\n",
    "\n",
    "print (loss1, '>', loss2, '?')\n",
    "assert loss2 < loss1, \"DQN.train should reduce loss on the same batch\"\n",
    "\n",
    "print (\"DQN.train test passed!\")"
   ]
  },
  {
   "cell_type": "markdown",
   "metadata": {},
   "source": [
    "##### P1 (10 pts): Run DQN on CartPole and plot the learning curve (i.e. averaged episodic reward against env steps).\n",
    "Your code should be able to achieve **>150** averaged reward in 10000 iterations (20000 simulation steps) in only a few minutes. This is a good indication that the implementation is correct. It's ok that the curve is not always monotonically increasing because of randomness in training."
   ]
  },
  {
   "cell_type": "code",
   "execution_count": 7,
   "metadata": {},
   "outputs": [
    {
     "name": "stdout",
     "output_type": "stream",
     "text": [
      "Namespace(algo='dqn', batch_size=64, checkpoint_freq=20000, discount=0.996, ent_coef=0.01, env='CartPole-v1', eps_decay=4000, frame_skip=1, frame_stack=4, load='', log='log.txt', lr=0.001, niter=10000, nproc=2, parallel_env=0, print_freq=200, replay_size=20000, save_dir='cartpole_dqn/', target_update=1000, train_freq=1, train_start=100, value_coef=0.5)\n",
      "observation space: Box(4,)\n",
      "action space: Discrete(2)\n",
      "running on device cpu\n",
      "parameters to optimize: [('fc1.weight', torch.Size([128, 4]), True), ('fc1.bias', torch.Size([128]), True), ('fc2.weight', torch.Size([2, 128]), True), ('fc2.bias', torch.Size([2]), True)] \n",
      "\n",
      "obses on reset: 2 x (4,) float32\n",
      "iter    200 |loss   0.02 |n_ep    16 |ep_len   25.8 |ep_rew  25.84 |raw_ep_rew  25.84 |env_step    400 |time 00:00 rem 00:11\n",
      "iter    400 |loss   0.00 |n_ep    35 |ep_len   20.2 |ep_rew  20.23 |raw_ep_rew  20.23 |env_step    800 |time 00:00 rem 00:14\n",
      "iter    600 |loss   0.01 |n_ep    51 |ep_len   18.8 |ep_rew  18.76 |raw_ep_rew  18.76 |env_step   1200 |time 00:01 rem 00:15\n",
      "iter    800 |loss   0.00 |n_ep    65 |ep_len   28.8 |ep_rew  28.76 |raw_ep_rew  28.76 |env_step   1600 |time 00:01 rem 00:16\n",
      "iter   1000 |loss   0.00 |n_ep    76 |ep_len   31.1 |ep_rew  31.13 |raw_ep_rew  31.13 |env_step   2000 |time 00:01 rem 00:15\n",
      "iter   1200 |loss   0.01 |n_ep    87 |ep_len   33.9 |ep_rew  33.93 |raw_ep_rew  33.93 |env_step   2400 |time 00:02 rem 00:15\n",
      "iter   1400 |loss   0.01 |n_ep   100 |ep_len   34.3 |ep_rew  34.34 |raw_ep_rew  34.34 |env_step   2800 |time 00:02 rem 00:15\n",
      "iter   1600 |loss   0.02 |n_ep   112 |ep_len   33.1 |ep_rew  33.14 |raw_ep_rew  33.14 |env_step   3200 |time 00:02 rem 00:15\n",
      "iter   1800 |loss   0.02 |n_ep   126 |ep_len   27.3 |ep_rew  27.30 |raw_ep_rew  27.30 |env_step   3600 |time 00:03 rem 00:15\n",
      "iter   2000 |loss   0.01 |n_ep   136 |ep_len   34.7 |ep_rew  34.70 |raw_ep_rew  34.70 |env_step   4000 |time 00:03 rem 00:14\n",
      "iter   2200 |loss   0.03 |n_ep   145 |ep_len   39.4 |ep_rew  39.42 |raw_ep_rew  39.42 |env_step   4400 |time 00:04 rem 00:14\n",
      "iter   2400 |loss   0.02 |n_ep   148 |ep_len   61.7 |ep_rew  61.69 |raw_ep_rew  61.69 |env_step   4800 |time 00:04 rem 00:13\n",
      "iter   2600 |loss   0.02 |n_ep   151 |ep_len   71.9 |ep_rew  71.94 |raw_ep_rew  71.94 |env_step   5200 |time 00:04 rem 00:13\n",
      "iter   2800 |loss   0.03 |n_ep   159 |ep_len   65.2 |ep_rew  65.21 |raw_ep_rew  65.21 |env_step   5600 |time 00:05 rem 00:13\n",
      "iter   3000 |loss   0.02 |n_ep   164 |ep_len   67.8 |ep_rew  67.76 |raw_ep_rew  67.76 |env_step   6000 |time 00:05 rem 00:13\n",
      "iter   3200 |loss   0.00 |n_ep   168 |ep_len   84.9 |ep_rew  84.95 |raw_ep_rew  84.95 |env_step   6400 |time 00:05 rem 00:12\n",
      "iter   3400 |loss   0.01 |n_ep   170 |ep_len   94.5 |ep_rew  94.46 |raw_ep_rew  94.46 |env_step   6800 |time 00:06 rem 00:12\n",
      "iter   3600 |loss   0.03 |n_ep   172 |ep_len  114.2 |ep_rew 114.18 |raw_ep_rew 114.18 |env_step   7200 |time 00:06 rem 00:12\n",
      "iter   3800 |loss   0.02 |n_ep   173 |ep_len  128.6 |ep_rew 128.56 |raw_ep_rew 128.56 |env_step   7600 |time 00:07 rem 00:12\n",
      "iter   4000 |loss   0.01 |n_ep   174 |ep_len  143.2 |ep_rew 143.21 |raw_ep_rew 143.21 |env_step   8000 |time 00:07 rem 00:11\n",
      "iter   4200 |loss   0.02 |n_ep   176 |ep_len  169.8 |ep_rew 169.85 |raw_ep_rew 169.85 |env_step   8400 |time 00:08 rem 00:11\n",
      "iter   4400 |loss   0.05 |n_ep   178 |ep_len  189.6 |ep_rew 189.63 |raw_ep_rew 189.63 |env_step   8800 |time 00:08 rem 00:11\n",
      "iter   4600 |loss   0.00 |n_ep   179 |ep_len  194.0 |ep_rew 193.96 |raw_ep_rew 193.96 |env_step   9200 |time 00:09 rem 00:10\n",
      "iter   4800 |loss   0.01 |n_ep   181 |ep_len  203.8 |ep_rew 203.82 |raw_ep_rew 203.82 |env_step   9600 |time 00:09 rem 00:10\n",
      "iter   5000 |loss   0.07 |n_ep   183 |ep_len  203.4 |ep_rew 203.39 |raw_ep_rew 203.39 |env_step  10000 |time 00:10 rem 00:10\n",
      "iter   5200 |loss   0.01 |n_ep   184 |ep_len  204.8 |ep_rew 204.76 |raw_ep_rew 204.76 |env_step  10400 |time 00:10 rem 00:10\n",
      "iter   5400 |loss   0.04 |n_ep   186 |ep_len  222.5 |ep_rew 222.46 |raw_ep_rew 222.46 |env_step  10800 |time 00:11 rem 00:09\n",
      "iter   5600 |loss   0.01 |n_ep   188 |ep_len  221.0 |ep_rew 220.97 |raw_ep_rew 220.97 |env_step  11200 |time 00:11 rem 00:09\n",
      "iter   5800 |loss   0.08 |n_ep   189 |ep_len  222.3 |ep_rew 222.28 |raw_ep_rew 222.28 |env_step  11600 |time 00:12 rem 00:08\n",
      "iter   6000 |loss   0.00 |n_ep   191 |ep_len  232.9 |ep_rew 232.87 |raw_ep_rew 232.87 |env_step  12000 |time 00:12 rem 00:08\n",
      "iter   6200 |loss   0.00 |n_ep   192 |ep_len  228.3 |ep_rew 228.29 |raw_ep_rew 228.29 |env_step  12400 |time 00:13 rem 00:08\n",
      "iter   6400 |loss   0.01 |n_ep   194 |ep_len  252.1 |ep_rew 252.12 |raw_ep_rew 252.12 |env_step  12800 |time 00:13 rem 00:07\n",
      "iter   6600 |loss   0.03 |n_ep   194 |ep_len  252.1 |ep_rew 252.12 |raw_ep_rew 252.12 |env_step  13200 |time 00:14 rem 00:07\n",
      "iter   6800 |loss   0.01 |n_ep   196 |ep_len  258.7 |ep_rew 258.66 |raw_ep_rew 258.66 |env_step  13600 |time 00:14 rem 00:06\n",
      "iter   7000 |loss   0.03 |n_ep   197 |ep_len  269.8 |ep_rew 269.79 |raw_ep_rew 269.79 |env_step  14000 |time 00:15 rem 00:06\n",
      "iter   7200 |loss   0.00 |n_ep   198 |ep_len  275.7 |ep_rew 275.71 |raw_ep_rew 275.71 |env_step  14400 |time 00:15 rem 00:06\n",
      "iter   7400 |loss   0.00 |n_ep   200 |ep_len  269.0 |ep_rew 268.99 |raw_ep_rew 268.99 |env_step  14800 |time 00:16 rem 00:05\n",
      "iter   7600 |loss   0.01 |n_ep   202 |ep_len  256.6 |ep_rew 256.57 |raw_ep_rew 256.57 |env_step  15200 |time 00:16 rem 00:05\n",
      "iter   7800 |loss   0.00 |n_ep   204 |ep_len  248.1 |ep_rew 248.13 |raw_ep_rew 248.13 |env_step  15600 |time 00:17 rem 00:04\n",
      "iter   8000 |loss   0.08 |n_ep   206 |ep_len  248.2 |ep_rew 248.25 |raw_ep_rew 248.25 |env_step  16000 |time 00:17 rem 00:04\n",
      "iter   8200 |loss   0.03 |n_ep   207 |ep_len  243.7 |ep_rew 243.72 |raw_ep_rew 243.72 |env_step  16400 |time 00:18 rem 00:03\n",
      "iter   8400 |loss   0.01 |n_ep   209 |ep_len  242.8 |ep_rew 242.84 |raw_ep_rew 242.84 |env_step  16800 |time 00:18 rem 00:03\n",
      "iter   8600 |loss   0.00 |n_ep   211 |ep_len  237.1 |ep_rew 237.11 |raw_ep_rew 237.11 |env_step  17200 |time 00:19 rem 00:03\n",
      "iter   8800 |loss   0.01 |n_ep   213 |ep_len  239.7 |ep_rew 239.72 |raw_ep_rew 239.72 |env_step  17600 |time 00:19 rem 00:02\n",
      "iter   9000 |loss   0.01 |n_ep   215 |ep_len  238.3 |ep_rew 238.27 |raw_ep_rew 238.27 |env_step  18000 |time 00:20 rem 00:02\n",
      "iter   9200 |loss   0.01 |n_ep   216 |ep_len  236.7 |ep_rew 236.74 |raw_ep_rew 236.74 |env_step  18400 |time 00:20 rem 00:01\n",
      "iter   9400 |loss   0.01 |n_ep   218 |ep_len  236.9 |ep_rew 236.86 |raw_ep_rew 236.86 |env_step  18800 |time 00:21 rem 00:01\n",
      "iter   9600 |loss   0.00 |n_ep   220 |ep_len  229.8 |ep_rew 229.82 |raw_ep_rew 229.82 |env_step  19200 |time 00:21 rem 00:00\n",
      "iter   9800 |loss   0.05 |n_ep   222 |ep_len  223.6 |ep_rew 223.59 |raw_ep_rew 223.59 |env_step  19600 |time 00:22 rem 00:00\n",
      "save checkpoint to cartpole_dqn/9999.pth\n"
     ]
    }
   ],
   "source": [
    "%run Main.py  \\\n",
    "    --niter 10000   \\\n",
    "    --env CartPole-v1   \\\n",
    "    --algo dqn  \\\n",
    "    --nproc 2   \\\n",
    "    --lr 0.001  \\\n",
    "    --train_freq 1  \\\n",
    "    --train_start 100   \\\n",
    "    --replay_size 20000 \\\n",
    "    --batch_size 64     \\\n",
    "    --discount 0.996    \\\n",
    "    --target_update 1000    \\\n",
    "    --eps_decay 4000    \\\n",
    "    --print_freq 200    \\\n",
    "    --checkpoint_freq 20000 \\\n",
    "    --save_dir cartpole_dqn \\\n",
    "    --log log.txt \\\n",
    "    --parallel_env 0"
   ]
  },
  {
   "cell_type": "code",
   "execution_count": 8,
   "metadata": {},
   "outputs": [],
   "source": [
    "import matplotlib.pyplot as plt\n",
    "\n",
    "def plot_curve(logfile, title=None):\n",
    "    lines = open(logfile, 'r').readlines()\n",
    "    lines = [l.split() for l in lines if l[:4] == 'iter']\n",
    "    steps = [int(l[13]) for l in lines]\n",
    "    rewards = [float(l[11]) for l in lines]\n",
    "    plt.plot(steps, rewards)\n",
    "    plt.xlabel('env steps'); plt.ylabel('avg episode reward'); plt.grid(True)\n",
    "    if title: plt.title(title)\n",
    "    plt.show()"
   ]
  },
  {
   "cell_type": "markdown",
   "metadata": {},
   "source": [
    "The log is saved to `'cartpole_dqn/log.txt'`. Let's plot the running averaged episode reward curve during training:"
   ]
  },
  {
   "cell_type": "code",
   "execution_count": 10,
   "metadata": {},
   "outputs": [
    {
     "data": {
      "image/png": "[encoded data removed]",
      "text/plain": [
       "<Figure size 432x288 with 1 Axes>"
      ]
     },
     "metadata": {
      "needs_background": "light"
     },
     "output_type": "display_data"
    }
   ],
   "source": [
    "plot_curve('cartpole_dqn/log.txt', 'CartPole DQN')"
   ]
  },
  {
   "cell_type": "markdown",
   "metadata": {},
   "source": [
    "### 1.4 Actor-Critic Algorithm\n",
    "\n",
    "Policy gradient methods are another class of algorithms that originated from viewing the RL problem as a mathematical optimization problem. Recall that the objective of RL is to maximize the expected cumulative reward the agent gets, namely\n",
    "$$\n",
    "\\max_{\\pi} J(\\pi) := \\mathbb{E}_{ (s_t,a_t,r_t)\\sim D^{\\pi} } \\left[ \\sum_{t=0}^{\\infty} \\gamma^t r_t \\right]\n",
    "$$\n",
    "where $D^{\\pi}$ is the distribution of trajectories induced by policy $\\pi$, and inside the expectation is the random variable representing the discounted cumulative reward and $J$ is the reward (or cost) functional. Essentially, we want to optimize the policy $\\pi$.\n",
    "\n",
    "The most straightforward way is to run gradient update on the parameter $\\theta$ of a *parameterized* policy $\\pi_{\\theta}$. One such algorithm is the so-called `Advantage Actor-Critic (A2C)`. A2C is an on-policy policy optimization type algorithm. While collecting on-policy data, we iteratively run gradient ascent:\n",
    "$$\n",
    "\\theta_{new} \\leftarrow \\theta_{old} + \\eta { \\hat \\nabla_{\\theta} } J(\\pi_{\\theta_{old}})\n",
    "$$\n",
    "with a Monte Carlo estimate ${ \\hat \\nabla_{\\theta} } J$ of the true gradient $\\nabla_{\\theta} J$. The true gradient writes as (by Policy Gradient Theorem and some manipulations):\n",
    "$$\n",
    "\\nabla_{\\theta} J(\\pi_{\\theta_{old}}) = \\mathbb{E}_{ (s_t,a_t,r_t)\\sim D^{ \\pi_{\\theta_{old}} } } \\sum_{t=0}^{\\infty} \\left( \\nabla_{\\theta} \\log \\pi_{\\theta_{old}} (s_t, a_t) \\left( \\sum_{t'=t}^{\\infty} \\gamma^{t'-t} r_{t'} - V^{ \\pi_{\\theta_{old}} }(s_t) \\right) \\right)  .\n",
    "$$\n",
    "The quantity in the inner-most parentheses $A(s_t, a_t) = Q(s_t, a_t) - V(s_t) = (\\mathbb{E} \\sum_{t'=t}^{\\infty} \\gamma^{t'-t} r_{t'}) - V(s_t)$ is called the *Advantage* function (not very rigoriously speaking...). That's why it's called **Advantage** Actor-Critic. More on A2C: https://arxiv.org/abs/1506.02438.\n",
    "\n",
    "And the Monte Carlo estimate of the gradient is\n",
    "$$\n",
    "{ \\hat \\nabla_{\\theta} } J(\\pi_{\\theta_{old}}) = \\frac1{NT}  \\sum_{i=1}^N \\sum_{t=0}^T \\left( \\nabla_{\\theta} \\log \\pi_{\\theta_{old}} (s_t^{i}, a_t^{i}) \\left( \\sum_{t'=t}^T \\gamma^{t'-t} r_{t'}^{i} - V_{\\phi_{old}}(s_t^{i}) \\right) \\right)\n",
    "$$\n",
    "where $V_{\\phi_{old}}$ is introduced as a *parameterized* estimate for $V^{ \\pi_{\\theta_{old}} }$, which can also be a neural network. So $V_{\\phi}$ is the **critic** and $\\pi_{\\theta}$ is the **actor**. We can construct a specific loss function in pytorch that gives ${ \\hat \\nabla_{\\theta} } J$. $V_{\\phi_{old}}$ is trained with SGD on a L2 loss function. It's further common practice to add an entropy bonus loss term to encourage maximum entropy solution, to facilitate exploration and avoid getting stuck in local minima. We shall clarify these loss functions in the following summarization.\n",
    "\n",
    "#### Summarizing a variant of the A2C algorithm:\n",
    "> For many iterations repeat:\n",
    "1. Collect $N$ independent trajectories $\\{ (s_t^{i},a_t^{i},r_t^{i})_{t=0}^T \\}_{i=1}^{N}$ by running policy $\\pi_{\\theta}$ for maximum $T$ steps;\n",
    "2. Compute the loss function for the policy parameter $\\theta$:\n",
    "$$\n",
    "L_{policy}(\\theta) = \\frac1{NT} \\sum_{i=1}^N \\sum_{t=0}^T \\left( \\log \\pi_{\\theta} (s_t^{i}, a_t^{i}) \\left( \\sum_{t'=t}^T \\gamma^{t'-t} r_{t'}^{i} - V_{\\phi}(s_t^{i}) \\right) \\right)\n",
    "$$\n",
    "Compute the entropy term for $\\theta$:\n",
    "$$\n",
    "L_{entropy}(\\theta) = \\frac1{NT} \\sum_{i=1}^N \\sum_{t=0}^T \\left( - \\sum_{a\\in A} \\pi_{\\theta}(s_t^{i}, a) \\log \\pi_{\\theta}(s_t^{i}, a) \\right)\n",
    "$$\n",
    "Compute the loss for value function parameter $\\phi$:\n",
    "$$\n",
    "L_{value}(\\phi) = \\frac1{NT} \\sum_{i=1}^N \\sum_{t=0}^T \\left( \\sum_{t'=t}^T \\gamma^{t'-t} r_{t'}^{i} - V_{\\phi}(s_t^{i}) \\right)^2\n",
    "$$\n",
    "3. Use pytorch auto-differentiation and optimizer to do one gradient step on $(\\theta, \\phi)$ with the overall loss:\n",
    "$$\n",
    "L(\\theta, \\phi) = - L_{policy} - \\lambda_{ent} L_{entropy} + \\lambda_{val} L_{value}\n",
    "$$\n",
    "where $\\lambda_{ent}$ and $\\lambda_{val}$ are coefficients to balances the loss terms."
   ]
  },
  {
   "cell_type": "markdown",
   "metadata": {},
   "source": [
    "##### C4 (10 pts): Complete the code for computing the advantange, entropy and loss function in `A2C.train` in file `Algo.py`"
   ]
  },
  {
   "cell_type": "code",
   "execution_count": null,
   "metadata": {},
   "outputs": [],
   "source": []
  },
  {
   "cell_type": "markdown",
   "metadata": {},
   "source": [
    "##### P2 (10 pts): Run A2C on CartPole and plot the learning curve (i.e. averaged episodic reward against training iteration).\n",
    "Your code should be able to achieve **>150** averaged reward in 10000 iterations (40000 simulation steps) in only a few minutes. This is a good indication that the implementation is correct."
   ]
  },
  {
   "cell_type": "code",
   "execution_count": 11,
   "metadata": {
    "scrolled": false
   },
   "outputs": [
    {
     "name": "stdout",
     "output_type": "stream",
     "text": [
      "Namespace(algo='a2c', batch_size=64, checkpoint_freq=20000, discount=0.996, ent_coef=0.01, env='CartPole-v1', eps_decay=200000, frame_skip=1, frame_stack=4, load='', log='log.txt', lr=0.001, niter=10000, nproc=4, parallel_env=0, print_freq=200, replay_size=1000000, save_dir='cartpole_a2c/', target_update=2500, train_freq=16, train_start=0, value_coef=0.01)\n",
      "observation space: Box(4,)\n",
      "action space: Discrete(2)\n",
      "running on device cpu\n",
      "shared net = False, parameters to optimize: [('fc1.weight', torch.Size([128, 4]), True), ('fc1.bias', torch.Size([128]), True), ('fc2.weight', torch.Size([2, 128]), True), ('fc2.bias', torch.Size([2]), True), ('fc1.weight', torch.Size([128, 4]), True), ('fc1.bias', torch.Size([128]), True), ('fc2.weight', torch.Size([1, 128]), True), ('fc2.bias', torch.Size([1]), True)] \n",
      "\n",
      "obses on reset: 4 x (4,) float32\n",
      "iter    200 |loss   0.86 |n_ep    48 |ep_len   14.7 |ep_rew  14.66 |raw_ep_rew  14.66 |env_step    800 |time 00:00 rem 00:23\n",
      "iter    400 |loss   0.91 |n_ep    90 |ep_len   16.0 |ep_rew  16.03 |raw_ep_rew  16.03 |env_step   1600 |time 00:00 rem 00:21\n",
      "iter    600 |loss   0.91 |n_ep   130 |ep_len   19.3 |ep_rew  19.30 |raw_ep_rew  19.30 |env_step   2400 |time 00:01 rem 00:19\n",
      "iter    800 |loss   0.71 |n_ep   169 |ep_len   21.4 |ep_rew  21.39 |raw_ep_rew  21.39 |env_step   3200 |time 00:01 rem 00:19\n",
      "iter   1000 |loss   0.80 |n_ep   204 |ep_len   24.0 |ep_rew  23.96 |raw_ep_rew  23.96 |env_step   4000 |time 00:02 rem 00:19\n",
      "iter   1200 |loss   0.89 |n_ep   235 |ep_len   23.3 |ep_rew  23.32 |raw_ep_rew  23.32 |env_step   4800 |time 00:02 rem 00:18\n",
      "iter   1400 |loss   1.04 |n_ep   262 |ep_len   31.8 |ep_rew  31.76 |raw_ep_rew  31.76 |env_step   5600 |time 00:02 rem 00:18\n",
      "iter   1600 |loss   0.64 |n_ep   287 |ep_len   30.9 |ep_rew  30.93 |raw_ep_rew  30.93 |env_step   6400 |time 00:03 rem 00:17\n",
      "iter   1800 |loss   1.01 |n_ep   310 |ep_len   37.1 |ep_rew  37.12 |raw_ep_rew  37.12 |env_step   7200 |time 00:03 rem 00:17\n",
      "iter   2000 |loss   0.91 |n_ep   333 |ep_len   35.6 |ep_rew  35.60 |raw_ep_rew  35.60 |env_step   8000 |time 00:04 rem 00:16\n",
      "iter   2200 |loss   0.60 |n_ep   356 |ep_len   36.5 |ep_rew  36.48 |raw_ep_rew  36.48 |env_step   8800 |time 00:04 rem 00:16\n",
      "iter   2400 |loss   0.59 |n_ep   376 |ep_len   39.9 |ep_rew  39.89 |raw_ep_rew  39.89 |env_step   9600 |time 00:05 rem 00:15\n",
      "iter   2600 |loss   0.84 |n_ep   400 |ep_len   35.1 |ep_rew  35.08 |raw_ep_rew  35.08 |env_step  10400 |time 00:05 rem 00:15\n",
      "iter   2800 |loss   0.56 |n_ep   421 |ep_len   32.4 |ep_rew  32.40 |raw_ep_rew  32.40 |env_step  11200 |time 00:05 rem 00:14\n",
      "iter   3000 |loss   0.68 |n_ep   440 |ep_len   42.5 |ep_rew  42.45 |raw_ep_rew  42.45 |env_step  12000 |time 00:06 rem 00:14\n",
      "iter   3200 |loss   0.62 |n_ep   457 |ep_len   41.7 |ep_rew  41.69 |raw_ep_rew  41.69 |env_step  12800 |time 00:06 rem 00:14\n",
      "iter   3400 |loss   0.49 |n_ep   471 |ep_len   49.8 |ep_rew  49.84 |raw_ep_rew  49.84 |env_step  13600 |time 00:07 rem 00:13\n",
      "iter   3600 |loss   0.56 |n_ep   487 |ep_len   47.2 |ep_rew  47.16 |raw_ep_rew  47.16 |env_step  14400 |time 00:07 rem 00:13\n",
      "iter   3800 |loss   0.62 |n_ep   498 |ep_len   61.9 |ep_rew  61.86 |raw_ep_rew  61.86 |env_step  15200 |time 00:07 rem 00:12\n",
      "iter   4000 |loss   0.91 |n_ep   510 |ep_len   64.7 |ep_rew  64.72 |raw_ep_rew  64.72 |env_step  16000 |time 00:08 rem 00:12\n",
      "iter   4200 |loss   1.05 |n_ep   524 |ep_len   59.1 |ep_rew  59.09 |raw_ep_rew  59.09 |env_step  16800 |time 00:08 rem 00:11\n",
      "iter   4400 |loss   0.95 |n_ep   534 |ep_len   68.6 |ep_rew  68.63 |raw_ep_rew  68.63 |env_step  17600 |time 00:09 rem 00:11\n",
      "iter   4600 |loss   0.48 |n_ep   545 |ep_len   79.7 |ep_rew  79.66 |raw_ep_rew  79.66 |env_step  18400 |time 00:09 rem 00:11\n",
      "iter   4800 |loss   0.94 |n_ep   553 |ep_len   89.8 |ep_rew  89.83 |raw_ep_rew  89.83 |env_step  19200 |time 00:09 rem 00:10\n",
      "iter   5000 |loss   0.39 |n_ep   564 |ep_len   85.1 |ep_rew  85.13 |raw_ep_rew  85.13 |env_step  20000 |time 00:10 rem 00:10\n",
      "iter   5200 |loss   0.03 |n_ep   575 |ep_len   83.2 |ep_rew  83.21 |raw_ep_rew  83.21 |env_step  20800 |time 00:10 rem 00:09\n",
      "iter   5400 |loss   0.30 |n_ep   580 |ep_len   97.4 |ep_rew  97.42 |raw_ep_rew  97.42 |env_step  21600 |time 00:11 rem 00:09\n",
      "iter   5600 |loss   0.47 |n_ep   589 |ep_len   93.7 |ep_rew  93.69 |raw_ep_rew  93.69 |env_step  22400 |time 00:11 rem 00:08\n",
      "iter   5800 |loss   0.80 |n_ep   597 |ep_len   97.7 |ep_rew  97.74 |raw_ep_rew  97.74 |env_step  23200 |time 00:11 rem 00:08\n",
      "iter   6000 |loss   0.69 |n_ep   605 |ep_len   80.7 |ep_rew  80.75 |raw_ep_rew  80.75 |env_step  24000 |time 00:12 rem 00:08\n",
      "iter   6200 |loss   0.83 |n_ep   609 |ep_len  108.2 |ep_rew 108.20 |raw_ep_rew 108.20 |env_step  24800 |time 00:12 rem 00:07\n",
      "iter   6400 |loss   0.93 |n_ep   616 |ep_len  126.9 |ep_rew 126.87 |raw_ep_rew 126.87 |env_step  25600 |time 00:12 rem 00:07\n",
      "iter   6600 |loss   0.36 |n_ep   624 |ep_len  113.0 |ep_rew 113.02 |raw_ep_rew 113.02 |env_step  26400 |time 00:13 rem 00:06\n",
      "iter   6800 |loss   0.95 |n_ep   628 |ep_len  115.4 |ep_rew 115.36 |raw_ep_rew 115.36 |env_step  27200 |time 00:13 rem 00:06\n",
      "iter   7000 |loss   0.77 |n_ep   633 |ep_len  138.4 |ep_rew 138.38 |raw_ep_rew 138.38 |env_step  28000 |time 00:14 rem 00:06\n",
      "iter   7200 |loss   0.79 |n_ep   639 |ep_len  152.3 |ep_rew 152.27 |raw_ep_rew 152.27 |env_step  28800 |time 00:14 rem 00:05\n",
      "iter   7400 |loss   0.72 |n_ep   642 |ep_len  143.1 |ep_rew 143.07 |raw_ep_rew 143.07 |env_step  29600 |time 00:14 rem 00:05\n",
      "iter   7600 |loss   0.97 |n_ep   647 |ep_len  175.3 |ep_rew 175.35 |raw_ep_rew 175.35 |env_step  30400 |time 00:15 rem 00:04\n",
      "iter   7800 |loss  -0.15 |n_ep   652 |ep_len  159.5 |ep_rew 159.46 |raw_ep_rew 159.46 |env_step  31200 |time 00:15 rem 00:04\n",
      "iter   8000 |loss  -0.08 |n_ep   660 |ep_len  159.5 |ep_rew 159.46 |raw_ep_rew 159.46 |env_step  32000 |time 00:16 rem 00:04\n",
      "iter   8200 |loss   0.13 |n_ep   663 |ep_len  166.7 |ep_rew 166.66 |raw_ep_rew 166.66 |env_step  32800 |time 00:16 rem 00:03\n",
      "iter   8400 |loss   0.79 |n_ep   667 |ep_len  173.6 |ep_rew 173.61 |raw_ep_rew 173.61 |env_step  33600 |time 00:16 rem 00:03\n",
      "iter   8600 |loss   0.09 |n_ep   671 |ep_len  176.3 |ep_rew 176.25 |raw_ep_rew 176.25 |env_step  34400 |time 00:17 rem 00:02\n",
      "iter   8800 |loss   0.75 |n_ep   678 |ep_len  142.8 |ep_rew 142.82 |raw_ep_rew 142.82 |env_step  35200 |time 00:17 rem 00:02\n",
      "iter   9000 |loss   0.77 |n_ep   682 |ep_len  144.6 |ep_rew 144.64 |raw_ep_rew 144.64 |env_step  36000 |time 00:18 rem 00:01\n",
      "iter   9200 |loss   1.07 |n_ep   685 |ep_len  176.5 |ep_rew 176.55 |raw_ep_rew 176.55 |env_step  36800 |time 00:18 rem 00:01\n",
      "iter   9400 |loss   0.04 |n_ep   690 |ep_len  187.5 |ep_rew 187.47 |raw_ep_rew 187.47 |env_step  37600 |time 00:18 rem 00:01\n",
      "iter   9600 |loss   0.94 |n_ep   692 |ep_len  191.9 |ep_rew 191.87 |raw_ep_rew 191.87 |env_step  38400 |time 00:19 rem 00:00\n",
      "iter   9800 |loss   0.50 |n_ep   698 |ep_len  195.8 |ep_rew 195.81 |raw_ep_rew 195.81 |env_step  39200 |time 00:19 rem 00:00\n",
      "save checkpoint to cartpole_a2c/9999.pth\n"
     ]
    }
   ],
   "source": [
    "%run Main.py  \\\n",
    "    --niter 10000   \\\n",
    "    --env CartPole-v1   \\\n",
    "    --algo a2c  \\\n",
    "    --nproc 4   \\\n",
    "    --lr 0.001  \\\n",
    "    --train_freq 16 \\\n",
    "    --train_start 0 \\\n",
    "    --batch_size 64     \\\n",
    "    --discount 0.996    \\\n",
    "    --value_coef 0.01    \\\n",
    "    --print_freq 200    \\\n",
    "    --checkpoint_freq 20000 \\\n",
    "    --save_dir cartpole_a2c \\\n",
    "    --log log.txt \\\n",
    "    --parallel_env 0"
   ]
  },
  {
   "cell_type": "code",
   "execution_count": 12,
   "metadata": {},
   "outputs": [
    {
     "data": {
      "image/png": "[encoded data removed]",
      "text/plain": [
       "<Figure size 432x288 with 1 Axes>"
      ]
     },
     "metadata": {
      "needs_background": "light"
     },
     "output_type": "display_data"
    }
   ],
   "source": [
    "plot_curve('cartpole_a2c/log.txt', 'CartPole A2C')"
   ]
  },
  {
   "cell_type": "markdown",
   "metadata": {},
   "source": [
    "Now let's play a little bit with the trained agent. The neural net parameters are saved to the `cartpole_dqn` and `cartpole_a2c` folders. The cell below will open a window showing one episode play."
   ]
  },
  {
   "cell_type": "code",
   "execution_count": 31,
   "metadata": {},
   "outputs": [
    {
     "name": "stdout",
     "output_type": "stream",
     "text": [
      "shared net = False, parameters to optimize: [('fc1.weight', torch.Size([128, 4]), True), ('fc1.bias', torch.Size([128]), True), ('fc2.weight', torch.Size([2, 128]), True), ('fc2.bias', torch.Size([2]), True), ('fc1.weight', torch.Size([128, 4]), True), ('fc1.bias', torch.Size([128]), True), ('fc2.weight', torch.Size([1, 128]), True), ('fc2.bias', torch.Size([1]), True)] \n",
      "\n",
      "reward_count:  250\n"
     ]
    }
   ],
   "source": [
    "import time\n",
    "import gym\n",
    "import Algo\n",
    "env = gym.make('CartPole-v1')\n",
    "agent = Algo.ActorCritic(env.observation_space, env.action_space)\n",
    "agent.load('cartpole_a2c/9999.pth')\n",
    "state = env.reset()\n",
    "reward_count = 0\n",
    "for _ in range(250):\n",
    "    env.render()\n",
    "    state, reward, done, _ = env.step(agent.act([state])[0])\n",
    "    reward_count += 1\n",
    "    if done: break\n",
    "    time.sleep(0.1)\n",
    "env.close()\n",
    "print('reward_count: ', reward_count)"
   ]
  },
  {
   "cell_type": "markdown",
   "metadata": {},
   "source": [
    "## Part II: Solve the Atari Breakout game\n",
    "***\n",
    "In this part, you'll train your agent to play Breakout with the BlueWaters cluster. I have provided the job scripts for you. Please upload your `Algo.py` and `Model.py` completed in **Part I** to your BlueWaters folder. And submit the following two jobs respectively:\n",
    "```\n",
    "qsub run_dqn.pbs\n",
    "qsub run_a2c.pbs\n",
    "```\n",
    "\n",
    "The jobs are set to run for at most **14 hours**. **<font color=red>Please start early!!</font>** You might be able to reach the desired score (>= 200 reward) before 14 hours - You can stop the training early if you wish. Then please collect the resulting `breakout_dqn/log.txt` and `breakout_a2c/log.txt` files into the same folder as this Jupyter notebook's. Rename them as `log_breakout_dqn.txt` and `log_breakout_a2c.txt`.\n",
    "\n",
    "BTW, there's an Atari PC simulator: https://stella-emu.github.io/ I spent a lot of time playing them..."
   ]
  },
  {
   "cell_type": "markdown",
   "metadata": {},
   "source": [
    "##### C5 (10 pts): Complete the code for the CNN with 3 conv layers and 3 fc layers in class `SimpleCNN` in file `Model.py`\n",
    "And verify the output shape with the cell below."
   ]
  },
  {
   "cell_type": "code",
   "execution_count": 37,
   "metadata": {},
   "outputs": [
    {
     "name": "stdout",
     "output_type": "stream",
     "text": [
      "CNN output shape test passed!\n"
     ]
    }
   ],
   "source": [
    "## Test code\n",
    "from Model import SimpleCNN\n",
    "import torch\n",
    "net = SimpleCNN()\n",
    "x = torch.randn(2, 4, 84, 84)\n",
    "y = net(x)\n",
    "assert y.shape == (2, 4), \"ERROR: network output has the wrong shape!\"\n",
    "print (\"CNN output shape test passed!\")"
   ]
  },
  {
   "cell_type": "code",
   "execution_count": 38,
   "metadata": {},
   "outputs": [
    {
     "name": "stdout",
     "output_type": "stream",
     "text": [
      "SimpleCNN(\n",
      "  (conv_layers): Sequential(\n",
      "    (0): Conv2d(4, 32, kernel_size=(8, 8), stride=(4, 4))\n",
      "    (1): ReLU()\n",
      "    (2): Conv2d(32, 64, kernel_size=(4, 4), stride=(2, 2))\n",
      "    (3): ReLU()\n",
      "    (4): Conv2d(64, 64, kernel_size=(3, 3), stride=(1, 1))\n",
      "    (5): ReLU()\n",
      "  )\n",
      "  (fc_layers): Sequential(\n",
      "    (0): Linear(in_features=3136, out_features=256, bias=True)\n",
      "    (1): ReLU()\n",
      "    (2): Linear(in_features=256, out_features=4, bias=True)\n",
      "  )\n",
      ")\n"
     ]
    }
   ],
   "source": [
    "print(net)"
   ]
  },
  {
   "cell_type": "markdown",
   "metadata": {},
   "source": [
    "##### P3 (10 pts): Run the following cell to generate a DQN learning curve.\n",
    "The *maximum* average episodic reward on this curve should be larger than $200$ for full credit. (It's ok if the final reward is not as high.) The typical value is around $300$. You get 70% credit if $100 \\le$ average episodic reward $< 200$, 50% credit if $50 \\le$ average episodic reward $< 100$."
   ]
  },
  {
   "cell_type": "code",
   "execution_count": 39,
   "metadata": {},
   "outputs": [
    {
     "data": {
      "image/png": "[encoded data removed]",
      "text/plain": [
       "<Figure size 432x288 with 1 Axes>"
      ]
     },
     "metadata": {
      "needs_background": "light"
     },
     "output_type": "display_data"
    }
   ],
   "source": [
    "plot_curve('log_breakout_dqn.txt', 'Breakout DQN')"
   ]
  },
  {
   "cell_type": "markdown",
   "metadata": {},
   "source": [
    "##### P4 (10 pts): Run the following cell to generate an A2C learning curve.\n",
    "The *maximum* average episodic reward on this curve should be larger than $150$ for full credit. (It's ok if the final reward is not as high.) The typical value is around $250$. You get 70% credit if $50 \\le$ average episodic reward $< 150$, and 50% credit if $20 \\le$ average episodic reward $< 50$."
   ]
  },
  {
   "cell_type": "code",
   "execution_count": 40,
   "metadata": {},
   "outputs": [
    {
     "data": {
      "image/png": "[encoded data removed]",
      "text/plain": [
       "<Figure size 432x288 with 1 Axes>"
      ]
     },
     "metadata": {
      "needs_background": "light"
     },
     "output_type": "display_data"
    }
   ],
   "source": [
    "plot_curve('log_breakout_a2c.txt', 'Breakout A2C')"
   ]
  },
  {
   "cell_type": "markdown",
   "metadata": {},
   "source": [
    "##### P5 (10 pts): Collect and visualize some game frames by running the script `Draw.py` on BlueWaters.\n",
    "(1) `module load python/2.0.0` and run `Draw.py` on BlueWaters (it's ok to run this locally, no need to start a job).\n",
    "\n",
    "(2) Download the result `breakout_imgs` folder from BlueWaters to the folder containing this Jupyter notebook, and run the following cell. You should see some animation of the game."
   ]
  },
  {
   "cell_type": "code",
   "execution_count": 42,
   "metadata": {
    "scrolled": false
   },
   "outputs": [
    {
     "data": {
      "image/png": "[encoded data removed]",
      "text/plain": [
       "<Figure size 432x288 with 1 Axes>"
      ]
     },
     "metadata": {
      "needs_background": "light"
     },
     "output_type": "display_data"
    }
   ],
   "source": [
    "import os\n",
    "imgs = sorted(os.listdir('breakout_imgs'))\n",
    "#imgs = [plt.imread('breakout_imgs/' + img) for img in imgs]\n",
    "\n",
    "%matplotlib inline\n",
    "import matplotlib.pyplot as plt\n",
    "from IPython import display\n",
    "pimg = None\n",
    "for img in imgs:\n",
    "    img = plt.imread('breakout_imgs/' + img)\n",
    "    if pimg:\n",
    "        pimg.set_data(img)\n",
    "    else:\n",
    "        pimg = plt.imshow(img)\n",
    "    display.display(plt.gcf())\n",
    "    display.clear_output(wait=True)"
   ]
  },
  {
   "cell_type": "markdown",
   "metadata": {},
   "source": [
    "## Part III: Questions (10 pts)\n",
    "***\n",
    "\n",
    "These are open-ended questions. The purpose is to encourage you to think (a bit) more deeply about these algorithms. You get full points as long as you write a few sentences that make sense and show some thinking."
   ]
  },
  {
   "cell_type": "markdown",
   "metadata": {},
   "source": [
    "##### Q1 (2 pts): Why would people want to do function approximation rather than using tabular algorithm (on discretized S,A spaces if necessary)? Bringing function approximation has caused numerous problems theoretically (e.g. not guaranteed to converge), so it seems not worth it..."
   ]
  },
  {
   "cell_type": "raw",
   "metadata": {},
   "source": [
    "Your answer: \n",
    "First issue with tabular algorithm is set of states.\n",
    "During training we build our knowledge of our environment and update our q-table. \n",
    "But in making decisions we are limited to the information given in the table.\n",
    "In practice in realistic environment we never experience exactly the same state multiple times.\n",
    "So if we see completely new state we will get lost in tabular setting and not get any information on the action we need to perform.\n",
    "\n",
    "Another issue is resource and performance.\n",
    "In large scale environments, number of states are very large. Simple games like Tetris has  10^60 possible states.\n",
    "Atari games have astronomical number of possible states. So putting everything in table is not feasible.\n",
    "\n",
    "So we need to find single general function which will give values for all possible, even for those which we have never seen before. Neural networks are the best approach for function approximation, they have the ability to compute any function.\n",
    "If the number of hidden units is made sufficiently large, under certain conditions a neural network trained with stochastic gradient descent does converge to the global minimum."
   ]
  },
  {
   "cell_type": "markdown",
   "metadata": {},
   "source": [
    "##### Q2 (2 pts): Q-Learning seems good... it's theoretically sound (at least seems to be), the performance is also good. Why would many people actually prefer policy gradient type algorithms in some practical problems?"
   ]
  },
  {
   "cell_type": "raw",
   "metadata": {},
   "source": [
    "Your answer: \n",
    "Q-learning is a value based method, we calculate the Q-values for all possible actions in action space for a given state and we pick the max value and its corresponding action.\n",
    "But in high dimensional/continuous action space, where the number of actions is a lot or not imaginable, like a robot walking, we need to learn the optimal policy for higher dimensional action space, which policy based methods exactly do. There is no straightforward way to handle continuous actions in Q-Learning.\n",
    "\n",
    "In policy based methods like Policy Gradient, we directly learn our policy function π without worrying about a value function, which means we can choose actions without calculate the Q(S,A) values.\n",
    "Policy gradient methods work better than value-based methods (like DQN) with continuous action spaces.\n",
    "Policy based methods in non-deterministic environment it can learn the stochastic policy (outputs the probabilities for every action) which is useful for handling the exploration/exploitation trade off."
   ]
  },
  {
   "cell_type": "markdown",
   "metadata": {},
   "source": [
    "##### Q3 (2 pts): Does the policy gradient algorithm (A2C) we implemented here extend to continuous action space? How would you do that? Hint: What is a reasonable distribution assumption for policy $\\pi_{\\theta}(a|s)$ if $a$ lives in continuous space?"
   ]
  },
  {
   "cell_type": "raw",
   "metadata": {},
   "source": [
    "Your answer: \n",
    "Policy gradient algorithm (A2C) can be extended to continuous action space. \n",
    "In discrete action space, the policy gradient algorithm generates logits which pass through softmax function to give  probabilities between 0 and 1 which all add up to 1.\t\n",
    "\n",
    "This is then used as a probability distribution to pick a random action ensuring exploration, and the more the network gets trained and becomes confident about the correct action the exploitation rate increases and likewise exploration rate decreases. Continuous action tasks rather than discrete probabilities take floating point inputs in a certain range say -1 to +1.\n",
    "\n",
    "So in this case in order to facilitate exploration sample values will be drawn from normal probability distribution. In this case the policy network will have two output heads instead of one,  'mean' and 'standard deviation' of the probability distribution function.\n",
    "\n",
    "As the network gets more and more certain about the optimum  value of the output, standard deviation gets smaller and smaller, which indicates we are expoiting instead of exploring.\n",
    "With discrete actions loss functions was based on log probability,  and continuous action space will have log probability of normal distribution, ebven though the equation will be little different.\n",
    "\n",
    "So for actor-critic to work continuous action space, first we have to modify the policy head to mean and standard deviation of each continuous action.\n",
    "Then we have to modify the loss function to the negative log probability of the normal distribution. Lastly we have to modify the entropy bonus to entropy of a normal distribution, and we can use stochastic gradient descent on the modified loss function."
   ]
  },
  {
   "cell_type": "markdown",
   "metadata": {},
   "source": [
    "##### Q4 (2 pts): The policy gradient algorithm (A2C) we implemented uses on-policy data. Can you think of a way to extend it to utilize off-policy data? Hint: Importance sampling, needs some approximation though"
   ]
  },
  {
   "cell_type": "raw",
   "metadata": {},
   "source": [
    "Your answer: \n",
    "In on-policy methods, training samples are collected according to the target policy — the very same policy that we are trying to optimize for.\n",
    "A2c can be extended to off-policy data, the off-policy methods does not require full trajectories and can reuse any past episodes like experience replay etc. for much better sample efficiency. The sample collection follows a behavior policy different from the target policy and perform better exploration.\n",
    "\n",
    "In off-policy, Qπ the action-value function is estimated with respect to target policy π, and not behaviour policy. It is very hard to compute gradient of Qπ(s,a) in practical scenarios. But if we use an approximated gradient with the gradient of Q, there is still guarantee of the policy improvement and eventually achieve the true local minimum as was proved by (Degris, White & Sutton, 2012). So we can say that when extending policy gradient in the off-policy setting, we can adjust it with a weighted sum, and the weight is the ratio of the target policy to the behavior policy.\n",
    "weighted sum = (target_policy)/(behaviour_policy)"
   ]
  },
  {
   "cell_type": "markdown",
   "metadata": {},
   "source": [
    "##### Q5 (2 pts): How to compare different RL algorithms? When can I say one algorithm is better than the other? Hint: This question is quite open. Think about speed, complexity, tasks, etc."
   ]
  },
  {
   "cell_type": "raw",
   "metadata": {},
   "source": [
    "Your answer: \n",
    "Lets discuss below different RL algorithms.\n",
    "\n",
    "(1) There are model-free and model-based algorithms.\n",
    "Model-free algorithms rely on trial-and-error to update its knowledge. They learns directly from experience, perform actions  in the real world, then collect reward from the environment, and update their value functions. As a result, it does not require space to store all the combination of states and actions, and are a reliable choice as the state-space and action-space grows.\n",
    "\n",
    "Conversely Model-Based algorithm aims to construct a model based on the real-world interactions, and then use this model to simulate the further episodes, not in the real environment but by applying them to the constructed model and get the results returned by that model. This gives the advantage of speeding the learning, since there is no need to wait for the environment to respond nor to reset the environment to some state in order to resume learning. On the negative side however, if the model is inaccurate, we risk learning something completely different from the reality. Also model-based algorithms become impractical as the state-space and action-space grows.\n",
    "\n",
    "(2) There are on-policy and off-policy RL algorithms. There are two phases of an RL algorithm: the learning (or training) phase and the inference (or behaviour) phase (after the training phase). The distinction between on-policy and off-policy algorithms only concerns the training phase. \n",
    "Off-policy algorithm during training uses a behaviour policy (policy it uses to select actions) that is different than the optimal policy it tries to estimate (the optimal policy). \n",
    "For example, Q-Learning is an off-policy, model-free RL algorithm based on the Bellman Equation. It updates its Q-values using the Q-value of the next state s′ and the greedy action a′. It estimates the total discounted future reward for state-action pairs assuming a greedy policy were followed despite the fact that it's not following a greedy policy.\n",
    "\n",
    "On otherhand, an on-policy algorithm that during training chooses actions using a policy that is derived from the current estimate of the optimal policy, while the updates are also based on the current estimate of the optimal policy. \n",
    "For example,  SARSA is on-policy, it updates its Q-values using the Q-value of the next state s′ and the current policy's action a′′. It estimates the return for state-action pairs assuming the current policy continues to be followed. Because SARSA follows the action which is actually being taken in the next step, it has the advantage that the policy that it follows will be more optimal and learning will be faster.\n",
    "\n",
    "Off-policy learning in general has higher per-sample variance than On-policy, and may suffer from problems converging as a result, for example while training neural networks via Q-learning.\n",
    "On-policy algorithm like SARSA will approach convergence allowing for possible penalties from exploratory moves, while off-policy algorithm like Q-learning will ignore them. That makes On-policy more conservative - if there is risk of a large negative reward close to the optimal path, Q-learning will tend to trigger that reward whilst exploring, whilst SARSA will tend to avoid a dangerous optimal path and only slowly learn to use it when the exploration parameters are reduced.\n",
    "\n",
    "To make a choice between on and off policy, there are many real-world constraints.\n",
    "For example, If there is a robot and huge money is at stake, then it would be a good idea train the robot in simulation and to prefer more conservative learning algorithm that avoids high risk.\n",
    "If my goal is to train an optimal agent in simulation, or in a low-cost and fast-iterating environment,then off-policy algorithm Q-learning is a good choice, due to the ability to learn optimal policy directly. If my agent learns online, and I want rewards gained whilst learning, then on-policy algorithm like SARSA may be a better choice.\n",
    "\n",
    "(3)Lets discuss DQN algorithm.The main weakness of Q-learning is lack of generality. For states that the Q-learning agent has not seen before, it has no clear path to guide its next action, that is it does not have the ability to estimate values in unseen states. It is in this area that DQN excels, DQN leverages a Neural Network to estimate the Q-value function. \n",
    "In DQN, if training data is highly correlate and less data-efficient then 'experience replay' technique is used for training DQN. There is another technique, 'separate target network', in which it separates Target Network from Learning Network so that variance and fluctuations becomes less severe and stability in training increases.\n",
    "\n",
    "(4) Although DQN achieved high success in higher dimensional problem, but its action space is still discrete and in many physical control tasks if we discretize the action space too finely, we wind up having an action space that is too large, and it becomes extremely hard to converge. \n",
    "Deep Deterministic Policy Gradient (DDPG) is can be used in that scenario, as it borrows the ideas of experience replay and separate target network from DQN.\n"
   ]
  }
 ],
 "metadata": {
  "kernelspec": {
   "display_name": "Python 3",
   "language": "python",
   "name": "python3"
  },
  "language_info": {
   "codemirror_mode": {
    "name": "ipython",
    "version": 3
   },
   "file_extension": ".py",
   "mimetype": "text/x-python",
   "name": "python",
   "nbconvert_exporter": "python",
   "pygments_lexer": "ipython3",
   "version": "3.6.8"
  }
 },
 "nbformat": 4,
 "nbformat_minor": 2
}
