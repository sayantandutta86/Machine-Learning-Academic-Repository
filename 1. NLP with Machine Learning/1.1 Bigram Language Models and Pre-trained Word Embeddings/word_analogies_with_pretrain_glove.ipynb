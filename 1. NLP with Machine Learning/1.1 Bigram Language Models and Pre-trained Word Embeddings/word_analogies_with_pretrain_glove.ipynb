{
  "nbformat": 4,
  "nbformat_minor": 0,
  "metadata": {
    "colab": {
      "name": "word_analogies_with pretrain_glove.ipynb",
      "provenance": [],
      "collapsed_sections": []
    },
    "kernelspec": {
      "name": "python3",
      "display_name": "Python 3"
    }
  },
  "cells": [
    {
      "cell_type": "code",
      "metadata": {
        "id": "WzJGz291Hgck",
        "colab_type": "code",
        "colab": {}
      },
      "source": [
        "import os; os.chdir('/content/drive/My Drive/Colab Notebooks/Lazy courses/NLP2/pretrained_glove_data')"
      ],
      "execution_count": 0,
      "outputs": []
    },
    {
      "cell_type": "code",
      "metadata": {
        "id": "U9R9GsVc0AD2",
        "colab_type": "code",
        "colab": {}
      },
      "source": [
        "## WHERE TO GET THE VECTORS:\n",
        "# GloVe: https://nlp.stanford.edu/projects/glove/\n",
        "# Direct link: http://nlp.stanford.edu/data/glove.6B.zip"
      ],
      "execution_count": 0,
      "outputs": []
    },
    {
      "cell_type": "code",
      "metadata": {
        "id": "1h2N0h__P22u",
        "colab_type": "code",
        "colab": {}
      },
      "source": [
        "import numpy as np\n",
        "from sklearn.metrics.pairwise import pairwise_distances"
      ],
      "execution_count": 0,
      "outputs": []
    },
    {
      "cell_type": "code",
      "metadata": {
        "id": "UVMLBzlJP25e",
        "colab_type": "code",
        "colab": {}
      },
      "source": [
        "def dist1(a, b):\n",
        "    return np.linalg.norm(a-b)\n",
        "\n",
        "def dist2(a,b):\n",
        "    return 1 - a.dot(b) / (np.linalg.norm(a) * np.linalg.norm(b))"
      ],
      "execution_count": 0,
      "outputs": []
    },
    {
      "cell_type": "code",
      "metadata": {
        "id": "lmMX2NaqP28E",
        "colab_type": "code",
        "colab": {}
      },
      "source": [
        "#pick a distance type\n",
        "dist, metric = dist2, 'cosine'\n",
        "# dist, metric = dist1, 'euclidean'"
      ],
      "execution_count": 0,
      "outputs": []
    },
    {
      "cell_type": "code",
      "metadata": {
        "id": "gM56UQPdP2-d",
        "colab_type": "code",
        "outputId": "5681470d-3b32-4fa7-8b4b-5f3d036930cd",
        "colab": {
          "base_uri": "https://localhost:8080/",
          "height": 54
        }
      },
      "source": [
        "''' more intuitive way to calculate distance\n",
        "\n",
        "def find_analogies(w1, w2, w3):\n",
        "    for w in (w1, w2, w3):\n",
        "        if w not in word2vec:\n",
        "            print(\"%s not in dictionary\" %w)\n",
        "            return\n",
        "    \n",
        "    king = word2vec[w1]\n",
        "    man = word2vec[w2]\n",
        "    woman = wprd2vec[w3]\n",
        "    v0 = king - man + woman\n",
        "    min_dist = float('inf)\n",
        "    best_word = ''\n",
        "    for word, v1 in word2vec.items():\n",
        "        if word not in (w1, w2, w3):\n",
        "            d = dist(v0, v1)\n",
        "            if d < min_dist:\n",
        "                min_dist = d\n",
        "                best_word = word\n",
        "    print(w1, \"-\", w2, \"=\", best_word, \"-\", w3)\n",
        "\n",
        "'''    "
      ],
      "execution_count": 0,
      "outputs": [
        {
          "output_type": "execute_result",
          "data": {
            "text/plain": [
              "' more intuitive way to calculate distance\\n\\ndef find_analogies(w1, w2, w3):\\n    for w in (w1, w2, w3):\\n        if w not in word2vec:\\n            print(\"%s not in dictionary\" %w)\\n            return\\n    \\n    king = word2vec[w1]\\n    man = word2vec[w2]\\n    woman = wprd2vec[w3]\\n    v0 = king - man + woman\\n    min_dist = float(\\'inf)\\n    best_word = \\'\\'\\n    for word, v1 in word2vec.items():\\n        if word not in (w1, w2, w3):\\n            d = dist(v0, v1)\\n            if d < min_dist:\\n                min_dist = d\\n                best_word = word\\n    print(w1, \"-\", w2, \"=\", best_word, \"-\", w3)\\n\\n'"
            ]
          },
          "metadata": {
            "tags": []
          },
          "execution_count": 39
        }
      ]
    },
    {
      "cell_type": "code",
      "metadata": {
        "id": "D0jw9k7vP3DG",
        "colab_type": "code",
        "colab": {}
      },
      "source": [
        "#faster way using sklearn package\n",
        "def find_analogies(w1, w2, w3):\n",
        "    for w in (w1, w2, w3):\n",
        "        if w not in word2vec:\n",
        "            print(f\"{w} not in dictionary\")\n",
        "            return\n",
        "    \n",
        "    king = word2vec[w1]\n",
        "    man = word2vec[w2]\n",
        "    woman = word2vec[w3]\n",
        "    v0 = king - man + woman\n",
        "\n",
        "    distances = pairwise_distances(v0.reshape(1, D), embedding, metric = metric).reshape(V)\n",
        "    idxs =  distances.argsort()[:4]\n",
        "    for idx in idxs:\n",
        "        word = idx2word[idx]\n",
        "        if word not in (w1, w2, w3):\n",
        "            best_word = word\n",
        "            break\n",
        "\n",
        "    print(w1, \"-\", w2, \"=\", best_word, \"-\", w3)\n"
      ],
      "execution_count": 0,
      "outputs": []
    },
    {
      "cell_type": "code",
      "metadata": {
        "id": "sUS_nShOP3Fq",
        "colab_type": "code",
        "colab": {}
      },
      "source": [
        "def nearest_neighbors(w, n=5):\n",
        "    if w not in word2vec:\n",
        "        print(f\"{w} not in dictionary\")\n",
        "        return\n",
        "\n",
        "    v = word2vec[w]\n",
        "    distances = pairwise_distances(v.reshape(1, D), embedding, metric= metric).reshape(V)\n",
        "    \n",
        "    idxs = distances.argsort()[1:n+1]\n",
        "    print(f\"Neighbours of: {w}\")\n",
        "    for idx in idxs:\n",
        "        print(f\"\\t {idx2word[idx]}\")"
      ],
      "execution_count": 0,
      "outputs": []
    },
    {
      "cell_type": "code",
      "metadata": {
        "id": "qbjR52pjP3IX",
        "colab_type": "code",
        "outputId": "5c21a4a2-8591-46e6-c13f-678d6e17bceb",
        "colab": {
          "base_uri": "https://localhost:8080/",
          "height": 34
        }
      },
      "source": [
        "#load pre-trained word vectors\n",
        "word2vec = {}\n",
        "embedding = []\n",
        "idx2word = []\n",
        "\n",
        "with open('glove.6B.50d.txt', encoding='utf-8') as f:\n",
        "    #data is space separated text file format\n",
        "    # word vec[0] vec[1] vec[2] ...\n",
        "    for line in f:\n",
        "        values = line.split()\n",
        "        word = values[0]\n",
        "        vec = np.asarray(values[1:], dtype = 'float32')\n",
        "        word2vec[word] = vec\n",
        "        embedding.append(vec)\n",
        "        idx2word.append(word)\n",
        "\n",
        "print(f\"Found {len(word2vec)} word vectors.\")\n",
        "embedding = np.array(embedding)\n",
        "V, D = embedding.shape\n"
      ],
      "execution_count": 0,
      "outputs": [
        {
          "output_type": "stream",
          "text": [
            "Found 400000 word vectors.\n"
          ],
          "name": "stdout"
        }
      ]
    },
    {
      "cell_type": "code",
      "metadata": {
        "id": "Tm7DgJDMP3Kx",
        "colab_type": "code",
        "outputId": "20c23c41-14d5-4085-db83-40af4da7c86f",
        "colab": {
          "base_uri": "https://localhost:8080/",
          "height": 1000
        }
      },
      "source": [
        "find_analogies('king', 'man', 'woman')\n",
        "find_analogies('france', 'paris', 'london')\n",
        "find_analogies('france', 'paris', 'rome')\n",
        "find_analogies('paris', 'france', 'italy')\n",
        "find_analogies('france', 'french', 'english')\n",
        "find_analogies('japan', 'japanese', 'chinese')\n",
        "find_analogies('japan', 'japanese', 'italian')\n",
        "find_analogies('japan', 'japanese', 'australian')\n",
        "find_analogies('december', 'november', 'june')\n",
        "find_analogies('miami', 'florida', 'texas')\n",
        "find_analogies('einstein', 'scientist', 'painter')\n",
        "find_analogies('china', 'rice', 'bread')\n",
        "find_analogies('man', 'woman', 'she')\n",
        "find_analogies('man', 'woman', 'aunt')\n",
        "find_analogies('man', 'woman', 'sister')\n",
        "find_analogies('man', 'woman', 'wife')\n",
        "find_analogies('man', 'woman', 'actress')\n",
        "find_analogies('man', 'woman', 'mother')\n",
        "find_analogies('heir', 'heiress', 'princess')\n",
        "find_analogies('nephew', 'niece', 'aunt')\n",
        "find_analogies('france', 'paris', 'tokyo')\n",
        "find_analogies('france', 'paris', 'beijing')\n",
        "find_analogies('february', 'january', 'november')\n",
        "find_analogies('france', 'paris', 'rome')\n",
        "find_analogies('paris', 'france', 'italy')\n",
        "\n",
        "nearest_neighbors('king')\n",
        "nearest_neighbors('france')\n",
        "nearest_neighbors('japan')\n",
        "nearest_neighbors('einstein')\n",
        "nearest_neighbors('woman')\n",
        "nearest_neighbors('nephew')\n",
        "nearest_neighbors('february')\n",
        "nearest_neighbors('rome')"
      ],
      "execution_count": 0,
      "outputs": [
        {
          "output_type": "stream",
          "text": [
            "king - man = queen - woman\n",
            "france - paris = britain - london\n",
            "france - paris = italy - rome\n",
            "paris - france = rome - italy\n",
            "france - french = england - english\n",
            "japan - japanese = china - chinese\n",
            "japan - japanese = italy - italian\n",
            "japan - japanese = australia - australian\n",
            "december - november = july - june\n",
            "miami - florida = houston - texas\n",
            "einstein - scientist = matisse - painter\n",
            "china - rice = chinese - bread\n",
            "man - woman = he - she\n",
            "man - woman = uncle - aunt\n",
            "man - woman = brother - sister\n",
            "man - woman = friend - wife\n",
            "man - woman = actor - actress\n",
            "man - woman = father - mother\n",
            "heir - heiress = queen - princess\n",
            "nephew - niece = uncle - aunt\n",
            "france - paris = japan - tokyo\n",
            "france - paris = china - beijing\n",
            "february - january = october - november\n",
            "france - paris = italy - rome\n",
            "paris - france = rome - italy\n",
            "Neighbours of: king\n",
            "\t prince\n",
            "\t queen\n",
            "\t ii\n",
            "\t emperor\n",
            "\t son\n",
            "Neighbours of: france\n",
            "\t french\n",
            "\t belgium\n",
            "\t paris\n",
            "\t spain\n",
            "\t netherlands\n",
            "Neighbours of: japan\n",
            "\t japanese\n",
            "\t china\n",
            "\t korea\n",
            "\t tokyo\n",
            "\t taiwan\n",
            "Neighbours of: einstein\n",
            "\t relativity\n",
            "\t bohr\n",
            "\t physics\n",
            "\t heisenberg\n",
            "\t freud\n",
            "Neighbours of: woman\n",
            "\t girl\n",
            "\t man\n",
            "\t mother\n",
            "\t her\n",
            "\t boy\n",
            "Neighbours of: nephew\n",
            "\t cousin\n",
            "\t brother\n",
            "\t grandson\n",
            "\t son\n",
            "\t uncle\n",
            "Neighbours of: february\n",
            "\t october\n",
            "\t december\n",
            "\t january\n",
            "\t august\n",
            "\t september\n",
            "Neighbours of: rome\n",
            "\t naples\n",
            "\t venice\n",
            "\t italy\n",
            "\t turin\n",
            "\t pope\n"
          ],
          "name": "stdout"
        }
      ]
    },
    {
      "cell_type": "code",
      "metadata": {
        "id": "jGpD3QMGP3Ni",
        "colab_type": "code",
        "colab": {}
      },
      "source": [
        ""
      ],
      "execution_count": 0,
      "outputs": []
    }
  ]
}