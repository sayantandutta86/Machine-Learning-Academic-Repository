{
  "nbformat": 4,
  "nbformat_minor": 0,
  "metadata": {
    "colab": {
      "name": "echo.ipynb",
      "provenance": [],
      "collapsed_sections": []
    },
    "kernelspec": {
      "name": "python3",
      "display_name": "Python 3"
    },
    "accelerator": "GPU"
  },
  "cells": [
    {
      "cell_type": "code",
      "metadata": {
        "id": "jrs41iijyuG3",
        "colab_type": "code",
        "colab": {}
      },
      "source": [
        "import os; os.chdir('/content/drive/My Drive/Colab Notebooks/Lazy courses/CNN course/data')"
      ],
      "execution_count": 0,
      "outputs": []
    },
    {
      "cell_type": "code",
      "metadata": {
        "id": "hFg21tQXxJpJ",
        "colab_type": "code",
        "colab": {}
      },
      "source": [
        "from __future__ import print_function, division\n",
        "from builtins import range\n",
        "\n",
        "import numpy as np\n",
        "import wave\n",
        "import sys\n",
        "import matplotlib.pyplot as plt\n",
        "\n",
        "from scipy.io.wavfile import write"
      ],
      "execution_count": 0,
      "outputs": []
    },
    {
      "cell_type": "code",
      "metadata": {
        "id": "kSDabBCXye_5",
        "colab_type": "code",
        "colab": {}
      },
      "source": [
        "spf = wave.open('wav1.wav', 'r')"
      ],
      "execution_count": 0,
      "outputs": []
    },
    {
      "cell_type": "code",
      "metadata": {
        "id": "OR9Yq0FOyfis",
        "colab_type": "code",
        "colab": {
          "base_uri": "https://localhost:8080/",
          "height": 122
        },
        "outputId": "5e3caf9f-8b67-441c-c153-85130c4c9726"
      },
      "source": [
        "#extract raw audio from wav file\n",
        "signal = spf.readframes(-1)\n",
        "signal = np.fromstring(signal, 'Int16')\n",
        "print(\"numpy signal:\" , signal.shape)"
      ],
      "execution_count": 5,
      "outputs": [
        {
          "output_type": "stream",
          "text": [
            "numpy signal: (6980,)\n"
          ],
          "name": "stdout"
        },
        {
          "output_type": "stream",
          "text": [
            "/usr/local/lib/python3.6/dist-packages/ipykernel_launcher.py:2: DeprecationWarning: Numeric-style type codes are deprecated and will result in an error in the future.\n",
            "  \n",
            "/usr/local/lib/python3.6/dist-packages/ipykernel_launcher.py:2: DeprecationWarning: The binary mode of fromstring is deprecated, as it behaves surprisingly on unicode inputs. Use frombuffer instead\n",
            "  \n"
          ],
          "name": "stderr"
        }
      ]
    },
    {
      "cell_type": "code",
      "metadata": {
        "id": "LNv6y9tYyfk7",
        "colab_type": "code",
        "colab": {
          "base_uri": "https://localhost:8080/",
          "height": 281
        },
        "outputId": "35599ea3-9ecf-48c9-9fc6-fec20cb146a3"
      },
      "source": [
        "plt.plot(signal)\n",
        "plt.title(\"Signal without echo\")\n",
        "plt.show()"
      ],
      "execution_count": 8,
      "outputs": [
        {
          "output_type": "display_data",
          "data": {
            "image/png": "[encoded data removed]",
            "text/plain": [
              "<Figure size 432x288 with 1 Axes>"
            ]
          },
          "metadata": {
            "tags": []
          }
        }
      ]
    },
    {
      "cell_type": "code",
      "metadata": {
        "id": "XWu4dfDgyfpU",
        "colab_type": "code",
        "colab": {
          "base_uri": "https://localhost:8080/",
          "height": 34
        },
        "outputId": "7c324b67-d129-4ca2-b5d2-a2b04af2bcee"
      },
      "source": [
        "delta = np.array([1, 0, 0])\n",
        "noecho = np.convolve(signal, delta)\n",
        "print(\"No echo signal\", noecho.shape)\n",
        "assert(np.abs(noecho[:len(signal)] - signal).sum() < 0.000001)\n",
        "\n",
        "noecho = noecho.astype(np.int16)\n",
        "write('noecho.wav', 16000, noecho)"
      ],
      "execution_count": 10,
      "outputs": [
        {
          "output_type": "stream",
          "text": [
            "No echo signal (6982,)\n"
          ],
          "name": "stdout"
        }
      ]
    },
    {
      "cell_type": "code",
      "metadata": {
        "id": "sYUVPwF_yfnO",
        "colab_type": "code",
        "colab": {}
      },
      "source": [
        "filt = np.zeros(16000)\n",
        "filt[0] = 1\n",
        "filt[4000] = 0.6\n",
        "filt[8000] = 0.3\n",
        "filt[12000] = 0.2\n",
        "filt[15999] = 0.1\n",
        "out = np.convolve(signal, filt)\n",
        "\n",
        "out = out.astype(np.int16)\n",
        "write('out.wav', 16000, out)"
      ],
      "execution_count": 0,
      "outputs": []
    },
    {
      "cell_type": "code",
      "metadata": {
        "id": "j0gSWn3F3yzH",
        "colab_type": "code",
        "colab": {
          "base_uri": "https://localhost:8080/",
          "height": 281
        },
        "outputId": "621899b2-41ab-43c8-ed1f-f2c95e4f0ea0"
      },
      "source": [
        "plt.plot(out)\n",
        "plt.title('Signal with small echo')\n",
        "plt.show()"
      ],
      "execution_count": 12,
      "outputs": [
        {
          "output_type": "display_data",
          "data": {
            "image/png": "[encoded data removed]",
            "text/plain": [
              "<Figure size 432x288 with 1 Axes>"
            ]
          },
          "metadata": {
            "tags": []
          }
        }
      ]
    }
  ]
}