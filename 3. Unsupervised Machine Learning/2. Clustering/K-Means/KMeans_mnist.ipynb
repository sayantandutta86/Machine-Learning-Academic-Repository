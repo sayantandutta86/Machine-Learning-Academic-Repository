{
  "nbformat": 4,
  "nbformat_minor": 0,
  "metadata": {
    "colab": {
      "name": "KMeans_mnist.ipynb",
      "provenance": [],
      "collapsed_sections": []
    },
    "kernelspec": {
      "name": "python3",
      "display_name": "Python 3"
    }
  },
  "cells": [
    {
      "cell_type": "code",
      "metadata": {
        "id": "vqkrnH0BF9sx",
        "colab_type": "code",
        "colab": {}
      },
      "source": [
        "import os ; os.chdir('/content/drive/My Drive/Colab Notebooks/Lazy courses/Unsupervised Learning')"
      ],
      "execution_count": 0,
      "outputs": []
    },
    {
      "cell_type": "code",
      "metadata": {
        "id": "pqNm7_f-E4iO",
        "colab_type": "code",
        "colab": {}
      },
      "source": [
        "import numpy as np\n",
        "import pandas as pd\n",
        "import matplotlib.pyplot as plt\n",
        "from kmeans import plot_k_means, get_simple_data\n",
        "from datetime import datetime"
      ],
      "execution_count": 0,
      "outputs": []
    },
    {
      "cell_type": "code",
      "metadata": {
        "id": "Jnzke7F4FVK1",
        "colab_type": "code",
        "colab": {}
      },
      "source": [
        "def get_data(limit=None):\n",
        "    print(\"Reading in and transforming data..\")\n",
        "    df = pd.read_csv('train.csv')\n",
        "    data = df.values\n",
        "    np.random.shuffle(data)\n",
        "    X = data[:, 1:] / 255.0 #normalizing data\n",
        "    Y = data[:, 0]\n",
        "    if limit is not None:\n",
        "        X, Y = X[:limit], Y[:limit]\n",
        "    return X, Y"
      ],
      "execution_count": 0,
      "outputs": []
    },
    {
      "cell_type": "code",
      "metadata": {
        "id": "ESUEtuzdFVNR",
        "colab_type": "code",
        "colab": {}
      },
      "source": [
        "#hard labels\n",
        "def purity2(Y, R):\n",
        "    #maximum purity is 1, higher is better\n",
        "    C = np.argmax(R, axis=1) #cluster assigments, take the max. responsibility as its cluster\n",
        "\n",
        "    N = len(Y) #number of data points\n",
        "    K = len(set(Y)) #number of labels\n",
        "\n",
        "    total = 0.0\n",
        "    for k in range(K):\n",
        "        max_intersection = 0\n",
        "        for j in range(K):\n",
        "            intersection = ((C==k) & (Y==j)).sum()\n",
        "            if intersection > max_intersection:\n",
        "                max_intersection = intersection\n",
        "\n",
        "        total += max_intersection\n",
        "    return total / N"
      ],
      "execution_count": 0,
      "outputs": []
    },
    {
      "cell_type": "code",
      "metadata": {
        "id": "lVUU5NXyFVQv",
        "colab_type": "code",
        "colab": {}
      },
      "source": [
        "def purity(Y, R):\n",
        "    #maximum purity is 1, higher is better\n",
        "    N, K = R.shape\n",
        "    p = 0\n",
        "    for k in range(K):\n",
        "        best_target = -1 #we don't strictly need to store this\n",
        "        max_intersection = 0 \n",
        "        for j in range(K):\n",
        "            intersection = R[Y==j, k].sum()\n",
        "            if intersection > max_intersection:\n",
        "                max_intersection = intersection\n",
        "                best_target = j\n",
        "        p += max_intersection\n",
        "    return p / N        "
      ],
      "execution_count": 0,
      "outputs": []
    },
    {
      "cell_type": "code",
      "metadata": {
        "id": "PR8PBn-KFVTG",
        "colab_type": "code",
        "colab": {}
      },
      "source": [
        "#hard labels\n",
        "#Davies-Bouldin index calculation\n",
        "def DBI2(X, R):\n",
        "    N, D = X.shape\n",
        "    _, K = R.shape\n",
        "\n",
        "    #get sigmas, means first\n",
        "    sigma = np.zeros(K)\n",
        "    M = np.zeros((K, D))\n",
        "    assignments = np.argmax(R, axis=1)\n",
        "    for k in range(K):\n",
        "        Xk = X[assignments == k]\n",
        "        M[k] = Xk.mean(axis=0)\n",
        "        n = len(Xk)\n",
        "        diffs = Xk - M[k]\n",
        "        sq_diffs = diffs * diffs \n",
        "        sigma[k] = np.sqrt(sq_diffs.sum() / n)\n",
        "\n",
        "    #calculate Davies-Bouldin Index\n",
        "    dbi = 0\n",
        "    for k in range(K):\n",
        "        max_ratio = 0\n",
        "        for j in range(K):\n",
        "            if k != j:\n",
        "                numerator = sigma[k] + sigma[j]\n",
        "                denominator = np.linalg.norm(M[k] - M[j])\n",
        "                ratio = numerator / denominator\n",
        "                if ratio > max_ratio:\n",
        "                    max_ratio = ratio\n",
        "        dbi += max_ratio\n",
        "\n",
        "    return dbi / K"
      ],
      "execution_count": 0,
      "outputs": []
    },
    {
      "cell_type": "code",
      "metadata": {
        "id": "YhlLh_5-FVWo",
        "colab_type": "code",
        "colab": {}
      },
      "source": [
        "def DBI(X, M, R):\n",
        "    #ratio between (sum of std deviation between 2 clusters) / (distance between cluster means)\n",
        "    #lower is better\n",
        "    N, D = X.shape\n",
        "    K, _ = M.shape\n",
        "\n",
        "    #get sigmas first\n",
        "    sigma = np.zeros(K)\n",
        "    for k in range(K):\n",
        "        diffs = X - M[k] #should be NxD\n",
        "        squared_distances = (diffs * diffs).sum(axis=1) #now just N\n",
        "        weighted_squared_distances = R[:,k] * squared_distances\n",
        "        sigma[k] = np.sqrt(weighted_squared_distances.sum() / R[:,k].sum())\n",
        "\n",
        "    # calculate Davies-Bouldin Index\n",
        "    dbi = 0 \n",
        "    for k in range(K):\n",
        "        max_ratio = 0 \n",
        "        for j in range(K):\n",
        "            if k != j:\n",
        "                numerator = sigma[k] + sigma[j]\n",
        "                denominator = np.linalg.norm(M[k] - M[j])\n",
        "                ratio = numerator / denominator\n",
        "                if ratio > max_ratio:\n",
        "                    max_ratio = ratio\n",
        "\n",
        "        dbi += max_ratio\n",
        "    \n",
        "    return dbi / K"
      ],
      "execution_count": 0,
      "outputs": []
    },
    {
      "cell_type": "code",
      "metadata": {
        "id": "4sTu4MoBFVYw",
        "colab_type": "code",
        "colab": {}
      },
      "source": [
        "def main():\n",
        "    #mnist data\n",
        "    X, Y = get_data(10000)\n",
        "\n",
        "    print(\"Number of data points:\", len(Y))\n",
        "    M, R = plot_k_means(X, len(set(Y)))\n",
        "\n",
        "    print(\"Purity:\", purity(Y, R))\n",
        "    print(\"Purity 2 (hard clusters):\", purity2(Y, R))\n",
        "    print(\"DBI:\", DBI(X, M, R))\n",
        "    print(\"DBI 2 (hard clusters):\", DBI2(X,R))\n",
        "\n",
        "    #plot the mean images \n",
        "    #they should look like images\n",
        "    for k in range(len(M)):\n",
        "        im = M[k].reshape(28, 28)\n",
        "        plt.imshow(im, cmap='gray')\n",
        "        plt.show()"
      ],
      "execution_count": 0,
      "outputs": []
    },
    {
      "cell_type": "code",
      "metadata": {
        "id": "SdRpsV5BFVaz",
        "colab_type": "code",
        "colab": {
          "base_uri": "https://localhost:8080/",
          "height": 1000
        },
        "outputId": "bbbf8444-199c-400d-eb08-06fe44f55d7b"
      },
      "source": [
        "if __name__=='__main__':\n",
        "    main()"
      ],
      "execution_count": 20,
      "outputs": [
        {
          "output_type": "stream",
          "text": [
            "Reading in and transforming data..\n",
            "Number of data points: 10000\n",
            "Final cost 393843.88877119793\n",
            "Purity: 0.5692165217052084\n",
            "Purity 2 (hard clusters): 0.5695\n",
            "DBI: 2.8851877861574393\n",
            "DBI 2 (hard clusters): 2.8849154562758264\n"
          ],
          "name": "stdout"
        },
        {
          "output_type": "display_data",
          "data": {
            "image/png": "[encoded data removed]",
            "text/plain": [
              "<Figure size 432x288 with 1 Axes>"
            ]
          },
          "metadata": {
            "tags": [],
            "needs_background": "light"
          }
        },
        {
          "output_type": "display_data",
          "data": {
            "image/png": "[encoded data removed]",
            "text/plain": [
              "<Figure size 432x288 with 1 Axes>"
            ]
          },
          "metadata": {
            "tags": [],
            "needs_background": "light"
          }
        },
        {
          "output_type": "display_data",
          "data": {
            "image/png": "[encoded data removed]",
            "text/plain": [
              "<Figure size 432x288 with 1 Axes>"
            ]
          },
          "metadata": {
            "tags": [],
            "needs_background": "light"
          }
        },
        {
          "output_type": "display_data",
          "data": {
            "image/png": "[encoded data removed]",
            "text/plain": [
              "<Figure size 432x288 with 1 Axes>"
            ]
          },
          "metadata": {
            "tags": [],
            "needs_background": "light"
          }
        },
        {
          "output_type": "display_data",
          "data": {
            "image/png": "[encoded data removed]",
            "text/plain": [
              "<Figure size 432x288 with 1 Axes>"
            ]
          },
          "metadata": {
            "tags": [],
            "needs_background": "light"
          }
        },
        {
          "output_type": "display_data",
          "data": {
            "image/png": "[encoded data removed]",
            "text/plain": [
              "<Figure size 432x288 with 1 Axes>"
            ]
          },
          "metadata": {
            "tags": [],
            "needs_background": "light"
          }
        },
        {
          "output_type": "display_data",
          "data": {
            "image/png": "[encoded data removed]",
            "text/plain": [
              "<Figure size 432x288 with 1 Axes>"
            ]
          },
          "metadata": {
            "tags": [],
            "needs_background": "light"
          }
        },
        {
          "output_type": "display_data",
          "data": {
            "image/png": "[encoded data removed]",
            "text/plain": [
              "<Figure size 432x288 with 1 Axes>"
            ]
          },
          "metadata": {
            "tags": [],
            "needs_background": "light"
          }
        },
        {
          "output_type": "display_data",
          "data": {
            "image/png": "[encoded data removed]",
            "text/plain": [
              "<Figure size 432x288 with 1 Axes>"
            ]
          },
          "metadata": {
            "tags": [],
            "needs_background": "light"
          }
        },
        {
          "output_type": "display_data",
          "data": {
            "image/png": "[encoded data removed]",
            "text/plain": [
              "<Figure size 432x288 with 1 Axes>"
            ]
          },
          "metadata": {
            "tags": [],
            "needs_background": "light"
          }
        }
      ]
    },
    {
      "cell_type": "code",
      "metadata": {
        "id": "Z70UL1XsFVet",
        "colab_type": "code",
        "colab": {}
      },
      "source": [
        ""
      ],
      "execution_count": 0,
      "outputs": []
    },
    {
      "cell_type": "code",
      "metadata": {
        "id": "ipQbwaMIFViv",
        "colab_type": "code",
        "colab": {}
      },
      "source": [
        ""
      ],
      "execution_count": 0,
      "outputs": []
    },
    {
      "cell_type": "code",
      "metadata": {
        "id": "W03_Nti5FVmc",
        "colab_type": "code",
        "colab": {}
      },
      "source": [
        ""
      ],
      "execution_count": 0,
      "outputs": []
    },
    {
      "cell_type": "code",
      "metadata": {
        "id": "O0Mc2uRVFVor",
        "colab_type": "code",
        "colab": {}
      },
      "source": [
        ""
      ],
      "execution_count": 0,
      "outputs": []
    },
    {
      "cell_type": "code",
      "metadata": {
        "id": "RYwIYmXdFVc8",
        "colab_type": "code",
        "colab": {}
      },
      "source": [
        ""
      ],
      "execution_count": 0,
      "outputs": []
    }
  ]
}