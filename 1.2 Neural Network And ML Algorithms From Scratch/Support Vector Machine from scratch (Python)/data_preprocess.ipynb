{
 "cells": [
  {
   "cell_type": "code",
   "execution_count": 3,
   "metadata": {
    "colab": {
     "base_uri": "https://localhost:8080/",
     "height": 107
    },
    "colab_type": "code",
    "id": "ug6GsadY1h-m",
    "outputId": "7c6cbb25-b499-4082-c416-95010c4c6b66"
   },
   "outputs": [
    {
     "name": "stderr",
     "output_type": "stream",
     "text": [
      "/usr/local/lib/python3.6/dist-packages/sklearn/utils/validation.py:595: DataConversionWarning: Data with input dtype <U8 was converted to float64 by the scale function.\n",
      "  warnings.warn(msg, DataConversionWarning)\n",
      "/usr/local/lib/python3.6/dist-packages/sklearn/utils/validation.py:595: DataConversionWarning: Data with input dtype <U8 was converted to float64 by the scale function.\n",
      "  warnings.warn(msg, DataConversionWarning)\n"
     ]
    }
   ],
   "source": [
    "#Data Preprocessing - Code\n",
    "#Sayantan Dutta\n",
    "\n",
    "import csv\n",
    "import numpy as np\n",
    "from sklearn import preprocessing\n",
    "\n",
    "\n",
    "def write_output(value):\n",
    "    if value[0] == \" <=50K\":\n",
    "        return -1\n",
    "    elif value[0] == \" >50K\":\n",
    "        return 1\n",
    "    else:        \n",
    "        return 0\n",
    "    \n",
    "def convert_np(data):\n",
    "    labels = [write_output(e) for e in data]\n",
    "    return np.array(labels)\n",
    "\n",
    "def extractData(datafile):\n",
    "    data_list = []\n",
    "    with open(datafile, 'r') as csvfile:\n",
    "        data = csv.reader(csvfile, delimiter=',')\n",
    "        i = 0\n",
    "        for lines in data:\n",
    "            data_list.append([])\n",
    "            for element in lines:\n",
    "                data_list[i].append(element)\n",
    "            i += 1\n",
    "    return data_list\n",
    "\n",
    "def save_csv(filename, data):\n",
    "    np.savetxt(filename, data.astype(float), fmt='%f', delimiter=\",\")\n",
    "\n",
    "\n",
    "def get_cont_data(data):\n",
    "    output_data = []\n",
    "    cont_features = [0, 2, 4, 10, 11, 12]\n",
    "    output_data = [[data[i][j] for j in range(0, len(data[i])) if j in cont_features] for i in range(0, len(data))]\n",
    "    return output_data\n",
    "\n",
    "def Scale_data(data):\n",
    "    array_numpy = np.array(data)\n",
    "    return preprocessing.scale(array_numpy)\n",
    "\n",
    "def get_labels(data):\n",
    "    output_list = []\n",
    "    label_column = 14\n",
    "    output_list = [[data[i][j] for j in range(0, len(data[i])) if j == label_column] for i in range(0, len(data))]\n",
    "    return output_list\n",
    "\n",
    "\n",
    "if __name__ == '__main__':\n",
    "    train_data_provided = extractData(\"train.txt\")\n",
    "    test_data_provided = extractData(\"test.txt\")\n",
    "    train_data = get_cont_data(train_data_provided)\n",
    "    test_data = get_cont_data(test_data_provided)    \n",
    "    train_data_scaled = Scale_data(train_data)\n",
    "    test_data_scaled = Scale_data(test_data)    \n",
    "    train_data_label = get_labels(train_data_provided)\n",
    "    converted_train_label = convert_np(train_data_label)    \n",
    "    transposed_labels = np.transpose(np.array([converted_train_label]))\n",
    "    train_label_data = np.append(train_data_scaled, transposed_labels, axis=1)\n",
    "    save_csv(\"scaled_train_and_label_data.csv\", train_label_data)\n",
    "    save_csv(\"scaled_test_data.csv\", test_data_scaled)\n",
    "\n"
   ]
  }
 ],
 "metadata": {
  "colab": {
   "name": "Untitled4.ipynb",
   "provenance": [],
   "version": "0.3.2"
  },
  "kernelspec": {
   "display_name": "Python 3",
   "language": "python",
   "name": "python3"
  },
  "language_info": {
   "codemirror_mode": {
    "name": "ipython",
    "version": 3
   },
   "file_extension": ".py",
   "mimetype": "text/x-python",
   "name": "python",
   "nbconvert_exporter": "python",
   "pygments_lexer": "ipython3",
   "version": "3.6.8"
  }
 },
 "nbformat": 4,
 "nbformat_minor": 1
}
