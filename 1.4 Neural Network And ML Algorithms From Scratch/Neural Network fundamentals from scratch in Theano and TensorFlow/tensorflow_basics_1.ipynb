{
  "nbformat": 4,
  "nbformat_minor": 0,
  "metadata": {
    "colab": {
      "name": "tensorflow_basics-1.ipynb",
      "provenance": []
    },
    "kernelspec": {
      "name": "python3",
      "display_name": "Python 3"
    },
    "accelerator": "GPU"
  },
  "cells": [
    {
      "cell_type": "code",
      "metadata": {
        "id": "AqFwxWc1_sMf",
        "colab_type": "code",
        "colab": {}
      },
      "source": [
        "import os\n",
        "os.chdir('/content/drive/My Drive/Colab Notebooks/Lazy courses/DS:Deep Learning in Python/NN -Fundamental concepts from scratch')"
      ],
      "execution_count": 0,
      "outputs": []
    },
    {
      "cell_type": "code",
      "metadata": {
        "id": "XP7wfQY-__lu",
        "colab_type": "code",
        "colab": {}
      },
      "source": [
        "from __future__ import print_function, division\n",
        "from builtins import range"
      ],
      "execution_count": 0,
      "outputs": []
    },
    {
      "cell_type": "code",
      "metadata": {
        "id": "ORRsR1ZU__qO",
        "colab_type": "code",
        "outputId": "9948664f-9dba-4041-9fc4-88752e87995a",
        "colab": {
          "base_uri": "https://localhost:8080/",
          "height": 63
        }
      },
      "source": [
        "import numpy as np\n",
        "import tensorflow as tf"
      ],
      "execution_count": 0,
      "outputs": [
        {
          "output_type": "display_data",
          "data": {
            "text/html": [
              "<p style=\"color: red;\">\n",
              "The default version of TensorFlow in Colab will soon switch to TensorFlow 2.x.<br>\n",
              "We recommend you <a href=\"https://www.tensorflow.org/guide/migrate\" target=\"_blank\">upgrade</a> now \n",
              "or ensure your notebook will continue to use TensorFlow 1.x via the <code>%tensorflow_version 1.x</code> magic:\n",
              "<a href=\"https://colab.research.google.com/notebooks/tensorflow_version.ipynb\" target=\"_blank\">more info</a>.</p>\n"
            ],
            "text/plain": [
              "<IPython.core.display.HTML object>"
            ]
          },
          "metadata": {
            "tags": []
          }
        }
      ]
    },
    {
      "cell_type": "code",
      "metadata": {
        "id": "QWMqM4hF__tO",
        "colab_type": "code",
        "outputId": "1f5aa5a1-bc0e-42cc-8e48-d2f758e175d5",
        "colab": {
          "base_uri": "https://localhost:8080/",
          "height": 102
        }
      },
      "source": [
        "A = tf.placeholder(tf.float32, shape=(5,5), name='A')\n",
        "\n",
        "v = tf.placeholder(tf.float32)\n",
        "\n",
        "w = tf.matmul(A, v)\n",
        "\n",
        "with tf.Session() as session:\n",
        "    output = session.run(w, feed_dict={A: np.random.randn(5,5), v: np.random.randn(5, 1)})\n",
        "\n",
        "    print(output, type(output))"
      ],
      "execution_count": 0,
      "outputs": [
        {
          "output_type": "stream",
          "text": [
            "[[-2.6326053 ]\n",
            " [ 1.1777397 ]\n",
            " [-0.704272  ]\n",
            " [ 0.02460444]\n",
            " [-3.5154552 ]] <class 'numpy.ndarray'>\n"
          ],
          "name": "stdout"
        }
      ]
    },
    {
      "cell_type": "code",
      "metadata": {
        "id": "2df2ePTDgbfe",
        "colab_type": "code",
        "outputId": "1511d199-133b-474c-ef49-7b5016c97e99",
        "colab": {
          "base_uri": "https://localhost:8080/",
          "height": 85
        }
      },
      "source": [
        "shape = (2,2)\n",
        "x = tf.Variable(tf.random_normal(shape))\n",
        "t = tf.Variable(0) # a scaler\n",
        "init = tf.global_variables_initializer()\n",
        "with tf.Session() as session:\n",
        "    out = session.run(init)\n",
        "    print(out)\n",
        "\n",
        "    print((x.eval()))\n",
        "    print(t.eval())"
      ],
      "execution_count": 0,
      "outputs": [
        {
          "output_type": "stream",
          "text": [
            "None\n",
            "[[-0.53888106  0.22454463]\n",
            " [ 0.7721188   0.23101707]]\n",
            "0\n"
          ],
          "name": "stdout"
        }
      ]
    },
    {
      "cell_type": "code",
      "metadata": {
        "id": "0QN-vgRBkhG-",
        "colab_type": "code",
        "colab": {}
      },
      "source": [
        "#find minimum of simple cost function\n",
        "u = tf.Variable(20.0)\n",
        "\n",
        "cost = u*u + u + 1.0\n",
        "\n",
        "train_op = tf.train.GradientDescentOptimizer(0.3).minimize(cost)"
      ],
      "execution_count": 0,
      "outputs": []
    },
    {
      "cell_type": "code",
      "metadata": {
        "id": "1O-3veVigbvI",
        "colab_type": "code",
        "outputId": "9cb3428b-8746-43ae-d370-76c1cec92bfc",
        "colab": {
          "base_uri": "https://localhost:8080/",
          "height": 221
        }
      },
      "source": [
        "init = tf.global_variables_initializer()\n",
        "\n",
        "with tf.Session() as session:\n",
        "    session.run(init)\n",
        "\n",
        "    for i in range(12):\n",
        "        session.run(train_op)\n",
        "        print(\"i = %d, cost = %.3f, u= %.3f\" % (i, cost.eval(), u.eval()))"
      ],
      "execution_count": 0,
      "outputs": [
        {
          "output_type": "stream",
          "text": [
            "i = 0, cost = 67.990, u= 7.700\n",
            "i = 1, cost = 11.508, u= 2.780\n",
            "i = 2, cost = 2.471, u= 0.812\n",
            "i = 3, cost = 1.025, u= 0.025\n",
            "i = 4, cost = 0.794, u= -0.290\n",
            "i = 5, cost = 0.757, u= -0.416\n",
            "i = 6, cost = 0.751, u= -0.466\n",
            "i = 7, cost = 0.750, u= -0.487\n",
            "i = 8, cost = 0.750, u= -0.495\n",
            "i = 9, cost = 0.750, u= -0.498\n",
            "i = 10, cost = 0.750, u= -0.499\n",
            "i = 11, cost = 0.750, u= -0.500\n"
          ],
          "name": "stdout"
        }
      ]
    },
    {
      "cell_type": "code",
      "metadata": {
        "id": "wi9DGuv2gb4_",
        "colab_type": "code",
        "colab": {}
      },
      "source": [
        ""
      ],
      "execution_count": 0,
      "outputs": []
    },
    {
      "cell_type": "code",
      "metadata": {
        "id": "DcVH26X5gb9Z",
        "colab_type": "code",
        "colab": {}
      },
      "source": [
        ""
      ],
      "execution_count": 0,
      "outputs": []
    },
    {
      "cell_type": "code",
      "metadata": {
        "id": "SHeR146Lgb7F",
        "colab_type": "code",
        "colab": {}
      },
      "source": [
        ""
      ],
      "execution_count": 0,
      "outputs": []
    },
    {
      "cell_type": "code",
      "metadata": {
        "id": "Z9o8X96Kgb3B",
        "colab_type": "code",
        "colab": {}
      },
      "source": [
        ""
      ],
      "execution_count": 0,
      "outputs": []
    },
    {
      "cell_type": "code",
      "metadata": {
        "id": "x_kntEDigb11",
        "colab_type": "code",
        "colab": {}
      },
      "source": [
        ""
      ],
      "execution_count": 0,
      "outputs": []
    },
    {
      "cell_type": "code",
      "metadata": {
        "id": "bhz483ODgb0y",
        "colab_type": "code",
        "colab": {}
      },
      "source": [
        ""
      ],
      "execution_count": 0,
      "outputs": []
    },
    {
      "cell_type": "code",
      "metadata": {
        "id": "c6EnF_XngbzG",
        "colab_type": "code",
        "colab": {}
      },
      "source": [
        ""
      ],
      "execution_count": 0,
      "outputs": []
    },
    {
      "cell_type": "code",
      "metadata": {
        "id": "nDwxdeHtgbtL",
        "colab_type": "code",
        "colab": {}
      },
      "source": [
        ""
      ],
      "execution_count": 0,
      "outputs": []
    }
  ]
}