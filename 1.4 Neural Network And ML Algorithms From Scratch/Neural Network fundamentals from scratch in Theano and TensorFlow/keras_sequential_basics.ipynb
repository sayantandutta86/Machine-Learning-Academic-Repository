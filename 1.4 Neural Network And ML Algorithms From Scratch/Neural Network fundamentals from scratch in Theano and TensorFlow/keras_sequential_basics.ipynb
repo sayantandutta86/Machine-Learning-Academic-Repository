{
  "nbformat": 4,
  "nbformat_minor": 0,
  "metadata": {
    "colab": {
      "name": "keras_sequential_basics.ipynb",
      "provenance": [],
      "collapsed_sections": []
    },
    "kernelspec": {
      "name": "python3",
      "display_name": "Python 3"
    },
    "accelerator": "GPU"
  },
  "cells": [
    {
      "cell_type": "code",
      "metadata": {
        "id": "5kyfhCkN4FWb",
        "colab_type": "code",
        "colab": {}
      },
      "source": [
        "import os\n",
        "os.chdir('/content/drive/My Drive/Colab Notebooks/Lazy courses/DS:Deep Learning in Python/NN -Fundamental concepts from scratch')"
      ],
      "execution_count": 0,
      "outputs": []
    },
    {
      "cell_type": "code",
      "metadata": {
        "id": "GYthHRFa4R8_",
        "colab_type": "code",
        "colab": {}
      },
      "source": [
        "from __future__ import print_function, division\n",
        "from builtins import range\n",
        "\n",
        "from keras.models import Sequential\n",
        "from keras.layers import Dense, Activation\n",
        "from util import get_normalized_data, y2indicator\n",
        "import matplotlib.pyplot as plt\n"
      ],
      "execution_count": 0,
      "outputs": []
    },
    {
      "cell_type": "code",
      "metadata": {
        "id": "nS01NHub4SBj",
        "colab_type": "code",
        "colab": {
          "base_uri": "https://localhost:8080/",
          "height": 34
        },
        "outputId": "ff481b83-263c-484a-d6f2-a197814914af"
      },
      "source": [
        "Xtrain, Xtest, Ytrain, Ytest = get_normalized_data() #get the data"
      ],
      "execution_count": 5,
      "outputs": [
        {
          "output_type": "stream",
          "text": [
            "Reading in and transforming data\n"
          ],
          "name": "stdout"
        }
      ]
    },
    {
      "cell_type": "code",
      "metadata": {
        "id": "-22XG_yO4SEU",
        "colab_type": "code",
        "colab": {}
      },
      "source": [
        "#get shapes\n",
        "N, D = Xtrain.shape\n",
        "K = len(set(Ytrain))\n",
        "\n",
        "Ytrain = y2indicator(Ytrain)\n",
        "Ytest = y2indicator(Ytest)"
      ],
      "execution_count": 0,
      "outputs": []
    },
    {
      "cell_type": "code",
      "metadata": {
        "id": "LXajszWa4SI9",
        "colab_type": "code",
        "colab": {
          "base_uri": "https://localhost:8080/",
          "height": 71
        },
        "outputId": "d90454a4-9195-408d-cf19-ec09a023a48a"
      },
      "source": [
        "#the model will be of sequential layers\n",
        "model = Sequential()"
      ],
      "execution_count": 8,
      "outputs": [
        {
          "output_type": "stream",
          "text": [
            "WARNING:tensorflow:From /usr/local/lib/python3.6/dist-packages/keras/backend/tensorflow_backend.py:66: The name tf.get_default_graph is deprecated. Please use tf.compat.v1.get_default_graph instead.\n",
            "\n"
          ],
          "name": "stdout"
        }
      ]
    },
    {
      "cell_type": "code",
      "metadata": {
        "id": "6NzwE6Bn4SHC",
        "colab_type": "code",
        "colab": {
          "base_uri": "https://localhost:8080/",
          "height": 105
        },
        "outputId": "fb4e1c9e-3b24-4042-adc7-d701941b8c68"
      },
      "source": [
        "#ANN with layers [784] --> [500] --> [10]\n",
        "model.add(Dense(units=500, input_dim=D))\n",
        "model.add(Activation('relu'))\n",
        "model.add(Dense(units=300))\n",
        "model.add(Activation('relu'))\n",
        "model.add(Dense(units=K))\n",
        "model.add(Activation('softmax'))\n",
        "\n",
        "model.compile(loss='categorical_crossentropy', optimizer='adam', metrics=['accuracy'])"
      ],
      "execution_count": 10,
      "outputs": [
        {
          "output_type": "stream",
          "text": [
            "WARNING:tensorflow:From /usr/local/lib/python3.6/dist-packages/keras/optimizers.py:793: The name tf.train.Optimizer is deprecated. Please use tf.compat.v1.train.Optimizer instead.\n",
            "\n",
            "WARNING:tensorflow:From /usr/local/lib/python3.6/dist-packages/keras/backend/tensorflow_backend.py:3576: The name tf.log is deprecated. Please use tf.math.log instead.\n",
            "\n"
          ],
          "name": "stdout"
        }
      ]
    },
    {
      "cell_type": "code",
      "metadata": {
        "id": "llQsjF4m-s91",
        "colab_type": "code",
        "colab": {
          "base_uri": "https://localhost:8080/",
          "height": 904
        },
        "outputId": "efc23e99-62b8-4eda-a933-65574b0f9df9"
      },
      "source": [
        "r = model.fit(Xtrain, Ytrain, validation_data=(Xtest, Ytest), epochs=15, batch_size=32)\n",
        "print(\"Returned:\", r)"
      ],
      "execution_count": 11,
      "outputs": [
        {
          "output_type": "stream",
          "text": [
            "WARNING:tensorflow:From /usr/local/lib/python3.6/dist-packages/tensorflow_core/python/ops/math_grad.py:1424: where (from tensorflow.python.ops.array_ops) is deprecated and will be removed in a future version.\n",
            "Instructions for updating:\n",
            "Use tf.where in 2.0, which has the same broadcast rule as np.where\n",
            "WARNING:tensorflow:From /usr/local/lib/python3.6/dist-packages/keras/backend/tensorflow_backend.py:1033: The name tf.assign_add is deprecated. Please use tf.compat.v1.assign_add instead.\n",
            "\n",
            "WARNING:tensorflow:From /usr/local/lib/python3.6/dist-packages/keras/backend/tensorflow_backend.py:1020: The name tf.assign is deprecated. Please use tf.compat.v1.assign instead.\n",
            "\n",
            "WARNING:tensorflow:From /usr/local/lib/python3.6/dist-packages/keras/backend/tensorflow_backend.py:3005: The name tf.Session is deprecated. Please use tf.compat.v1.Session instead.\n",
            "\n",
            "Train on 41000 samples, validate on 1000 samples\n",
            "Epoch 1/15\n",
            "WARNING:tensorflow:From /usr/local/lib/python3.6/dist-packages/keras/backend/tensorflow_backend.py:190: The name tf.get_default_session is deprecated. Please use tf.compat.v1.get_default_session instead.\n",
            "\n",
            "WARNING:tensorflow:From /usr/local/lib/python3.6/dist-packages/keras/backend/tensorflow_backend.py:197: The name tf.ConfigProto is deprecated. Please use tf.compat.v1.ConfigProto instead.\n",
            "\n",
            "WARNING:tensorflow:From /usr/local/lib/python3.6/dist-packages/keras/backend/tensorflow_backend.py:207: The name tf.global_variables is deprecated. Please use tf.compat.v1.global_variables instead.\n",
            "\n",
            "WARNING:tensorflow:From /usr/local/lib/python3.6/dist-packages/keras/backend/tensorflow_backend.py:216: The name tf.is_variable_initialized is deprecated. Please use tf.compat.v1.is_variable_initialized instead.\n",
            "\n",
            "WARNING:tensorflow:From /usr/local/lib/python3.6/dist-packages/keras/backend/tensorflow_backend.py:223: The name tf.variables_initializer is deprecated. Please use tf.compat.v1.variables_initializer instead.\n",
            "\n",
            "41000/41000 [==============================] - 16s 395us/step - loss: 0.6480 - acc: 0.7568 - val_loss: 0.4261 - val_acc: 0.8500\n",
            "Epoch 2/15\n",
            "41000/41000 [==============================] - 7s 159us/step - loss: 0.2902 - acc: 0.9235 - val_loss: 0.2055 - val_acc: 0.9520\n",
            "Epoch 3/15\n",
            "41000/41000 [==============================] - 7s 161us/step - loss: 0.1852 - acc: 0.9549 - val_loss: 0.2048 - val_acc: 0.9490\n",
            "Epoch 4/15\n",
            "41000/41000 [==============================] - 7s 168us/step - loss: 0.1495 - acc: 0.9628 - val_loss: 0.1754 - val_acc: 0.9560\n",
            "Epoch 5/15\n",
            "41000/41000 [==============================] - 7s 173us/step - loss: 0.1321 - acc: 0.9681 - val_loss: 0.1613 - val_acc: 0.9560\n",
            "Epoch 6/15\n",
            "41000/41000 [==============================] - 7s 163us/step - loss: 0.1102 - acc: 0.9743 - val_loss: 0.1774 - val_acc: 0.9500\n",
            "Epoch 7/15\n",
            "41000/41000 [==============================] - 7s 178us/step - loss: 0.1120 - acc: 0.9739 - val_loss: 0.1650 - val_acc: 0.9560\n",
            "Epoch 8/15\n",
            "41000/41000 [==============================] - 7s 163us/step - loss: 0.1020 - acc: 0.9772 - val_loss: 0.2176 - val_acc: 0.9540\n",
            "Epoch 9/15\n",
            "41000/41000 [==============================] - 7s 172us/step - loss: 0.1018 - acc: 0.9771 - val_loss: 0.1945 - val_acc: 0.9570\n",
            "Epoch 10/15\n",
            "41000/41000 [==============================] - 7s 172us/step - loss: 0.0943 - acc: 0.9788 - val_loss: 0.1991 - val_acc: 0.9580\n",
            "Epoch 11/15\n",
            "41000/41000 [==============================] - 7s 175us/step - loss: 0.0880 - acc: 0.9805 - val_loss: 0.1719 - val_acc: 0.9620\n",
            "Epoch 12/15\n",
            "41000/41000 [==============================] - 7s 165us/step - loss: 0.0946 - acc: 0.9801 - val_loss: 0.2045 - val_acc: 0.9590\n",
            "Epoch 13/15\n",
            "41000/41000 [==============================] - 7s 175us/step - loss: 0.0965 - acc: 0.9798 - val_loss: 0.1830 - val_acc: 0.9680\n",
            "Epoch 14/15\n",
            "41000/41000 [==============================] - 7s 162us/step - loss: 0.0827 - acc: 0.9823 - val_loss: 0.1756 - val_acc: 0.9600\n",
            "Epoch 15/15\n",
            "41000/41000 [==============================] - 7s 167us/step - loss: 0.0882 - acc: 0.9819 - val_loss: 0.2291 - val_acc: 0.9500\n",
            "Returned: <keras.callbacks.History object at 0x7ff505654ba8>\n"
          ],
          "name": "stdout"
        }
      ]
    },
    {
      "cell_type": "code",
      "metadata": {
        "id": "CXZdfy3o-tGe",
        "colab_type": "code",
        "colab": {
          "base_uri": "https://localhost:8080/",
          "height": 34
        },
        "outputId": "3dc2589e-f66e-4cf8-bf3f-b187b75ae7af"
      },
      "source": [
        "#print available keys\n",
        "print(r.history.keys())"
      ],
      "execution_count": 12,
      "outputs": [
        {
          "output_type": "stream",
          "text": [
            "dict_keys(['val_loss', 'val_acc', 'loss', 'acc'])\n"
          ],
          "name": "stdout"
        }
      ]
    },
    {
      "cell_type": "code",
      "metadata": {
        "id": "sJOYyKzd-tIz",
        "colab_type": "code",
        "colab": {
          "base_uri": "https://localhost:8080/",
          "height": 265
        },
        "outputId": "9357256d-e01a-4a89-c501-537d4711531e"
      },
      "source": [
        "#plot some data\n",
        "plt.plot(r.history['loss'], label='loss')\n",
        "plt.plot(r.history['val_loss'], label = 'val_loss')\n",
        "plt.legend()\n",
        "plt.show()"
      ],
      "execution_count": 14,
      "outputs": [
        {
          "output_type": "display_data",
          "data": {
            "image/png": "[encoded data removed]",
            "text/plain": [
              "<Figure size 432x288 with 1 Axes>"
            ]
          },
          "metadata": {
            "tags": []
          }
        }
      ]
    },
    {
      "cell_type": "code",
      "metadata": {
        "id": "snjIleGW-tPD",
        "colab_type": "code",
        "colab": {
          "base_uri": "https://localhost:8080/",
          "height": 265
        },
        "outputId": "c520a7f5-cebc-448d-bf41-f3d5fcd6c277"
      },
      "source": [
        "#accuracies\n",
        "plt.plot(r.history['loss'], label='acc')\n",
        "plt.plot(r.history['val_loss'], label = 'val_acc')\n",
        "plt.legend()\n",
        "plt.show()"
      ],
      "execution_count": 15,
      "outputs": [
        {
          "output_type": "display_data",
          "data": {
            "image/png": "[encoded data removed]",
            "text/plain": [
              "<Figure size 432x288 with 1 Axes>"
            ]
          },
          "metadata": {
            "tags": []
          }
        }
      ]
    },
    {
      "cell_type": "code",
      "metadata": {
        "id": "QxiV3kT_-tTa",
        "colab_type": "code",
        "colab": {}
      },
      "source": [
        ""
      ],
      "execution_count": 0,
      "outputs": []
    },
    {
      "cell_type": "code",
      "metadata": {
        "id": "EOISZ8zL-tVz",
        "colab_type": "code",
        "colab": {}
      },
      "source": [
        ""
      ],
      "execution_count": 0,
      "outputs": []
    },
    {
      "cell_type": "code",
      "metadata": {
        "id": "yjHQQ1DU-tZJ",
        "colab_type": "code",
        "colab": {}
      },
      "source": [
        ""
      ],
      "execution_count": 0,
      "outputs": []
    },
    {
      "cell_type": "code",
      "metadata": {
        "id": "y1uV1lXa-tR1",
        "colab_type": "code",
        "colab": {}
      },
      "source": [
        ""
      ],
      "execution_count": 0,
      "outputs": []
    },
    {
      "cell_type": "code",
      "metadata": {
        "id": "CSWYhq8--tNW",
        "colab_type": "code",
        "colab": {}
      },
      "source": [
        ""
      ],
      "execution_count": 0,
      "outputs": []
    },
    {
      "cell_type": "code",
      "metadata": {
        "id": "PwkcBLMC-tLe",
        "colab_type": "code",
        "colab": {}
      },
      "source": [
        ""
      ],
      "execution_count": 0,
      "outputs": []
    },
    {
      "cell_type": "code",
      "metadata": {
        "id": "DjMWO0Rl-tEY",
        "colab_type": "code",
        "colab": {}
      },
      "source": [
        ""
      ],
      "execution_count": 0,
      "outputs": []
    },
    {
      "cell_type": "code",
      "metadata": {
        "id": "KCPNxbaX-tDG",
        "colab_type": "code",
        "colab": {}
      },
      "source": [
        ""
      ],
      "execution_count": 0,
      "outputs": []
    },
    {
      "cell_type": "code",
      "metadata": {
        "id": "Pb2bZhWj-tA4",
        "colab_type": "code",
        "colab": {}
      },
      "source": [
        ""
      ],
      "execution_count": 0,
      "outputs": []
    }
  ]
}