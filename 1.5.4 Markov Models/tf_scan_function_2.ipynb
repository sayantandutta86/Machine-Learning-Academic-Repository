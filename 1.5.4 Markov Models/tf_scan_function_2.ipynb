{
  "nbformat": 4,
  "nbformat_minor": 0,
  "metadata": {
    "colab": {
      "name": "tf_scan_function_2.ipynb",
      "provenance": [],
      "collapsed_sections": []
    },
    "kernelspec": {
      "name": "python3",
      "display_name": "Python 3"
    }
  },
  "cells": [
    {
      "cell_type": "code",
      "metadata": {
        "id": "vwXqQ2l7m-P7",
        "colab_type": "code",
        "colab": {
          "base_uri": "https://localhost:8080/",
          "height": 34
        },
        "outputId": "91e50f2f-06f7-4b7f-b7f8-2cd566b2f79d"
      },
      "source": [
        "%tensorflow_version 1.x"
      ],
      "execution_count": 1,
      "outputs": [
        {
          "output_type": "stream",
          "text": [
            "TensorFlow 1.x selected.\n"
          ],
          "name": "stdout"
        }
      ]
    },
    {
      "cell_type": "code",
      "metadata": {
        "id": "iQSCiiX4nH83",
        "colab_type": "code",
        "colab": {}
      },
      "source": [
        "import numpy as np\n",
        "import tensorflow as tf"
      ],
      "execution_count": 0,
      "outputs": []
    },
    {
      "cell_type": "code",
      "metadata": {
        "id": "J3025mHNnMhg",
        "colab_type": "code",
        "colab": {
          "base_uri": "https://localhost:8080/",
          "height": 34
        },
        "outputId": "d55b520e-afa3-475e-c580-cd53188b72d8"
      },
      "source": [
        "# N = number of fibonacci number we want\n",
        "# shape = () means scalar\n",
        "N = tf.placeholder(tf.int32, shape=(), name='N')\n",
        "\n",
        "#recurrance and loop\n",
        "#we wont use current_input at all\n",
        "def recurrence(last_output, current_input):\n",
        "    return (last_output[1], last_output[0] + last_output[1])\n",
        "\n",
        "fibonacci = tf.scan(fn=recurrence, elems=tf.range(N), initializer=(0,1))\n",
        "\n",
        "#run\n",
        "with tf.Session() as session:\n",
        "    o_val = session.run(fibonacci, feed_dict={N:8})\n",
        "    print(\"Output:\", o_val)"
      ],
      "execution_count": 3,
      "outputs": [
        {
          "output_type": "stream",
          "text": [
            "Output: (array([ 1,  1,  2,  3,  5,  8, 13, 21], dtype=int32), array([ 1,  2,  3,  5,  8, 13, 21, 34], dtype=int32))\n"
          ],
          "name": "stdout"
        }
      ]
    }
  ]
}