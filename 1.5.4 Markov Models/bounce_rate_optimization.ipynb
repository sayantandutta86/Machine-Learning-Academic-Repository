{
  "nbformat": 4,
  "nbformat_minor": 0,
  "metadata": {
    "colab": {
      "name": "bounce_rate_optimization.ipynb",
      "provenance": [],
      "collapsed_sections": []
    },
    "kernelspec": {
      "name": "python3",
      "display_name": "Python 3"
    }
  },
  "cells": [
    {
      "cell_type": "code",
      "metadata": {
        "id": "BPymAol_1t9j",
        "colab_type": "code",
        "colab": {}
      },
      "source": [
        "import os; os.chdir('/content/drive/My Drive/Colab Notebooks/Lazy courses/Markov Models')"
      ],
      "execution_count": 0,
      "outputs": []
    },
    {
      "cell_type": "code",
      "metadata": {
        "id": "RG_vjAPpW-ql",
        "colab_type": "code",
        "colab": {
          "base_uri": "https://localhost:8080/",
          "height": 374
        },
        "outputId": "0122be33-0e4b-4449-ba68-f111fb945161"
      },
      "source": [
        "import numpy as np\n",
        "\n",
        "transitions = {}\n",
        "row_sums = {}\n",
        "\n",
        "#collect counts\n",
        "for line in open('site_data.csv'):\n",
        "    s, e = line.rstrip().split(',')\n",
        "    transitions[(s,e)] = transitions.get((s,e),0) + 1\n",
        "    row_sums[s] = row_sums.get(s, 0) + 1\n",
        "\n",
        "#normalize\n",
        "for k,v in transitions.items():\n",
        "    s, e = k\n",
        "    transitions[k] = v/ row_sums[s]\n",
        "\n",
        "#initial state distribution \n",
        "print(\"Initial state distribution\")\n",
        "for k, v in transitions.items():\n",
        "    s, e = k\n",
        "    if s == '-1':\n",
        "        print('e:',e, 'v:',v)\n",
        "\n",
        "#which page has the highest bounce\n",
        "for k, v in transitions.items():\n",
        "    s, e = k\n",
        "    if e == 'B':\n",
        "        print(f'Bounce rate for s: {s}, v: {v}')"
      ],
      "execution_count": 6,
      "outputs": [
        {
          "output_type": "stream",
          "text": [
            "Initial state distribution\n",
            "e: 8 v: 0.10152591025834719\n",
            "e: 2 v: 0.09507982071813466\n",
            "e: 5 v: 0.09779926474291183\n",
            "e: 9 v: 0.10384247368686106\n",
            "e: 0 v: 0.10298635241980159\n",
            "e: 6 v: 0.09800070504104345\n",
            "e: 7 v: 0.09971294757516241\n",
            "e: 1 v: 0.10348995316513068\n",
            "e: 4 v: 0.10243239159993957\n",
            "e: 3 v: 0.09513018079266758\n",
            "Bounce rate for s: 1, v: 0.125939617991374\n",
            "Bounce rate for s: 2, v: 0.12649551345962112\n",
            "Bounce rate for s: 8, v: 0.12529550827423167\n",
            "Bounce rate for s: 6, v: 0.1208153180975911\n",
            "Bounce rate for s: 7, v: 0.12371650388179314\n",
            "Bounce rate for s: 3, v: 0.12743384922616077\n",
            "Bounce rate for s: 4, v: 0.1255756067205974\n",
            "Bounce rate for s: 5, v: 0.12369559684398065\n",
            "Bounce rate for s: 0, v: 0.1279673590504451\n",
            "Bounce rate for s: 9, v: 0.13176232104396302\n"
          ],
          "name": "stdout"
        }
      ]
    },
    {
      "cell_type": "markdown",
      "metadata": {
        "id": "Co9kJAShz_uA",
        "colab_type": "text"
      },
      "source": [
        "We can see that page-id 9 has the highest initial state distribution, which means user is likely to start from that page. Also page-id 9 has highest bounce rate. "
      ]
    },
    {
      "cell_type": "code",
      "metadata": {
        "id": "rjnURb0jXu0L",
        "colab_type": "code",
        "colab": {}
      },
      "source": [
        ""
      ],
      "execution_count": 0,
      "outputs": []
    }
  ]
}