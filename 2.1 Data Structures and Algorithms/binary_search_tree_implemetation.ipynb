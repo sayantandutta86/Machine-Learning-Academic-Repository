{
  "nbformat": 4,
  "nbformat_minor": 0,
  "metadata": {
    "colab": {
      "name": "binary_search_tree_implemetation.ipynb",
      "provenance": [],
      "collapsed_sections": []
    },
    "kernelspec": {
      "name": "python3",
      "display_name": "Python 3"
    }
  },
  "cells": [
    {
      "cell_type": "code",
      "metadata": {
        "id": "aAA65nPLqzkD",
        "colab_type": "code",
        "colab": {}
      },
      "source": [
        "class Node(object):\n",
        "\n",
        "    def __init__(self, data):\n",
        "        self.data = data\n",
        "        self.leftChild = None\n",
        "        self.rightChild = None\n",
        "\t\t\n",
        "class BinarySearchTree(object):\n",
        "    \n",
        "    def __init__(self):\n",
        "        self.root = None\n",
        "\n",
        "\t\t\t\t\t\n",
        "\t\t\t\t   \n",
        "  \n",
        "    def insert(self, data):\n",
        "        if not self.root:\n",
        "            self.root = Node(data)\n",
        "        else:\n",
        "            self.insertNode(data, self.root)\n",
        "\n",
        "    # O(logN) if the tree is balanced, it can reduce to O(N)\n",
        "    def insertNode(self, data, node):\n",
        "\n",
        "        if data < node.data:\n",
        "            if node.leftChild:\n",
        "                self.insertNode(data, node.leftChild)\n",
        "            else:\n",
        "                node.leftChild = Node(data)\n",
        "        else:\n",
        "            if node.rightChild:\n",
        "                self.insertNode(data, node.rightChild)\n",
        "            else:\n",
        "                node.rightChild = Node(data)\n",
        "\n",
        "    # O(logN)\n",
        "    def removeNode(self, data , node):\n",
        "\n",
        "        if not node:\n",
        "            return node\n",
        "\n",
        "        if data < node.data:\n",
        "            node.leftChild = self.removeNode(data, node.leftChild)\n",
        "        elif data > node.data:\n",
        "            node.rightChild = self.removeNode(data, node.rightChild)\n",
        "        else:\n",
        "   \n",
        "            if not node.leftChild and not node.rightChild:\n",
        "                print(\"Remove a lead node...\")\n",
        "                del node\n",
        "                return None\n",
        "\t\n",
        "            if not node.leftChild:\n",
        "                print(\"Remove a node with single right child\")\n",
        "                tempNode = node.rightChild\n",
        "                del node\n",
        "                return tempNode\n",
        "            elif not node.rightChild:\n",
        "                print(\"Remove a node with single left child\")\n",
        "                tempNode = node.leftChild\n",
        "                del node\n",
        "                return tempNode\n",
        "\n",
        "            print(\"remove nodes with two children\")\n",
        "            tempNode = self.getPredecessor(node.leftChild)\n",
        "            node.data = tempNode.data\n",
        "            node.leftChild = self.removeNode(tempNode.data, node.leftChild)\n",
        "\n",
        "        return node\n",
        "\n",
        "    def getPredecessor(self, node):\n",
        "        if node.rightChild:\n",
        "            return self.getPredecessor(node.rightChild)\n",
        "        return node\n",
        "\n",
        "    def remove(self, data):\n",
        "        if self.root:\n",
        "            self.root = self.removeNode(data, self.root)\n",
        "\n",
        "    def getMinValue(self):\n",
        "        if self.root:\n",
        "            return self.getMin(self.root)\n",
        "\n",
        "    def getMin(self, node):\n",
        "        if node.leftChild:\n",
        "            return self.getMin(node.leftChild)\n",
        "\n",
        "        return node.data\n",
        "\n",
        "    def getMaxValue(self):\n",
        "        if self.root:\n",
        "            return self.getMax(self.root)\n",
        "\n",
        "    def getMax(self, node):\n",
        "\n",
        "        if node.rightChild:\n",
        "            return self.getMax(node.rightChild)\n",
        "        return node.data\n",
        "\n",
        "    def traverse(self):\n",
        "        if self.root:\n",
        "            self.traverseInOrder(self.root)\n",
        "\n",
        "    def traverseInOrder(self, node):\n",
        "        if node.leftChild:\n",
        "            self.traverseInOrder(node.leftChild)\n",
        "\n",
        "        print(node.data)\n",
        " \t\t\t\t \n",
        "        if node.rightChild:\n",
        "            self.traverseInOrder(node.rightChild)"
      ],
      "execution_count": 0,
      "outputs": []
    },
    {
      "cell_type": "code",
      "metadata": {
        "id": "0N_GmATP-7aX",
        "colab_type": "code",
        "colab": {}
      },
      "source": [
        "bst = BinarySearchTree()"
      ],
      "execution_count": 0,
      "outputs": []
    },
    {
      "cell_type": "code",
      "metadata": {
        "id": "fBBO-2OJ-_OC",
        "colab_type": "code",
        "colab": {}
      },
      "source": [
        "bst.insert(10)"
      ],
      "execution_count": 0,
      "outputs": []
    },
    {
      "cell_type": "code",
      "metadata": {
        "id": "KBxYRN8z_ECQ",
        "colab_type": "code",
        "colab": {}
      },
      "source": [
        "bst.insert(13)"
      ],
      "execution_count": 0,
      "outputs": []
    },
    {
      "cell_type": "code",
      "metadata": {
        "id": "h9aLODnT_VQo",
        "colab_type": "code",
        "colab": {}
      },
      "source": [
        "bst.insert(5)"
      ],
      "execution_count": 0,
      "outputs": []
    },
    {
      "cell_type": "code",
      "metadata": {
        "id": "57Be2NV5_V4A",
        "colab_type": "code",
        "colab": {}
      },
      "source": [
        "bst.insert(14)"
      ],
      "execution_count": 0,
      "outputs": []
    },
    {
      "cell_type": "code",
      "metadata": {
        "id": "y9FEVDhc_YTQ",
        "colab_type": "code",
        "colab": {
          "base_uri": "https://localhost:8080/",
          "height": 87
        },
        "outputId": "ae792f2a-72c5-4ec3-8e3c-434aebd6273e"
      },
      "source": [
        "bst.traverse()"
      ],
      "execution_count": 40,
      "outputs": [
        {
          "output_type": "stream",
          "text": [
            "5\n",
            "10\n",
            "13\n",
            "14\n"
          ],
          "name": "stdout"
        }
      ]
    },
    {
      "cell_type": "code",
      "metadata": {
        "id": "1ajw0hWS_cFS",
        "colab_type": "code",
        "colab": {}
      },
      "source": [
        "bst.remove(8)"
      ],
      "execution_count": 0,
      "outputs": []
    },
    {
      "cell_type": "code",
      "metadata": {
        "id": "C8cIdLaQ_e2U",
        "colab_type": "code",
        "colab": {
          "base_uri": "https://localhost:8080/",
          "height": 87
        },
        "outputId": "ba298526-7f53-4142-ca72-aef5c95ba992"
      },
      "source": [
        "bst.traverse()"
      ],
      "execution_count": 42,
      "outputs": [
        {
          "output_type": "stream",
          "text": [
            "5\n",
            "10\n",
            "13\n",
            "14\n"
          ],
          "name": "stdout"
        }
      ]
    },
    {
      "cell_type": "code",
      "metadata": {
        "id": "gg4gGkpH_hBW",
        "colab_type": "code",
        "colab": {
          "base_uri": "https://localhost:8080/",
          "height": 52
        },
        "outputId": "ce90f615-690b-400b-c761-2985430c7ffb"
      },
      "source": [
        "bst.remove(10)"
      ],
      "execution_count": 43,
      "outputs": [
        {
          "output_type": "stream",
          "text": [
            "remove nodes with two children\n",
            "Remove a lead node...\n"
          ],
          "name": "stdout"
        }
      ]
    },
    {
      "cell_type": "code",
      "metadata": {
        "id": "lAdaNZjR_kC3",
        "colab_type": "code",
        "colab": {
          "base_uri": "https://localhost:8080/",
          "height": 70
        },
        "outputId": "262f1cac-4085-4fab-8324-f079061d5222"
      },
      "source": [
        "bst.traverse()"
      ],
      "execution_count": 44,
      "outputs": [
        {
          "output_type": "stream",
          "text": [
            "5\n",
            "13\n",
            "14\n"
          ],
          "name": "stdout"
        }
      ]
    },
    {
      "cell_type": "code",
      "metadata": {
        "id": "JBDmVWfB_mhe",
        "colab_type": "code",
        "colab": {
          "base_uri": "https://localhost:8080/",
          "height": 34
        },
        "outputId": "c942089f-fa4f-4a7d-864d-121c47fdc019"
      },
      "source": [
        "bst.getMinValue()"
      ],
      "execution_count": 45,
      "outputs": [
        {
          "output_type": "execute_result",
          "data": {
            "text/plain": [
              "5"
            ]
          },
          "metadata": {
            "tags": []
          },
          "execution_count": 45
        }
      ]
    },
    {
      "cell_type": "code",
      "metadata": {
        "id": "boRYZf2gNlrP",
        "colab_type": "code",
        "colab": {
          "base_uri": "https://localhost:8080/",
          "height": 34
        },
        "outputId": "c9baf6e2-64ae-439b-83d8-d5c10532f584"
      },
      "source": [
        "bst.getMaxValue()"
      ],
      "execution_count": 46,
      "outputs": [
        {
          "output_type": "execute_result",
          "data": {
            "text/plain": [
              "14"
            ]
          },
          "metadata": {
            "tags": []
          },
          "execution_count": 46
        }
      ]
    },
    {
      "cell_type": "code",
      "metadata": {
        "id": "PrOkQUUUNnnM",
        "colab_type": "code",
        "colab": {}
      },
      "source": [
        ""
      ],
      "execution_count": 0,
      "outputs": []
    }
  ]
}