{
  "nbformat": 4,
  "nbformat_minor": 0,
  "metadata": {
    "colab": {
      "name": "queue_implementation.ipynb",
      "provenance": [],
      "collapsed_sections": []
    },
    "kernelspec": {
      "name": "python3",
      "display_name": "Python 3"
    }
  },
  "cells": [
    {
      "cell_type": "code",
      "metadata": {
        "id": "W3Hm2J4x1D8I",
        "colab_type": "code",
        "colab": {}
      },
      "source": [
        "#FIFO - first -> first\n",
        "\n",
        "class Queue:\n",
        "\n",
        "\tdef __init__(self):\n",
        "\t\tself.queue = []\n",
        "\t\t\n",
        "\tdef isEmpty(self):\n",
        "\t\treturn self.queue == []\n",
        "\t\t\n",
        "\tdef enqueue(self, data):\n",
        "\t\tself.queue.append(data)\n",
        "\t\t\n",
        "\tdef dequeue(self):\n",
        "\t\tdata = self.queue[0]\n",
        "\t\tdel self.queue[0]\n",
        "\t\treturn data\n",
        "\t\t\n",
        "\tdef peek(self):\n",
        "\t\treturn self.queue[0]\n",
        "\t\t\n",
        "\tdef sizeQueue(self):\n",
        "\t\treturn len(self.queue)\n"
      ],
      "execution_count": 0,
      "outputs": []
    },
    {
      "cell_type": "code",
      "metadata": {
        "id": "x58QSOCB1H0L",
        "colab_type": "code",
        "colab": {}
      },
      "source": [
        "queue = Queue()"
      ],
      "execution_count": 0,
      "outputs": []
    },
    {
      "cell_type": "code",
      "metadata": {
        "id": "vXw47QgW1QLJ",
        "colab_type": "code",
        "colab": {}
      },
      "source": [
        "queue.enqueue(10)"
      ],
      "execution_count": 0,
      "outputs": []
    },
    {
      "cell_type": "code",
      "metadata": {
        "id": "_sTYwG6x1QNe",
        "colab_type": "code",
        "colab": {}
      },
      "source": [
        "queue.enqueue(20)"
      ],
      "execution_count": 0,
      "outputs": []
    },
    {
      "cell_type": "code",
      "metadata": {
        "id": "AQwFQgeV1QSA",
        "colab_type": "code",
        "colab": {}
      },
      "source": [
        "queue.enqueue(30)"
      ],
      "execution_count": 0,
      "outputs": []
    },
    {
      "cell_type": "code",
      "metadata": {
        "id": "uoFVLyGF1QUS",
        "colab_type": "code",
        "colab": {
          "base_uri": "https://localhost:8080/",
          "height": 34
        },
        "outputId": "5d5af73d-8aff-4007-fcd7-513e1d8dc90d"
      },
      "source": [
        "print(queue.sizeQueue())"
      ],
      "execution_count": 9,
      "outputs": [
        {
          "output_type": "stream",
          "text": [
            "3\n"
          ],
          "name": "stdout"
        }
      ]
    },
    {
      "cell_type": "code",
      "metadata": {
        "id": "RK5Gc2nz1QQK",
        "colab_type": "code",
        "colab": {
          "base_uri": "https://localhost:8080/",
          "height": 34
        },
        "outputId": "eb2a7ca3-b001-4cd2-e7f5-da072d73eff8"
      },
      "source": [
        "print(\"Dequeue: \", queue.dequeue())"
      ],
      "execution_count": 10,
      "outputs": [
        {
          "output_type": "stream",
          "text": [
            "Dequeue:  10\n"
          ],
          "name": "stdout"
        }
      ]
    },
    {
      "cell_type": "code",
      "metadata": {
        "id": "_Vo7_ZAQ1V3V",
        "colab_type": "code",
        "colab": {
          "base_uri": "https://localhost:8080/",
          "height": 34
        },
        "outputId": "3a28d75d-e068-4884-8453-c279423169eb"
      },
      "source": [
        "print(\"Dequeue: \", queue.dequeue())"
      ],
      "execution_count": 11,
      "outputs": [
        {
          "output_type": "stream",
          "text": [
            "Dequeue:  20\n"
          ],
          "name": "stdout"
        }
      ]
    },
    {
      "cell_type": "code",
      "metadata": {
        "id": "3DOYZ-ja1V55",
        "colab_type": "code",
        "colab": {
          "base_uri": "https://localhost:8080/",
          "height": 34
        },
        "outputId": "472c6a08-1e84-42ee-c6ee-a8a39bfd4f81"
      },
      "source": [
        "print(queue.sizeQueue())"
      ],
      "execution_count": 12,
      "outputs": [
        {
          "output_type": "stream",
          "text": [
            "1\n"
          ],
          "name": "stdout"
        }
      ]
    }
  ]
}