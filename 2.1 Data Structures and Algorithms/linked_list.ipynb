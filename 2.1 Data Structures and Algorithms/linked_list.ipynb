{
  "nbformat": 4,
  "nbformat_minor": 0,
  "metadata": {
    "colab": {
      "name": "linked_list.ipynb",
      "provenance": [],
      "collapsed_sections": []
    },
    "kernelspec": {
      "name": "python3",
      "display_name": "Python 3"
    }
  },
  "cells": [
    {
      "cell_type": "code",
      "metadata": {
        "id": "dxB0JuOqz2vM",
        "colab_type": "code",
        "colab": {}
      },
      "source": [
        "class Node(object):\n",
        "    def __init__(self, data):\n",
        "        self.data = data\n",
        "        self.nextNode = None\n",
        "\n",
        "class LinkedList(object):\n",
        "    def __init__(self):\n",
        "        self.head = None\n",
        "        self.size = 0\n",
        "\n",
        "    # O(1)\n",
        "    def insertStart(self, data):\n",
        "        self.size = self.size + 1\n",
        "        newNode = Node(data)\n",
        "\n",
        "        if not self.head:\n",
        "            self.head = newNode\n",
        "        else:\n",
        "            newNode.nextNode = self.head\n",
        "            self.head = newNode\n",
        "\n",
        "    def remove(self, data):\n",
        "        if self.head is None:\n",
        "            return\n",
        "        \n",
        "        self.size = self.size - 1\n",
        "\n",
        "        currentNode = self.head\n",
        "        previousNode = None \n",
        "\n",
        "        while currentNode.data != data:\n",
        "            previousNode = currentNode\n",
        "            currentNode = currentNode.nextNode\n",
        "\n",
        "        if previousNode is None:\n",
        "            self.head = currentNode.nextNode\n",
        "        else:\n",
        "            previousNode.nextNode = currentNode.nextNode\n",
        "\n",
        "    # O(1)\n",
        "    def size1(self):\n",
        "        return self.size\n",
        "\n",
        "    # O(N)\n",
        "    def size2(self):\n",
        "        actualNode = self.head\n",
        "        size = 0\n",
        "\n",
        "        while actualNode is not None:\n",
        "            size += 1\n",
        "            actualNode = actualNode.nextNode\n",
        "\n",
        "        return size1\n",
        "\n",
        "    # O(N)\n",
        "    def insertEnd(self, data):\n",
        "        self.size = self.size + 1\n",
        "        newNode = Node(data)\n",
        "        actualNode = self.head\n",
        "\n",
        "        while actualNode.nextNode is not None:\n",
        "            actualNode = actualNode.nextNode\n",
        "\n",
        "        actualNode.nextNode = newNode\n",
        "\n",
        "    def traverseList(self):\n",
        "\n",
        "        actualNode = self.head\n",
        "\n",
        "        while actualNode is not None:\n",
        "            print(actualNode.data)\n",
        "            actualNode = actualNode.nextNode\n"
      ],
      "execution_count": 0,
      "outputs": []
    },
    {
      "cell_type": "code",
      "metadata": {
        "id": "SPEd9cYGiahg",
        "colab_type": "code",
        "colab": {}
      },
      "source": [
        "linkedlist = LinkedList()"
      ],
      "execution_count": 0,
      "outputs": []
    },
    {
      "cell_type": "code",
      "metadata": {
        "id": "dmlrupecuZzi",
        "colab_type": "code",
        "outputId": "d7ff5649-159c-49ce-ce00-93654d6f6957",
        "colab": {
          "base_uri": "https://localhost:8080/",
          "height": 34
        }
      },
      "source": [
        "linkedlist.insertStart(12)\n",
        "print(linkedlist.size1())"
      ],
      "execution_count": 0,
      "outputs": [
        {
          "output_type": "stream",
          "text": [
            "1\n"
          ],
          "name": "stdout"
        }
      ]
    },
    {
      "cell_type": "code",
      "metadata": {
        "id": "YvEUNJVnudID",
        "colab_type": "code",
        "outputId": "fd0d74ae-3ac2-4bd8-b4b0-3a70f9181e46",
        "colab": {
          "base_uri": "https://localhost:8080/",
          "height": 34
        }
      },
      "source": [
        "linkedlist.insertStart(122)\n",
        "print(linkedlist.size1())"
      ],
      "execution_count": 0,
      "outputs": [
        {
          "output_type": "stream",
          "text": [
            "2\n"
          ],
          "name": "stdout"
        }
      ]
    },
    {
      "cell_type": "code",
      "metadata": {
        "id": "vTyjYuRnughp",
        "colab_type": "code",
        "outputId": "64e2f50f-f3ee-458e-fb52-79456073097c",
        "colab": {
          "base_uri": "https://localhost:8080/",
          "height": 34
        }
      },
      "source": [
        "linkedlist.insertStart(3)\n",
        "print(linkedlist.size1())"
      ],
      "execution_count": 0,
      "outputs": [
        {
          "output_type": "stream",
          "text": [
            "3\n"
          ],
          "name": "stdout"
        }
      ]
    },
    {
      "cell_type": "code",
      "metadata": {
        "id": "jJ5mLajwvFkw",
        "colab_type": "code",
        "outputId": "0d09cb8f-9e20-4a35-ec41-895ecfc97c8a",
        "colab": {
          "base_uri": "https://localhost:8080/",
          "height": 34
        }
      },
      "source": [
        "linkedlist.insertEnd(31)\n",
        "print(linkedlist.size1())"
      ],
      "execution_count": 0,
      "outputs": [
        {
          "output_type": "stream",
          "text": [
            "4\n"
          ],
          "name": "stdout"
        }
      ]
    },
    {
      "cell_type": "code",
      "metadata": {
        "id": "u_YXGGPcvFmz",
        "colab_type": "code",
        "outputId": "3cccddc7-fc64-45b3-e088-5ac1569c2666",
        "colab": {
          "base_uri": "https://localhost:8080/",
          "height": 87
        }
      },
      "source": [
        "linkedlist.traverseList()"
      ],
      "execution_count": 0,
      "outputs": [
        {
          "output_type": "stream",
          "text": [
            "3\n",
            "122\n",
            "12\n",
            "31\n"
          ],
          "name": "stdout"
        }
      ]
    },
    {
      "cell_type": "code",
      "metadata": {
        "id": "iJizijHPvFtB",
        "colab_type": "code",
        "colab": {}
      },
      "source": [
        "linkedlist.remove(3)\n",
        "linkedlist.remove(12)\n",
        "linkedlist.remove(122)\n",
        "linkedlist.remove(31)"
      ],
      "execution_count": 0,
      "outputs": []
    },
    {
      "cell_type": "code",
      "metadata": {
        "id": "dnukEpgSvFrF",
        "colab_type": "code",
        "outputId": "90f0c82f-8b84-4060-c35e-cb006014bae0",
        "colab": {
          "base_uri": "https://localhost:8080/",
          "height": 34
        }
      },
      "source": [
        "print(linkedlist.size1())"
      ],
      "execution_count": 0,
      "outputs": [
        {
          "output_type": "stream",
          "text": [
            "0\n"
          ],
          "name": "stdout"
        }
      ]
    },
    {
      "cell_type": "code",
      "metadata": {
        "id": "eEgwL2-uvFpF",
        "colab_type": "code",
        "colab": {}
      },
      "source": [
        "linkedlist.remove(311)"
      ],
      "execution_count": 0,
      "outputs": []
    },
    {
      "cell_type": "code",
      "metadata": {
        "id": "m8I1-G_xvmej",
        "colab_type": "code",
        "outputId": "f6bccf8f-da06-4c59-9e82-9a3ad6fc7b94",
        "colab": {
          "base_uri": "https://localhost:8080/",
          "height": 34
        }
      },
      "source": [
        "print(linkedlist.size1())"
      ],
      "execution_count": 0,
      "outputs": [
        {
          "output_type": "stream",
          "text": [
            "0\n"
          ],
          "name": "stdout"
        }
      ]
    }
  ]
}