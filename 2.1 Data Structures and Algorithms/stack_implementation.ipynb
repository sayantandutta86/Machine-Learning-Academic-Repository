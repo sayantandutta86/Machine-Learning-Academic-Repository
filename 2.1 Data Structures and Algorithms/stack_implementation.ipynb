{
  "nbformat": 4,
  "nbformat_minor": 0,
  "metadata": {
    "colab": {
      "name": "stack_implementation.ipynb",
      "provenance": [],
      "collapsed_sections": []
    },
    "kernelspec": {
      "name": "python3",
      "display_name": "Python 3"
    }
  },
  "cells": [
    {
      "cell_type": "code",
      "metadata": {
        "id": "G49D25j_p53I",
        "colab_type": "code",
        "colab": {}
      },
      "source": [
        "class Stack:\n",
        "\n",
        "    def __init__(self):\n",
        "        self.stack = []\n",
        "\n",
        "    def isEmpty(self):\n",
        "        return self.stack == []\n",
        "    \n",
        "    def push(self, data):\n",
        "        self.stack.append(data)\n",
        "\n",
        "    def pop(self):\n",
        "        data = self.stack[-1]\n",
        "        del self.stack[-1]\n",
        "        return data\n",
        "\n",
        "    def peek(self):\n",
        "        return self.stack[-1]\n",
        "\n",
        "    def sizeStack(self):\n",
        "        return len(self.stack)\n",
        "        "
      ],
      "execution_count": 0,
      "outputs": []
    },
    {
      "cell_type": "code",
      "metadata": {
        "id": "KkHosWKswhZB",
        "colab_type": "code",
        "colab": {}
      },
      "source": [
        "stack = Stack()"
      ],
      "execution_count": 0,
      "outputs": []
    },
    {
      "cell_type": "code",
      "metadata": {
        "id": "XDlAIHM4wjHY",
        "colab_type": "code",
        "colab": {}
      },
      "source": [
        "stack.push(1)"
      ],
      "execution_count": 0,
      "outputs": []
    },
    {
      "cell_type": "code",
      "metadata": {
        "id": "lCvvmL2kwkuQ",
        "colab_type": "code",
        "colab": {}
      },
      "source": [
        "stack.push(2)"
      ],
      "execution_count": 0,
      "outputs": []
    },
    {
      "cell_type": "code",
      "metadata": {
        "id": "egZl2PQHwmh8",
        "colab_type": "code",
        "colab": {}
      },
      "source": [
        "stack.push(3)"
      ],
      "execution_count": 0,
      "outputs": []
    },
    {
      "cell_type": "code",
      "metadata": {
        "id": "wgiWpFjVwopc",
        "colab_type": "code",
        "colab": {
          "base_uri": "https://localhost:8080/",
          "height": 34
        },
        "outputId": "220c996e-be57-4449-f10b-6557a257ef98"
      },
      "source": [
        "print(stack.sizeStack())"
      ],
      "execution_count": 6,
      "outputs": [
        {
          "output_type": "stream",
          "text": [
            "3\n"
          ],
          "name": "stdout"
        }
      ]
    },
    {
      "cell_type": "code",
      "metadata": {
        "id": "MaVH_CJYwtpu",
        "colab_type": "code",
        "colab": {
          "base_uri": "https://localhost:8080/",
          "height": 34
        },
        "outputId": "9c5ff7a8-113c-4a40-eb21-ce6302d435cd"
      },
      "source": [
        "print(\"Popped:\", stack.pop())"
      ],
      "execution_count": 7,
      "outputs": [
        {
          "output_type": "stream",
          "text": [
            "Popped: 3\n"
          ],
          "name": "stdout"
        }
      ]
    },
    {
      "cell_type": "code",
      "metadata": {
        "id": "xNph9Je6w0QG",
        "colab_type": "code",
        "colab": {
          "base_uri": "https://localhost:8080/",
          "height": 34
        },
        "outputId": "380555e7-1dcd-4e6e-ff30-041d12cab837"
      },
      "source": [
        "print(\"Popped:\", stack.pop())"
      ],
      "execution_count": 8,
      "outputs": [
        {
          "output_type": "stream",
          "text": [
            "Popped: 2\n"
          ],
          "name": "stdout"
        }
      ]
    },
    {
      "cell_type": "code",
      "metadata": {
        "id": "GZYQOFWJw3Ns",
        "colab_type": "code",
        "colab": {
          "base_uri": "https://localhost:8080/",
          "height": 34
        },
        "outputId": "61aa6b44-56f2-4ed7-abe1-7c9884498f06"
      },
      "source": [
        "print(stack.sizeStack())"
      ],
      "execution_count": 9,
      "outputs": [
        {
          "output_type": "stream",
          "text": [
            "1\n"
          ],
          "name": "stdout"
        }
      ]
    },
    {
      "cell_type": "code",
      "metadata": {
        "id": "E50nrx-9w6yp",
        "colab_type": "code",
        "colab": {
          "base_uri": "https://localhost:8080/",
          "height": 34
        },
        "outputId": "6d7a9154-46b8-4610-a323-b017c22ee5e5"
      },
      "source": [
        "print(\"Peek:\", stack.peek())"
      ],
      "execution_count": 10,
      "outputs": [
        {
          "output_type": "stream",
          "text": [
            "Peek: 1\n"
          ],
          "name": "stdout"
        }
      ]
    },
    {
      "cell_type": "code",
      "metadata": {
        "id": "0iA3Q5Wcw_eA",
        "colab_type": "code",
        "colab": {
          "base_uri": "https://localhost:8080/",
          "height": 34
        },
        "outputId": "718a1789-cc8c-4b82-f068-4eefa5fd6f7c"
      },
      "source": [
        "print(stack.sizeStack())"
      ],
      "execution_count": 11,
      "outputs": [
        {
          "output_type": "stream",
          "text": [
            "1\n"
          ],
          "name": "stdout"
        }
      ]
    }
  ]
}