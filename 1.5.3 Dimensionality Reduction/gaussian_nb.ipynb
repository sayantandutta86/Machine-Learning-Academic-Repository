{
  "nbformat": 4,
  "nbformat_minor": 0,
  "metadata": {
    "colab": {
      "name": "gaussian_nb.ipynb",
      "provenance": [],
      "collapsed_sections": []
    },
    "kernelspec": {
      "name": "python3",
      "display_name": "Python 3"
    },
    "accelerator": "GPU"
  },
  "cells": [
    {
      "cell_type": "code",
      "metadata": {
        "id": "rlH_Pk1rVjt1",
        "colab_type": "code",
        "colab": {}
      },
      "source": [
        "import os; os.chdir('/content/drive/My Drive/Colab Notebooks/Lazy courses/Unsupervised Learning')"
      ],
      "execution_count": 0,
      "outputs": []
    },
    {
      "cell_type": "code",
      "metadata": {
        "id": "saOEC8OeV9VQ",
        "colab_type": "code",
        "colab": {}
      },
      "source": [
        "import numpy as np\n",
        "import pandas as pd\n",
        "from sklearn.decomposition import PCA\n",
        "from scipy.stats import norm\n",
        "from scipy.stats import multivariate_normal as mvn\n",
        "from util import getKaggleMNIST"
      ],
      "execution_count": 0,
      "outputs": []
    },
    {
      "cell_type": "code",
      "metadata": {
        "id": "SzKi8vrHV9yc",
        "colab_type": "code",
        "colab": {}
      },
      "source": [
        "class GaussianNB(object):\n",
        "    def fit(self, X, Y, smoothing=1e-2):\n",
        "        self.gaussian = dict()\n",
        "        self.priors = dict()\n",
        "        labels = set(Y)\n",
        "        \n",
        "        for c in labels:\n",
        "            current_x = X[Y == c]\n",
        "            self.gaussian[c] = {\n",
        "                'mean': current_x.mean(axis=0),\n",
        "                'var' : current_x.var(axis=0) + smoothing\n",
        "            }\n",
        "            self.priors[c] = float(len(Y[Y==c])) / len(Y)\n",
        "\n",
        "    def score(self, X, Y):\n",
        "        P = self.predict(X)\n",
        "        return np.mean(P == Y)\n",
        "\n",
        "    def predict(self, X):\n",
        "        N, D = X.shape\n",
        "        K = len(self.gaussian)\n",
        "        P = np.zeros((N, K))\n",
        "        for c, g in self.gaussian.items():\n",
        "            c = int(c)\n",
        "            mean, var = g['mean'], g['var']\n",
        "            P[:,c] = mvn.logpdf(X, mean=mean, cov=var) + np.log(self.priors[c])\n",
        "        return np.argmax(P, axis=1)"
      ],
      "execution_count": 0,
      "outputs": []
    },
    {
      "cell_type": "code",
      "metadata": {
        "id": "Qr8aHCYoV-FV",
        "colab_type": "code",
        "colab": {}
      },
      "source": [
        "#get data\n",
        "Xtrain, Ytrain, Xtest, Ytest = getKaggleMNIST()"
      ],
      "execution_count": 0,
      "outputs": []
    },
    {
      "cell_type": "code",
      "metadata": {
        "id": "hcyiKtd2V-Hk",
        "colab_type": "code",
        "colab": {
          "base_uri": "https://localhost:8080/",
          "height": 51
        },
        "outputId": "6dcac336-dfe8-4269-e295-e3fdf9746d8f"
      },
      "source": [
        "#Naive Bayes without PCA\n",
        "model1 = GaussianNB()\n",
        "model1.fit(Xtrain, Ytrain)\n",
        "print(\"NB train score:\", model1.score(Xtrain, Ytrain))\n",
        "print(\"NB test score:\", model1.score(Xtest, Ytest))"
      ],
      "execution_count": 28,
      "outputs": [
        {
          "output_type": "stream",
          "text": [
            "NB train score: 0.8016101694915254\n",
            "NB test score: 0.795\n"
          ],
          "name": "stdout"
        }
      ]
    },
    {
      "cell_type": "code",
      "metadata": {
        "id": "1CvFMWl1V99p",
        "colab_type": "code",
        "colab": {
          "base_uri": "https://localhost:8080/",
          "height": 51
        },
        "outputId": "eb70a7a5-2217-41c0-c300-6f86f0559cbd"
      },
      "source": [
        "#Naive Bayes with PCA\n",
        "\n",
        "#PCA\n",
        "pca = PCA(n_components=50)\n",
        "Ztrain = pca.fit_transform(Xtrain)\n",
        "Ztest = pca.transform(Xtest)\n",
        "\n",
        "#Train the PCA tranformed data\n",
        "model2 = GaussianNB()\n",
        "model2.fit(Ztrain, Ytrain)\n",
        "print(\"NB train score:\", model2.score(Ztrain, Ytrain))\n",
        "print(\"NB test score:\", model2.score(Ztest, Ytest))"
      ],
      "execution_count": 32,
      "outputs": [
        {
          "output_type": "stream",
          "text": [
            "NB train score: 0.8711694915254238\n",
            "NB test score: 0.872\n"
          ],
          "name": "stdout"
        }
      ]
    },
    {
      "cell_type": "code",
      "metadata": {
        "id": "D7lPB9ktH6w7",
        "colab_type": "code",
        "colab": {}
      },
      "source": [
        ""
      ],
      "execution_count": 0,
      "outputs": []
    },
    {
      "cell_type": "code",
      "metadata": {
        "id": "v1P3Z3B3H6z1",
        "colab_type": "code",
        "colab": {}
      },
      "source": [
        ""
      ],
      "execution_count": 0,
      "outputs": []
    },
    {
      "cell_type": "code",
      "metadata": {
        "id": "xwQA3npQV93S",
        "colab_type": "code",
        "colab": {}
      },
      "source": [
        ""
      ],
      "execution_count": 0,
      "outputs": []
    }
  ]
}