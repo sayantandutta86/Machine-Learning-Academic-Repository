{
  "nbformat": 4,
  "nbformat_minor": 0,
  "metadata": {
    "colab": {
      "name": "create_language_model_tf.ipynb",
      "provenance": [],
      "collapsed_sections": []
    },
    "kernelspec": {
      "name": "python3",
      "display_name": "Python 3"
    }
  },
  "cells": [
    {
      "cell_type": "code",
      "metadata": {
        "id": "zB-8loo5OWNm",
        "colab_type": "code",
        "colab": {}
      },
      "source": [
        "import os ; os.chdir('/content/drive/My Drive/Colab Notebooks/Lazy courses/Recurrent Neural Network')"
      ],
      "execution_count": 0,
      "outputs": []
    },
    {
      "cell_type": "code",
      "metadata": {
        "id": "2N84sz5IlQ9o",
        "colab_type": "code",
        "colab": {}
      },
      "source": [
        "%tensorflow_version 1.x"
      ],
      "execution_count": 0,
      "outputs": []
    },
    {
      "cell_type": "code",
      "metadata": {
        "id": "ASpqTaUWOWP6",
        "colab_type": "code",
        "colab": {
          "base_uri": "https://localhost:8080/",
          "height": 676
        },
        "outputId": "85da9225-cf60-4b38-f085-7bfe7ce00c81"
      },
      "source": [
        "import tensorflow as tf\n",
        "import numpy as np\n",
        "import matplotlib.pyplot as plt\n",
        "\n",
        "from sklearn.utils import shuffle\n",
        "from utils import init_weight, get_robert_frost, get_wikipedia_data\n",
        "\n",
        "class SimpleRNN:\n",
        "    def __init__(self, D, M, V, f, session):\n",
        "        self.D = D # dimensionality of word embedding\n",
        "        self.M = M # hidden layer size\n",
        "        self.V = V # vocabulary size\n",
        "        self.f = f\n",
        "        self.session = session\n",
        "\n",
        "    def set_session(self, session):\n",
        "        self.session = session\n",
        "\n",
        "    def build(self, We, Wx, Wh, bh, h0, Wo, bo):\n",
        "        #make them tf variables\n",
        "        self.We = tf.Variable(We)\n",
        "        self.Wx = tf.Variable(Wx)\n",
        "        self.Wh = tf.Variable(Wh)\n",
        "        self.bh = tf.Variable(bh)\n",
        "        self.h0 = tf.Variable(h0)\n",
        "        self.Wo = tf.Variable(Wo)\n",
        "        self.bo = tf.Variable(bo)\n",
        "        self.params = [self.We, self.Wx, self.Wh, self.bh, self.h0, self.Wo, self.bo]\n",
        "\n",
        "        #for easy access\n",
        "        V = self.V\n",
        "        D = self.D\n",
        "        M = self.M\n",
        "\n",
        "        #placeholders\n",
        "        self.tfX = tf.placeholder(tf.int32, shape=(None,), name='X')\n",
        "        self.tfY = tf.placeholder(tf.int32, shape=(None,), name='Y')\n",
        "\n",
        "        #convert word indexes to word vectors\n",
        "        #this would be equivalent to doing \n",
        "        #We[tfX] in Numpy / Theano\n",
        "        #or :\n",
        "        # X_one_hot = one_hot_encode(X)\n",
        "        # X_one_hot.dot(We)\n",
        "        XW = tf.nn.embedding_lookup(We, self.tfX)\n",
        "\n",
        "        #multiply it by input-->hidden so that we dont have to do it \n",
        "        #inside recurrence function\n",
        "        XW_Wx = tf.matmul(XW, self.Wx)\n",
        "\n",
        "        def recurrence(h_t1, XW_Wx_t):\n",
        "            #returns h(t) and y(t)\n",
        "            h_t1 = tf.reshape(h_t1, (1,M))\n",
        "            h_t = self.f(XW_Wx_t + tf.matmul(h_t1, self.Wh) + self.bh)\n",
        "            h_t = tf.reshape(h_t, (M,))\n",
        "            return h_t\n",
        "            \n",
        "        h = tf.scan(\n",
        "            fn = recurrence,\n",
        "            elems=XW_Wx,\n",
        "            initializer=self.h0,\n",
        "        )\n",
        "\n",
        "        #output\n",
        "        logits = tf.matmul(h, self.Wo) + self.bo\n",
        "        prediction = tf.argmax(logits, 1)\n",
        "        self.output_probs = tf.nn.softmax(logits)\n",
        "\n",
        "        nce_weights = tf.transpose(self.Wo, [1,0]) #needs to be VxD, not DxV\n",
        "        nce_biases = self.bo\n",
        "\n",
        "        h = tf.reshape(h, (-1,M))\n",
        "        labels = tf.reshape(self.tfY, (-1, 1))\n",
        "\n",
        "        self.cost = tf.reduce_mean(\n",
        "            tf.nn.sampled_softmax_loss(\n",
        "                weights=nce_weights,\n",
        "                biases = nce_biases,\n",
        "                labels = labels,\n",
        "                inputs = h,\n",
        "                num_sampled = 50, #number of negative sample\n",
        "                num_classes =  V))\n",
        "\n",
        "        self.predict_op = prediction\n",
        "        self.train_op = tf.train.AdamOptimizer(1e-2).minimize(self.cost)\n",
        "        # self.train_op = tf.train.MomentumOptimizer(1e-3, 0.9).minimize(self.cost)\n",
        "\n",
        "        #init all variables \n",
        "        init = tf.global_variables_initializer()\n",
        "        self.session.run(init)\n",
        "\n",
        "    def fit(self, X, epochs=500, show_fig=False):\n",
        "        N = len(X)\n",
        "        D = self.D\n",
        "        M = self.M\n",
        "        V = self.V\n",
        "\n",
        "        #initial weights \n",
        "        We = init_weight(V, D).astype(np.float32)\n",
        "        Wx = init_weight(D, M).astype(np.float32)\n",
        "        Wh = init_weight(M, M).astype(np.float32)\n",
        "        bh = np.zeros(M).astype(np.float32)\n",
        "        h0 = np.zeros(M).astype(np.float32)\n",
        "        Wo = init_weight(M, V).astype(np.float32)\n",
        "        bo = np.zeros(V).astype(np.float32)\n",
        "\n",
        "        #build tensorflow functions\n",
        "        self.build(We, Wx, Wh, bh, h0, Wo, bo)\n",
        "\n",
        "        # sentence input:\n",
        "        # [START, w1, w2, ..., wn]\n",
        "        # sentence target:\n",
        "        # [w1, w2, w3, ..., END]\n",
        "\n",
        "        costs = []\n",
        "        n_total = sum((len(sentence)+1) for sentence in X)\n",
        "        for i in range(epochs):\n",
        "            X = shuffle(X)\n",
        "            n_correct = 0\n",
        "            cost = 0 \n",
        "            for j in range(N):\n",
        "                # problem! many words --> END token are over-represented\n",
        "                # result: generated lines will be very short\n",
        "                # we will try to fix in a later iteration\n",
        "                # bad! magic numbers 0 and 1\n",
        "                input_sequence = [0] + X[j]\n",
        "                output_sequence = X[j] + [1]\n",
        "\n",
        "                # we set 0 to start and 1 to end\n",
        "                _, c, p = self.session.run(\n",
        "                    (self.train_op, self.cost, self.predict_op),\n",
        "                    feed_dict={self.tfX: input_sequence, self.tfY: output_sequence}\n",
        "                )\n",
        "\n",
        "                cost += c\n",
        "                for pj, xj in zip(p, output_sequence):\n",
        "                    if pj == xj:\n",
        "                        n_correct += 1\n",
        "            print(\"i:\", i, \"cost:\", cost, \"correct rate:\", (float(n_correct)/n_total))\n",
        "            costs.append(cost)\n",
        "\n",
        "        if show_fig:\n",
        "            plt.plot(costs)\n",
        "            plt.show()\n",
        "\n",
        "    def predict(self, prev_words):\n",
        "        #don't use argmax, so that we can sample \n",
        "        #from this probability distribution\n",
        "        return self.session.run(self.output_probs, feed_dict={self.tfX: prev_words})\n",
        "\n",
        "    def save(self, filename):\n",
        "        actual_params = self.session.run(self.params)\n",
        "        np.savez(filename, *[p for p in actual_params])\n",
        "\n",
        "    @staticmethod\n",
        "    def load(filename, activation, session):\n",
        "        npz = np.load(filename)\n",
        "        We = npz['arr_0']\n",
        "        Wx = npz['arr_1']\n",
        "        Wh = npz['arr_2']\n",
        "        bh = npz['arr_3']\n",
        "        h0 = npz['arr_4']\n",
        "        Wo = npz['arr_5']\n",
        "        bo = npz['arr_6']\n",
        "        V, D = We.shape\n",
        "        _, M = Wx.shape\n",
        "        rnn = SimpleRNN(D, M, V, activation, session)\n",
        "        rnn.build(We, Wx, Wh, bh, h0, Wo, bo)\n",
        "        return rnn\n",
        "\n",
        "    def generate(self, pi, word2idx):\n",
        "        #convert word2idx --> idx2word\n",
        "        idx2word = {v:k for k,v in word2idx.items()}\n",
        "        V = len(pi)\n",
        "\n",
        "        #generate 4 lines at a time \n",
        "        n_lines = 0\n",
        "\n",
        "        #why? START symbol will always yield the same first word \n",
        "        X = [np.random.choice(V, p=pi)]\n",
        "\n",
        "        print(idx2word[X[0]], end=\" \")\n",
        "\n",
        "        while n_lines < 4:\n",
        "            probs = self.predict(X)[-1]\n",
        "            word_idx = np.random.choice(V, p=probs)\n",
        "            X.append(word_idx)\n",
        "            if word_idx > 1:\n",
        "                #its a real word, not a start/end token\n",
        "                word = idx2word[word_idx]\n",
        "                print(word, end=\" \")\n",
        "            elif word_idx == 1:\n",
        "                #end token\n",
        "                n_lines += 1\n",
        "                print('')\n",
        "                if n_lines < 4:\n",
        "                    X = [np.random.choice(V, p=pi)] #reset to start of the line\n",
        "                    print(idx2word[X[0]], end=\" \")\n",
        "\n",
        "\n",
        "def train_poetry(session, dims, savefile):\n",
        "    sentences, word2idx = get_robert_frost()\n",
        "    rnn = SimpleRNN(dims, dims, len(word2idx), tf.nn.relu, session)\n",
        "    rnn.fit(sentences, epochs=17, show_fig=True)\n",
        "    rnn.save(savefile)\n",
        "\n",
        "def generate_poetry(session, savefile):\n",
        "    sentences, word2idx = get_robert_frost()\n",
        "    rnn = SimpleRNN.load(savefile, tf.nn.relu, session)\n",
        "\n",
        "    #determine initial state distribution for starting sentences\n",
        "    V = len(word2idx)\n",
        "    pi = np.zeros(V)\n",
        "    for sentence in sentences:\n",
        "        pi[sentence[0]] += 1\n",
        "\n",
        "    pi /= pi.sum()\n",
        "\n",
        "    rnn.generate(pi, word2idx)\n",
        "\n",
        "\n",
        "if __name__ == \"__main__\":\n",
        "    dims=50\n",
        "    savefile = 'RNN_D50_M50_tf.npz'\n",
        "    session = tf.InteractiveSession()\n",
        "    #session = tf.compat.v1.InteractiveSession()\n",
        "    train_poetry(session, dims, savefile)\n",
        "    generate_poetry(session, savefile)\n"
      ],
      "execution_count": 6,
      "outputs": [
        {
          "output_type": "stream",
          "text": [
            "/tensorflow-1.15.2/python3.6/tensorflow_core/python/client/session.py:1750: UserWarning: An interactive session is already active. This can cause out-of-memory errors in some cases. You must explicitly call `InteractiveSession.close()` to release resources held by the other session(s).\n",
            "  warnings.warn('An interactive session is already active. This can '\n"
          ],
          "name": "stderr"
        },
        {
          "output_type": "stream",
          "text": [
            "i: 0 cost: 4875.169536232948 correct rate: 0.12960829493087558\n",
            "i: 1 cost: 4295.698028206825 correct rate: 0.136026991441738\n",
            "i: 2 cost: 4076.136852622032 correct rate: 0.1380842659644503\n",
            "i: 3 cost: 3895.211296081543 correct rate: 0.14170506912442396\n",
            "i: 4 cost: 3701.2695318460464 correct rate: 0.1423633969716919\n",
            "i: 5 cost: 3528.117562532425 correct rate: 0.14310401579986834\n",
            "i: 6 cost: 3385.2514047026634 correct rate: 0.14195194206714945\n",
            "i: 7 cost: 3246.9724522829056 correct rate: 0.14433838051349573\n",
            "i: 8 cost: 3130.37495970726 correct rate: 0.14507899934167215\n",
            "i: 9 cost: 3076.7901846170425 correct rate: 0.1433508887425938\n",
            "i: 10 cost: 2987.2108675837517 correct rate: 0.14409150757077024\n",
            "i: 11 cost: 2947.1869999170303 correct rate: 0.1423633969716919\n",
            "i: 12 cost: 2930.3765691518784 correct rate: 0.14112903225806453\n",
            "i: 13 cost: 2864.8920047283173 correct rate: 0.14400921658986174\n",
            "i: 14 cost: 2833.222780287266 correct rate: 0.14351547070441079\n",
            "i: 15 cost: 2814.5393223166466 correct rate: 0.14491441737985516\n",
            "i: 16 cost: 2788.707865834236 correct rate: 0.14376234364713628\n"
          ],
          "name": "stdout"
        },
        {
          "output_type": "display_data",
          "data": {
            "image/png": "[encoded data removed]",
            "text/plain": [
              "<Figure size 432x288 with 1 Axes>"
            ]
          },
          "metadata": {
            "tags": [],
            "needs_background": "light"
          }
        },
        {
          "output_type": "stream",
          "text": [
            "in slower as city ahead me look the serial things \n",
            "and being from would was \n",
            "he cottage a hands— it living to saw near for going to warn \n",
            "you donkeys the white you wont knock expense knees \n"
          ],
          "name": "stdout"
        }
      ]
    },
    {
      "cell_type": "code",
      "metadata": {
        "id": "KUxL_zFUOWZG",
        "colab_type": "code",
        "colab": {
          "base_uri": "https://localhost:8080/",
          "height": 139
        },
        "outputId": "c79ba148-91ee-4906-cbb7-683378d10090"
      },
      "source": [
        "if __name__ == \"__main__\":\n",
        "    dims=50\n",
        "    savefile = 'RNN_D50_M50_tf.npz'\n",
        "    session = tf.InteractiveSession()\n",
        "    #session = tf.compat.v1.InteractiveSession()\n",
        "    #train_poetry(session, dims, savefile)\n",
        "    generate_poetry(session, savefile)"
      ],
      "execution_count": 8,
      "outputs": [
        {
          "output_type": "stream",
          "text": [
            "/tensorflow-1.15.2/python3.6/tensorflow_core/python/client/session.py:1750: UserWarning: An interactive session is already active. This can cause out-of-memory errors in some cases. You must explicitly call `InteractiveSession.close()` to release resources held by the other session(s).\n",
            "  warnings.warn('An interactive session is already active. This can '\n"
          ],
          "name": "stderr"
        },
        {
          "output_type": "stream",
          "text": [
            "by idleness to picked \n",
            "you scene down to sell \n",
            "hell brush \n",
            "the clothes than of birth or \n"
          ],
          "name": "stdout"
        }
      ]
    },
    {
      "cell_type": "code",
      "metadata": {
        "id": "nBV3BCN7OWeF",
        "colab_type": "code",
        "colab": {
          "base_uri": "https://localhost:8080/",
          "height": 139
        },
        "outputId": "d3392dd1-afa0-42fd-f66b-fe47590bc34f"
      },
      "source": [
        "if __name__ == \"__main__\":\n",
        "    dims=50\n",
        "    savefile = 'RNN_D50_M50_tf.npz'\n",
        "    session = tf.InteractiveSession()\n",
        "    #session = tf.compat.v1.InteractiveSession()\n",
        "    #train_poetry(session, dims, savefile)\n",
        "    generate_poetry(session, savefile)"
      ],
      "execution_count": 9,
      "outputs": [
        {
          "output_type": "stream",
          "text": [
            "/tensorflow-1.15.2/python3.6/tensorflow_core/python/client/session.py:1750: UserWarning: An interactive session is already active. This can cause out-of-memory errors in some cases. You must explicitly call `InteractiveSession.close()` to release resources held by the other session(s).\n",
            "  warnings.warn('An interactive session is already active. This can '\n"
          ],
          "name": "stderr"
        },
        {
          "output_type": "stream",
          "text": [
            "that less he lean enough morning \n",
            "i bigger tended \n",
            "faster course and berries all in some married with \n",
            "here faced this picture house stole not me rain let strands born \n"
          ],
          "name": "stdout"
        }
      ]
    },
    {
      "cell_type": "code",
      "metadata": {
        "id": "XZPnIoKgOWhV",
        "colab_type": "code",
        "colab": {}
      },
      "source": [
        ""
      ],
      "execution_count": 0,
      "outputs": []
    },
    {
      "cell_type": "code",
      "metadata": {
        "id": "Iehm77XfOWkE",
        "colab_type": "code",
        "colab": {}
      },
      "source": [
        ""
      ],
      "execution_count": 0,
      "outputs": []
    },
    {
      "cell_type": "code",
      "metadata": {
        "id": "1x3kglthOWb_",
        "colab_type": "code",
        "colab": {}
      },
      "source": [
        ""
      ],
      "execution_count": 0,
      "outputs": []
    },
    {
      "cell_type": "code",
      "metadata": {
        "id": "6v0j96pvOWW7",
        "colab_type": "code",
        "colab": {}
      },
      "source": [
        ""
      ],
      "execution_count": 0,
      "outputs": []
    }
  ]
}