{
  "nbformat": 4,
  "nbformat_minor": 0,
  "metadata": {
    "colab": {
      "name": "Gated_Recurrent_Unit_from_scratch.ipynb",
      "provenance": [],
      "collapsed_sections": []
    },
    "kernelspec": {
      "name": "python3",
      "display_name": "Python 3"
    }
  },
  "cells": [
    {
      "cell_type": "code",
      "metadata": {
        "id": "KG-u5eC_QBRb",
        "colab_type": "code",
        "colab": {}
      },
      "source": [
        "import os ; os.chdir('/content/drive/My Drive/Colab Notebooks/Lazy courses/Recurrent Neural Network')"
      ],
      "execution_count": 0,
      "outputs": []
    },
    {
      "cell_type": "code",
      "metadata": {
        "id": "y1MhBcCwQSif",
        "colab_type": "code",
        "colab": {}
      },
      "source": [
        "import numpy as np\n",
        "import theano\n",
        "import theano.tensor as T\n",
        "\n",
        "from utils import init_weight"
      ],
      "execution_count": 0,
      "outputs": []
    },
    {
      "cell_type": "code",
      "metadata": {
        "id": "H1BLTRr_QS2D",
        "colab_type": "code",
        "colab": {}
      },
      "source": [
        "class GRU:\n",
        "    def __init__(self, Mi, Mo, activation):\n",
        "        self.Mi = Mi\n",
        "        self.Mo = Mo\n",
        "        self.f = activation\n",
        "\n",
        "        #numpy init\n",
        "        Wxr = init_weight(Mi, Mo)\n",
        "        Whr = init_weight(Mo, Mo)\n",
        "        br = np.zeros(Mo)\n",
        "        Wxz = init_weight(Mi, Mo)\n",
        "        Whz = init_weight(Mo, Mo)\n",
        "        bz = np.zeros(Mo)\n",
        "        Wxh = init_weight(Mi, Mo)\n",
        "        Whh = init_weight(Mo, Mo)\n",
        "        bh = np.zeros(Mo)\n",
        "        b0 = np.zeros(Mo)\n",
        "\n",
        "        #theano variables \n",
        "        self.Wxr = theano.shared(Wxr)\n",
        "        self.Whr = theano.shared(Whr)\n",
        "        self.br  = theano.shared(br)\n",
        "        self.Wxz = theano.shared(Wxz)\n",
        "        self.Whz = theano.shared(Whz)\n",
        "        self.bz  = theano.shared(bz)\n",
        "        self.Wxh = theano.shared(Wxh)\n",
        "        self.Whh = theano.shared(Whh)\n",
        "        self.bh  = theano.shared(bh)\n",
        "        self.h0  = theano.shared(h0)\n",
        "\n",
        "        self.params = [self.Wxr, self.Whr, self.br, self.Wxz, self.Whz, self.bz, self.Wxh, self.Whh, self.bh, self.h0]\n",
        "\n",
        "    def recurrence(self, x_t, h_t1):\n",
        "        r = T.nnet.sigmoid(x_t.dot(self.Wxr) + h_t1.dot(self.Whr) + self.br)\n",
        "        z = T.nnet.sigmoid(x_t.dot(self.Wxz) + h_t1.dot(self.Whz) + self.bz)\n",
        "        hhat = self.f(x_t.dot(self.Wxh) + (r * h_t1).dot(self.Whh) + self.bh)\n",
        "        h = (1 - z) * h_t1 + z * hhat\n",
        "        return h\n",
        "\n",
        "    def output(self, x):\n",
        "        # input X should be a matrix (2-D)\n",
        "        # rows index time\n",
        "        h, _ = theano.scan(\n",
        "            fn = self.recurrence,\n",
        "            sequences = x,\n",
        "            outputs_info = [self.h0],\n",
        "            n_steps = x.shape[0],\n",
        "        )\n",
        "        return h"
      ],
      "execution_count": 0,
      "outputs": []
    },
    {
      "cell_type": "code",
      "metadata": {
        "id": "hyLeJ6fKQS4c",
        "colab_type": "code",
        "colab": {}
      },
      "source": [
        ""
      ],
      "execution_count": 0,
      "outputs": []
    },
    {
      "cell_type": "code",
      "metadata": {
        "id": "HphKyneOQS8T",
        "colab_type": "code",
        "colab": {}
      },
      "source": [
        ""
      ],
      "execution_count": 0,
      "outputs": []
    },
    {
      "cell_type": "code",
      "metadata": {
        "id": "sxPkQP4MQS--",
        "colab_type": "code",
        "colab": {}
      },
      "source": [
        ""
      ],
      "execution_count": 0,
      "outputs": []
    },
    {
      "cell_type": "code",
      "metadata": {
        "id": "wbRG5AItQTBH",
        "colab_type": "code",
        "colab": {}
      },
      "source": [
        ""
      ],
      "execution_count": 0,
      "outputs": []
    },
    {
      "cell_type": "code",
      "metadata": {
        "id": "bDblxOo1QTE2",
        "colab_type": "code",
        "colab": {}
      },
      "source": [
        ""
      ],
      "execution_count": 0,
      "outputs": []
    },
    {
      "cell_type": "code",
      "metadata": {
        "id": "kE4YtLoDQTDY",
        "colab_type": "code",
        "colab": {}
      },
      "source": [
        ""
      ],
      "execution_count": 0,
      "outputs": []
    }
  ]
}