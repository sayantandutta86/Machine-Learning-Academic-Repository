{
  "nbformat": 4,
  "nbformat_minor": 0,
  "metadata": {
    "colab": {
      "name": "poetry_classifier.ipynb",
      "provenance": [],
      "collapsed_sections": []
    },
    "kernelspec": {
      "name": "python3",
      "display_name": "Python 3"
    }
  },
  "cells": [
    {
      "cell_type": "code",
      "metadata": {
        "id": "gZSgbC8jcNIr",
        "colab_type": "code",
        "colab": {}
      },
      "source": [
        "import os ; os.chdir('/content/drive/My Drive/Colab Notebooks/Lazy courses/Recurrent Neural Network')"
      ],
      "execution_count": 0,
      "outputs": []
    },
    {
      "cell_type": "code",
      "metadata": {
        "id": "e0DRXta2bKlV",
        "colab_type": "code",
        "colab": {}
      },
      "source": [
        "import theano \n",
        "import theano.tensor as T\n",
        "import numpy as np\n",
        "import matplotlib.pyplot as plt\n",
        "\n",
        "from sklearn.utils import shuffle\n",
        "from utils import init_weight, get_poetry_classifier_data"
      ],
      "execution_count": 0,
      "outputs": []
    },
    {
      "cell_type": "code",
      "metadata": {
        "id": "zO-YTDZne7-F",
        "colab_type": "code",
        "colab": {}
      },
      "source": [
        "class SimpleRNN:\n",
        "    def __init__(self, M, V):\n",
        "        self.M = M # hidden layer size\n",
        "        self.V = V # vocabulary size\n",
        "\n",
        "    def fit(self, X, Y, learning_rate=1.0, mu=0.99, reg=1.0, activation=T.tanh, epochs=500, show_fig=False):\n",
        "        M = self.M\n",
        "        V = self.V\n",
        "        K = len(set(Y))\n",
        "        print(\"V:\", V)\n",
        "\n",
        "        X, Y = shuffle(X, Y)\n",
        "        Nvalid = 10\n",
        "        Xvalid, Yvalid = X[-Nvalid:], Y[-Nvalid:]\n",
        "        X, Y = X[:-Nvalid], Y[:-Nvalid]\n",
        "        N = len(X)\n",
        "\n",
        "        # initial weights\n",
        "        Wx = init_weight(V, M)\n",
        "        Wh = init_weight(M, M)\n",
        "        bh = np.zeros(M)\n",
        "        h0 = np.zeros(M)\n",
        "        Wo = init_weight(M, K)\n",
        "        bo = np.zeros(K)\n",
        "\n",
        "        thX, thY, py_x, prediction = self.set(Wx, Wh, bh, h0, Wo, bo, activation)\n",
        "\n",
        "        cost = -T.mean(T.log(py_x[thY]))\n",
        "        grads = T.grad(cost, self.params)\n",
        "        dparams = [theano.shared(p.get_value()*0) for p in self.params]\n",
        "        lr = T.scalar('learning_rate')\n",
        "\n",
        "        updates = [\n",
        "            (p, p + mu*dp - lr*g) for p, dp, g in zip(self.params, dparams, grads)\n",
        "        ] + [\n",
        "            (dp, mu*dp - lr*g) for dp, g in zip(dparams, grads)\n",
        "        ]\n",
        "\n",
        "        self.train_op = theano.function(\n",
        "            inputs=[thX, thY, lr],\n",
        "            outputs=[cost, prediction],\n",
        "            updates=updates,\n",
        "            allow_input_downcast=True,\n",
        "        )\n",
        "\n",
        "        costs = []\n",
        "        for i in range(epochs):\n",
        "            X, Y = shuffle(X, Y)\n",
        "            n_correct = 0\n",
        "            cost = 0\n",
        "            for j in range(N):\n",
        "                # we set 0 to start and 1 to end\n",
        "                # print \"X[%d]:\" % j, X[j], \"len:\", len(X[j])\n",
        "                c, p = self.train_op(X[j], Y[j], learning_rate)\n",
        "                # print \"p:\", p, \"y:\", Y[j]\n",
        "                cost += c\n",
        "                if p == Y[j]:\n",
        "                    n_correct += 1\n",
        "            # update the learning rate\n",
        "            learning_rate *= 0.9999\n",
        "\n",
        "            # calculate validation accuracy\n",
        "            n_correct_valid = 0\n",
        "            for j in range(Nvalid):\n",
        "                p = self.predict_op(Xvalid[j])\n",
        "                if p == Yvalid[j]:\n",
        "                    n_correct_valid += 1\n",
        "            print(\"i:\", i, \"cost:\", cost, \"correct rate:\", (float(n_correct)/N), end=\" \")\n",
        "            print(\"validation correct rate:\", (float(n_correct_valid)/Nvalid))\n",
        "            costs.append(cost)\n",
        "\n",
        "        if show_fig:\n",
        "            plt.plot(costs)\n",
        "            plt.show()\n",
        "    \n",
        "    def save(self, filename):\n",
        "        np.savez(filename, *[p.get_value() for p in self.params])\n",
        "\n",
        "    @staticmethod\n",
        "    def load(filename, activation):\n",
        "        # TODO: would prefer to save activation to file too\n",
        "        npz = np.load(filename)\n",
        "        Wx = npz['arr_0']\n",
        "        Wh = npz['arr_1']\n",
        "        bh = npz['arr_2']\n",
        "        h0 = npz['arr_3']\n",
        "        Wo = npz['arr_4']\n",
        "        bo = npz['arr_5']\n",
        "        V, M = Wx.shape\n",
        "        rnn = SimpleRNN(M, V)\n",
        "        rnn.set(Wx, Wh, bh, h0, Wo, bo, activation)\n",
        "        return rnn\n",
        "\n",
        "    def set(self, Wx, Wh, bh, h0, Wo, bo, activation):\n",
        "        self.f = activation\n",
        "\n",
        "        # redundant - see how you can improve it\n",
        "        self.Wx = theano.shared(Wx)\n",
        "        self.Wh = theano.shared(Wh)\n",
        "        self.bh = theano.shared(bh)\n",
        "        self.h0 = theano.shared(h0)\n",
        "        self.Wo = theano.shared(Wo)\n",
        "        self.bo = theano.shared(bo)\n",
        "        self.params = [self.Wx, self.Wh, self.bh, self.h0, self.Wo, self.bo]\n",
        "\n",
        "        thX = T.ivector('X')\n",
        "        thY = T.iscalar('Y')\n",
        "\n",
        "        def recurrence(x_t, h_t1):\n",
        "            # returns h(t), y(t)\n",
        "            h_t = self.f(self.Wx[x_t] + h_t1.dot(self.Wh) + self.bh)\n",
        "            y_t = T.nnet.softmax(h_t.dot(self.Wo) + self.bo)\n",
        "            return h_t, y_t\n",
        "\n",
        "        [h, y], _ = theano.scan(\n",
        "            fn=recurrence,\n",
        "            outputs_info=[self.h0, None],\n",
        "            sequences=thX,\n",
        "            n_steps=thX.shape[0],\n",
        "        )\n",
        "\n",
        "        py_x = y[-1, 0, :] # only interested in the final classification of the sequence\n",
        "        prediction = T.argmax(py_x)\n",
        "        self.predict_op = theano.function(\n",
        "            inputs=[thX],\n",
        "            outputs=prediction,\n",
        "            allow_input_downcast=True,\n",
        "        )\n",
        "        return thX, thY, py_x, prediction\n",
        "\n",
        "\n",
        "def train_poetry():\n",
        "    X, Y, V = get_poetry_classifier_data(samples_per_class=500)\n",
        "    rnn = SimpleRNN(30, V)\n",
        "    rnn.fit(X, Y, learning_rate=1e-6, show_fig=True, activation=T.nnet.relu, epochs=1000)"
      ],
      "execution_count": 0,
      "outputs": []
    },
    {
      "cell_type": "code",
      "metadata": {
        "id": "dhhMnteZe8LN",
        "colab_type": "code",
        "colab": {}
      },
      "source": [
        "if __name__ == '__main__':\n",
        "    train_poetry()"
      ],
      "execution_count": 0,
      "outputs": []
    },
    {
      "cell_type": "code",
      "metadata": {
        "id": "Aa47bQZ7si6I",
        "colab_type": "code",
        "colab": {}
      },
      "source": [
        ""
      ],
      "execution_count": 0,
      "outputs": []
    },
    {
      "cell_type": "code",
      "metadata": {
        "id": "XalTv_kZe8Gu",
        "colab_type": "code",
        "colab": {}
      },
      "source": [
        ""
      ],
      "execution_count": 0,
      "outputs": []
    },
    {
      "cell_type": "code",
      "metadata": {
        "id": "RPU3T7Tve748",
        "colab_type": "code",
        "colab": {}
      },
      "source": [
        ""
      ],
      "execution_count": 0,
      "outputs": []
    }
  ]
}