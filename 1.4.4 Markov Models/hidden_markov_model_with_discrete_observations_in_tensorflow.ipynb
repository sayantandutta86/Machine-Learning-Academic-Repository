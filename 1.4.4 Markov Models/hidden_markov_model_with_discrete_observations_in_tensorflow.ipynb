{
  "nbformat": 4,
  "nbformat_minor": 0,
  "metadata": {
    "colab": {
      "name": "hidden_markov_model_with_discrete_observations_in_tensorflow.ipynb",
      "provenance": [],
      "collapsed_sections": []
    },
    "kernelspec": {
      "name": "python3",
      "display_name": "Python 3"
    }
  },
  "cells": [
    {
      "cell_type": "code",
      "metadata": {
        "id": "B3Jiyl3RNPwR",
        "colab_type": "code",
        "colab": {}
      },
      "source": [
        "import os ; os.chdir('/content/drive/My Drive/Colab Notebooks/Lazy courses/Markov Models')"
      ],
      "execution_count": 0,
      "outputs": []
    },
    {
      "cell_type": "code",
      "metadata": {
        "id": "fPLq3rZ0-apX",
        "colab_type": "code",
        "colab": {}
      },
      "source": [
        "%tensorflow_version 1.x"
      ],
      "execution_count": 0,
      "outputs": []
    },
    {
      "cell_type": "code",
      "metadata": {
        "id": "VjU6mt0r9_lr",
        "colab_type": "code",
        "colab": {}
      },
      "source": [
        "import numpy as np\n",
        "import matplotlib.pyplot as plt\n",
        "import tensorflow as tf"
      ],
      "execution_count": 0,
      "outputs": []
    },
    {
      "cell_type": "code",
      "metadata": {
        "id": "GAkHgDOt-fkF",
        "colab_type": "code",
        "colab": {}
      },
      "source": [
        "class HMM:\n",
        "    def __init__(self, M):\n",
        "        self.M = M  #number of hidden states\n",
        "    \n",
        "    def set_session(self, session):\n",
        "        self.session = session\n",
        "\n",
        "    def fit(self, X, max_iter=10, print_period=1):\n",
        "        #train hidden markov model with stochastic gradient descent\n",
        "\n",
        "        N = len(X)\n",
        "        print(\"Number of train samples:\", N)\n",
        "\n",
        "        costs = []\n",
        "        for it in range(max_iter):\n",
        "            if it % print_period == 0:\n",
        "                print('it:', it)\n",
        "            for n in range(N):\n",
        "                #this would ofcoure be much fasterif we didnt do this on every\n",
        "                #iteration of the loop\n",
        "                c = self.get_cost_multi(X).sum()\n",
        "                costs.append(c)\n",
        "                self.session.run(self.train_op, feed_dict={self.tfx: X[n]})\n",
        "\n",
        "        plt.plot(costs)\n",
        "        plt.show()\n",
        "\n",
        "    def get_cost(self, x):\n",
        "        #returns log P(x|model)\n",
        "        #using the forward part of the forward-backward algorithm \n",
        "        #print(\"getting cost for:\", x)\n",
        "        return self.session.run(self.cost, feed_dict={self.tfx: x})\n",
        "\n",
        "    def log_likelihood(self, x):\n",
        "        return -self.session.run(self.cost, feed_dict={self.tfx: x})\n",
        "\n",
        "    def get_cost_multi(self, X):\n",
        "        return np.array([self.get_cost(x) for x in X])\n",
        "\n",
        "    \n",
        "\n",
        "    def build(self, preSoftmaxPi, preSoftmaxA, preSoftmaxB):\n",
        "        M, V = preSoftmaxB.shape\n",
        "\n",
        "        self.preSoftmaxPi = tf.Variable(preSoftmaxPi)\n",
        "        self.preSoftmaxA = tf.Variable(preSoftmaxA)\n",
        "        self.preSoftmaxB = tf.Variable(preSoftmaxB)\n",
        "\n",
        "        pi = tf.nn.softmax(self.preSoftmaxPi)\n",
        "        A = tf.nn.softmax(self.preSoftmaxA)\n",
        "        B = tf.nn.softmax(self.preSoftmaxB)\n",
        "\n",
        "        #define cost\n",
        "        self.tfx = tf.placeholder(tf.int32, shape=(None,), name='x')\n",
        "\n",
        "\n",
        "        def recurrence(old_a_old_s, x_t):\n",
        "            old_a = tf.reshape(old_a_old_s[0], (1, M))\n",
        "            a = tf.matmul(old_a, A) * B[:, x_t]\n",
        "            a = tf.reshape(a, (M,))\n",
        "            s = tf.reduce_sum(a)\n",
        "            return (a / s), s\n",
        "\n",
        "        # remember, tensorflow scan is going to loop through\n",
        "        # all the values!\n",
        "        # we treat the first value differently than the rest\n",
        "        # so we only want to loop through tfx[1:]\n",
        "        # the first scale being 1 doesn't affect the log-likelihood\n",
        "        # because log(1) = 0\n",
        "        alpha, scale = tf.scan(fn=recurrence, elems=self.tfx[1:],\n",
        "                            initializer = (pi*B[:,self.tfx[0]],np.float32(1.0)),)\n",
        "        \n",
        "       \n",
        "        self.cost = -tf.reduce_sum(tf.log(scale))\n",
        "        self.train_op = tf.train.AdamOptimizer(1e-2).minimize(self.cost)\n",
        "\n",
        "    def init_random(self, V):\n",
        "        preSoftmaxPi0 = np.zeros(self.M).astype(np.float32) #initial state distribution\n",
        "        preSoftmaxA0 = np.random.randn(self.M, self.M).astype(np.float32) #state transition matrix\n",
        "        preSoftmaxB0 = np.random.randn(self.M, V).astype(np.float32) #output distribution\n",
        "        \n",
        "        self.build(preSoftmaxPi0, preSoftmaxA0, preSoftmaxB0)\n",
        "\n",
        "    def set(self, preSoftmaxPi, preSoftmaxA, preSoftmaxB):\n",
        "        op1 = self.preSoftmaxPi.assign(preSoftmaxPi)\n",
        "        op2 = self.preSoftmaxA.assign(preSoftmaxA)\n",
        "        op3 = self.preSoftmaxB.assign(preSoftmaxB)\n",
        "        self.session.run([op1, op2, op3])"
      ],
      "execution_count": 0,
      "outputs": []
    },
    {
      "cell_type": "code",
      "metadata": {
        "id": "_dFlI9-uIq0X",
        "colab_type": "code",
        "colab": {}
      },
      "source": [
        "def fit_coin():\n",
        "    X = []\n",
        "    for line in open('coin_data.txt'):\n",
        "        #1 for H, 0 for T\n",
        "        x = [1 if e == 'H' else 0 for e in line.rstrip()] \n",
        "        X.append(x)\n",
        "    # X = np.array(X).astype(np.int32)\n",
        "\n",
        "    hmm = HMM(2)\n",
        "    #the entire graph, including optmizer's variables, must be built\n",
        "    #before calling global variables initializer\n",
        "    hmm.init_random(2)\n",
        "    init = tf.global_variables_initializer()\n",
        "    with tf.Session() as session:\n",
        "        session.run(init)\n",
        "        hmm.set_session(session)\n",
        "        hmm.fit(X, max_iter=5)\n",
        "        L = hmm.get_cost_multi(X).sum()\n",
        "        print(\"LL with fitted params:\", L)\n",
        "\n",
        "        #try true values\n",
        "        #remember these must be in their \"pre-softmax\" forms\n",
        "        pi = np.log(np.array([0.5, 0.5])).astype(np.float32)\n",
        "        A = np.log(np.array([[0.1, 0.9], [0.8, 0.2]])).astype(np.float32)\n",
        "        B = np.log(np.array([[0.6, 0.4], [0.3, 0.7]])).astype(np.float32)\n",
        "        hmm.set(pi, A, B)\n",
        "        L = hmm.get_cost_multi(X).sum()\n",
        "        print(\"LL with true params:\", L)\n"
      ],
      "execution_count": 0,
      "outputs": []
    },
    {
      "cell_type": "code",
      "metadata": {
        "id": "sWAG6wr0M-ky",
        "colab_type": "code",
        "colab": {
          "base_uri": "https://localhost:8080/",
          "height": 401
        },
        "outputId": "1c8be7b4-e25f-4bc3-c84c-e9b26ad7f6a2"
      },
      "source": [
        "if __name__ =='__main__':\n",
        "    fit_coin()"
      ],
      "execution_count": 111,
      "outputs": [
        {
          "output_type": "stream",
          "text": [
            "Number of train samples: 50\n",
            "it: 0\n",
            "it: 1\n",
            "it: 2\n",
            "it: 3\n",
            "it: 4\n"
          ],
          "name": "stdout"
        },
        {
          "output_type": "display_data",
          "data": {
            "image/png": "[encoded data removed]",
            "text/plain": [
              "<Figure size 432x288 with 1 Axes>"
            ]
          },
          "metadata": {
            "tags": [],
            "needs_background": "light"
          }
        },
        {
          "output_type": "stream",
          "text": [
            "LL with fitted params: 1033.5061\n",
            "LL with true params: 1059.7229\n"
          ],
          "name": "stdout"
        }
      ]
    }
  ]
}