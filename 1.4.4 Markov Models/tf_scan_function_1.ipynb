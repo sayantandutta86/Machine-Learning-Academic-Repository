{
  "nbformat": 4,
  "nbformat_minor": 0,
  "metadata": {
    "colab": {
      "name": "tf_scan_function_1.ipynb",
      "provenance": []
    },
    "kernelspec": {
      "name": "python3",
      "display_name": "Python 3"
    }
  },
  "cells": [
    {
      "cell_type": "code",
      "metadata": {
        "id": "xksHy3IwbIZn",
        "colab_type": "code",
        "colab": {
          "base_uri": "https://localhost:8080/",
          "height": 34
        },
        "outputId": "5596ec39-27e0-4211-fecc-d447a0a02cba"
      },
      "source": [
        "%tensorflow_version 1.x"
      ],
      "execution_count": 1,
      "outputs": [
        {
          "output_type": "stream",
          "text": [
            "TensorFlow 1.x selected.\n"
          ],
          "name": "stdout"
        }
      ]
    },
    {
      "cell_type": "code",
      "metadata": {
        "id": "IzSexy4Tbb5t",
        "colab_type": "code",
        "colab": {}
      },
      "source": [
        "import numpy as np\n",
        "import tensorflow as tf"
      ],
      "execution_count": 0,
      "outputs": []
    },
    {
      "cell_type": "code",
      "metadata": {
        "id": "CMSzeNkibhn7",
        "colab_type": "code",
        "colab": {}
      },
      "source": [
        "#sequence of elements we want to square\n",
        "x = tf.placeholder(tf.int32, shape=(None,), name='x')\n",
        "\n",
        "#things to do for every element of the sequence\n",
        "#it always ignores the last output\n",
        "def square(last, current):\n",
        "    return current * current"
      ],
      "execution_count": 0,
      "outputs": []
    },
    {
      "cell_type": "code",
      "metadata": {
        "id": "v1xVEXMKcMin",
        "colab_type": "code",
        "colab": {}
      },
      "source": [
        "#this is fancy for loop: it says apply square to every element of x\n",
        "square_op = tf.scan(fn = square, elems=x,)"
      ],
      "execution_count": 0,
      "outputs": []
    },
    {
      "cell_type": "code",
      "metadata": {
        "id": "DzX__-DHcvbV",
        "colab_type": "code",
        "colab": {
          "base_uri": "https://localhost:8080/",
          "height": 34
        },
        "outputId": "cf458eaa-a70b-4125-8521-9f1298835a29"
      },
      "source": [
        "#run\n",
        "with tf.Session() as session:\n",
        "    o_val = session.run(square_op, feed_dict={x:[1,2,3,4,5]})\n",
        "    print(\"output:\", o_val)"
      ],
      "execution_count": 5,
      "outputs": [
        {
          "output_type": "stream",
          "text": [
            "output: [ 1  4  9 16 25]\n"
          ],
          "name": "stdout"
        }
      ]
    },
    {
      "cell_type": "code",
      "metadata": {
        "id": "t3WDUY7NdSgF",
        "colab_type": "code",
        "colab": {}
      },
      "source": [
        ""
      ],
      "execution_count": 0,
      "outputs": []
    }
  ]
}