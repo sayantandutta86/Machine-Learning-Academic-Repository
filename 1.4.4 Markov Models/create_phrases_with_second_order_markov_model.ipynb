{
  "nbformat": 4,
  "nbformat_minor": 0,
  "metadata": {
    "colab": {
      "name": "create_phrases_with_second_order_markov_model.ipynb",
      "provenance": [],
      "collapsed_sections": []
    },
    "kernelspec": {
      "name": "python3",
      "display_name": "Python 3"
    }
  },
  "cells": [
    {
      "cell_type": "code",
      "metadata": {
        "id": "5oqY4vT8mkVz",
        "colab_type": "code",
        "colab": {}
      },
      "source": [
        "import os; os.chdir('/content/drive/My Drive/Colab Notebooks/Lazy courses/Markov Models')"
      ],
      "execution_count": 0,
      "outputs": []
    },
    {
      "cell_type": "code",
      "metadata": {
        "id": "6BSU3ipmD8D8",
        "colab_type": "code",
        "colab": {}
      },
      "source": [
        "import numpy as np\n",
        "import string\n",
        "import sys"
      ],
      "execution_count": 0,
      "outputs": []
    },
    {
      "cell_type": "code",
      "metadata": {
        "id": "bw_nEJXiLVEv",
        "colab_type": "code",
        "colab": {}
      },
      "source": [
        "def remove_punctuation(s):\n",
        "    return s.translate(str.maketrans('','',string.punctuation))\n",
        "\n",
        "def add2dict(d, k, v):\n",
        "    if k not in d:\n",
        "        d[k] = []\n",
        "    d[k].append(v)\n",
        "\n",
        "def list2pdict(ts):\n",
        "    #turn each list of probabilities into a dictionary of probabilities\n",
        "    d = {}\n",
        "    n = len(ts)\n",
        "    for t in ts:\n",
        "        d[t] = d.get(t,0) + 1\n",
        "\n",
        "    for t, c in d.items():\n",
        "        d[t] = c / n\n",
        "\n",
        "    return d\n",
        "\n",
        "#generate 4 lines\n",
        "def sample_word(d):\n",
        "    #print \"d\": d\n",
        "    p0 = np.random.random()\n",
        "    #print \"p0\", p0\n",
        "    cumulative = 0\n",
        "    for t, p in d.items():\n",
        "        cumulative += p\n",
        "        if p0 < cumulative:\n",
        "            return t\n",
        "    assert(False) #program shouldn't reach here\n",
        "\n",
        "def generate():\n",
        "    for i in range(4):\n",
        "        sentence = []\n",
        "\n",
        "        #initial word\n",
        "        w0 = sample_word(initial)\n",
        "        sentence.append(w0)\n",
        "\n",
        "        #sample second word \n",
        "        w1 = sample_word(second_word[w0])\n",
        "        sentence.append(w1)\n",
        "\n",
        "        #second order transitions until END\n",
        "        while True:\n",
        "            w2 = sample_word(transitions[w0,w1])\n",
        "            if w2 == 'END':\n",
        "                break\n",
        "            sentence.append(w2)\n",
        "            w0 = w1\n",
        "            w1 = w2\n",
        "        print(' '.join(sentence))"
      ],
      "execution_count": 0,
      "outputs": []
    },
    {
      "cell_type": "code",
      "metadata": {
        "id": "3IyQR1heLJjm",
        "colab_type": "code",
        "colab": {
          "base_uri": "https://localhost:8080/",
          "height": 85
        },
        "outputId": "32001ac1-a8b2-4996-e50f-84e309c3d9d1"
      },
      "source": [
        "initial ={} #start of the phrase\n",
        "second_word = {}\n",
        "transitions = {}\n",
        "\n",
        "for line in open('robert_frost.txt'):\n",
        "    tokens = remove_punctuation(line.rstrip().lower()).split()\n",
        "\n",
        "    T = len(tokens)\n",
        "    for i in range(T):\n",
        "        t = tokens[i]\n",
        "        if i == 0: #if its the first word\n",
        "            #measure the distribution of the first word\n",
        "            initial[t] = initial.get(t, 0) + 1\n",
        "        else:\n",
        "            t_1 = tokens[i-1]\n",
        "\n",
        "            if i == T-1: #if its the last word\n",
        "                #measure probability of ending the line\n",
        "                add2dict(transitions, (t_1, t), 'END')\n",
        "\n",
        "            if i == 1: #if its the second word\n",
        "                #measure distribution of second word\n",
        "                #given only first word \n",
        "                add2dict(second_word, t_1, t)\n",
        "\n",
        "            else:\n",
        "                t_2 = tokens[i-2]\n",
        "                add2dict(transitions, (t_2, t_1), t)\n",
        "\n",
        "#normalize the distributions\n",
        "initial_total = sum(initial.values())\n",
        "for t, c in initial.items():\n",
        "    initial[t] = c / initial_total\n",
        "\n",
        "for t_1, ts in second_word.items():\n",
        "    #replace list with dictionary of probabilities\n",
        "    second_word[t_1] = list2pdict(ts)\n",
        "\n",
        "for k, ts in transitions.items():\n",
        "    transitions[k] = list2pdict(ts)\n",
        "\n",
        "generate()"
      ],
      "execution_count": 20,
      "outputs": [
        {
          "output_type": "stream",
          "text": [
            "you dont want to tell the offers he has always said\n",
            "it ought to be a nova\n",
            "i have filled the purse\n",
            "it looks as if\n"
          ],
          "name": "stdout"
        }
      ]
    },
    {
      "cell_type": "code",
      "metadata": {
        "id": "2AflQkTspMJq",
        "colab_type": "code",
        "colab": {
          "base_uri": "https://localhost:8080/",
          "height": 85
        },
        "outputId": "c5842b6d-def6-40fa-85ee-5d394c990d96"
      },
      "source": [
        "generate()"
      ],
      "execution_count": 21,
      "outputs": [
        {
          "output_type": "stream",
          "text": [
            "make so free and kick with two legs like an army mule\n",
            "now slowly closing like a stricken bird\n",
            "its raining\n",
            "were not too much\n"
          ],
          "name": "stdout"
        }
      ]
    },
    {
      "cell_type": "code",
      "metadata": {
        "id": "H0A_t8S_pNfi",
        "colab_type": "code",
        "colab": {
          "base_uri": "https://localhost:8080/",
          "height": 85
        },
        "outputId": "ad048fbf-76bf-4327-e500-34e2fdd1c16c"
      },
      "source": [
        "generate()"
      ],
      "execution_count": 22,
      "outputs": [
        {
          "output_type": "stream",
          "text": [
            "of easy wind and downy flake\n",
            "or else by some mistake\n",
            "ive been built in here like a horn of plenty\n",
            "the frogs that were peeping a thousand shrill\n"
          ],
          "name": "stdout"
        }
      ]
    }
  ]
}