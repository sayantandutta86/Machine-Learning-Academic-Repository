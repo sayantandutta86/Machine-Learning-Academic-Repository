{
  "nbformat": 4,
  "nbformat_minor": 0,
  "metadata": {
    "colab": {
      "name": "generate_discrete_data_with_hidden_markov_model.ipynb",
      "provenance": [],
      "collapsed_sections": []
    },
    "kernelspec": {
      "name": "python3",
      "display_name": "Python 3"
    }
  },
  "cells": [
    {
      "cell_type": "code",
      "metadata": {
        "id": "ZhZ3Cb1hXzBp",
        "colab_type": "code",
        "colab": {}
      },
      "source": [
        "import numpy as np"
      ],
      "execution_count": 0,
      "outputs": []
    },
    {
      "cell_type": "code",
      "metadata": {
        "id": "7PhPgeI9kx7i",
        "colab_type": "code",
        "colab": {}
      },
      "source": [
        "symbol_map = ['H', 'T']\n",
        "pi = np.array([0.5, 0.5])\n",
        "A = np.array([[0.1,0.9],[0.8,0.2]])\n",
        "B = np.array([[0.6,0.4], [0.3,0.7]])\n",
        "M, V = B.shape"
      ],
      "execution_count": 0,
      "outputs": []
    },
    {
      "cell_type": "code",
      "metadata": {
        "id": "WgPM2vfOlgHT",
        "colab_type": "code",
        "colab": {}
      },
      "source": [
        "def generate_sequence(N):\n",
        "    s = np.random.choice(range(M), p=pi) #initial state\n",
        "    x = np.random.choice(range(V), p=B[s]) #intial observation\n",
        "    sequence = [x]\n",
        "    for n in range(N-1):\n",
        "        s = np.random.choice(range(M), p=A[s]) #next state\n",
        "        x = np.random.choice(range(V), p=B[s]) #next observation\n",
        "        sequence.append(x)\n",
        "    return sequence"
      ],
      "execution_count": 0,
      "outputs": []
    },
    {
      "cell_type": "code",
      "metadata": {
        "id": "zOhvkZG7m4-i",
        "colab_type": "code",
        "colab": {}
      },
      "source": [
        "# def main():\n",
        "#     with open('coin_data.txt', 'w') as f:\n",
        "#         for n in range(50):\n",
        "#             sequence = generate_sequence(30)\n",
        "#             sequence = ''.join(symbol_map[s] for s in sequence)\n",
        "#             print sequence\n",
        "#             f.write(\"%s\\n\" % sequence)\n",
        "\n",
        "def main():\n",
        "    for n in range(50):\n",
        "        sequence = generate_sequence(30)\n",
        "        sequence = ' '.join(symbol_map[s] for s in sequence)\n",
        "        print(sequence)"
      ],
      "execution_count": 0,
      "outputs": []
    },
    {
      "cell_type": "code",
      "metadata": {
        "id": "fDvdm5KtnXWx",
        "colab_type": "code",
        "colab": {
          "base_uri": "https://localhost:8080/",
          "height": 867
        },
        "outputId": "734a24b1-79f2-4e27-ad4e-fb33be9f749a"
      },
      "source": [
        "if __name__ == '__main__':\n",
        "    main()"
      ],
      "execution_count": 31,
      "outputs": [
        {
          "output_type": "stream",
          "text": [
            "T H T H H T H H T T H T H T T H T H H H H H H T T H T T T H\n",
            "H T T H T H T H H T H H T H T H T T T H T T H H T H T T H H\n",
            "H H T H H H T T T T T T H T H T T H T T T H T T T T H H T H\n",
            "H H H T T T T H T T H T H T H T T H H T H T T H T T T T H H\n",
            "T T H H H T T T H T T H H T H T H H H T T H T T T T H T T H\n",
            "H T T T T T T H H H T T T H T T H T T T H T H T H T H T H T\n",
            "H H H T T T T T T T H H H H T T H T H T H T T H T T H T H H\n",
            "H T T H T H H H T H H T H H H H T T H T T H T T T H T H T H\n",
            "T T T T H T T T H T T T H T H T H T T T T T T T H H T H H T\n",
            "T H T H H T T T T T T T T H H H T T T T T T T T T H T H T H\n",
            "H H T T H T H T H T T H T H T H T T T H H T T T H T T T T T\n",
            "H H T H T T H H T H T H T H H T T T H T T H H T H H T H T H\n",
            "T H T T H H H H H T T H T T T T T H H H T H H H T H T H T H\n",
            "T T H H T T H T T T H H H T T H T T H T T T T T T T H H T T\n",
            "H T T H H T T T T T T T T T H T H T H H T T H T T H T H H H\n",
            "H T H T T T H T H T T H H H H H T H H T T T H T T H T T H T\n",
            "T T H T T T H T H H T H T H T T T H H H H H T T H H H H H H\n",
            "H H H T T H T T H T H T T H H T H T H H T H T T H H T H T H\n",
            "H T T H H T H H H T H T H H H H H T T H H H H T H T H T H T\n",
            "H H H H T H T T T T H T H T H T T H H H H T H T T H H T T H\n",
            "H T H H H H H T T H T T H T H T T T T H H T H T H T T H H H\n",
            "T H H T T T H T H T H T H T H H H T T T T T H T T T H T T T\n",
            "H H T H T H T T H T H H T T H T H T T T H T H T T H H T T H\n",
            "H T H T H T H T T H H T T T H T H T H H H T T H T T T H T T\n",
            "T T H T T T H H T H T H T H T H T H T H H T T H T T H H H H\n",
            "H T T H T H T H H H T H T T H T T T H T H T T T H H H T H T\n",
            "T T T H T H T H T T T H T H H T H H H H T H T T H H T T H T\n",
            "H H H H T H T H H T T T T T T H H T H H H T T T T T T H H T\n",
            "H T H T H T T T H H T T T T T T T T T T H H H H T T H H H T\n",
            "H H T T T H T T H H T H T T T T T H T H T H T H T H T T H H\n",
            "T T H T H H H H H H T H T T H H T H T T H T H H T H H T T H\n",
            "H T T H T T T T T T H T T T H H H H H T T H T H H T H T H T\n",
            "T T H T H T T T H T H H H T H T H T T T H T T T H T H T H H\n",
            "T T T T T T T T T T H H H H T T H H T H H H T H H H T T T H\n",
            "H H T T H T H T T H T T T H T T T H T T H T H T H T T T T H\n",
            "T H H T H H T H T T T H T T H T T H T H H T H T T T T H T T\n",
            "T T H H H T T T T T T T H T H H T H T T T T T T T T H T H H\n",
            "H H T H T H H H T T H T T T T H T T T T T H T T T H H T T T\n",
            "T H T T H T T H T T T T H H T T H T H T H T H T T T H T H H\n",
            "H T H H T T T T H T H T T H T H H T H T H T T T T H T H T H\n",
            "H H H T T T T H H H T H T T H T H H T T T H T H T H H H T T\n",
            "T T H H T H H H T T H T H H T H H H T H H T T H H T T T H T\n",
            "H T H H H T T H H H H T H T T H T T T H H H T T T T T H T T\n",
            "T T T T T T H H T T T H H T T T T H T T H H H H T T T H T T\n",
            "H T T H T H H T T H T T T T H T H T T H T H T H H H T H T H\n",
            "H H T H H H T H T T T H H H T H H T H H T H H T H H T T H T\n",
            "H T T T T H H T H H T T T T T T H H H T T T H T H H T H T H\n",
            "T H H H T T T H H T T H H H T T T H T H H H T H H T H T T T\n",
            "H H T H T H T T T T T T H H H H H T T H H H T T T H H T H T\n",
            "T T H H H T H T T H T T T T T T H H T T H T T T T H T T T T\n"
          ],
          "name": "stdout"
        }
      ]
    },
    {
      "cell_type": "code",
      "metadata": {
        "id": "zBL-2Nf2nawU",
        "colab_type": "code",
        "colab": {}
      },
      "source": [
        ""
      ],
      "execution_count": 0,
      "outputs": []
    }
  ]
}