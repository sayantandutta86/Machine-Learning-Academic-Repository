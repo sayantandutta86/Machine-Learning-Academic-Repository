{
  "nbformat": 4,
  "nbformat_minor": 0,
  "metadata": {
    "colab": {
      "name": "hidden_markov_model_from_scratch_for_discrete_observations.ipynb",
      "provenance": [],
      "collapsed_sections": []
    },
    "kernelspec": {
      "name": "python3",
      "display_name": "Python 3"
    }
  },
  "cells": [
    {
      "cell_type": "code",
      "metadata": {
        "id": "18-N1eTc-ti8",
        "colab_type": "code",
        "colab": {}
      },
      "source": [
        "import os ; os.chdir('/content/drive/My Drive/Colab Notebooks/Lazy courses/Markov Models')"
      ],
      "execution_count": 0,
      "outputs": []
    },
    {
      "cell_type": "code",
      "metadata": {
        "id": "KwVEhC1c_QbF",
        "colab_type": "code",
        "colab": {}
      },
      "source": [
        "import numpy as np \n",
        "import matplotlib.pyplot as plt\n",
        "from datetime import datetime"
      ],
      "execution_count": 0,
      "outputs": []
    },
    {
      "cell_type": "code",
      "metadata": {
        "id": "72gi3STp_Qdu",
        "colab_type": "code",
        "colab": {}
      },
      "source": [
        "def random_normalized(d1, d2):\n",
        "    x = np.random.random((d1,d2))\n",
        "    return x / x.sum(axis=1, keepdims=True)"
      ],
      "execution_count": 0,
      "outputs": []
    },
    {
      "cell_type": "code",
      "metadata": {
        "id": "cMUJ-UxD_Qid",
        "colab_type": "code",
        "colab": {}
      },
      "source": [
        "class HMM:\n",
        "    def __init__(self, M):\n",
        "        self.M = M #number of hidden states\n",
        "\n",
        "    def fit(self, X, max_iter=30):\n",
        "        t0 = datetime.now()\n",
        "        np.random.seed(123)\n",
        "        #train the HMM model using Baum-Welch algorithm\n",
        "        #a specific instance of the expectation-maximization algorithm\n",
        "\n",
        "        #determine V, the vocabulary size\n",
        "        #assume observables are already integers from 0.. V-1\n",
        "        #X is a jagged array of observed sequences\n",
        "        V = max(max(x) for x in X) + 1\n",
        "        N = len(X)\n",
        "        self.pi = np.ones(self.M) / self.M #initial state distribution\n",
        "        self.A = random_normalized(self.M, self.M) #state transition matrix\n",
        "        self.B = random_normalized(self.M, V) #output distribution\n",
        "\n",
        "        print(\"initial A:\", self.A)\n",
        "        print(\"initial B:\", self.B)\n",
        "\n",
        "        costs = []\n",
        "        for it in range(max_iter):\n",
        "            if it % 10 == 0:\n",
        "                print(\"it\", it)\n",
        "            alphas = []\n",
        "            betas = []\n",
        "            P = np.zeros(N)\n",
        "            for n in range(N):\n",
        "                x = X[n]\n",
        "                T = len(x)\n",
        "\n",
        "                #calculate alpha\n",
        "                alpha = np.zeros((T, self.M))\n",
        "                alpha[0] = self.pi * self.B[:, x[0]] #calculate the 1st element\n",
        "                for t in range(1, T):\n",
        "                    tmp1 = alpha[t-1].dot(self.A) * self.B[:, x[t]]\n",
        "                    alpha[t] = tmp1\n",
        "                P[n] = alpha[-1].sum()\n",
        "                alphas.append(alpha)\n",
        "\n",
        "                #calculate beta\n",
        "                beta = np.zeros((T, self.M))\n",
        "                beta[-1] = 1\n",
        "                for t in range(T-2, -1, -1):\n",
        "                    beta[t] = self.A.dot(self.B[:, x[t+1]] * beta[t+1])\n",
        "                betas.append(beta)\n",
        "\n",
        "            assert(np.all(P > 0))\n",
        "            cost = np.sum(np.log(P))\n",
        "            costs.append(cost)\n",
        "\n",
        "            #now re-estimate pi, A ,B\n",
        "            self.pi = np.sum((alphas[n][0] * betas[n][0])/P[n] for n in range(N)) / N\n",
        "\n",
        "            den1 = np.zeros((self.M, 1))\n",
        "            den2 = np.zeros((self.M, 1))\n",
        "            a_num = 0\n",
        "            b_num = 0\n",
        "            for n in range(N):\n",
        "                x = X[n]\n",
        "                T = len(x)\n",
        "                den1 += (alphas[n][:-1] * betas[n][:-1]).sum(axis=0, keepdims=True).T / P[n]\n",
        "                den2 += (alphas[n] * betas[n]).sum(axis=0, keepdims=True).T / P[n]\n",
        "\n",
        "                #numerator for A\n",
        "                a_num_n = np.zeros((self.M, self.M))\n",
        "                for i in range(self.M):\n",
        "                    for j in range(self.M):\n",
        "                        for t in range(T-1):\n",
        "                            a_num_n[i,j] += alphas[n][t,i] * self.A[i,j] * self.B[j, x[t+1]] * betas[n][t+1, j]\n",
        "                a_num += a_num_n / P[n]\n",
        "\n",
        "                #numerator for B\n",
        "                b_num_n2 = np.zeros((self.M, V))\n",
        "                for i in range(self.M):\n",
        "                    for t in range(T):\n",
        "                        b_num_n2[i, x[t]] += alphas[n][t,i] * betas[n][t,i]\n",
        "                b_num += b_num_n2 / P[n]\n",
        "\n",
        "            self.A = a_num / den1\n",
        "            self.B = b_num / den2\n",
        "\n",
        "        print(\"A:\", self.A)\n",
        "        print(\"B:\", self.B)\n",
        "        print(\"pi:\", self.pi)\n",
        "\n",
        "        print(\"Fit duration:\", (datetime.now() - t0))\n",
        "\n",
        "        plt.plot(costs)\n",
        "        plt.show()\n",
        "\n",
        "    def likelihood(self, x):\n",
        "        #return log P(x | model)\n",
        "        #using the forward part of the forward-backward algorithm\n",
        "        T = len(x)\n",
        "        alpha = np.zeros((T, self.M))\n",
        "        alpha[0] = self.pi * self.B[:, x[0]]\n",
        "        for t in range(1, T):\n",
        "            alpha[t] = alpha[t-1].dot(self.A) * self.B[:,x[t]]\n",
        "        return alpha[-1].sum()\n",
        "\n",
        "    def likelihood_multi(self, X):\n",
        "        return np.array([self.likelihood(x) for x in X])\n",
        "\n",
        "    def log_likelihood_multi(self, X):\n",
        "        return np.log(self.likelihood_multi(X))\n",
        "\n",
        "    def get_state_sequence(self, x):\n",
        "        #returns the most likely state sequence given observed sequence x\n",
        "        #using the viterbi algorithm\n",
        "        T = len(x)\n",
        "        delta = np.zeros((T, self.M))\n",
        "        psi = np.zeros((T, self.M))\n",
        "        delta[0] = self.pi * self.B[:, x[0]]\n",
        "        for t in range(1,T):\n",
        "            for j in range(self.M):\n",
        "                delta[t, j] = np.max(delta[t-1] * self.A[:,j]) * self.B[j, x[t]]\n",
        "                psi[t, j] = np.argmax(delta[t-1] * self.A[:, j])\n",
        "\n",
        "        #backtrack\n",
        "        states = np.zeros(T, dtype=np.int32)\n",
        "        states[T-1] = np.argmax(delta[T-1])\n",
        "        for t in range(T-2, -1, -1):\n",
        "            states[t] = psi[t+1, states[t+1]]\n",
        "\n",
        "        return states    "
      ],
      "execution_count": 0,
      "outputs": []
    },
    {
      "cell_type": "code",
      "metadata": {
        "id": "0hjmPl3p_QlR",
        "colab_type": "code",
        "colab": {}
      },
      "source": [
        "def fit_coin():\n",
        "    X = []\n",
        "    for line in open('coin_data.txt'):\n",
        "        # 1 for H, 0 for T\n",
        "        x = [1 if e == 'H' else 0 for e in line.rstrip()]\n",
        "        X.append(x)\n",
        "\n",
        "    hmm = HMM(2)\n",
        "    hmm.fit(X)\n",
        "    L = hmm.log_likelihood_multi(X).sum()\n",
        "    print(\"LL with fitted params:\", L)\n",
        "\n",
        "    #try some values \n",
        "    hmm.pi = np.array([0.5, 0.5])\n",
        "    hmm.A = np.array([[0.1, 0.9], [0.8, 0.2]])\n",
        "    hmm.B = np.array([[0.6, 0.4], [0.3, 0.7]])\n",
        "    L = hmm.log_likelihood_multi(X).sum()\n",
        "    print(\"LL with True params:\", L)\n",
        "\n",
        "    #try viterbi\n",
        "    print(\"Best state sequence for:\", X[0], '\\n')\n",
        "    print(hmm.get_state_sequence(X[0]))"
      ],
      "execution_count": 0,
      "outputs": []
    },
    {
      "cell_type": "code",
      "metadata": {
        "id": "eZggAFoV_Qra",
        "colab_type": "code",
        "colab": {
          "base_uri": "https://localhost:8080/",
          "height": 608
        },
        "outputId": "bb2df6f4-c71e-4848-90dc-083ebd42ab5b"
      },
      "source": [
        "if __name__ =='__main__':\n",
        "    fit_coin()"
      ],
      "execution_count": 37,
      "outputs": [
        {
          "output_type": "stream",
          "text": [
            "initial A: [[0.7087962  0.2912038 ]\n",
            " [0.29152056 0.70847944]]\n",
            "initial B: [[0.62969057 0.37030943]\n",
            " [0.58883752 0.41116248]]\n",
            "it 0\n"
          ],
          "name": "stdout"
        },
        {
          "output_type": "stream",
          "text": [
            "/usr/local/lib/python3.6/dist-packages/ipykernel_launcher.py:55: DeprecationWarning: Calling np.sum(generator) is deprecated, and in the future will give a different result. Use np.sum(np.fromiter(generator)) or the python sum builtin instead.\n"
          ],
          "name": "stderr"
        },
        {
          "output_type": "stream",
          "text": [
            "it 10\n",
            "it 20\n",
            "A: [[0.70386662 0.29613338]\n",
            " [0.28712763 0.71287237]]\n",
            "B: [[0.54419694 0.45580306]\n",
            " [0.53723247 0.46276753]]\n",
            "pi: [0.50695647 0.49304353]\n",
            "Fit duration: 0:00:00.704442\n"
          ],
          "name": "stdout"
        },
        {
          "output_type": "display_data",
          "data": {
            "image/png": "[encoded data removed]",
            "text/plain": [
              "<Figure size 432x288 with 1 Axes>"
            ]
          },
          "metadata": {
            "tags": [],
            "needs_background": "light"
          }
        },
        {
          "output_type": "stream",
          "text": [
            "LL with fitted params: -1034.7557547352071\n",
            "LL with True params: -1059.7229160265022\n",
            "Best state sequence for: [0, 1, 0, 1, 0, 1, 1, 1, 0, 0, 0, 0, 0, 1, 0, 1, 0, 1, 0, 1, 0, 0, 1, 1, 1, 1, 0, 0, 0, 1] \n",
            "\n",
            "[0 1 0 1 0 1 0 1 0 1 0 1 0 1 0 1 0 1 0 1 0 1 0 1 0 1 0 1 0 1]\n"
          ],
          "name": "stdout"
        }
      ]
    },
    {
      "cell_type": "markdown",
      "metadata": {
        "id": "Yo-vnszn0FhW",
        "colab_type": "text"
      },
      "source": [
        "From the plot we can see that expectation-maximization converges very fast.\n",
        "We also see that fitted log-likelihood is better than true log-likelihood."
      ]
    },
    {
      "cell_type": "code",
      "metadata": {
        "id": "Ipz205um_Qv_",
        "colab_type": "code",
        "colab": {}
      },
      "source": [
        ""
      ],
      "execution_count": 0,
      "outputs": []
    },
    {
      "cell_type": "code",
      "metadata": {
        "id": "o0BwFZU7_Qyq",
        "colab_type": "code",
        "colab": {}
      },
      "source": [
        ""
      ],
      "execution_count": 0,
      "outputs": []
    },
    {
      "cell_type": "code",
      "metadata": {
        "id": "aVQ2kRV7_QuT",
        "colab_type": "code",
        "colab": {}
      },
      "source": [
        ""
      ],
      "execution_count": 0,
      "outputs": []
    },
    {
      "cell_type": "code",
      "metadata": {
        "id": "NTalCC9i_QpW",
        "colab_type": "code",
        "colab": {}
      },
      "source": [
        ""
      ],
      "execution_count": 0,
      "outputs": []
    },
    {
      "cell_type": "code",
      "metadata": {
        "id": "gvdPtYlP_QnA",
        "colab_type": "code",
        "colab": {}
      },
      "source": [
        ""
      ],
      "execution_count": 0,
      "outputs": []
    }
  ]
}