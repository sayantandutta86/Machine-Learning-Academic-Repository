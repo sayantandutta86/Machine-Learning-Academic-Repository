{
  "nbformat": 4,
  "nbformat_minor": 0,
  "metadata": {
    "colab": {
      "name": "digital-media-viewership-prediction-linear-regression.ipynb",
      "version": "0.3.2",
      "provenance": [],
      "collapsed_sections": []
    },
    "kernelspec": {
      "name": "python3",
      "display_name": "Python 3"
    }
  },
  "cells": [
    {
      "cell_type": "markdown",
      "metadata": {
        "id": "S4kruMwxQ7QD",
        "colab_type": "text"
      },
      "source": [
        "## Problem Statement: \n",
        "\n",
        "A digital media company (for example Voot, Hotstar, Netflix, etc.) had launched a show. Initially, the show got a good response, but then witnessed a decline in viewership. The company wants to figure out what went wrong."
      ]
    },
    {
      "cell_type": "code",
      "metadata": {
        "id": "3yVo-hwKk1sP",
        "colab_type": "code",
        "colab": {}
      },
      "source": [
        "import numpy as np\n",
        "import pandas as pd\n",
        "import matplotlib.pyplot as plt\n",
        "import seaborn as sns\n",
        "%matplotlib inline"
      ],
      "execution_count": 0,
      "outputs": []
    },
    {
      "cell_type": "code",
      "metadata": {
        "id": "xKIDu9i9k9Fr",
        "colab_type": "code",
        "colab": {}
      },
      "source": [
        "dataset = pd.read_csv('mediacompany.csv')\n",
        "dataset = dataset.drop('Unnamed: 7', axis=1)"
      ],
      "execution_count": 0,
      "outputs": []
    },
    {
      "cell_type": "code",
      "metadata": {
        "id": "u87kErrdjcgY",
        "colab_type": "code",
        "outputId": "331ea531-64bc-4286-a7ec-3129492e87ce",
        "colab": {
          "base_uri": "https://localhost:8080/",
          "height": 195
        }
      },
      "source": [
        "dataset.head()"
      ],
      "execution_count": 0,
      "outputs": [
        {
          "output_type": "execute_result",
          "data": {
            "text/html": [
              "<div>\n",
              "<style scoped>\n",
              "    .dataframe tbody tr th:only-of-type {\n",
              "        vertical-align: middle;\n",
              "    }\n",
              "\n",
              "    .dataframe tbody tr th {\n",
              "        vertical-align: top;\n",
              "    }\n",
              "\n",
              "    .dataframe thead th {\n",
              "        text-align: right;\n",
              "    }\n",
              "</style>\n",
              "<table border=\"1\" class=\"dataframe\">\n",
              "  <thead>\n",
              "    <tr style=\"text-align: right;\">\n",
              "      <th></th>\n",
              "      <th>Date</th>\n",
              "      <th>Views_show</th>\n",
              "      <th>Visitors</th>\n",
              "      <th>Views_platform</th>\n",
              "      <th>Ad_impression</th>\n",
              "      <th>Cricket_match_india</th>\n",
              "      <th>Character_A</th>\n",
              "    </tr>\n",
              "  </thead>\n",
              "  <tbody>\n",
              "    <tr>\n",
              "      <th>0</th>\n",
              "      <td>3/1/2017</td>\n",
              "      <td>183738</td>\n",
              "      <td>1260228</td>\n",
              "      <td>1706478</td>\n",
              "      <td>1060860448</td>\n",
              "      <td>0</td>\n",
              "      <td>0</td>\n",
              "    </tr>\n",
              "    <tr>\n",
              "      <th>1</th>\n",
              "      <td>3/2/2017</td>\n",
              "      <td>193763</td>\n",
              "      <td>1270561</td>\n",
              "      <td>1690727</td>\n",
              "      <td>1031846645</td>\n",
              "      <td>0</td>\n",
              "      <td>0</td>\n",
              "    </tr>\n",
              "    <tr>\n",
              "      <th>2</th>\n",
              "      <td>3/3/2017</td>\n",
              "      <td>210479</td>\n",
              "      <td>1248183</td>\n",
              "      <td>1726157</td>\n",
              "      <td>1010867575</td>\n",
              "      <td>0</td>\n",
              "      <td>0</td>\n",
              "    </tr>\n",
              "    <tr>\n",
              "      <th>3</th>\n",
              "      <td>3/4/2017</td>\n",
              "      <td>240061</td>\n",
              "      <td>1492913</td>\n",
              "      <td>1855353</td>\n",
              "      <td>1079194579</td>\n",
              "      <td>1</td>\n",
              "      <td>0</td>\n",
              "    </tr>\n",
              "    <tr>\n",
              "      <th>4</th>\n",
              "      <td>3/5/2017</td>\n",
              "      <td>446314</td>\n",
              "      <td>1594712</td>\n",
              "      <td>2041418</td>\n",
              "      <td>1357736987</td>\n",
              "      <td>0</td>\n",
              "      <td>0</td>\n",
              "    </tr>\n",
              "  </tbody>\n",
              "</table>\n",
              "</div>"
            ],
            "text/plain": [
              "       Date  Views_show  ...  Cricket_match_india  Character_A\n",
              "0  3/1/2017      183738  ...                    0            0\n",
              "1  3/2/2017      193763  ...                    0            0\n",
              "2  3/3/2017      210479  ...                    0            0\n",
              "3  3/4/2017      240061  ...                    1            0\n",
              "4  3/5/2017      446314  ...                    0            0\n",
              "\n",
              "[5 rows x 7 columns]"
            ]
          },
          "metadata": {
            "tags": []
          },
          "execution_count": 29
        }
      ]
    },
    {
      "cell_type": "code",
      "metadata": {
        "id": "GwK78Kyujdsl",
        "colab_type": "code",
        "colab": {}
      },
      "source": [
        "dataset['Date'] = pd.to_datetime(dataset['Date'])"
      ],
      "execution_count": 0,
      "outputs": []
    },
    {
      "cell_type": "code",
      "metadata": {
        "id": "oSabq83Aj7dd",
        "colab_type": "code",
        "outputId": "343fbbb0-22ea-4441-a456-44656c935327",
        "colab": {
          "base_uri": "https://localhost:8080/",
          "height": 195
        }
      },
      "source": [
        "dataset.head()"
      ],
      "execution_count": 0,
      "outputs": [
        {
          "output_type": "execute_result",
          "data": {
            "text/html": [
              "<div>\n",
              "<style scoped>\n",
              "    .dataframe tbody tr th:only-of-type {\n",
              "        vertical-align: middle;\n",
              "    }\n",
              "\n",
              "    .dataframe tbody tr th {\n",
              "        vertical-align: top;\n",
              "    }\n",
              "\n",
              "    .dataframe thead th {\n",
              "        text-align: right;\n",
              "    }\n",
              "</style>\n",
              "<table border=\"1\" class=\"dataframe\">\n",
              "  <thead>\n",
              "    <tr style=\"text-align: right;\">\n",
              "      <th></th>\n",
              "      <th>Date</th>\n",
              "      <th>Views_show</th>\n",
              "      <th>Visitors</th>\n",
              "      <th>Views_platform</th>\n",
              "      <th>Ad_impression</th>\n",
              "      <th>Cricket_match_india</th>\n",
              "      <th>Character_A</th>\n",
              "    </tr>\n",
              "  </thead>\n",
              "  <tbody>\n",
              "    <tr>\n",
              "      <th>0</th>\n",
              "      <td>2017-03-01</td>\n",
              "      <td>183738</td>\n",
              "      <td>1260228</td>\n",
              "      <td>1706478</td>\n",
              "      <td>1060860448</td>\n",
              "      <td>0</td>\n",
              "      <td>0</td>\n",
              "    </tr>\n",
              "    <tr>\n",
              "      <th>1</th>\n",
              "      <td>2017-03-02</td>\n",
              "      <td>193763</td>\n",
              "      <td>1270561</td>\n",
              "      <td>1690727</td>\n",
              "      <td>1031846645</td>\n",
              "      <td>0</td>\n",
              "      <td>0</td>\n",
              "    </tr>\n",
              "    <tr>\n",
              "      <th>2</th>\n",
              "      <td>2017-03-03</td>\n",
              "      <td>210479</td>\n",
              "      <td>1248183</td>\n",
              "      <td>1726157</td>\n",
              "      <td>1010867575</td>\n",
              "      <td>0</td>\n",
              "      <td>0</td>\n",
              "    </tr>\n",
              "    <tr>\n",
              "      <th>3</th>\n",
              "      <td>2017-03-04</td>\n",
              "      <td>240061</td>\n",
              "      <td>1492913</td>\n",
              "      <td>1855353</td>\n",
              "      <td>1079194579</td>\n",
              "      <td>1</td>\n",
              "      <td>0</td>\n",
              "    </tr>\n",
              "    <tr>\n",
              "      <th>4</th>\n",
              "      <td>2017-03-05</td>\n",
              "      <td>446314</td>\n",
              "      <td>1594712</td>\n",
              "      <td>2041418</td>\n",
              "      <td>1357736987</td>\n",
              "      <td>0</td>\n",
              "      <td>0</td>\n",
              "    </tr>\n",
              "  </tbody>\n",
              "</table>\n",
              "</div>"
            ],
            "text/plain": [
              "        Date  Views_show  ...  Cricket_match_india  Character_A\n",
              "0 2017-03-01      183738  ...                    0            0\n",
              "1 2017-03-02      193763  ...                    0            0\n",
              "2 2017-03-03      210479  ...                    0            0\n",
              "3 2017-03-04      240061  ...                    1            0\n",
              "4 2017-03-05      446314  ...                    0            0\n",
              "\n",
              "[5 rows x 7 columns]"
            ]
          },
          "metadata": {
            "tags": []
          },
          "execution_count": 31
        }
      ]
    },
    {
      "cell_type": "code",
      "metadata": {
        "id": "yQWhvTGej9rl",
        "colab_type": "code",
        "colab": {}
      },
      "source": [
        "#Deriving no. of days since the show started\n",
        "from datetime import date\n",
        "\n",
        "d0 = pd.to_datetime(date(2017, 2, 28))\n",
        "d1 = dataset.Date\n",
        "difference = d1 - d0\n",
        "dataset['day'] = difference"
      ],
      "execution_count": 0,
      "outputs": []
    },
    {
      "cell_type": "code",
      "metadata": {
        "id": "pzEwT2m-kPZ_",
        "colab_type": "code",
        "outputId": "02f99238-9b95-4d1b-f7b4-bc994d300f1d",
        "colab": {
          "base_uri": "https://localhost:8080/",
          "height": 195
        }
      },
      "source": [
        "dataset.head()"
      ],
      "execution_count": 0,
      "outputs": [
        {
          "output_type": "execute_result",
          "data": {
            "text/html": [
              "<div>\n",
              "<style scoped>\n",
              "    .dataframe tbody tr th:only-of-type {\n",
              "        vertical-align: middle;\n",
              "    }\n",
              "\n",
              "    .dataframe tbody tr th {\n",
              "        vertical-align: top;\n",
              "    }\n",
              "\n",
              "    .dataframe thead th {\n",
              "        text-align: right;\n",
              "    }\n",
              "</style>\n",
              "<table border=\"1\" class=\"dataframe\">\n",
              "  <thead>\n",
              "    <tr style=\"text-align: right;\">\n",
              "      <th></th>\n",
              "      <th>Date</th>\n",
              "      <th>Views_show</th>\n",
              "      <th>Visitors</th>\n",
              "      <th>Views_platform</th>\n",
              "      <th>Ad_impression</th>\n",
              "      <th>Cricket_match_india</th>\n",
              "      <th>Character_A</th>\n",
              "      <th>day</th>\n",
              "    </tr>\n",
              "  </thead>\n",
              "  <tbody>\n",
              "    <tr>\n",
              "      <th>0</th>\n",
              "      <td>2017-03-01</td>\n",
              "      <td>183738</td>\n",
              "      <td>1260228</td>\n",
              "      <td>1706478</td>\n",
              "      <td>1060860448</td>\n",
              "      <td>0</td>\n",
              "      <td>0</td>\n",
              "      <td>1 days</td>\n",
              "    </tr>\n",
              "    <tr>\n",
              "      <th>1</th>\n",
              "      <td>2017-03-02</td>\n",
              "      <td>193763</td>\n",
              "      <td>1270561</td>\n",
              "      <td>1690727</td>\n",
              "      <td>1031846645</td>\n",
              "      <td>0</td>\n",
              "      <td>0</td>\n",
              "      <td>2 days</td>\n",
              "    </tr>\n",
              "    <tr>\n",
              "      <th>2</th>\n",
              "      <td>2017-03-03</td>\n",
              "      <td>210479</td>\n",
              "      <td>1248183</td>\n",
              "      <td>1726157</td>\n",
              "      <td>1010867575</td>\n",
              "      <td>0</td>\n",
              "      <td>0</td>\n",
              "      <td>3 days</td>\n",
              "    </tr>\n",
              "    <tr>\n",
              "      <th>3</th>\n",
              "      <td>2017-03-04</td>\n",
              "      <td>240061</td>\n",
              "      <td>1492913</td>\n",
              "      <td>1855353</td>\n",
              "      <td>1079194579</td>\n",
              "      <td>1</td>\n",
              "      <td>0</td>\n",
              "      <td>4 days</td>\n",
              "    </tr>\n",
              "    <tr>\n",
              "      <th>4</th>\n",
              "      <td>2017-03-05</td>\n",
              "      <td>446314</td>\n",
              "      <td>1594712</td>\n",
              "      <td>2041418</td>\n",
              "      <td>1357736987</td>\n",
              "      <td>0</td>\n",
              "      <td>0</td>\n",
              "      <td>5 days</td>\n",
              "    </tr>\n",
              "  </tbody>\n",
              "</table>\n",
              "</div>"
            ],
            "text/plain": [
              "        Date  Views_show  Visitors  ...  Cricket_match_india  Character_A    day\n",
              "0 2017-03-01      183738   1260228  ...                    0            0 1 days\n",
              "1 2017-03-02      193763   1270561  ...                    0            0 2 days\n",
              "2 2017-03-03      210479   1248183  ...                    0            0 3 days\n",
              "3 2017-03-04      240061   1492913  ...                    1            0 4 days\n",
              "4 2017-03-05      446314   1594712  ...                    0            0 5 days\n",
              "\n",
              "[5 rows x 8 columns]"
            ]
          },
          "metadata": {
            "tags": []
          },
          "execution_count": 33
        }
      ]
    },
    {
      "cell_type": "code",
      "metadata": {
        "id": "B_oxVAavkQq5",
        "colab_type": "code",
        "colab": {}
      },
      "source": [
        "#cleaning days\n",
        "dataset['day'] = dataset['day'].astype(str)\n",
        "dataset['day'] = dataset['day'].map(lambda x: x[:2])\n",
        "dataset['day'] = dataset['day'].astype(int) "
      ],
      "execution_count": 0,
      "outputs": []
    },
    {
      "cell_type": "code",
      "metadata": {
        "id": "MI3jvQcHrOFF",
        "colab_type": "code",
        "outputId": "eb4cb4b4-026d-4c22-cb58-37c37b481052",
        "colab": {
          "base_uri": "https://localhost:8080/",
          "height": 195
        }
      },
      "source": [
        "dataset.head()"
      ],
      "execution_count": 0,
      "outputs": [
        {
          "output_type": "execute_result",
          "data": {
            "text/html": [
              "<div>\n",
              "<style scoped>\n",
              "    .dataframe tbody tr th:only-of-type {\n",
              "        vertical-align: middle;\n",
              "    }\n",
              "\n",
              "    .dataframe tbody tr th {\n",
              "        vertical-align: top;\n",
              "    }\n",
              "\n",
              "    .dataframe thead th {\n",
              "        text-align: right;\n",
              "    }\n",
              "</style>\n",
              "<table border=\"1\" class=\"dataframe\">\n",
              "  <thead>\n",
              "    <tr style=\"text-align: right;\">\n",
              "      <th></th>\n",
              "      <th>Date</th>\n",
              "      <th>Views_show</th>\n",
              "      <th>Visitors</th>\n",
              "      <th>Views_platform</th>\n",
              "      <th>Ad_impression</th>\n",
              "      <th>Cricket_match_india</th>\n",
              "      <th>Character_A</th>\n",
              "      <th>day</th>\n",
              "    </tr>\n",
              "  </thead>\n",
              "  <tbody>\n",
              "    <tr>\n",
              "      <th>0</th>\n",
              "      <td>2017-03-01</td>\n",
              "      <td>183738</td>\n",
              "      <td>1260228</td>\n",
              "      <td>1706478</td>\n",
              "      <td>1060860448</td>\n",
              "      <td>0</td>\n",
              "      <td>0</td>\n",
              "      <td>1</td>\n",
              "    </tr>\n",
              "    <tr>\n",
              "      <th>1</th>\n",
              "      <td>2017-03-02</td>\n",
              "      <td>193763</td>\n",
              "      <td>1270561</td>\n",
              "      <td>1690727</td>\n",
              "      <td>1031846645</td>\n",
              "      <td>0</td>\n",
              "      <td>0</td>\n",
              "      <td>2</td>\n",
              "    </tr>\n",
              "    <tr>\n",
              "      <th>2</th>\n",
              "      <td>2017-03-03</td>\n",
              "      <td>210479</td>\n",
              "      <td>1248183</td>\n",
              "      <td>1726157</td>\n",
              "      <td>1010867575</td>\n",
              "      <td>0</td>\n",
              "      <td>0</td>\n",
              "      <td>3</td>\n",
              "    </tr>\n",
              "    <tr>\n",
              "      <th>3</th>\n",
              "      <td>2017-03-04</td>\n",
              "      <td>240061</td>\n",
              "      <td>1492913</td>\n",
              "      <td>1855353</td>\n",
              "      <td>1079194579</td>\n",
              "      <td>1</td>\n",
              "      <td>0</td>\n",
              "      <td>4</td>\n",
              "    </tr>\n",
              "    <tr>\n",
              "      <th>4</th>\n",
              "      <td>2017-03-05</td>\n",
              "      <td>446314</td>\n",
              "      <td>1594712</td>\n",
              "      <td>2041418</td>\n",
              "      <td>1357736987</td>\n",
              "      <td>0</td>\n",
              "      <td>0</td>\n",
              "      <td>5</td>\n",
              "    </tr>\n",
              "  </tbody>\n",
              "</table>\n",
              "</div>"
            ],
            "text/plain": [
              "        Date  Views_show  Visitors  ...  Cricket_match_india  Character_A  day\n",
              "0 2017-03-01      183738   1260228  ...                    0            0    1\n",
              "1 2017-03-02      193763   1270561  ...                    0            0    2\n",
              "2 2017-03-03      210479   1248183  ...                    0            0    3\n",
              "3 2017-03-04      240061   1492913  ...                    1            0    4\n",
              "4 2017-03-05      446314   1594712  ...                    0            0    5\n",
              "\n",
              "[5 rows x 8 columns]"
            ]
          },
          "metadata": {
            "tags": []
          },
          "execution_count": 35
        }
      ]
    },
    {
      "cell_type": "code",
      "metadata": {
        "id": "hhwWi1LMrivR",
        "colab_type": "code",
        "outputId": "b01c8b78-9ad9-43a8-ca29-233ff0e072f0",
        "colab": {
          "base_uri": "https://localhost:8080/",
          "height": 300
        }
      },
      "source": [
        "dataset.plot.line(x ='day', y = 'Views_show')"
      ],
      "execution_count": 0,
      "outputs": [
        {
          "output_type": "execute_result",
          "data": {
            "text/plain": [
              "<matplotlib.axes._subplots.AxesSubplot at 0x7f8ccab15470>"
            ]
          },
          "metadata": {
            "tags": []
          },
          "execution_count": 36
        },
        {
          "output_type": "display_data",
          "data": {
            "image/png": "[encoded data removed]",
            "text/plain": [
              "<Figure size 432x288 with 1 Axes>"
            ]
          },
          "metadata": {
            "tags": []
          }
        }
      ]
    },
    {
      "cell_type": "code",
      "metadata": {
        "id": "O-RBptY8sVm2",
        "colab_type": "code",
        "outputId": "1a237ddc-56e1-4a82-9a6b-7f72ed55541a",
        "colab": {
          "base_uri": "https://localhost:8080/",
          "height": 286
        }
      },
      "source": [
        "#Scatter plot\n",
        "colors = (0, 0, 0)\n",
        "area = np.pi*3\n",
        "plt.scatter(dataset['day'], dataset['Views_show'])"
      ],
      "execution_count": 0,
      "outputs": [
        {
          "output_type": "execute_result",
          "data": {
            "text/plain": [
              "<matplotlib.collections.PathCollection at 0x7f8cc9244780>"
            ]
          },
          "metadata": {
            "tags": []
          },
          "execution_count": 37
        },
        {
          "output_type": "display_data",
          "data": {
            "image/png": "[encoded data removed]",
            "text/plain": [
              "<Figure size 432x288 with 1 Axes>"
            ]
          },
          "metadata": {
            "tags": []
          }
        }
      ]
    },
    {
      "cell_type": "code",
      "metadata": {
        "id": "tIifLLzbyGFJ",
        "colab_type": "code",
        "outputId": "efd54264-1dda-4d32-b764-c40c306f83e3",
        "colab": {
          "base_uri": "https://localhost:8080/",
          "height": 273
        }
      },
      "source": [
        "#plotting for day vs Views_show and days vs Ad_impression\n",
        "fig = plt.figure()\n",
        "host = fig.add_subplot(111)\n",
        "\n",
        "par1 = host.twinx()\n",
        "par2 = host.twinx()\n",
        "\n",
        "host.set_xlabel(\"day\")\n",
        "host.set_ylabel(\"View_show\")\n",
        "par1.set_ylabel(\"Ad_impression\")\n",
        "\n",
        "color1 = plt.cm.viridis(0)\n",
        "color2 = plt.cm.viridis(0.5)\n",
        "color3 = plt.cm.viridis(0.9)\n",
        "\n",
        "p1, = host.plot(dataset['day'], dataset['Views_show'], color=color1, label='View_show')\n",
        "p2, = par1.plot(dataset['day'], dataset['Ad_impression'], color=color2, label='Ad_impression')\n",
        "\n",
        "lns=[p1,p2]\n",
        "host.legend(handles=lns, loc='best')\n",
        "\n",
        "#right, left, top, bottom\n",
        "par2.spines['right'].set_position(('outward', 60))\n",
        "\n",
        "#no. of x-ticks\n",
        "par2.xaxis.set_ticks([])\n",
        "\n",
        "host.yaxis.label.set_color(p1.get_color())\n",
        "par1.yaxis.label.set_color(p2.get_color())\n",
        "\n",
        "plt.show()"
      ],
      "execution_count": 0,
      "outputs": [
        {
          "output_type": "display_data",
          "data": {
            "image/png": "[encoded data removed]",
            "text/plain": [
              "<Figure size 432x288 with 3 Axes>"
            ]
          },
          "metadata": {
            "tags": []
          }
        }
      ]
    },
    {
      "cell_type": "code",
      "metadata": {
        "id": "zM8qwNZ2vNYj",
        "colab_type": "code",
        "outputId": "5d5aa051-ac88-497e-a151-ed43675bc1e9",
        "colab": {
          "base_uri": "https://localhost:8080/",
          "height": 195
        }
      },
      "source": [
        "#New dervied column\n",
        "dataset['weekday'] = (dataset['day']+3)%7\n",
        "dataset['weekday'].replace(0, 7, inplace=True)\n",
        "dataset['weekday'] = dataset['weekday'].astype(int)\n",
        "dataset.head()"
      ],
      "execution_count": 0,
      "outputs": [
        {
          "output_type": "execute_result",
          "data": {
            "text/html": [
              "<div>\n",
              "<style scoped>\n",
              "    .dataframe tbody tr th:only-of-type {\n",
              "        vertical-align: middle;\n",
              "    }\n",
              "\n",
              "    .dataframe tbody tr th {\n",
              "        vertical-align: top;\n",
              "    }\n",
              "\n",
              "    .dataframe thead th {\n",
              "        text-align: right;\n",
              "    }\n",
              "</style>\n",
              "<table border=\"1\" class=\"dataframe\">\n",
              "  <thead>\n",
              "    <tr style=\"text-align: right;\">\n",
              "      <th></th>\n",
              "      <th>Date</th>\n",
              "      <th>Views_show</th>\n",
              "      <th>Visitors</th>\n",
              "      <th>Views_platform</th>\n",
              "      <th>Ad_impression</th>\n",
              "      <th>Cricket_match_india</th>\n",
              "      <th>Character_A</th>\n",
              "      <th>day</th>\n",
              "      <th>weekday</th>\n",
              "    </tr>\n",
              "  </thead>\n",
              "  <tbody>\n",
              "    <tr>\n",
              "      <th>0</th>\n",
              "      <td>2017-03-01</td>\n",
              "      <td>183738</td>\n",
              "      <td>1260228</td>\n",
              "      <td>1706478</td>\n",
              "      <td>1060860448</td>\n",
              "      <td>0</td>\n",
              "      <td>0</td>\n",
              "      <td>1</td>\n",
              "      <td>4</td>\n",
              "    </tr>\n",
              "    <tr>\n",
              "      <th>1</th>\n",
              "      <td>2017-03-02</td>\n",
              "      <td>193763</td>\n",
              "      <td>1270561</td>\n",
              "      <td>1690727</td>\n",
              "      <td>1031846645</td>\n",
              "      <td>0</td>\n",
              "      <td>0</td>\n",
              "      <td>2</td>\n",
              "      <td>5</td>\n",
              "    </tr>\n",
              "    <tr>\n",
              "      <th>2</th>\n",
              "      <td>2017-03-03</td>\n",
              "      <td>210479</td>\n",
              "      <td>1248183</td>\n",
              "      <td>1726157</td>\n",
              "      <td>1010867575</td>\n",
              "      <td>0</td>\n",
              "      <td>0</td>\n",
              "      <td>3</td>\n",
              "      <td>6</td>\n",
              "    </tr>\n",
              "    <tr>\n",
              "      <th>3</th>\n",
              "      <td>2017-03-04</td>\n",
              "      <td>240061</td>\n",
              "      <td>1492913</td>\n",
              "      <td>1855353</td>\n",
              "      <td>1079194579</td>\n",
              "      <td>1</td>\n",
              "      <td>0</td>\n",
              "      <td>4</td>\n",
              "      <td>7</td>\n",
              "    </tr>\n",
              "    <tr>\n",
              "      <th>4</th>\n",
              "      <td>2017-03-05</td>\n",
              "      <td>446314</td>\n",
              "      <td>1594712</td>\n",
              "      <td>2041418</td>\n",
              "      <td>1357736987</td>\n",
              "      <td>0</td>\n",
              "      <td>0</td>\n",
              "      <td>5</td>\n",
              "      <td>1</td>\n",
              "    </tr>\n",
              "  </tbody>\n",
              "</table>\n",
              "</div>"
            ],
            "text/plain": [
              "        Date  Views_show  Visitors  ...  Character_A  day  weekday\n",
              "0 2017-03-01      183738   1260228  ...            0    1        4\n",
              "1 2017-03-02      193763   1270561  ...            0    2        5\n",
              "2 2017-03-03      210479   1248183  ...            0    3        6\n",
              "3 2017-03-04      240061   1492913  ...            0    4        7\n",
              "4 2017-03-05      446314   1594712  ...            0    5        1\n",
              "\n",
              "[5 rows x 9 columns]"
            ]
          },
          "metadata": {
            "tags": []
          },
          "execution_count": 39
        }
      ]
    },
    {
      "cell_type": "markdown",
      "metadata": {
        "id": "MAqw7q2MIb5C",
        "colab_type": "text"
      },
      "source": [
        "### Linear Model (lm1) Weekday and Visitors"
      ]
    },
    {
      "cell_type": "code",
      "metadata": {
        "id": "Ot3znWXT6_kM",
        "colab_type": "code",
        "colab": {}
      },
      "source": [
        "# Feature variables - Visitiors, Weekday\n",
        "X = dataset[['Visitors','weekday']]\n",
        "\n",
        "#Response Variable\n",
        "y= dataset['Views_show']"
      ],
      "execution_count": 0,
      "outputs": []
    },
    {
      "cell_type": "code",
      "metadata": {
        "id": "y4cSkbyiJCDw",
        "colab_type": "code",
        "colab": {}
      },
      "source": [
        "from sklearn.linear_model import LinearRegression"
      ],
      "execution_count": 0,
      "outputs": []
    },
    {
      "cell_type": "code",
      "metadata": {
        "id": "gj2yKAT5JITE",
        "colab_type": "code",
        "outputId": "ff33db39-a921-40d0-8e8f-35510226c755",
        "colab": {
          "base_uri": "https://localhost:8080/",
          "height": 34
        }
      },
      "source": [
        "lm = LinearRegression()\n",
        "lm.fit(X,y)"
      ],
      "execution_count": 0,
      "outputs": [
        {
          "output_type": "execute_result",
          "data": {
            "text/plain": [
              "LinearRegression(copy_X=True, fit_intercept=True, n_jobs=None, normalize=False)"
            ]
          },
          "metadata": {
            "tags": []
          },
          "execution_count": 42
        }
      ]
    },
    {
      "cell_type": "code",
      "metadata": {
        "id": "HZUfnyx1yT-0",
        "colab_type": "code",
        "colab": {}
      },
      "source": [
        "#pip install scipy==1.2 --upgrade"
      ],
      "execution_count": 0,
      "outputs": []
    },
    {
      "cell_type": "code",
      "metadata": {
        "id": "rJB5sf8KJVyr",
        "colab_type": "code",
        "outputId": "cb9238f6-75d8-45a4-f27e-2068c3a8299c",
        "colab": {
          "base_uri": "https://localhost:8080/",
          "height": 521
        }
      },
      "source": [
        "import statsmodels.api as sm\n",
        "#Unlike SKLearn, statsmodels don't automatically fit a constant, \n",
        "#so you need to use the method sm.add_constant(X) in order to add a constant. \n",
        "X = sm.add_constant(X)\n",
        "# create a fitted model in one line\n",
        "lm_1 = sm.OLS(y,X).fit()\n",
        "print(lm_1.summary())"
      ],
      "execution_count": 0,
      "outputs": [
        {
          "output_type": "stream",
          "text": [
            "                            OLS Regression Results                            \n",
            "==============================================================================\n",
            "Dep. Variable:             Views_show   R-squared:                       0.485\n",
            "Model:                            OLS   Adj. R-squared:                  0.472\n",
            "Method:                 Least Squares   F-statistic:                     36.26\n",
            "Date:                Sat, 01 Jun 2019   Prob (F-statistic):           8.01e-12\n",
            "Time:                        20:07:18   Log-Likelihood:                -1042.5\n",
            "No. Observations:                  80   AIC:                             2091.\n",
            "Df Residuals:                      77   BIC:                             2098.\n",
            "Df Model:                           2                                         \n",
            "Covariance Type:            nonrobust                                         \n",
            "==============================================================================\n",
            "                 coef    std err          t      P>|t|      [0.025      0.975]\n",
            "------------------------------------------------------------------------------\n",
            "const      -3.862e+04   1.07e+05     -0.360      0.720   -2.52e+05    1.75e+05\n",
            "Visitors       0.2787      0.057      4.911      0.000       0.166       0.392\n",
            "weekday    -3.591e+04   6591.205     -5.448      0.000    -4.9e+04   -2.28e+04\n",
            "==============================================================================\n",
            "Omnibus:                        2.684   Durbin-Watson:                   0.650\n",
            "Prob(Omnibus):                  0.261   Jarque-Bera (JB):                2.653\n",
            "Skew:                           0.423   Prob(JB):                        0.265\n",
            "Kurtosis:                       2.718   Cond. No.                     1.46e+07\n",
            "==============================================================================\n",
            "\n",
            "Warnings:\n",
            "[1] Standard Errors assume that the covariance matrix of the errors is correctly specified.\n",
            "[2] The condition number is large, 1.46e+07. This might indicate that there are\n",
            "strong multicollinearity or other numerical problems.\n"
          ],
          "name": "stdout"
        },
        {
          "output_type": "stream",
          "text": [
            "/usr/local/lib/python3.6/dist-packages/numpy/core/fromnumeric.py:2389: FutureWarning: Method .ptp is deprecated and will be removed in a future version. Use numpy.ptp instead.\n",
            "  return ptp(axis=axis, out=out, **kwargs)\n"
          ],
          "name": "stderr"
        }
      ]
    },
    {
      "cell_type": "code",
      "metadata": {
        "id": "WgvoMQiuzxzK",
        "colab_type": "code",
        "outputId": "3bedffeb-4ad2-4155-a76c-28b6e2cb6c82",
        "colab": {
          "base_uri": "https://localhost:8080/",
          "height": 195
        }
      },
      "source": [
        "#Create a new column - to check if its a weekend or not\n",
        "\n",
        "def cond(i):\n",
        "  if i ==1 or i ==7: return 1\n",
        "  else: return 0\n",
        "\n",
        "dataset['weekend'] = [cond(i) for i in dataset['weekday']]\n",
        "\n",
        "dataset.head()"
      ],
      "execution_count": 0,
      "outputs": [
        {
          "output_type": "execute_result",
          "data": {
            "text/html": [
              "<div>\n",
              "<style scoped>\n",
              "    .dataframe tbody tr th:only-of-type {\n",
              "        vertical-align: middle;\n",
              "    }\n",
              "\n",
              "    .dataframe tbody tr th {\n",
              "        vertical-align: top;\n",
              "    }\n",
              "\n",
              "    .dataframe thead th {\n",
              "        text-align: right;\n",
              "    }\n",
              "</style>\n",
              "<table border=\"1\" class=\"dataframe\">\n",
              "  <thead>\n",
              "    <tr style=\"text-align: right;\">\n",
              "      <th></th>\n",
              "      <th>Date</th>\n",
              "      <th>Views_show</th>\n",
              "      <th>Visitors</th>\n",
              "      <th>Views_platform</th>\n",
              "      <th>Ad_impression</th>\n",
              "      <th>Cricket_match_india</th>\n",
              "      <th>Character_A</th>\n",
              "      <th>day</th>\n",
              "      <th>weekday</th>\n",
              "      <th>weekend</th>\n",
              "    </tr>\n",
              "  </thead>\n",
              "  <tbody>\n",
              "    <tr>\n",
              "      <th>0</th>\n",
              "      <td>2017-03-01</td>\n",
              "      <td>183738</td>\n",
              "      <td>1260228</td>\n",
              "      <td>1706478</td>\n",
              "      <td>1060860448</td>\n",
              "      <td>0</td>\n",
              "      <td>0</td>\n",
              "      <td>1</td>\n",
              "      <td>4</td>\n",
              "      <td>0</td>\n",
              "    </tr>\n",
              "    <tr>\n",
              "      <th>1</th>\n",
              "      <td>2017-03-02</td>\n",
              "      <td>193763</td>\n",
              "      <td>1270561</td>\n",
              "      <td>1690727</td>\n",
              "      <td>1031846645</td>\n",
              "      <td>0</td>\n",
              "      <td>0</td>\n",
              "      <td>2</td>\n",
              "      <td>5</td>\n",
              "      <td>0</td>\n",
              "    </tr>\n",
              "    <tr>\n",
              "      <th>2</th>\n",
              "      <td>2017-03-03</td>\n",
              "      <td>210479</td>\n",
              "      <td>1248183</td>\n",
              "      <td>1726157</td>\n",
              "      <td>1010867575</td>\n",
              "      <td>0</td>\n",
              "      <td>0</td>\n",
              "      <td>3</td>\n",
              "      <td>6</td>\n",
              "      <td>0</td>\n",
              "    </tr>\n",
              "    <tr>\n",
              "      <th>3</th>\n",
              "      <td>2017-03-04</td>\n",
              "      <td>240061</td>\n",
              "      <td>1492913</td>\n",
              "      <td>1855353</td>\n",
              "      <td>1079194579</td>\n",
              "      <td>1</td>\n",
              "      <td>0</td>\n",
              "      <td>4</td>\n",
              "      <td>7</td>\n",
              "      <td>1</td>\n",
              "    </tr>\n",
              "    <tr>\n",
              "      <th>4</th>\n",
              "      <td>2017-03-05</td>\n",
              "      <td>446314</td>\n",
              "      <td>1594712</td>\n",
              "      <td>2041418</td>\n",
              "      <td>1357736987</td>\n",
              "      <td>0</td>\n",
              "      <td>0</td>\n",
              "      <td>5</td>\n",
              "      <td>1</td>\n",
              "      <td>1</td>\n",
              "    </tr>\n",
              "  </tbody>\n",
              "</table>\n",
              "</div>"
            ],
            "text/plain": [
              "        Date  Views_show  Visitors  ...  day  weekday  weekend\n",
              "0 2017-03-01      183738   1260228  ...    1        4        0\n",
              "1 2017-03-02      193763   1270561  ...    2        5        0\n",
              "2 2017-03-03      210479   1248183  ...    3        6        0\n",
              "3 2017-03-04      240061   1492913  ...    4        7        1\n",
              "4 2017-03-05      446314   1594712  ...    5        1        1\n",
              "\n",
              "[5 rows x 10 columns]"
            ]
          },
          "metadata": {
            "tags": []
          },
          "execution_count": 45
        }
      ]
    },
    {
      "cell_type": "markdown",
      "metadata": {
        "id": "U4NfoNXJ-o4p",
        "colab_type": "text"
      },
      "source": [
        "### 2nd Linear Model (lm2) Weekend and Visitors"
      ]
    },
    {
      "cell_type": "code",
      "metadata": {
        "id": "149HlQ5w8AQE",
        "colab_type": "code",
        "colab": {}
      },
      "source": [
        "X = dataset[['Visitors', 'weekend']]\n",
        "y = dataset['Views_show']"
      ],
      "execution_count": 0,
      "outputs": []
    },
    {
      "cell_type": "code",
      "metadata": {
        "id": "iDkElRN-_EtK",
        "colab_type": "code",
        "outputId": "7851a2ed-3b7a-4b47-bd7a-29deb52c8e30",
        "colab": {
          "base_uri": "https://localhost:8080/",
          "height": 521
        }
      },
      "source": [
        "import statsmodels.api as sm\n",
        "X = sm.add_constant(X)\n",
        "lm_2 = sm.OLS(y,X).fit()\n",
        "print(lm_2.summary())"
      ],
      "execution_count": 0,
      "outputs": [
        {
          "output_type": "stream",
          "text": [
            "/usr/local/lib/python3.6/dist-packages/numpy/core/fromnumeric.py:2389: FutureWarning: Method .ptp is deprecated and will be removed in a future version. Use numpy.ptp instead.\n",
            "  return ptp(axis=axis, out=out, **kwargs)\n"
          ],
          "name": "stderr"
        },
        {
          "output_type": "stream",
          "text": [
            "                            OLS Regression Results                            \n",
            "==============================================================================\n",
            "Dep. Variable:             Views_show   R-squared:                       0.500\n",
            "Model:                            OLS   Adj. R-squared:                  0.487\n",
            "Method:                 Least Squares   F-statistic:                     38.55\n",
            "Date:                Sat, 01 Jun 2019   Prob (F-statistic):           2.51e-12\n",
            "Time:                        20:07:18   Log-Likelihood:                -1041.3\n",
            "No. Observations:                  80   AIC:                             2089.\n",
            "Df Residuals:                      77   BIC:                             2096.\n",
            "Df Model:                           2                                         \n",
            "Covariance Type:            nonrobust                                         \n",
            "==============================================================================\n",
            "                 coef    std err          t      P>|t|      [0.025      0.975]\n",
            "------------------------------------------------------------------------------\n",
            "const      -8.833e+04   1.01e+05     -0.875      0.384   -2.89e+05    1.13e+05\n",
            "Visitors       0.1934      0.061      3.160      0.002       0.071       0.315\n",
            "weekend     1.807e+05   3.15e+04      5.740      0.000    1.18e+05    2.43e+05\n",
            "==============================================================================\n",
            "Omnibus:                        1.302   Durbin-Watson:                   1.254\n",
            "Prob(Omnibus):                  0.521   Jarque-Bera (JB):                1.367\n",
            "Skew:                           0.270   Prob(JB):                        0.505\n",
            "Kurtosis:                       2.656   Cond. No.                     1.41e+07\n",
            "==============================================================================\n",
            "\n",
            "Warnings:\n",
            "[1] Standard Errors assume that the covariance matrix of the errors is correctly specified.\n",
            "[2] The condition number is large, 1.41e+07. This might indicate that there are\n",
            "strong multicollinearity or other numerical problems.\n"
          ],
          "name": "stdout"
        }
      ]
    },
    {
      "cell_type": "markdown",
      "metadata": {
        "id": "xUpn9oS-_0ON",
        "colab_type": "text"
      },
      "source": [
        "### 3rd Linear Model (lm3) Weekday, Visitors, character_A"
      ]
    },
    {
      "cell_type": "code",
      "metadata": {
        "id": "egqURFs2_TVs",
        "colab_type": "code",
        "outputId": "4d16eff7-8447-4170-ba80-5f8f64cfdedc",
        "colab": {
          "base_uri": "https://localhost:8080/",
          "height": 538
        }
      },
      "source": [
        "X = dataset[['Visitors', 'weekend', 'Character_A']]\n",
        "y = dataset['Views_show']\n",
        "\n",
        "import statsmodels.api as sm\n",
        "X = sm.add_constant(X)\n",
        "lm_3 = sm.OLS(y,X).fit()\n",
        "print(lm_3.summary())"
      ],
      "execution_count": 0,
      "outputs": [
        {
          "output_type": "stream",
          "text": [
            "                            OLS Regression Results                            \n",
            "==============================================================================\n",
            "Dep. Variable:             Views_show   R-squared:                       0.586\n",
            "Model:                            OLS   Adj. R-squared:                  0.570\n",
            "Method:                 Least Squares   F-statistic:                     35.84\n",
            "Date:                Sat, 01 Jun 2019   Prob (F-statistic):           1.53e-14\n",
            "Time:                        20:07:19   Log-Likelihood:                -1033.8\n",
            "No. Observations:                  80   AIC:                             2076.\n",
            "Df Residuals:                      76   BIC:                             2085.\n",
            "Df Model:                           3                                         \n",
            "Covariance Type:            nonrobust                                         \n",
            "===============================================================================\n",
            "                  coef    std err          t      P>|t|      [0.025      0.975]\n",
            "-------------------------------------------------------------------------------\n",
            "const       -4.722e+04   9.31e+04     -0.507      0.613   -2.33e+05    1.38e+05\n",
            "Visitors        0.1480      0.057      2.586      0.012       0.034       0.262\n",
            "weekend      1.812e+05   2.89e+04      6.281      0.000    1.24e+05    2.39e+05\n",
            "Character_A  9.542e+04   2.41e+04      3.963      0.000    4.75e+04    1.43e+05\n",
            "==============================================================================\n",
            "Omnibus:                        0.908   Durbin-Watson:                   1.600\n",
            "Prob(Omnibus):                  0.635   Jarque-Bera (JB):                0.876\n",
            "Skew:                          -0.009   Prob(JB):                        0.645\n",
            "Kurtosis:                       2.488   Cond. No.                     1.42e+07\n",
            "==============================================================================\n",
            "\n",
            "Warnings:\n",
            "[1] Standard Errors assume that the covariance matrix of the errors is correctly specified.\n",
            "[2] The condition number is large, 1.42e+07. This might indicate that there are\n",
            "strong multicollinearity or other numerical problems.\n"
          ],
          "name": "stdout"
        },
        {
          "output_type": "stream",
          "text": [
            "/usr/local/lib/python3.6/dist-packages/numpy/core/fromnumeric.py:2389: FutureWarning: Method .ptp is deprecated and will be removed in a future version. Use numpy.ptp instead.\n",
            "  return ptp(axis=axis, out=out, **kwargs)\n"
          ],
          "name": "stderr"
        }
      ]
    },
    {
      "cell_type": "code",
      "metadata": {
        "id": "hW-rerppDdia",
        "colab_type": "code",
        "outputId": "69977c2a-88e5-4155-86c4-ac34c16ce4a5",
        "colab": {
          "base_uri": "https://localhost:8080/",
          "height": 195
        }
      },
      "source": [
        "# Creating a new column - lag variable\n",
        "\n",
        "dataset['Lag_views'] = np.roll(dataset['Views_show'], 1)\n",
        "dataset['Lag_views'].replace(108961,0, inplace=True)\n",
        "dataset.head()\n"
      ],
      "execution_count": 0,
      "outputs": [
        {
          "output_type": "execute_result",
          "data": {
            "text/html": [
              "<div>\n",
              "<style scoped>\n",
              "    .dataframe tbody tr th:only-of-type {\n",
              "        vertical-align: middle;\n",
              "    }\n",
              "\n",
              "    .dataframe tbody tr th {\n",
              "        vertical-align: top;\n",
              "    }\n",
              "\n",
              "    .dataframe thead th {\n",
              "        text-align: right;\n",
              "    }\n",
              "</style>\n",
              "<table border=\"1\" class=\"dataframe\">\n",
              "  <thead>\n",
              "    <tr style=\"text-align: right;\">\n",
              "      <th></th>\n",
              "      <th>Date</th>\n",
              "      <th>Views_show</th>\n",
              "      <th>Visitors</th>\n",
              "      <th>Views_platform</th>\n",
              "      <th>Ad_impression</th>\n",
              "      <th>Cricket_match_india</th>\n",
              "      <th>Character_A</th>\n",
              "      <th>day</th>\n",
              "      <th>weekday</th>\n",
              "      <th>weekend</th>\n",
              "      <th>Lag_views</th>\n",
              "    </tr>\n",
              "  </thead>\n",
              "  <tbody>\n",
              "    <tr>\n",
              "      <th>0</th>\n",
              "      <td>2017-03-01</td>\n",
              "      <td>183738</td>\n",
              "      <td>1260228</td>\n",
              "      <td>1706478</td>\n",
              "      <td>1060860448</td>\n",
              "      <td>0</td>\n",
              "      <td>0</td>\n",
              "      <td>1</td>\n",
              "      <td>4</td>\n",
              "      <td>0</td>\n",
              "      <td>0</td>\n",
              "    </tr>\n",
              "    <tr>\n",
              "      <th>1</th>\n",
              "      <td>2017-03-02</td>\n",
              "      <td>193763</td>\n",
              "      <td>1270561</td>\n",
              "      <td>1690727</td>\n",
              "      <td>1031846645</td>\n",
              "      <td>0</td>\n",
              "      <td>0</td>\n",
              "      <td>2</td>\n",
              "      <td>5</td>\n",
              "      <td>0</td>\n",
              "      <td>183738</td>\n",
              "    </tr>\n",
              "    <tr>\n",
              "      <th>2</th>\n",
              "      <td>2017-03-03</td>\n",
              "      <td>210479</td>\n",
              "      <td>1248183</td>\n",
              "      <td>1726157</td>\n",
              "      <td>1010867575</td>\n",
              "      <td>0</td>\n",
              "      <td>0</td>\n",
              "      <td>3</td>\n",
              "      <td>6</td>\n",
              "      <td>0</td>\n",
              "      <td>193763</td>\n",
              "    </tr>\n",
              "    <tr>\n",
              "      <th>3</th>\n",
              "      <td>2017-03-04</td>\n",
              "      <td>240061</td>\n",
              "      <td>1492913</td>\n",
              "      <td>1855353</td>\n",
              "      <td>1079194579</td>\n",
              "      <td>1</td>\n",
              "      <td>0</td>\n",
              "      <td>4</td>\n",
              "      <td>7</td>\n",
              "      <td>1</td>\n",
              "      <td>210479</td>\n",
              "    </tr>\n",
              "    <tr>\n",
              "      <th>4</th>\n",
              "      <td>2017-03-05</td>\n",
              "      <td>446314</td>\n",
              "      <td>1594712</td>\n",
              "      <td>2041418</td>\n",
              "      <td>1357736987</td>\n",
              "      <td>0</td>\n",
              "      <td>0</td>\n",
              "      <td>5</td>\n",
              "      <td>1</td>\n",
              "      <td>1</td>\n",
              "      <td>240061</td>\n",
              "    </tr>\n",
              "  </tbody>\n",
              "</table>\n",
              "</div>"
            ],
            "text/plain": [
              "        Date  Views_show  Visitors  ...  weekday  weekend  Lag_views\n",
              "0 2017-03-01      183738   1260228  ...        4        0          0\n",
              "1 2017-03-02      193763   1270561  ...        5        0     183738\n",
              "2 2017-03-03      210479   1248183  ...        6        0     193763\n",
              "3 2017-03-04      240061   1492913  ...        7        1     210479\n",
              "4 2017-03-05      446314   1594712  ...        1        1     240061\n",
              "\n",
              "[5 rows x 11 columns]"
            ]
          },
          "metadata": {
            "tags": []
          },
          "execution_count": 49
        }
      ]
    },
    {
      "cell_type": "markdown",
      "metadata": {
        "id": "KsDfRYptEWbn",
        "colab_type": "text"
      },
      "source": [
        "### 4th Linear Model (lm3) Weekday, Visitors, character_A, Lag_views"
      ]
    },
    {
      "cell_type": "code",
      "metadata": {
        "id": "vDGSz9GBD4dd",
        "colab_type": "code",
        "outputId": "81380eef-1a58-4e14-d77e-deaf23af8fae",
        "colab": {
          "base_uri": "https://localhost:8080/",
          "height": 554
        }
      },
      "source": [
        "X = dataset[['Visitors', 'weekend', 'Character_A', 'Lag_views']]\n",
        "y = dataset['Views_show']\n",
        "\n",
        "import statsmodels.api as sm\n",
        "X = sm.add_constant(X)\n",
        "lm_4 = sm.OLS(y,X).fit()\n",
        "print(lm_4.summary())"
      ],
      "execution_count": 0,
      "outputs": [
        {
          "output_type": "stream",
          "text": [
            "                            OLS Regression Results                            \n",
            "==============================================================================\n",
            "Dep. Variable:             Views_show   R-squared:                       0.740\n",
            "Model:                            OLS   Adj. R-squared:                  0.726\n",
            "Method:                 Least Squares   F-statistic:                     53.46\n",
            "Date:                Sat, 01 Jun 2019   Prob (F-statistic):           3.16e-21\n",
            "Time:                        20:07:19   Log-Likelihood:                -1015.1\n",
            "No. Observations:                  80   AIC:                             2040.\n",
            "Df Residuals:                      75   BIC:                             2052.\n",
            "Df Model:                           4                                         \n",
            "Covariance Type:            nonrobust                                         \n",
            "===============================================================================\n",
            "                  coef    std err          t      P>|t|      [0.025      0.975]\n",
            "-------------------------------------------------------------------------------\n",
            "const        -2.98e+04   7.43e+04     -0.401      0.689   -1.78e+05    1.18e+05\n",
            "Visitors        0.0659      0.047      1.394      0.167      -0.028       0.160\n",
            "weekend      2.273e+05    2.4e+04      9.467      0.000    1.79e+05    2.75e+05\n",
            "Character_A  5.527e+04   2.01e+04      2.748      0.008    1.52e+04    9.53e+04\n",
            "Lag_views       0.4317      0.065      6.679      0.000       0.303       0.560\n",
            "==============================================================================\n",
            "Omnibus:                        1.425   Durbin-Watson:                   2.626\n",
            "Prob(Omnibus):                  0.491   Jarque-Bera (JB):                0.821\n",
            "Skew:                          -0.130   Prob(JB):                        0.663\n",
            "Kurtosis:                       3.423   Cond. No.                     1.44e+07\n",
            "==============================================================================\n",
            "\n",
            "Warnings:\n",
            "[1] Standard Errors assume that the covariance matrix of the errors is correctly specified.\n",
            "[2] The condition number is large, 1.44e+07. This might indicate that there are\n",
            "strong multicollinearity or other numerical problems.\n"
          ],
          "name": "stdout"
        },
        {
          "output_type": "stream",
          "text": [
            "/usr/local/lib/python3.6/dist-packages/numpy/core/fromnumeric.py:2389: FutureWarning: Method .ptp is deprecated and will be removed in a future version. Use numpy.ptp instead.\n",
            "  return ptp(axis=axis, out=out, **kwargs)\n"
          ],
          "name": "stderr"
        }
      ]
    },
    {
      "cell_type": "code",
      "metadata": {
        "id": "y1Ji8MI8CL0K",
        "colab_type": "code",
        "outputId": "5a92b831-1dfd-42ba-b984-c90a56d15eab",
        "colab": {
          "base_uri": "https://localhost:8080/",
          "height": 613
        }
      },
      "source": [
        "plt.figure(figsize = (20,10))\n",
        "sns.heatmap(dataset.corr(), annot = True)"
      ],
      "execution_count": 0,
      "outputs": [
        {
          "output_type": "execute_result",
          "data": {
            "text/plain": [
              "<matplotlib.axes._subplots.AxesSubplot at 0x7f8ccab15320>"
            ]
          },
          "metadata": {
            "tags": []
          },
          "execution_count": 51
        },
        {
          "output_type": "display_data",
          "data": {
            "image/png": "[encoded data removed]",
            "text/plain": [
              "<Figure size 1440x720 with 2 Axes>"
            ]
          },
          "metadata": {
            "tags": []
          }
        }
      ]
    },
    {
      "cell_type": "markdown",
      "metadata": {
        "id": "kVxNhJ4RFh_4",
        "colab_type": "text"
      },
      "source": [
        "### 5th Linear Model - Character_A, weekend, Views_platform"
      ]
    },
    {
      "cell_type": "code",
      "metadata": {
        "id": "KfnUnN6kFI5M",
        "colab_type": "code",
        "outputId": "3fd08a4e-d151-46f4-e621-6e12d3aa5767",
        "colab": {
          "base_uri": "https://localhost:8080/",
          "height": 538
        }
      },
      "source": [
        "X = dataset[['weekend', 'Character_A', 'Views_platform']]\n",
        "y = dataset['Views_show']\n",
        "\n",
        "import statsmodels.api as sm\n",
        "X = sm.add_constant(X)\n",
        "lm_5 = sm.OLS(y,X).fit()\n",
        "print(lm_5.summary())"
      ],
      "execution_count": 0,
      "outputs": [
        {
          "output_type": "stream",
          "text": [
            "                            OLS Regression Results                            \n",
            "==============================================================================\n",
            "Dep. Variable:             Views_show   R-squared:                       0.602\n",
            "Model:                            OLS   Adj. R-squared:                  0.586\n",
            "Method:                 Least Squares   F-statistic:                     38.24\n",
            "Date:                Sat, 01 Jun 2019   Prob (F-statistic):           3.59e-15\n",
            "Time:                        20:14:50   Log-Likelihood:                -1032.3\n",
            "No. Observations:                  80   AIC:                             2073.\n",
            "Df Residuals:                      76   BIC:                             2082.\n",
            "Df Model:                           3                                         \n",
            "Covariance Type:            nonrobust                                         \n",
            "==================================================================================\n",
            "                     coef    std err          t      P>|t|      [0.025      0.975]\n",
            "----------------------------------------------------------------------------------\n",
            "const          -1.205e+05   9.97e+04     -1.208      0.231   -3.19e+05    7.81e+04\n",
            "weekend         1.781e+05   2.78e+04      6.410      0.000    1.23e+05    2.33e+05\n",
            "Character_A     7.062e+04    2.6e+04      2.717      0.008    1.89e+04    1.22e+05\n",
            "Views_platform     0.1507      0.048      3.152      0.002       0.055       0.246\n",
            "==============================================================================\n",
            "Omnibus:                        4.279   Durbin-Watson:                   1.516\n",
            "Prob(Omnibus):                  0.118   Jarque-Bera (JB):                2.153\n",
            "Skew:                           0.061   Prob(JB):                        0.341\n",
            "Kurtosis:                       2.206   Cond. No.                     2.03e+07\n",
            "==============================================================================\n",
            "\n",
            "Warnings:\n",
            "[1] Standard Errors assume that the covariance matrix of the errors is correctly specified.\n",
            "[2] The condition number is large, 2.03e+07. This might indicate that there are\n",
            "strong multicollinearity or other numerical problems.\n"
          ],
          "name": "stdout"
        },
        {
          "output_type": "stream",
          "text": [
            "/usr/local/lib/python3.6/dist-packages/numpy/core/fromnumeric.py:2389: FutureWarning: Method .ptp is deprecated and will be removed in a future version. Use numpy.ptp instead.\n",
            "  return ptp(axis=axis, out=out, **kwargs)\n"
          ],
          "name": "stderr"
        }
      ]
    },
    {
      "cell_type": "markdown",
      "metadata": {
        "id": "Z0tDw9U3q3oo",
        "colab_type": "text"
      },
      "source": [
        "### 6th Linear Model - Character_A, weekend, Visitors"
      ]
    },
    {
      "cell_type": "code",
      "metadata": {
        "id": "_-kTGCuIFKY4",
        "colab_type": "code",
        "outputId": "8e546970-b0ad-42e8-a25e-6ce4b9db66b9",
        "colab": {
          "base_uri": "https://localhost:8080/",
          "height": 538
        }
      },
      "source": [
        "X = dataset[['weekend', 'Character_A', 'Visitors']]\n",
        "y = dataset['Views_show']\n",
        "\n",
        "import statsmodels.api as sm\n",
        "X = sm.add_constant(X)\n",
        "lm_6 = sm.OLS(y,X).fit()\n",
        "print(lm_6.summary())"
      ],
      "execution_count": 0,
      "outputs": [
        {
          "output_type": "stream",
          "text": [
            "                            OLS Regression Results                            \n",
            "==============================================================================\n",
            "Dep. Variable:             Views_show   R-squared:                       0.586\n",
            "Model:                            OLS   Adj. R-squared:                  0.570\n",
            "Method:                 Least Squares   F-statistic:                     35.84\n",
            "Date:                Sat, 01 Jun 2019   Prob (F-statistic):           1.53e-14\n",
            "Time:                        20:15:12   Log-Likelihood:                -1033.8\n",
            "No. Observations:                  80   AIC:                             2076.\n",
            "Df Residuals:                      76   BIC:                             2085.\n",
            "Df Model:                           3                                         \n",
            "Covariance Type:            nonrobust                                         \n",
            "===============================================================================\n",
            "                  coef    std err          t      P>|t|      [0.025      0.975]\n",
            "-------------------------------------------------------------------------------\n",
            "const       -4.722e+04   9.31e+04     -0.507      0.613   -2.33e+05    1.38e+05\n",
            "weekend      1.812e+05   2.89e+04      6.281      0.000    1.24e+05    2.39e+05\n",
            "Character_A  9.542e+04   2.41e+04      3.963      0.000    4.75e+04    1.43e+05\n",
            "Visitors        0.1480      0.057      2.586      0.012       0.034       0.262\n",
            "==============================================================================\n",
            "Omnibus:                        0.908   Durbin-Watson:                   1.600\n",
            "Prob(Omnibus):                  0.635   Jarque-Bera (JB):                0.876\n",
            "Skew:                          -0.009   Prob(JB):                        0.645\n",
            "Kurtosis:                       2.488   Cond. No.                     1.42e+07\n",
            "==============================================================================\n",
            "\n",
            "Warnings:\n",
            "[1] Standard Errors assume that the covariance matrix of the errors is correctly specified.\n",
            "[2] The condition number is large, 1.42e+07. This might indicate that there are\n",
            "strong multicollinearity or other numerical problems.\n"
          ],
          "name": "stdout"
        },
        {
          "output_type": "stream",
          "text": [
            "/usr/local/lib/python3.6/dist-packages/numpy/core/fromnumeric.py:2389: FutureWarning: Method .ptp is deprecated and will be removed in a future version. Use numpy.ptp instead.\n",
            "  return ptp(axis=axis, out=out, **kwargs)\n"
          ],
          "name": "stderr"
        }
      ]
    },
    {
      "cell_type": "markdown",
      "metadata": {
        "id": "MFbTlHtar_TB",
        "colab_type": "text"
      },
      "source": [
        "### 7th Linear Model - Character_A, weekend, Visitors, Ad impressions"
      ]
    },
    {
      "cell_type": "code",
      "metadata": {
        "id": "TE6qmy2EsFKc",
        "colab_type": "code",
        "outputId": "75eab097-d3ff-43df-c74c-c43820e9aaa9",
        "colab": {
          "base_uri": "https://localhost:8080/",
          "height": 554
        }
      },
      "source": [
        "X = dataset[['weekend', 'Character_A', 'Visitors', 'Ad_impression']]\n",
        "y = dataset['Views_show']\n",
        "\n",
        "import statsmodels.api as sm\n",
        "X = sm.add_constant(X)\n",
        "lm_7 = sm.OLS(y,X).fit()\n",
        "print(lm_7.summary())"
      ],
      "execution_count": 0,
      "outputs": [
        {
          "output_type": "stream",
          "text": [
            "                            OLS Regression Results                            \n",
            "==============================================================================\n",
            "Dep. Variable:             Views_show   R-squared:                       0.803\n",
            "Model:                            OLS   Adj. R-squared:                  0.792\n",
            "Method:                 Least Squares   F-statistic:                     76.40\n",
            "Date:                Sat, 01 Jun 2019   Prob (F-statistic):           1.10e-25\n",
            "Time:                        20:18:30   Log-Likelihood:                -1004.1\n",
            "No. Observations:                  80   AIC:                             2018.\n",
            "Df Residuals:                      75   BIC:                             2030.\n",
            "Df Model:                           4                                         \n",
            "Covariance Type:            nonrobust                                         \n",
            "=================================================================================\n",
            "                    coef    std err          t      P>|t|      [0.025      0.975]\n",
            "---------------------------------------------------------------------------------\n",
            "const         -2.834e+05   6.97e+04     -4.067      0.000   -4.22e+05   -1.45e+05\n",
            "weekend        1.485e+05   2.04e+04      7.296      0.000    1.08e+05    1.89e+05\n",
            "Character_A   -2.934e+04   2.16e+04     -1.356      0.179   -7.24e+04    1.38e+04\n",
            "Visitors          0.0144      0.042      0.340      0.735      -0.070       0.099\n",
            "Ad_impression     0.0004   3.96e-05      9.090      0.000       0.000       0.000\n",
            "==============================================================================\n",
            "Omnibus:                        4.808   Durbin-Watson:                   1.166\n",
            "Prob(Omnibus):                  0.090   Jarque-Bera (JB):                4.007\n",
            "Skew:                           0.476   Prob(JB):                        0.135\n",
            "Kurtosis:                       3.545   Cond. No.                     1.32e+10\n",
            "==============================================================================\n",
            "\n",
            "Warnings:\n",
            "[1] Standard Errors assume that the covariance matrix of the errors is correctly specified.\n",
            "[2] The condition number is large, 1.32e+10. This might indicate that there are\n",
            "strong multicollinearity or other numerical problems.\n"
          ],
          "name": "stdout"
        },
        {
          "output_type": "stream",
          "text": [
            "/usr/local/lib/python3.6/dist-packages/numpy/core/fromnumeric.py:2389: FutureWarning: Method .ptp is deprecated and will be removed in a future version. Use numpy.ptp instead.\n",
            "  return ptp(axis=axis, out=out, **kwargs)\n"
          ],
          "name": "stderr"
        }
      ]
    },
    {
      "cell_type": "markdown",
      "metadata": {
        "id": "OtFrt8Q9s3Yt",
        "colab_type": "text"
      },
      "source": [
        "### 8th Linear Model - Character_A, weekend, Ad impressions"
      ]
    },
    {
      "cell_type": "code",
      "metadata": {
        "id": "chWlyN4Rs6nq",
        "colab_type": "code",
        "outputId": "5e91655c-f30c-4448-8fa6-9a187bce9c95",
        "colab": {
          "base_uri": "https://localhost:8080/",
          "height": 538
        }
      },
      "source": [
        "X = dataset[['weekend', 'Character_A', 'Ad_impression']]\n",
        "y = dataset['Views_show']\n",
        "\n",
        "import statsmodels.api as sm\n",
        "X = sm.add_constant(X)\n",
        "lm_8 = sm.OLS(y,X).fit()\n",
        "print(lm_8.summary())"
      ],
      "execution_count": 0,
      "outputs": [
        {
          "output_type": "stream",
          "text": [
            "                            OLS Regression Results                            \n",
            "==============================================================================\n",
            "Dep. Variable:             Views_show   R-squared:                       0.803\n",
            "Model:                            OLS   Adj. R-squared:                  0.795\n",
            "Method:                 Least Squares   F-statistic:                     103.0\n",
            "Date:                Sat, 01 Jun 2019   Prob (F-statistic):           1.05e-26\n",
            "Time:                        20:21:04   Log-Likelihood:                -1004.2\n",
            "No. Observations:                  80   AIC:                             2016.\n",
            "Df Residuals:                      76   BIC:                             2026.\n",
            "Df Model:                           3                                         \n",
            "Covariance Type:            nonrobust                                         \n",
            "=================================================================================\n",
            "                    coef    std err          t      P>|t|      [0.025      0.975]\n",
            "---------------------------------------------------------------------------------\n",
            "const         -2.661e+05   4.74e+04     -5.609      0.000   -3.61e+05   -1.72e+05\n",
            "weekend         1.51e+05   1.88e+04      8.019      0.000    1.14e+05    1.89e+05\n",
            "Character_A    -2.99e+04   2.14e+04     -1.394      0.167   -7.26e+04    1.28e+04\n",
            "Ad_impression     0.0004   3.69e-05      9.875      0.000       0.000       0.000\n",
            "==============================================================================\n",
            "Omnibus:                        4.723   Durbin-Watson:                   1.169\n",
            "Prob(Omnibus):                  0.094   Jarque-Bera (JB):                3.939\n",
            "Skew:                           0.453   Prob(JB):                        0.139\n",
            "Kurtosis:                       3.601   Cond. No.                     9.26e+09\n",
            "==============================================================================\n",
            "\n",
            "Warnings:\n",
            "[1] Standard Errors assume that the covariance matrix of the errors is correctly specified.\n",
            "[2] The condition number is large, 9.26e+09. This might indicate that there are\n",
            "strong multicollinearity or other numerical problems.\n"
          ],
          "name": "stdout"
        },
        {
          "output_type": "stream",
          "text": [
            "/usr/local/lib/python3.6/dist-packages/numpy/core/fromnumeric.py:2389: FutureWarning: Method .ptp is deprecated and will be removed in a future version. Use numpy.ptp instead.\n",
            "  return ptp(axis=axis, out=out, **kwargs)\n"
          ],
          "name": "stderr"
        }
      ]
    },
    {
      "cell_type": "markdown",
      "metadata": {
        "id": "50IdhjBGvRlk",
        "colab_type": "text"
      },
      "source": [
        "### 9th Linear Model - Character_A, Visitors, weekend, Ad impressions_million, Cricket_match_india"
      ]
    },
    {
      "cell_type": "code",
      "metadata": {
        "id": "pydx8d8tvcx0",
        "colab_type": "code",
        "outputId": "24bdcd06-510d-4b68-d7c7-1b55e74a6535",
        "colab": {
          "base_uri": "https://localhost:8080/",
          "height": 571
        }
      },
      "source": [
        "dataset['Ad_impression_million'] = dataset['Ad_impression']/1000000\n",
        "X = dataset[['weekend', 'Character_A', 'Visitors', 'Ad_impression_million', 'Cricket_match_india']]\n",
        "y = dataset['Views_show']\n",
        "\n",
        "import statsmodels.api as sm\n",
        "X = sm.add_constant(X)\n",
        "lm_9 = sm.OLS(y,X).fit()\n",
        "print(lm_9.summary())"
      ],
      "execution_count": 0,
      "outputs": [
        {
          "output_type": "stream",
          "text": [
            "                            OLS Regression Results                            \n",
            "==============================================================================\n",
            "Dep. Variable:             Views_show   R-squared:                       0.804\n",
            "Model:                            OLS   Adj. R-squared:                  0.791\n",
            "Method:                 Least Squares   F-statistic:                     60.67\n",
            "Date:                Sat, 01 Jun 2019   Prob (F-statistic):           8.61e-25\n",
            "Time:                        20:35:34   Log-Likelihood:                -1003.9\n",
            "No. Observations:                  80   AIC:                             2020.\n",
            "Df Residuals:                      74   BIC:                             2034.\n",
            "Df Model:                           5                                         \n",
            "Covariance Type:            nonrobust                                         \n",
            "=========================================================================================\n",
            "                            coef    std err          t      P>|t|      [0.025      0.975]\n",
            "-----------------------------------------------------------------------------------------\n",
            "const                 -2.867e+05   7.02e+04     -4.084      0.000   -4.27e+05   -1.47e+05\n",
            "weekend                1.488e+05   2.04e+04      7.277      0.000    1.08e+05     1.9e+05\n",
            "Character_A           -3.161e+04   2.21e+04     -1.433      0.156   -7.56e+04    1.23e+04\n",
            "Visitors                  0.0200      0.044      0.460      0.647      -0.067       0.107\n",
            "Ad_impression_million   357.1631     40.002      8.929      0.000     277.456     436.870\n",
            "Cricket_match_india   -1.678e+04   2.82e+04     -0.595      0.554   -7.29e+04    3.94e+04\n",
            "==============================================================================\n",
            "Omnibus:                        5.430   Durbin-Watson:                   1.155\n",
            "Prob(Omnibus):                  0.066   Jarque-Bera (JB):                4.668\n",
            "Skew:                           0.501   Prob(JB):                       0.0969\n",
            "Kurtosis:                       3.631   Cond. No.                     1.54e+07\n",
            "==============================================================================\n",
            "\n",
            "Warnings:\n",
            "[1] Standard Errors assume that the covariance matrix of the errors is correctly specified.\n",
            "[2] The condition number is large, 1.54e+07. This might indicate that there are\n",
            "strong multicollinearity or other numerical problems.\n"
          ],
          "name": "stdout"
        },
        {
          "output_type": "stream",
          "text": [
            "/usr/local/lib/python3.6/dist-packages/numpy/core/fromnumeric.py:2389: FutureWarning: Method .ptp is deprecated and will be removed in a future version. Use numpy.ptp instead.\n",
            "  return ptp(axis=axis, out=out, **kwargs)\n"
          ],
          "name": "stderr"
        }
      ]
    },
    {
      "cell_type": "markdown",
      "metadata": {
        "id": "4AC9KMUBxAjP",
        "colab_type": "text"
      },
      "source": [
        "### 10th Linear Model - Character_A, Visitors, weekend, Ad impressions_million, Cricket_match_india"
      ]
    },
    {
      "cell_type": "code",
      "metadata": {
        "id": "HyORqbnxxB1R",
        "colab_type": "code",
        "outputId": "4ba746f0-9005-4c63-c760-fb0e57b5c439",
        "colab": {
          "base_uri": "https://localhost:8080/",
          "height": 538
        }
      },
      "source": [
        "dataset['Ad_impression_million'] = dataset['Ad_impression']/1000000\n",
        "X = dataset[['weekend', 'Character_A', 'Ad_impression_million']]\n",
        "y = dataset['Views_show']\n",
        "\n",
        "import statsmodels.api as sm\n",
        "X = sm.add_constant(X)\n",
        "lm_10 = sm.OLS(y,X).fit()\n",
        "print(lm_10.summary())"
      ],
      "execution_count": 0,
      "outputs": [
        {
          "output_type": "stream",
          "text": [
            "                            OLS Regression Results                            \n",
            "==============================================================================\n",
            "Dep. Variable:             Views_show   R-squared:                       0.803\n",
            "Model:                            OLS   Adj. R-squared:                  0.795\n",
            "Method:                 Least Squares   F-statistic:                     103.0\n",
            "Date:                Sat, 01 Jun 2019   Prob (F-statistic):           1.05e-26\n",
            "Time:                        20:42:02   Log-Likelihood:                -1004.2\n",
            "No. Observations:                  80   AIC:                             2016.\n",
            "Df Residuals:                      76   BIC:                             2026.\n",
            "Df Model:                           3                                         \n",
            "Covariance Type:            nonrobust                                         \n",
            "=========================================================================================\n",
            "                            coef    std err          t      P>|t|      [0.025      0.975]\n",
            "-----------------------------------------------------------------------------------------\n",
            "const                 -2.661e+05   4.74e+04     -5.609      0.000   -3.61e+05   -1.72e+05\n",
            "weekend                 1.51e+05   1.88e+04      8.019      0.000    1.14e+05    1.89e+05\n",
            "Character_A            -2.99e+04   2.14e+04     -1.394      0.167   -7.26e+04    1.28e+04\n",
            "Ad_impression_million   364.4670     36.909      9.875      0.000     290.957     437.977\n",
            "==============================================================================\n",
            "Omnibus:                        4.723   Durbin-Watson:                   1.169\n",
            "Prob(Omnibus):                  0.094   Jarque-Bera (JB):                3.939\n",
            "Skew:                           0.453   Prob(JB):                        0.139\n",
            "Kurtosis:                       3.601   Cond. No.                     9.26e+03\n",
            "==============================================================================\n",
            "\n",
            "Warnings:\n",
            "[1] Standard Errors assume that the covariance matrix of the errors is correctly specified.\n",
            "[2] The condition number is large, 9.26e+03. This might indicate that there are\n",
            "strong multicollinearity or other numerical problems.\n"
          ],
          "name": "stdout"
        },
        {
          "output_type": "stream",
          "text": [
            "/usr/local/lib/python3.6/dist-packages/numpy/core/fromnumeric.py:2389: FutureWarning: Method .ptp is deprecated and will be removed in a future version. Use numpy.ptp instead.\n",
            "  return ptp(axis=axis, out=out, **kwargs)\n"
          ],
          "name": "stderr"
        }
      ]
    },
    {
      "cell_type": "markdown",
      "metadata": {
        "id": "GP_9Cqmfxdkq",
        "colab_type": "text"
      },
      "source": [
        "### Predictions using Model 10"
      ]
    },
    {
      "cell_type": "code",
      "metadata": {
        "id": "w58jwcLMxcqQ",
        "colab_type": "code",
        "outputId": "ac5e2c64-3743-4e24-c0fa-ee6a3b17fa27",
        "colab": {
          "base_uri": "https://localhost:8080/",
          "height": 50
        }
      },
      "source": [
        "from sklearn.metrics import mean_squared_error, r2_score\n",
        "Predicted_views = lm_10.predict(X)\n",
        "mse = mean_squared_error(dataset['Views_show'], Predicted_views)\n",
        "r_squared = r2_score(dataset['Views_show'], Predicted_views)\n",
        "print(f'Mean squared error: {mse}')\n",
        "print(f'r_square_value: {r_squared}')"
      ],
      "execution_count": 0,
      "outputs": [
        {
          "output_type": "stream",
          "text": [
            "Mean squared error: 4677651616.2534075\n",
            "r_square_value: 0.802643446857565\n"
          ],
          "name": "stdout"
        }
      ]
    },
    {
      "cell_type": "code",
      "metadata": {
        "id": "4plS_Ddi64-J",
        "colab_type": "code",
        "outputId": "9b7a05b7-33bc-437c-e4ab-a2d1102c0006",
        "colab": {
          "base_uri": "https://localhost:8080/",
          "height": 333
        }
      },
      "source": [
        "# Visualization of Actual vs Predicted\n",
        "c = [i for i in range(1,81,1)]\n",
        "fig = plt.figure()\n",
        "plt.plot(c, dataset['Views_show'], color='blue', linewidth=2.5, linestyle='-')\n",
        "plt.plot(c, Predicted_views, color='red', linewidth=2.5, linestyle='-')\n",
        "fig.suptitle('Actual and Predicted', fontsize=20)\n",
        "plt.xlabel('Index', fontsize=18)\n",
        "plt.ylabel('Views', fontsize=16)"
      ],
      "execution_count": 0,
      "outputs": [
        {
          "output_type": "execute_result",
          "data": {
            "text/plain": [
              "Text(0, 0.5, 'Views')"
            ]
          },
          "metadata": {
            "tags": []
          },
          "execution_count": 70
        },
        {
          "output_type": "display_data",
          "data": {
            "image/png": "[encoded data removed]",
            "text/plain": [
              "<Figure size 432x288 with 1 Axes>"
            ]
          },
          "metadata": {
            "tags": []
          }
        }
      ]
    },
    {
      "cell_type": "code",
      "metadata": {
        "id": "ofFNhd3bS2pq",
        "colab_type": "code",
        "outputId": "433763f3-e452-47f0-9d2a-14ca26777cb8",
        "colab": {
          "base_uri": "https://localhost:8080/",
          "height": 333
        }
      },
      "source": [
        "# Visualization of Error terms\n",
        "c = [i for i in range(1,81,1)]\n",
        "fig = plt.figure()\n",
        "plt.plot(c, dataset['Views_show']-Predicted_views, color='blue', linewidth=2.5, linestyle='-')\n",
        "fig.suptitle('Error terms', fontsize=20)\n",
        "plt.xlabel('Index', fontsize=18)\n",
        "plt.ylabel('Actual-Predicted', fontsize=16)"
      ],
      "execution_count": 0,
      "outputs": [
        {
          "output_type": "execute_result",
          "data": {
            "text/plain": [
              "Text(0, 0.5, 'Actual-Predicted')"
            ]
          },
          "metadata": {
            "tags": []
          },
          "execution_count": 73
        },
        {
          "output_type": "display_data",
          "data": {
            "image/png": "[encoded data removed]",
            "text/plain": [
              "<Figure size 432x288 with 1 Axes>"
            ]
          },
          "metadata": {
            "tags": []
          }
        }
      ]
    },
    {
      "cell_type": "markdown",
      "metadata": {
        "id": "kdCLOPB_T7NN",
        "colab_type": "text"
      },
      "source": [
        "### Predictions using Model 6"
      ]
    },
    {
      "cell_type": "code",
      "metadata": {
        "id": "6K-o64NbVEBv",
        "colab_type": "code",
        "outputId": "275bdfbb-fc39-4481-d1f1-97feae6b702a",
        "colab": {
          "base_uri": "https://localhost:8080/",
          "height": 50
        }
      },
      "source": [
        "X = dataset[['weekend', 'Character_A', 'Visitors']]\n",
        "y = dataset['Views_show']\n",
        "\n",
        "import statsmodels.api as sm\n",
        "X = sm.add_constant(X)\n",
        "lm_6 = sm.OLS(y,X).fit()"
      ],
      "execution_count": 0,
      "outputs": [
        {
          "output_type": "stream",
          "text": [
            "/usr/local/lib/python3.6/dist-packages/numpy/core/fromnumeric.py:2389: FutureWarning: Method .ptp is deprecated and will be removed in a future version. Use numpy.ptp instead.\n",
            "  return ptp(axis=axis, out=out, **kwargs)\n"
          ],
          "name": "stderr"
        }
      ]
    },
    {
      "cell_type": "code",
      "metadata": {
        "id": "ADqM9j94T8Wo",
        "colab_type": "code",
        "outputId": "68d0325a-4075-4eb4-db45-2f38cfc0e791",
        "colab": {
          "base_uri": "https://localhost:8080/",
          "height": 50
        }
      },
      "source": [
        "from sklearn.metrics import mean_squared_error, r2_score\n",
        "Predicted_views = lm_6.predict(X)\n",
        "mse = mean_squared_error(dataset['Views_show'], Predicted_views)\n",
        "r_squared = r2_score(dataset['Views_show'], Predicted_views)\n",
        "print(f'Mean squared error: {mse}')\n",
        "print(f'r_square_value: {r_squared}')"
      ],
      "execution_count": 0,
      "outputs": [
        {
          "output_type": "stream",
          "text": [
            "Mean squared error: 9815432480.451523\n",
            "r_square_value: 0.585873408097934\n"
          ],
          "name": "stdout"
        }
      ]
    },
    {
      "cell_type": "code",
      "metadata": {
        "id": "shdt4zR1UTiD",
        "colab_type": "code",
        "outputId": "5e6b6ca5-f0af-4715-b389-d640eacd2382",
        "colab": {
          "base_uri": "https://localhost:8080/",
          "height": 333
        }
      },
      "source": [
        "# Visualization of Actual vs Predicted\n",
        "c = [i for i in range(1,81,1)]\n",
        "fig = plt.figure()\n",
        "plt.plot(c, dataset['Views_show'], color='blue', linewidth=2.5, linestyle='-')\n",
        "plt.plot(c, Predicted_views, color='red', linewidth=2.5, linestyle='-')\n",
        "fig.suptitle('Actual and Predicted', fontsize=20)\n",
        "plt.xlabel('Index', fontsize=18)\n",
        "plt.ylabel('Views', fontsize=16)"
      ],
      "execution_count": 0,
      "outputs": [
        {
          "output_type": "execute_result",
          "data": {
            "text/plain": [
              "Text(0, 0.5, 'Views')"
            ]
          },
          "metadata": {
            "tags": []
          },
          "execution_count": 81
        },
        {
          "output_type": "display_data",
          "data": {
            "image/png": "[encoded data removed]",
            "text/plain": [
              "<Figure size 432x288 with 1 Axes>"
            ]
          },
          "metadata": {
            "tags": []
          }
        }
      ]
    },
    {
      "cell_type": "code",
      "metadata": {
        "id": "T6ScEXQCUxxy",
        "colab_type": "code",
        "outputId": "f59cee86-a7ac-4564-d910-386ed547770a",
        "colab": {
          "base_uri": "https://localhost:8080/",
          "height": 333
        }
      },
      "source": [
        "# Visualization of Error terms\n",
        "c = [i for i in range(1,81,1)]\n",
        "fig = plt.figure()\n",
        "plt.plot(c, dataset['Views_show']-Predicted_views, color='blue', linewidth=2.5, linestyle='-')\n",
        "fig.suptitle('Error terms', fontsize=20)\n",
        "plt.xlabel('Index', fontsize=18)\n",
        "plt.ylabel('Actual-Predicted', fontsize=16)"
      ],
      "execution_count": 0,
      "outputs": [
        {
          "output_type": "execute_result",
          "data": {
            "text/plain": [
              "Text(0, 0.5, 'Actual-Predicted')"
            ]
          },
          "metadata": {
            "tags": []
          },
          "execution_count": 82
        },
        {
          "output_type": "display_data",
          "data": {
            "image/png": "[encoded data removed]",
            "text/plain": [
              "<Figure size 432x288 with 1 Axes>"
            ]
          },
          "metadata": {
            "tags": []
          }
        }
      ]
    }
  ]
}