{
  "nbformat": 4,
  "nbformat_minor": 0,
  "metadata": {
    "colab": {
      "name": "cust_intention_prediction.ipynb",
      "provenance": [],
      "collapsed_sections": []
    },
    "kernelspec": {
      "name": "python3",
      "display_name": "Python 3"
    },
    "accelerator": "GPU"
  },
  "cells": [
    {
      "cell_type": "code",
      "metadata": {
        "id": "lC9gebP4pcEU",
        "colab_type": "code",
        "outputId": "5d603bf7-732e-4960-bf10-b4bdef01de61",
        "colab": {
          "base_uri": "https://localhost:8080/",
          "height": 34
        }
      },
      "source": [
        "from google.colab import drive\n",
        "drive.mount('/content/drive')"
      ],
      "execution_count": 0,
      "outputs": [
        {
          "output_type": "stream",
          "text": [
            "Drive already mounted at /content/drive; to attempt to forcibly remount, call drive.mount(\"/content/drive\", force_remount=True).\n"
          ],
          "name": "stdout"
        }
      ]
    },
    {
      "cell_type": "code",
      "metadata": {
        "id": "BqAzAGDsptMh",
        "colab_type": "code",
        "colab": {}
      },
      "source": [
        "import os\n",
        "os.chdir('/content/drive/My Drive/Colab Notebooks/online shoppers intention')"
      ],
      "execution_count": 0,
      "outputs": []
    },
    {
      "cell_type": "code",
      "metadata": {
        "id": "MpKUqa1Cr6Vo",
        "colab_type": "code",
        "outputId": "15661522-63d9-4062-cb68-a4c92362f619",
        "colab": {
          "base_uri": "https://localhost:8080/",
          "height": 547
        }
      },
      "source": [
        "pip install feature_engine"
      ],
      "execution_count": 0,
      "outputs": [
        {
          "output_type": "stream",
          "text": [
            "Requirement already satisfied: feature_engine in /usr/local/lib/python3.6/dist-packages (0.3.1)\n",
            "Requirement already satisfied: statsmodels>=0.8.0 in /usr/local/lib/python3.6/dist-packages (from feature_engine) (0.10.2)\n",
            "Requirement already satisfied: scipy>=0.19.0 in /usr/local/lib/python3.6/dist-packages (from feature_engine) (1.4.1)\n",
            "Requirement already satisfied: pandas>=0.23.0 in /usr/local/lib/python3.6/dist-packages (from feature_engine) (0.25.3)\n",
            "Requirement already satisfied: numpy>=1.12.1 in /usr/local/lib/python3.6/dist-packages (from feature_engine) (1.17.5)\n",
            "Requirement already satisfied: scikit-learn>=0.18.1 in /usr/local/lib/python3.6/dist-packages (from feature_engine) (0.22.1)\n",
            "Requirement already satisfied: numpydoc>=0.6.0 in /usr/local/lib/python3.6/dist-packages (from feature_engine) (0.9.2)\n",
            "Requirement already satisfied: patsy>=0.4.0 in /usr/local/lib/python3.6/dist-packages (from statsmodels>=0.8.0->feature_engine) (0.5.1)\n",
            "Requirement already satisfied: pytz>=2017.2 in /usr/local/lib/python3.6/dist-packages (from pandas>=0.23.0->feature_engine) (2018.9)\n",
            "Requirement already satisfied: python-dateutil>=2.6.1 in /usr/local/lib/python3.6/dist-packages (from pandas>=0.23.0->feature_engine) (2.6.1)\n",
            "Requirement already satisfied: joblib>=0.11 in /usr/local/lib/python3.6/dist-packages (from scikit-learn>=0.18.1->feature_engine) (0.14.1)\n",
            "Requirement already satisfied: Jinja2>=2.3 in /usr/local/lib/python3.6/dist-packages (from numpydoc>=0.6.0->feature_engine) (2.11.1)\n",
            "Requirement already satisfied: sphinx>=1.6.5 in /usr/local/lib/python3.6/dist-packages (from numpydoc>=0.6.0->feature_engine) (1.8.5)\n",
            "Requirement already satisfied: six in /usr/local/lib/python3.6/dist-packages (from patsy>=0.4.0->statsmodels>=0.8.0->feature_engine) (1.12.0)\n",
            "Requirement already satisfied: MarkupSafe>=0.23 in /usr/local/lib/python3.6/dist-packages (from Jinja2>=2.3->numpydoc>=0.6.0->feature_engine) (1.1.1)\n",
            "Requirement already satisfied: babel!=2.0,>=1.3 in /usr/local/lib/python3.6/dist-packages (from sphinx>=1.6.5->numpydoc>=0.6.0->feature_engine) (2.8.0)\n",
            "Requirement already satisfied: alabaster<0.8,>=0.7 in /usr/local/lib/python3.6/dist-packages (from sphinx>=1.6.5->numpydoc>=0.6.0->feature_engine) (0.7.12)\n",
            "Requirement already satisfied: packaging in /usr/local/lib/python3.6/dist-packages (from sphinx>=1.6.5->numpydoc>=0.6.0->feature_engine) (20.1)\n",
            "Requirement already satisfied: sphinxcontrib-websupport in /usr/local/lib/python3.6/dist-packages (from sphinx>=1.6.5->numpydoc>=0.6.0->feature_engine) (1.2.0)\n",
            "Requirement already satisfied: docutils>=0.11 in /usr/local/lib/python3.6/dist-packages (from sphinx>=1.6.5->numpydoc>=0.6.0->feature_engine) (0.15.2)\n",
            "Requirement already satisfied: snowballstemmer>=1.1 in /usr/local/lib/python3.6/dist-packages (from sphinx>=1.6.5->numpydoc>=0.6.0->feature_engine) (2.0.0)\n",
            "Requirement already satisfied: requests>=2.0.0 in /usr/local/lib/python3.6/dist-packages (from sphinx>=1.6.5->numpydoc>=0.6.0->feature_engine) (2.21.0)\n",
            "Requirement already satisfied: Pygments>=2.0 in /usr/local/lib/python3.6/dist-packages (from sphinx>=1.6.5->numpydoc>=0.6.0->feature_engine) (2.1.3)\n",
            "Requirement already satisfied: setuptools in /usr/local/lib/python3.6/dist-packages (from sphinx>=1.6.5->numpydoc>=0.6.0->feature_engine) (45.1.0)\n",
            "Requirement already satisfied: imagesize in /usr/local/lib/python3.6/dist-packages (from sphinx>=1.6.5->numpydoc>=0.6.0->feature_engine) (1.2.0)\n",
            "Requirement already satisfied: pyparsing>=2.0.2 in /usr/local/lib/python3.6/dist-packages (from packaging->sphinx>=1.6.5->numpydoc>=0.6.0->feature_engine) (2.4.6)\n",
            "Requirement already satisfied: certifi>=2017.4.17 in /usr/local/lib/python3.6/dist-packages (from requests>=2.0.0->sphinx>=1.6.5->numpydoc>=0.6.0->feature_engine) (2019.11.28)\n",
            "Requirement already satisfied: idna<2.9,>=2.5 in /usr/local/lib/python3.6/dist-packages (from requests>=2.0.0->sphinx>=1.6.5->numpydoc>=0.6.0->feature_engine) (2.8)\n",
            "Requirement already satisfied: chardet<3.1.0,>=3.0.2 in /usr/local/lib/python3.6/dist-packages (from requests>=2.0.0->sphinx>=1.6.5->numpydoc>=0.6.0->feature_engine) (3.0.4)\n",
            "Requirement already satisfied: urllib3<1.25,>=1.21.1 in /usr/local/lib/python3.6/dist-packages (from requests>=2.0.0->sphinx>=1.6.5->numpydoc>=0.6.0->feature_engine) (1.24.3)\n"
          ],
          "name": "stdout"
        }
      ]
    },
    {
      "cell_type": "code",
      "metadata": {
        "id": "z3KvDoxxVAxH",
        "colab_type": "code",
        "outputId": "31e744fd-944b-4bfe-b9c4-f0c801be2771",
        "colab": {
          "base_uri": "https://localhost:8080/",
          "height": 136
        }
      },
      "source": [
        "pip install scikit-optimize"
      ],
      "execution_count": 0,
      "outputs": [
        {
          "output_type": "stream",
          "text": [
            "Requirement already satisfied: scikit-optimize in /usr/local/lib/python3.6/dist-packages (0.7.2)\n",
            "Requirement already satisfied: scipy>=0.14.0 in /usr/local/lib/python3.6/dist-packages (from scikit-optimize) (1.4.1)\n",
            "Requirement already satisfied: pyaml in /usr/local/lib/python3.6/dist-packages (from scikit-optimize) (19.12.0)\n",
            "Requirement already satisfied: joblib in /usr/local/lib/python3.6/dist-packages (from scikit-optimize) (0.14.1)\n",
            "Requirement already satisfied: scikit-learn>=0.19.1 in /usr/local/lib/python3.6/dist-packages (from scikit-optimize) (0.22.1)\n",
            "Requirement already satisfied: numpy in /usr/local/lib/python3.6/dist-packages (from scikit-optimize) (1.17.5)\n",
            "Requirement already satisfied: PyYAML in /usr/local/lib/python3.6/dist-packages (from pyaml->scikit-optimize) (3.13)\n"
          ],
          "name": "stdout"
        }
      ]
    },
    {
      "cell_type": "code",
      "metadata": {
        "id": "Tqqw_5pUo_B_",
        "colab_type": "code",
        "colab": {}
      },
      "source": [
        "import pandas as pd\n",
        "import numpy as np\n",
        "import matplotlib.pyplot as plt\n",
        "\n",
        "# for the model\n",
        "from sklearn.model_selection import train_test_split\n",
        "from sklearn.ensemble import GradientBoostingClassifier\n",
        "from sklearn.linear_model import LogisticRegression\n",
        "from sklearn.metrics import roc_auc_score\n",
        "from sklearn.pipeline import Pipeline\n",
        "from feature_engine import missing_data_imputers as mdi\n",
        "from feature_engine import discretisers as dsc\n",
        "from feature_engine import categorical_encoders as ce\n",
        "from sklearn.metrics import roc_curve\n",
        "from sklearn.metrics  import confusion_matrix as cm\n",
        "from sklearn.metrics import classification_report as cr\n",
        "from sklearn.utils import resample\n",
        "from skopt import BayesSearchCV\n",
        "from skopt.space import Real, Categorical, Integer\n",
        "from xgboost import XGBClassifier as XGB"
      ],
      "execution_count": 0,
      "outputs": []
    },
    {
      "cell_type": "code",
      "metadata": {
        "id": "OwU-hnMdpa8s",
        "colab_type": "code",
        "colab": {}
      },
      "source": [
        "dataset = pd.read_csv('online_shoppers_intention.csv')"
      ],
      "execution_count": 0,
      "outputs": []
    },
    {
      "cell_type": "code",
      "metadata": {
        "id": "8_Q1-rjapa44",
        "colab_type": "code",
        "outputId": "1f67fffe-0629-4b24-e447-cb766f61e6c9",
        "colab": {
          "base_uri": "https://localhost:8080/",
          "height": 224
        }
      },
      "source": [
        "dataset.head()"
      ],
      "execution_count": 0,
      "outputs": [
        {
          "output_type": "execute_result",
          "data": {
            "text/html": [
              "<div>\n",
              "<style scoped>\n",
              "    .dataframe tbody tr th:only-of-type {\n",
              "        vertical-align: middle;\n",
              "    }\n",
              "\n",
              "    .dataframe tbody tr th {\n",
              "        vertical-align: top;\n",
              "    }\n",
              "\n",
              "    .dataframe thead th {\n",
              "        text-align: right;\n",
              "    }\n",
              "</style>\n",
              "<table border=\"1\" class=\"dataframe\">\n",
              "  <thead>\n",
              "    <tr style=\"text-align: right;\">\n",
              "      <th></th>\n",
              "      <th>Administrative</th>\n",
              "      <th>Administrative_Duration</th>\n",
              "      <th>Informational</th>\n",
              "      <th>Informational_Duration</th>\n",
              "      <th>ProductRelated</th>\n",
              "      <th>ProductRelated_Duration</th>\n",
              "      <th>BounceRates</th>\n",
              "      <th>ExitRates</th>\n",
              "      <th>PageValues</th>\n",
              "      <th>SpecialDay</th>\n",
              "      <th>Month</th>\n",
              "      <th>OperatingSystems</th>\n",
              "      <th>Browser</th>\n",
              "      <th>Region</th>\n",
              "      <th>TrafficType</th>\n",
              "      <th>VisitorType</th>\n",
              "      <th>Weekend</th>\n",
              "      <th>Revenue</th>\n",
              "    </tr>\n",
              "  </thead>\n",
              "  <tbody>\n",
              "    <tr>\n",
              "      <th>0</th>\n",
              "      <td>0</td>\n",
              "      <td>0.0</td>\n",
              "      <td>0</td>\n",
              "      <td>0.0</td>\n",
              "      <td>1</td>\n",
              "      <td>0.000000</td>\n",
              "      <td>0.20</td>\n",
              "      <td>0.20</td>\n",
              "      <td>0.0</td>\n",
              "      <td>0.0</td>\n",
              "      <td>Feb</td>\n",
              "      <td>1</td>\n",
              "      <td>1</td>\n",
              "      <td>1</td>\n",
              "      <td>1</td>\n",
              "      <td>Returning_Visitor</td>\n",
              "      <td>False</td>\n",
              "      <td>False</td>\n",
              "    </tr>\n",
              "    <tr>\n",
              "      <th>1</th>\n",
              "      <td>0</td>\n",
              "      <td>0.0</td>\n",
              "      <td>0</td>\n",
              "      <td>0.0</td>\n",
              "      <td>2</td>\n",
              "      <td>64.000000</td>\n",
              "      <td>0.00</td>\n",
              "      <td>0.10</td>\n",
              "      <td>0.0</td>\n",
              "      <td>0.0</td>\n",
              "      <td>Feb</td>\n",
              "      <td>2</td>\n",
              "      <td>2</td>\n",
              "      <td>1</td>\n",
              "      <td>2</td>\n",
              "      <td>Returning_Visitor</td>\n",
              "      <td>False</td>\n",
              "      <td>False</td>\n",
              "    </tr>\n",
              "    <tr>\n",
              "      <th>2</th>\n",
              "      <td>0</td>\n",
              "      <td>0.0</td>\n",
              "      <td>0</td>\n",
              "      <td>0.0</td>\n",
              "      <td>1</td>\n",
              "      <td>0.000000</td>\n",
              "      <td>0.20</td>\n",
              "      <td>0.20</td>\n",
              "      <td>0.0</td>\n",
              "      <td>0.0</td>\n",
              "      <td>Feb</td>\n",
              "      <td>4</td>\n",
              "      <td>1</td>\n",
              "      <td>9</td>\n",
              "      <td>3</td>\n",
              "      <td>Returning_Visitor</td>\n",
              "      <td>False</td>\n",
              "      <td>False</td>\n",
              "    </tr>\n",
              "    <tr>\n",
              "      <th>3</th>\n",
              "      <td>0</td>\n",
              "      <td>0.0</td>\n",
              "      <td>0</td>\n",
              "      <td>0.0</td>\n",
              "      <td>2</td>\n",
              "      <td>2.666667</td>\n",
              "      <td>0.05</td>\n",
              "      <td>0.14</td>\n",
              "      <td>0.0</td>\n",
              "      <td>0.0</td>\n",
              "      <td>Feb</td>\n",
              "      <td>3</td>\n",
              "      <td>2</td>\n",
              "      <td>2</td>\n",
              "      <td>4</td>\n",
              "      <td>Returning_Visitor</td>\n",
              "      <td>False</td>\n",
              "      <td>False</td>\n",
              "    </tr>\n",
              "    <tr>\n",
              "      <th>4</th>\n",
              "      <td>0</td>\n",
              "      <td>0.0</td>\n",
              "      <td>0</td>\n",
              "      <td>0.0</td>\n",
              "      <td>10</td>\n",
              "      <td>627.500000</td>\n",
              "      <td>0.02</td>\n",
              "      <td>0.05</td>\n",
              "      <td>0.0</td>\n",
              "      <td>0.0</td>\n",
              "      <td>Feb</td>\n",
              "      <td>3</td>\n",
              "      <td>3</td>\n",
              "      <td>1</td>\n",
              "      <td>4</td>\n",
              "      <td>Returning_Visitor</td>\n",
              "      <td>True</td>\n",
              "      <td>False</td>\n",
              "    </tr>\n",
              "  </tbody>\n",
              "</table>\n",
              "</div>"
            ],
            "text/plain": [
              "   Administrative  Administrative_Duration  ...  Weekend  Revenue\n",
              "0               0                      0.0  ...    False    False\n",
              "1               0                      0.0  ...    False    False\n",
              "2               0                      0.0  ...    False    False\n",
              "3               0                      0.0  ...    False    False\n",
              "4               0                      0.0  ...     True    False\n",
              "\n",
              "[5 rows x 18 columns]"
            ]
          },
          "metadata": {
            "tags": []
          },
          "execution_count": 7
        }
      ]
    },
    {
      "cell_type": "code",
      "metadata": {
        "id": "f-CjM8xtqByi",
        "colab_type": "code",
        "outputId": "8559fc96-437a-4ef6-c797-43a93397ebc0",
        "colab": {
          "base_uri": "https://localhost:8080/",
          "height": 340
        }
      },
      "source": [
        "dataset.dtypes"
      ],
      "execution_count": 0,
      "outputs": [
        {
          "output_type": "execute_result",
          "data": {
            "text/plain": [
              "Administrative               int64\n",
              "Administrative_Duration    float64\n",
              "Informational                int64\n",
              "Informational_Duration     float64\n",
              "ProductRelated               int64\n",
              "ProductRelated_Duration    float64\n",
              "BounceRates                float64\n",
              "ExitRates                  float64\n",
              "PageValues                 float64\n",
              "SpecialDay                 float64\n",
              "Month                       object\n",
              "OperatingSystems             int64\n",
              "Browser                      int64\n",
              "Region                       int64\n",
              "TrafficType                  int64\n",
              "VisitorType                 object\n",
              "Weekend                       bool\n",
              "Revenue                       bool\n",
              "dtype: object"
            ]
          },
          "metadata": {
            "tags": []
          },
          "execution_count": 8
        }
      ]
    },
    {
      "cell_type": "code",
      "metadata": {
        "id": "clkl7zxlqBwX",
        "colab_type": "code",
        "outputId": "dcb64134-0166-4722-f4ab-5ff33bcd0a4e",
        "colab": {
          "base_uri": "https://localhost:8080/",
          "height": 1000
        }
      },
      "source": [
        "for var in dataset.columns:\n",
        "    print(var, dataset[var].unique()[0:30], '\\n')"
      ],
      "execution_count": 0,
      "outputs": [
        {
          "output_type": "stream",
          "text": [
            "Administrative [ 0  1  2  4 12  3 10  6  5  9  8 16 13 11  7 18 14 17 19 15 24 22 21 20\n",
            " 23 27 26] \n",
            "\n",
            "Administrative_Duration [   0.           53.           64.6           6.           18.\n",
            "    9.           56.           16.          279.4166667    87.83333333\n",
            "   44.         1005.666667     36.           18.33333333   61.\n",
            "   31.           58.5         326.25         22.          462.\n",
            "   20.          111.5         103.625        19.           58.\n",
            "    9.5          41.3          87.          293.7782051    47.        ] \n",
            "\n",
            "Informational [ 0  1  2  4 16  5  3 14  6 12  7  9 10  8 11 24 13] \n",
            "\n",
            "Informational_Duration [   0.          120.           16.           94.           93.\n",
            "   75.           19.           22.         1210.397619    153.\n",
            "   48.5          51.            3.          144.          125.\n",
            "  127.          261.          306.3333333    84.          740.\n",
            "  303.25         21.5        1220.          235.          100.\n",
            "   64.           47.          205.           70.           14.33333333] \n",
            "\n",
            "ProductRelated [ 1  2 10 19  0  3 16  7  6 23 13 20  8  5 32  4 45 14 52  9 46 15 22 11\n",
            " 12 36 42 27 90 18] \n",
            "\n",
            "ProductRelated_Duration [0.00000000e+00 6.40000000e+01 2.66666667e+00 6.27500000e+02\n",
            " 1.54216667e+02 3.70000000e+01 7.38000000e+02 3.95000000e+02\n",
            " 4.07750000e+02 2.80500000e+02 9.80000000e+01 6.80000000e+01\n",
            " 1.66828512e+03 3.34966667e+02 3.20000000e+01 2.98116667e+03\n",
            " 1.36166667e+02 1.05000000e+02 1.50000000e+01 1.56000000e+02\n",
            " 1.13544444e+03 7.60000000e+01 6.30000000e+01 1.58275000e+03\n",
            " 3.50000000e+01 7.80000000e+01 2.09500000e+02 1.83666667e+02\n",
            " 3.80500000e+02 2.08624286e+03] \n",
            "\n",
            "BounceRates [0.2        0.         0.05       0.02       0.01578947 0.01875\n",
            " 0.00833333 0.00285714 0.04347826 0.04       0.01428571 0.01538462\n",
            " 0.025      0.02857143 0.0030303  0.01714286 0.06666667 0.01111111\n",
            " 0.01176471 0.009      0.00215054 0.00434783 0.01666667 0.05714286\n",
            " 0.0037037  0.03809524 0.00416667 0.00705882 0.15       0.04444444] \n",
            "\n",
            "ExitRates [0.2        0.1        0.14       0.05       0.0245614  0.02222222\n",
            " 0.06666667 0.02583333 0.02857143 0.01631264 0.00769231 0.01\n",
            " 0.00833333 0.03333333 0.04       0.00952381 0.05082126 0.025\n",
            " 0.08       0.02035256 0.05625    0.07142857 0.00179487 0.00666667\n",
            " 0.00606061 0.05714286 0.13333333 0.00363636 0.02611111 0.075     ] \n",
            "\n",
            "PageValues [  0.          54.17976426  19.44707913  38.30849268  22.9160357\n",
            "  11.43941195  17.53595893   8.00074074   1.70601497  46.53017511\n",
            "  19.34265017 109.176       96.25511582 153.4432478   33.79956701\n",
            "  35.0928      17.76266667   7.14626089  22.03276923   4.36851556\n",
            "   8.77247312  51.46331148  38.99        53.9892       6.83179239\n",
            "  44.67925     59.79014286   7.10302083  19.66818546   9.22700097] \n",
            "\n",
            "SpecialDay [0.  0.4 0.8 1.  0.2 0.6] \n",
            "\n",
            "Month ['Feb' 'Mar' 'May' 'Oct' 'June' 'Jul' 'Aug' 'Nov' 'Sep' 'Dec'] \n",
            "\n",
            "OperatingSystems [1 2 4 3 7 6 8 5] \n",
            "\n",
            "Browser [ 1  2  3  4  5  6  7 10  8  9 12 13 11] \n",
            "\n",
            "Region [1 9 2 3 4 5 6 7 8] \n",
            "\n",
            "TrafficType [ 1  2  3  4  5  6  7  8  9 10 11 12 13 14 15 18 19 16 17 20] \n",
            "\n",
            "VisitorType ['Returning_Visitor' 'New_Visitor' 'Other'] \n",
            "\n",
            "Weekend [False  True] \n",
            "\n",
            "Revenue [False  True] \n",
            "\n"
          ],
          "name": "stdout"
        }
      ]
    },
    {
      "cell_type": "code",
      "metadata": {
        "id": "qKfKpnVUqBuX",
        "colab_type": "code",
        "outputId": "febef2d1-5f6f-4545-ea32-f687df223b87",
        "colab": {
          "base_uri": "https://localhost:8080/",
          "height": 68
        }
      },
      "source": [
        "discrete_cols = [var for var in dataset.columns if dataset[var].dtype!='O' and var!='Revenue' and dataset[var].nunique()<25]\n",
        "continuous_cols = [var for var in dataset.columns if dataset[var].dtype!='O' and var!='Revenue' and var not in discrete_cols]\n",
        "\n",
        "categorical_cols = [var for var in dataset.columns if dataset[var].dtype=='O']\n",
        "\n",
        "print('There are {} discrete variables'.format(len(discrete_cols)))\n",
        "print('There are {} continuous variables'.format(len(continuous_cols)))\n",
        "print('There are {} categorical variables'.format(len(categorical_cols)))"
      ],
      "execution_count": 0,
      "outputs": [
        {
          "output_type": "stream",
          "text": [
            "There are 7 discrete variables\n",
            "There are 8 continuous variables\n",
            "There are 2 categorical variables\n"
          ],
          "name": "stdout"
        }
      ]
    },
    {
      "cell_type": "code",
      "metadata": {
        "id": "Q2CRNkxiqBsS",
        "colab_type": "code",
        "outputId": "54f9a30e-bf93-40c0-fda9-b57faa7f9e34",
        "colab": {
          "base_uri": "https://localhost:8080/",
          "height": 136
        }
      },
      "source": [
        "discrete_cols"
      ],
      "execution_count": 0,
      "outputs": [
        {
          "output_type": "execute_result",
          "data": {
            "text/plain": [
              "['Informational',\n",
              " 'SpecialDay',\n",
              " 'OperatingSystems',\n",
              " 'Browser',\n",
              " 'Region',\n",
              " 'TrafficType',\n",
              " 'Weekend']"
            ]
          },
          "metadata": {
            "tags": []
          },
          "execution_count": 11
        }
      ]
    },
    {
      "cell_type": "code",
      "metadata": {
        "id": "tc1N2eohqBqr",
        "colab_type": "code",
        "outputId": "93fb6f9b-3cf3-43eb-91c2-607a65e0c0ed",
        "colab": {
          "base_uri": "https://localhost:8080/",
          "height": 153
        }
      },
      "source": [
        "continuous_cols"
      ],
      "execution_count": 0,
      "outputs": [
        {
          "output_type": "execute_result",
          "data": {
            "text/plain": [
              "['Administrative',\n",
              " 'Administrative_Duration',\n",
              " 'Informational_Duration',\n",
              " 'ProductRelated',\n",
              " 'ProductRelated_Duration',\n",
              " 'BounceRates',\n",
              " 'ExitRates',\n",
              " 'PageValues']"
            ]
          },
          "metadata": {
            "tags": []
          },
          "execution_count": 12
        }
      ]
    },
    {
      "cell_type": "code",
      "metadata": {
        "id": "hAchMQPAqBot",
        "colab_type": "code",
        "outputId": "296afcba-d8c9-449c-9ad4-ee5644446308",
        "colab": {
          "base_uri": "https://localhost:8080/",
          "height": 34
        }
      },
      "source": [
        "categorical_cols"
      ],
      "execution_count": 0,
      "outputs": [
        {
          "output_type": "execute_result",
          "data": {
            "text/plain": [
              "['Month', 'VisitorType']"
            ]
          },
          "metadata": {
            "tags": []
          },
          "execution_count": 13
        }
      ]
    },
    {
      "cell_type": "code",
      "metadata": {
        "id": "H6wiRK2TqBkt",
        "colab_type": "code",
        "outputId": "e636e990-9114-41b0-dfad-f39899c73bf5",
        "colab": {
          "base_uri": "https://localhost:8080/",
          "height": 153
        }
      },
      "source": [
        "continuous_cols"
      ],
      "execution_count": 0,
      "outputs": [
        {
          "output_type": "execute_result",
          "data": {
            "text/plain": [
              "['Administrative',\n",
              " 'Administrative_Duration',\n",
              " 'Informational_Duration',\n",
              " 'ProductRelated',\n",
              " 'ProductRelated_Duration',\n",
              " 'BounceRates',\n",
              " 'ExitRates',\n",
              " 'PageValues']"
            ]
          },
          "metadata": {
            "tags": []
          },
          "execution_count": 14
        }
      ]
    },
    {
      "cell_type": "code",
      "metadata": {
        "id": "vs5075tMLN4u",
        "colab_type": "code",
        "outputId": "cc7d7844-1eba-4b84-92f0-d8bb6c616d15",
        "colab": {
          "base_uri": "https://localhost:8080/",
          "height": 34
        }
      },
      "source": [
        "categorical_cols"
      ],
      "execution_count": 0,
      "outputs": [
        {
          "output_type": "execute_result",
          "data": {
            "text/plain": [
              "['Month', 'VisitorType']"
            ]
          },
          "metadata": {
            "tags": []
          },
          "execution_count": 15
        }
      ]
    },
    {
      "cell_type": "code",
      "metadata": {
        "id": "XLfvQmnMLOAZ",
        "colab_type": "code",
        "outputId": "c00ac2ea-8d95-4620-f635-59579449a599",
        "colab": {
          "base_uri": "https://localhost:8080/",
          "height": 340
        }
      },
      "source": [
        "dataset.isnull().mean()"
      ],
      "execution_count": 0,
      "outputs": [
        {
          "output_type": "execute_result",
          "data": {
            "text/plain": [
              "Administrative             0.0\n",
              "Administrative_Duration    0.0\n",
              "Informational              0.0\n",
              "Informational_Duration     0.0\n",
              "ProductRelated             0.0\n",
              "ProductRelated_Duration    0.0\n",
              "BounceRates                0.0\n",
              "ExitRates                  0.0\n",
              "PageValues                 0.0\n",
              "SpecialDay                 0.0\n",
              "Month                      0.0\n",
              "OperatingSystems           0.0\n",
              "Browser                    0.0\n",
              "Region                     0.0\n",
              "TrafficType                0.0\n",
              "VisitorType                0.0\n",
              "Weekend                    0.0\n",
              "Revenue                    0.0\n",
              "dtype: float64"
            ]
          },
          "metadata": {
            "tags": []
          },
          "execution_count": 16
        }
      ]
    },
    {
      "cell_type": "code",
      "metadata": {
        "id": "aF0NT-6iLODc",
        "colab_type": "code",
        "outputId": "7346f6c2-4840-4b5e-829c-9eba55d1c891",
        "colab": {
          "base_uri": "https://localhost:8080/",
          "height": 68
        }
      },
      "source": [
        "dataset[categorical_cols].nunique()"
      ],
      "execution_count": 0,
      "outputs": [
        {
          "output_type": "execute_result",
          "data": {
            "text/plain": [
              "Month          10\n",
              "VisitorType     3\n",
              "dtype: int64"
            ]
          },
          "metadata": {
            "tags": []
          },
          "execution_count": 17
        }
      ]
    },
    {
      "cell_type": "code",
      "metadata": {
        "id": "q0mbCxw8LOGU",
        "colab_type": "code",
        "outputId": "7ae8c654-cb3d-40a3-fb35-fdfbb69ee554",
        "colab": {
          "base_uri": "https://localhost:8080/",
          "height": 283
        }
      },
      "source": [
        "dataset[continuous_cols].boxplot(figsize=(10,4))"
      ],
      "execution_count": 0,
      "outputs": [
        {
          "output_type": "execute_result",
          "data": {
            "text/plain": [
              "<matplotlib.axes._subplots.AxesSubplot at 0x7f8ae6ebc4e0>"
            ]
          },
          "metadata": {
            "tags": []
          },
          "execution_count": 18
        },
        {
          "output_type": "display_data",
          "data": {
            "image/png": "[encoded data removed]",
            "text/plain": [
              "<Figure size 720x288 with 1 Axes>"
            ]
          },
          "metadata": {
            "tags": []
          }
        }
      ]
    },
    {
      "cell_type": "code",
      "metadata": {
        "id": "LBaZ7csGLN19",
        "colab_type": "code",
        "outputId": "058b3468-28f0-4a04-dc4a-9ef74d97cf16",
        "colab": {
          "base_uri": "https://localhost:8080/",
          "height": 283
        }
      },
      "source": [
        "dataset[['ProductRelated_Duration']].boxplot(figsize=(10,4))"
      ],
      "execution_count": 0,
      "outputs": [
        {
          "output_type": "execute_result",
          "data": {
            "text/plain": [
              "<matplotlib.axes._subplots.AxesSubplot at 0x7f8ae68d2978>"
            ]
          },
          "metadata": {
            "tags": []
          },
          "execution_count": 19
        },
        {
          "output_type": "display_data",
          "data": {
            "image/png": "[encoded data removed]",
            "text/plain": [
              "<Figure size 720x288 with 1 Axes>"
            ]
          },
          "metadata": {
            "tags": []
          }
        }
      ]
    },
    {
      "cell_type": "code",
      "metadata": {
        "id": "jzTXK269RmWl",
        "colab_type": "code",
        "outputId": "d7dce2b5-61cf-4f4b-de13-31f7f1ad7a7c",
        "colab": {
          "base_uri": "https://localhost:8080/",
          "height": 221
        }
      },
      "source": [
        "dataset['ProductRelated_Duration'].value_counts()"
      ],
      "execution_count": 0,
      "outputs": [
        {
          "output_type": "execute_result",
          "data": {
            "text/plain": [
              "0.000000       755\n",
              "17.000000       21\n",
              "8.000000        17\n",
              "11.000000       17\n",
              "15.000000       16\n",
              "              ... \n",
              "6560.007540      1\n",
              "821.893333       1\n",
              "2004.500000      1\n",
              "266.500000       1\n",
              "1919.550000      1\n",
              "Name: ProductRelated_Duration, Length: 9551, dtype: int64"
            ]
          },
          "metadata": {
            "tags": []
          },
          "execution_count": 20
        }
      ]
    },
    {
      "cell_type": "code",
      "metadata": {
        "id": "kLbe5W5wP9HJ",
        "colab_type": "code",
        "outputId": "fad72de1-929c-40f8-9fed-2d82e31f43d2",
        "colab": {
          "base_uri": "https://localhost:8080/",
          "height": 285
        }
      },
      "source": [
        "dataset[discrete_cols].boxplot(figsize=(10,4))"
      ],
      "execution_count": 0,
      "outputs": [
        {
          "output_type": "execute_result",
          "data": {
            "text/plain": [
              "<matplotlib.axes._subplots.AxesSubplot at 0x7f8ae68b7cc0>"
            ]
          },
          "metadata": {
            "tags": []
          },
          "execution_count": 21
        },
        {
          "output_type": "display_data",
          "data": {
            "image/png": "[encoded data removed]",
            "text/plain": [
              "<Figure size 720x288 with 1 Axes>"
            ]
          },
          "metadata": {
            "tags": []
          }
        }
      ]
    },
    {
      "cell_type": "code",
      "metadata": {
        "id": "90IRCXePQq49",
        "colab_type": "code",
        "outputId": "29546f8f-4e57-4359-baca-7e6a7746dcab",
        "colab": {
          "base_uri": "https://localhost:8080/",
          "height": 323
        }
      },
      "source": [
        "dataset['Informational'].value_counts()"
      ],
      "execution_count": 0,
      "outputs": [
        {
          "output_type": "execute_result",
          "data": {
            "text/plain": [
              "0     9699\n",
              "1     1041\n",
              "2      728\n",
              "3      380\n",
              "4      222\n",
              "5       99\n",
              "6       78\n",
              "7       36\n",
              "9       15\n",
              "8       14\n",
              "10       7\n",
              "12       5\n",
              "14       2\n",
              "11       1\n",
              "13       1\n",
              "24       1\n",
              "16       1\n",
              "Name: Informational, dtype: int64"
            ]
          },
          "metadata": {
            "tags": []
          },
          "execution_count": 22
        }
      ]
    },
    {
      "cell_type": "code",
      "metadata": {
        "id": "uC3PrBEPQq1_",
        "colab_type": "code",
        "outputId": "9f39d1bd-92fc-41d7-ab8d-90c65b8f4011",
        "colab": {
          "base_uri": "https://localhost:8080/",
          "height": 317
        }
      },
      "source": [
        "dataset.describe()"
      ],
      "execution_count": 0,
      "outputs": [
        {
          "output_type": "execute_result",
          "data": {
            "text/html": [
              "<div>\n",
              "<style scoped>\n",
              "    .dataframe tbody tr th:only-of-type {\n",
              "        vertical-align: middle;\n",
              "    }\n",
              "\n",
              "    .dataframe tbody tr th {\n",
              "        vertical-align: top;\n",
              "    }\n",
              "\n",
              "    .dataframe thead th {\n",
              "        text-align: right;\n",
              "    }\n",
              "</style>\n",
              "<table border=\"1\" class=\"dataframe\">\n",
              "  <thead>\n",
              "    <tr style=\"text-align: right;\">\n",
              "      <th></th>\n",
              "      <th>Administrative</th>\n",
              "      <th>Administrative_Duration</th>\n",
              "      <th>Informational</th>\n",
              "      <th>Informational_Duration</th>\n",
              "      <th>ProductRelated</th>\n",
              "      <th>ProductRelated_Duration</th>\n",
              "      <th>BounceRates</th>\n",
              "      <th>ExitRates</th>\n",
              "      <th>PageValues</th>\n",
              "      <th>SpecialDay</th>\n",
              "      <th>OperatingSystems</th>\n",
              "      <th>Browser</th>\n",
              "      <th>Region</th>\n",
              "      <th>TrafficType</th>\n",
              "    </tr>\n",
              "  </thead>\n",
              "  <tbody>\n",
              "    <tr>\n",
              "      <th>count</th>\n",
              "      <td>12330.000000</td>\n",
              "      <td>12330.000000</td>\n",
              "      <td>12330.000000</td>\n",
              "      <td>12330.000000</td>\n",
              "      <td>12330.000000</td>\n",
              "      <td>12330.000000</td>\n",
              "      <td>12330.000000</td>\n",
              "      <td>12330.000000</td>\n",
              "      <td>12330.000000</td>\n",
              "      <td>12330.000000</td>\n",
              "      <td>12330.000000</td>\n",
              "      <td>12330.000000</td>\n",
              "      <td>12330.000000</td>\n",
              "      <td>12330.000000</td>\n",
              "    </tr>\n",
              "    <tr>\n",
              "      <th>mean</th>\n",
              "      <td>2.315166</td>\n",
              "      <td>80.818611</td>\n",
              "      <td>0.503569</td>\n",
              "      <td>34.472398</td>\n",
              "      <td>31.731468</td>\n",
              "      <td>1194.746220</td>\n",
              "      <td>0.022191</td>\n",
              "      <td>0.043073</td>\n",
              "      <td>5.889258</td>\n",
              "      <td>0.061427</td>\n",
              "      <td>2.124006</td>\n",
              "      <td>2.357097</td>\n",
              "      <td>3.147364</td>\n",
              "      <td>4.069586</td>\n",
              "    </tr>\n",
              "    <tr>\n",
              "      <th>std</th>\n",
              "      <td>3.321784</td>\n",
              "      <td>176.779107</td>\n",
              "      <td>1.270156</td>\n",
              "      <td>140.749294</td>\n",
              "      <td>44.475503</td>\n",
              "      <td>1913.669288</td>\n",
              "      <td>0.048488</td>\n",
              "      <td>0.048597</td>\n",
              "      <td>18.568437</td>\n",
              "      <td>0.198917</td>\n",
              "      <td>0.911325</td>\n",
              "      <td>1.717277</td>\n",
              "      <td>2.401591</td>\n",
              "      <td>4.025169</td>\n",
              "    </tr>\n",
              "    <tr>\n",
              "      <th>min</th>\n",
              "      <td>0.000000</td>\n",
              "      <td>0.000000</td>\n",
              "      <td>0.000000</td>\n",
              "      <td>0.000000</td>\n",
              "      <td>0.000000</td>\n",
              "      <td>0.000000</td>\n",
              "      <td>0.000000</td>\n",
              "      <td>0.000000</td>\n",
              "      <td>0.000000</td>\n",
              "      <td>0.000000</td>\n",
              "      <td>1.000000</td>\n",
              "      <td>1.000000</td>\n",
              "      <td>1.000000</td>\n",
              "      <td>1.000000</td>\n",
              "    </tr>\n",
              "    <tr>\n",
              "      <th>25%</th>\n",
              "      <td>0.000000</td>\n",
              "      <td>0.000000</td>\n",
              "      <td>0.000000</td>\n",
              "      <td>0.000000</td>\n",
              "      <td>7.000000</td>\n",
              "      <td>184.137500</td>\n",
              "      <td>0.000000</td>\n",
              "      <td>0.014286</td>\n",
              "      <td>0.000000</td>\n",
              "      <td>0.000000</td>\n",
              "      <td>2.000000</td>\n",
              "      <td>2.000000</td>\n",
              "      <td>1.000000</td>\n",
              "      <td>2.000000</td>\n",
              "    </tr>\n",
              "    <tr>\n",
              "      <th>50%</th>\n",
              "      <td>1.000000</td>\n",
              "      <td>7.500000</td>\n",
              "      <td>0.000000</td>\n",
              "      <td>0.000000</td>\n",
              "      <td>18.000000</td>\n",
              "      <td>598.936905</td>\n",
              "      <td>0.003112</td>\n",
              "      <td>0.025156</td>\n",
              "      <td>0.000000</td>\n",
              "      <td>0.000000</td>\n",
              "      <td>2.000000</td>\n",
              "      <td>2.000000</td>\n",
              "      <td>3.000000</td>\n",
              "      <td>2.000000</td>\n",
              "    </tr>\n",
              "    <tr>\n",
              "      <th>75%</th>\n",
              "      <td>4.000000</td>\n",
              "      <td>93.256250</td>\n",
              "      <td>0.000000</td>\n",
              "      <td>0.000000</td>\n",
              "      <td>38.000000</td>\n",
              "      <td>1464.157213</td>\n",
              "      <td>0.016813</td>\n",
              "      <td>0.050000</td>\n",
              "      <td>0.000000</td>\n",
              "      <td>0.000000</td>\n",
              "      <td>3.000000</td>\n",
              "      <td>2.000000</td>\n",
              "      <td>4.000000</td>\n",
              "      <td>4.000000</td>\n",
              "    </tr>\n",
              "    <tr>\n",
              "      <th>max</th>\n",
              "      <td>27.000000</td>\n",
              "      <td>3398.750000</td>\n",
              "      <td>24.000000</td>\n",
              "      <td>2549.375000</td>\n",
              "      <td>705.000000</td>\n",
              "      <td>63973.522230</td>\n",
              "      <td>0.200000</td>\n",
              "      <td>0.200000</td>\n",
              "      <td>361.763742</td>\n",
              "      <td>1.000000</td>\n",
              "      <td>8.000000</td>\n",
              "      <td>13.000000</td>\n",
              "      <td>9.000000</td>\n",
              "      <td>20.000000</td>\n",
              "    </tr>\n",
              "  </tbody>\n",
              "</table>\n",
              "</div>"
            ],
            "text/plain": [
              "       Administrative  Administrative_Duration  ...        Region   TrafficType\n",
              "count    12330.000000             12330.000000  ...  12330.000000  12330.000000\n",
              "mean         2.315166                80.818611  ...      3.147364      4.069586\n",
              "std          3.321784               176.779107  ...      2.401591      4.025169\n",
              "min          0.000000                 0.000000  ...      1.000000      1.000000\n",
              "25%          0.000000                 0.000000  ...      1.000000      2.000000\n",
              "50%          1.000000                 7.500000  ...      3.000000      2.000000\n",
              "75%          4.000000                93.256250  ...      4.000000      4.000000\n",
              "max         27.000000              3398.750000  ...      9.000000     20.000000\n",
              "\n",
              "[8 rows x 14 columns]"
            ]
          },
          "metadata": {
            "tags": []
          },
          "execution_count": 23
        }
      ]
    },
    {
      "cell_type": "code",
      "metadata": {
        "id": "v7EBeFEXQqzF",
        "colab_type": "code",
        "outputId": "b9965bac-a711-4c4e-d5e6-067c01a1c751",
        "colab": {
          "base_uri": "https://localhost:8080/",
          "height": 34
        }
      },
      "source": [
        "X_train, X_test, y_train, y_test = train_test_split(\n",
        "    dataset.drop('Revenue', axis=1),  \n",
        "    dataset['Revenue'],  \n",
        "    test_size=0.2,  \n",
        "    stratify=dataset['Revenue'],\n",
        "    random_state=0)  \n",
        "\n",
        "X_train.shape, X_test.shape"
      ],
      "execution_count": 0,
      "outputs": [
        {
          "output_type": "execute_result",
          "data": {
            "text/plain": [
              "((9864, 17), (2466, 17))"
            ]
          },
          "metadata": {
            "tags": []
          },
          "execution_count": 24
        }
      ]
    },
    {
      "cell_type": "code",
      "metadata": {
        "id": "18YMNuNzQqws",
        "colab_type": "code",
        "outputId": "e8884863-d4fa-4e25-d23e-1df2de39d523",
        "colab": {
          "base_uri": "https://localhost:8080/",
          "height": 289
        }
      },
      "source": [
        "X_train.select_dtypes(exclude='O').isnull().mean()"
      ],
      "execution_count": 0,
      "outputs": [
        {
          "output_type": "execute_result",
          "data": {
            "text/plain": [
              "Administrative             0.0\n",
              "Administrative_Duration    0.0\n",
              "Informational              0.0\n",
              "Informational_Duration     0.0\n",
              "ProductRelated             0.0\n",
              "ProductRelated_Duration    0.0\n",
              "BounceRates                0.0\n",
              "ExitRates                  0.0\n",
              "PageValues                 0.0\n",
              "SpecialDay                 0.0\n",
              "OperatingSystems           0.0\n",
              "Browser                    0.0\n",
              "Region                     0.0\n",
              "TrafficType                0.0\n",
              "Weekend                    0.0\n",
              "dtype: float64"
            ]
          },
          "metadata": {
            "tags": []
          },
          "execution_count": 25
        }
      ]
    },
    {
      "cell_type": "code",
      "metadata": {
        "id": "9ipuwndmQqtL",
        "colab_type": "code",
        "outputId": "c38d846f-3333-4b68-bd41-abac376c551a",
        "colab": {
          "base_uri": "https://localhost:8080/",
          "height": 68
        }
      },
      "source": [
        "X_train.select_dtypes(include='O').isnull().mean()"
      ],
      "execution_count": 0,
      "outputs": [
        {
          "output_type": "execute_result",
          "data": {
            "text/plain": [
              "Month          0.0\n",
              "VisitorType    0.0\n",
              "dtype: float64"
            ]
          },
          "metadata": {
            "tags": []
          },
          "execution_count": 26
        }
      ]
    },
    {
      "cell_type": "code",
      "metadata": {
        "id": "-XGOSNOIeRo6",
        "colab_type": "code",
        "outputId": "d7776152-0d14-4f91-8304-b51d3bea53f3",
        "colab": {
          "base_uri": "https://localhost:8080/",
          "height": 340
        }
      },
      "source": [
        "for var in categorical_cols:\n",
        "    print((X_train[var].value_counts() / len(X_train)).sort_values())\n",
        "    print('-' * 50, '\\n')"
      ],
      "execution_count": 0,
      "outputs": [
        {
          "output_type": "stream",
          "text": [
            "Feb     0.013889\n",
            "June    0.023418\n",
            "Aug     0.034874\n",
            "Jul     0.035280\n",
            "Sep     0.035888\n",
            "Oct     0.044708\n",
            "Dec     0.142437\n",
            "Mar     0.156326\n",
            "Nov     0.240775\n",
            "May     0.272405\n",
            "Name: Month, dtype: float64\n",
            "-------------------------------------------------- \n",
            "\n",
            "Other                0.006691\n",
            "New_Visitor          0.137875\n",
            "Returning_Visitor    0.855434\n",
            "Name: VisitorType, dtype: float64\n",
            "-------------------------------------------------- \n",
            "\n"
          ],
          "name": "stdout"
        }
      ]
    },
    {
      "cell_type": "code",
      "metadata": {
        "id": "40ztcIaMP9Ea",
        "colab_type": "code",
        "outputId": "092672b6-910b-436b-ee0e-78574ed3b2e4",
        "colab": {
          "base_uri": "https://localhost:8080/",
          "height": 499
        }
      },
      "source": [
        "X_train.select_dtypes(exclude=['O', 'bool']).hist(bins=30, figsize=(8,8))\n",
        "plt.show()"
      ],
      "execution_count": 0,
      "outputs": [
        {
          "output_type": "display_data",
          "data": {
            "image/png": "[encoded data removed]",
            "text/plain": [
              "<Figure size 576x576 with 16 Axes>"
            ]
          },
          "metadata": {
            "tags": []
          }
        }
      ]
    },
    {
      "cell_type": "code",
      "metadata": {
        "id": "QGBwGI6WV3A7",
        "colab_type": "code",
        "colab": {}
      },
      "source": [
        "pipeline = Pipeline([\n",
        "\n",
        "    ('categorical_encoder',\n",
        "     ce.OrdinalCategoricalEncoder(encoding_method='ordered',\n",
        "                                  variables=['Month', 'VisitorType'])),\n",
        "\n",
        "    # Gradient Boosted machin\n",
        "    ('gbm', GradientBoostingClassifier(random_state=0))\n",
        "])"
      ],
      "execution_count": 0,
      "outputs": []
    },
    {
      "cell_type": "code",
      "metadata": {
        "id": "y9tdGElaV3Nm",
        "colab_type": "code",
        "outputId": "38f27e19-098b-485e-c1b0-6dac2851a2d1",
        "colab": {
          "base_uri": "https://localhost:8080/",
          "height": 68
        }
      },
      "source": [
        "print((y_train.value_counts() / len(y_train)).sort_values())"
      ],
      "execution_count": 0,
      "outputs": [
        {
          "output_type": "stream",
          "text": [
            "True     0.154704\n",
            "False    0.845296\n",
            "Name: Revenue, dtype: float64\n"
          ],
          "name": "stdout"
        }
      ]
    },
    {
      "cell_type": "code",
      "metadata": {
        "id": "glXG-gENV3LQ",
        "colab_type": "code",
        "colab": {}
      },
      "source": [
        "pipeline.fit(X_train, y_train)\n",
        "\n",
        "X_train_preds = pipeline.predict_proba(X_train)[:,1]\n",
        "X_test_preds = pipeline.predict_proba(X_test)[:,1]"
      ],
      "execution_count": 0,
      "outputs": []
    },
    {
      "cell_type": "code",
      "metadata": {
        "id": "6PgvrFILEtw9",
        "colab_type": "code",
        "outputId": "58db96df-8150-4ff6-c048-907b1aa3c526",
        "colab": {
          "base_uri": "https://localhost:8080/",
          "height": 51
        }
      },
      "source": [
        "pipeline.predict_proba(X_train)[:,1]"
      ],
      "execution_count": 0,
      "outputs": [
        {
          "output_type": "execute_result",
          "data": {
            "text/plain": [
              "array([0.12867279, 0.00936082, 0.55617473, ..., 0.325124  , 0.44049244,\n",
              "       0.40510832])"
            ]
          },
          "metadata": {
            "tags": []
          },
          "execution_count": 32
        }
      ]
    },
    {
      "cell_type": "code",
      "metadata": {
        "id": "P1_0PQgNV3I-",
        "colab_type": "code",
        "outputId": "5ec0ed15-0899-4751-be85-9a46fbe0f78e",
        "colab": {
          "base_uri": "https://localhost:8080/",
          "height": 51
        }
      },
      "source": [
        "X_train_preds"
      ],
      "execution_count": 0,
      "outputs": [
        {
          "output_type": "execute_result",
          "data": {
            "text/plain": [
              "array([0.12867279, 0.00936082, 0.55617473, ..., 0.325124  , 0.44049244,\n",
              "       0.40510832])"
            ]
          },
          "metadata": {
            "tags": []
          },
          "execution_count": 33
        }
      ]
    },
    {
      "cell_type": "code",
      "metadata": {
        "id": "rjleLaLADH69",
        "colab_type": "code",
        "outputId": "99fbbc3a-7728-46e8-8954-bb27bc028171",
        "colab": {
          "base_uri": "https://localhost:8080/",
          "height": 34
        }
      },
      "source": [
        "train_preds = pipeline.predict(X_train)\n",
        "test_preds = pipeline.predict(X_test)\n",
        "test_preds"
      ],
      "execution_count": 0,
      "outputs": [
        {
          "output_type": "execute_result",
          "data": {
            "text/plain": [
              "array([False, False, False, ..., False, False, False])"
            ]
          },
          "metadata": {
            "tags": []
          },
          "execution_count": 34
        }
      ]
    },
    {
      "cell_type": "code",
      "metadata": {
        "id": "AiRpfO0PV3GR",
        "colab_type": "code",
        "outputId": "94c104c4-e3a6-46d8-c483-eb130ceb04f4",
        "colab": {
          "base_uri": "https://localhost:8080/",
          "height": 85
        }
      },
      "source": [
        "print('Train set')\n",
        "print('GBM roc-auc: {}'.format(roc_auc_score(y_train, X_train_preds)))\n",
        "\n",
        "print('Test set')\n",
        "print('GBM roc-auc: {}'.format(roc_auc_score(y_test, X_test_preds)))"
      ],
      "execution_count": 0,
      "outputs": [
        {
          "output_type": "stream",
          "text": [
            "Train set\n",
            "GBM roc-auc: 0.9467834185857231\n",
            "Test set\n",
            "GBM roc-auc: 0.9329087990272432\n"
          ],
          "name": "stdout"
        }
      ]
    },
    {
      "cell_type": "code",
      "metadata": {
        "id": "mQQgd0yWV2-g",
        "colab_type": "code",
        "outputId": "0d8ba421-3d25-46c3-f8eb-6b8067eee992",
        "colab": {
          "base_uri": "https://localhost:8080/",
          "height": 506
        }
      },
      "source": [
        "importance = pd.Series(pipeline.named_steps['gbm'].feature_importances_)\n",
        "importance.index = dataset.drop('Revenue', axis=1).columns\n",
        "importance.sort_values(inplace=True, ascending=False)\n",
        "importance.plot.bar(figsize=(12,6))"
      ],
      "execution_count": 0,
      "outputs": [
        {
          "output_type": "execute_result",
          "data": {
            "text/plain": [
              "<matplotlib.axes._subplots.AxesSubplot at 0x7f8ae4cee7b8>"
            ]
          },
          "metadata": {
            "tags": []
          },
          "execution_count": 36
        },
        {
          "output_type": "display_data",
          "data": {
            "image/png": "[encoded data removed]",
            "text/plain": [
              "<Figure size 864x432 with 1 Axes>"
            ]
          },
          "metadata": {
            "tags": []
          }
        }
      ]
    },
    {
      "cell_type": "code",
      "metadata": {
        "id": "e0Aw4H-ctjh9",
        "colab_type": "code",
        "colab": {}
      },
      "source": [
        "fpr, tpr, thresholds = roc_curve(y_test, X_test_preds)"
      ],
      "execution_count": 0,
      "outputs": []
    },
    {
      "cell_type": "code",
      "metadata": {
        "id": "Rjo7FYQmtjrb",
        "colab_type": "code",
        "outputId": "6349bad1-e3e2-4806-cf6b-712bb5c8c17e",
        "colab": {
          "base_uri": "https://localhost:8080/",
          "height": 295
        }
      },
      "source": [
        "def plot_roc_curve(fpr, tpr):\n",
        "    plt.plot(fpr, tpr, color='orange', label='ROC')\n",
        "    plt.plot([0, 1], [0, 1], color='darkblue', linestyle='--')\n",
        "    plt.xlabel('False Positive Rate')\n",
        "    plt.ylabel('True Positive Rate')\n",
        "    plt.title('Receiver Operating Characteristic (ROC) Curve')\n",
        "    plt.legend()\n",
        "    plt.show()\n",
        "    \n",
        "plot_roc_curve(fpr, tpr)"
      ],
      "execution_count": 0,
      "outputs": [
        {
          "output_type": "display_data",
          "data": {
            "image/png": "[encoded data removed]",
            "text/plain": [
              "<Figure size 432x288 with 1 Axes>"
            ]
          },
          "metadata": {
            "tags": []
          }
        }
      ]
    },
    {
      "cell_type": "code",
      "metadata": {
        "id": "NEqL8rXjtj0D",
        "colab_type": "code",
        "outputId": "992ad7e6-0c2e-487b-e6fa-ef7a6444d4c4",
        "colab": {
          "base_uri": "https://localhost:8080/",
          "height": 51
        }
      },
      "source": [
        "cm(y_test, test_preds)"
      ],
      "execution_count": 0,
      "outputs": [
        {
          "output_type": "execute_result",
          "data": {
            "text/plain": [
              "array([[1998,   86],\n",
              "       [ 155,  227]])"
            ]
          },
          "metadata": {
            "tags": []
          },
          "execution_count": 39
        }
      ]
    },
    {
      "cell_type": "code",
      "metadata": {
        "id": "4DIcklDctj-J",
        "colab_type": "code",
        "outputId": "6b6ba31e-3372-460c-ea80-5d8924aeab8a",
        "colab": {
          "base_uri": "https://localhost:8080/",
          "height": 170
        }
      },
      "source": [
        "print(cr(y_test, test_preds))"
      ],
      "execution_count": 0,
      "outputs": [
        {
          "output_type": "stream",
          "text": [
            "              precision    recall  f1-score   support\n",
            "\n",
            "       False       0.93      0.96      0.94      2084\n",
            "        True       0.73      0.59      0.65       382\n",
            "\n",
            "    accuracy                           0.90      2466\n",
            "   macro avg       0.83      0.78      0.80      2466\n",
            "weighted avg       0.90      0.90      0.90      2466\n",
            "\n"
          ],
          "name": "stdout"
        }
      ]
    },
    {
      "cell_type": "markdown",
      "metadata": {
        "id": "q5xcLC70soaE",
        "colab_type": "text"
      },
      "source": [
        "## new way"
      ]
    },
    {
      "cell_type": "code",
      "metadata": {
        "id": "Bs0PMrMpwf84",
        "colab_type": "code",
        "outputId": "09f07510-17de-49e8-ff1b-2602b4c21255",
        "colab": {
          "base_uri": "https://localhost:8080/",
          "height": 34
        }
      },
      "source": [
        "a = dataset[dataset['Revenue']==1].shape[0]\n",
        "b = dataset[dataset['Revenue']==0].shape[0]\n",
        "print(f'Dataset True-class percentage = {a/(a+b)}')"
      ],
      "execution_count": 0,
      "outputs": [
        {
          "output_type": "stream",
          "text": [
            "Dataset True-class percentage = 0.15474452554744525\n"
          ],
          "name": "stdout"
        }
      ]
    },
    {
      "cell_type": "code",
      "metadata": {
        "id": "Sf6Xn5-DFz5q",
        "colab_type": "code",
        "outputId": "7d25ffa4-d4f1-4099-c250-9f41f727b41f",
        "colab": {
          "base_uri": "https://localhost:8080/",
          "height": 34
        }
      },
      "source": [
        "X_train, X_test, y_train, y_test = train_test_split(\n",
        "    dataset.drop('Revenue', axis=1),  \n",
        "    dataset['Revenue'],  \n",
        "    test_size=0.2,  \n",
        "    stratify=dataset['Revenue'],\n",
        "    random_state=0)  \n",
        "\n",
        "X_train.shape, X_test.shape"
      ],
      "execution_count": 0,
      "outputs": [
        {
          "output_type": "execute_result",
          "data": {
            "text/plain": [
              "((9864, 17), (2466, 17))"
            ]
          },
          "metadata": {
            "tags": []
          },
          "execution_count": 42
        }
      ]
    },
    {
      "cell_type": "code",
      "metadata": {
        "id": "J5-nUU7Btj6E",
        "colab_type": "code",
        "outputId": "b1cc593f-9c8a-47ee-86a7-91b409e65eb7",
        "colab": {
          "base_uri": "https://localhost:8080/",
          "height": 34
        }
      },
      "source": [
        "a = y_train[y_train == 1].count()\n",
        "b = y_train[y_train == 0].count()\n",
        "print(f'Training-set True-class percentage = {a/(a+b)}')"
      ],
      "execution_count": 0,
      "outputs": [
        {
          "output_type": "stream",
          "text": [
            "Training-set True-class percentage = 0.15470397404703973\n"
          ],
          "name": "stdout"
        }
      ]
    },
    {
      "cell_type": "code",
      "metadata": {
        "id": "47G08meDtjfG",
        "colab_type": "code",
        "outputId": "b0f2e129-5aef-42fc-d536-c3ebb81886da",
        "colab": {
          "base_uri": "https://localhost:8080/",
          "height": 34
        }
      },
      "source": [
        "#Upsample minority class\n",
        "\n",
        "data_train = pd.concat([X_train, y_train], axis=1)\n",
        "pos_class = data_train[data_train.Revenue==1]\n",
        "neg_class = data_train[data_train.Revenue==0]\n",
        "# upsample minority\n",
        "pos_class_upsampled = resample(pos_class,\n",
        "                          replace=True, # sample with replacement\n",
        "                          n_samples=len(neg_class), # match number in majority class\n",
        "                          random_state=27) # reproducible results\n",
        "# combine majority and upsampled minority\n",
        "upsampled = pd.concat([neg_class, pos_class_upsampled])\n",
        "# check new class counts\n",
        "upsampled.Revenue.value_counts()\n",
        "X_train = upsampled.drop('Revenue', axis=1)\n",
        "y_train = upsampled.Revenue\n",
        "\n",
        "a = y_train[y_train == 1].count()\n",
        "b = y_train[y_train == 0].count()\n",
        "print(f'After upsampling Training-set True-class percentage = {a/(a+b)}')"
      ],
      "execution_count": 0,
      "outputs": [
        {
          "output_type": "stream",
          "text": [
            "After upsampling Training-set True-class percentage = 0.5\n"
          ],
          "name": "stdout"
        }
      ]
    },
    {
      "cell_type": "code",
      "metadata": {
        "id": "-e9WahyhBSOK",
        "colab_type": "code",
        "colab": {}
      },
      "source": [
        "def plot_roc_curve(fpr, tpr):\n",
        "    plt.plot(fpr, tpr, color='orange', label='ROC')\n",
        "    plt.plot([0, 1], [0, 1], color='darkblue', linestyle='--')\n",
        "    plt.xlabel('False Positive Rate')\n",
        "    plt.ylabel('True Positive Rate')\n",
        "    plt.title('Receiver Operating Characteristic (ROC) Curve')\n",
        "    plt.legend()\n",
        "    plt.show()\n",
        "\n",
        "def classify(name,clf, flag=True):\n",
        "    pipeline = Pipeline([\n",
        "\n",
        "        ('categorical_encoder',\n",
        "        ce.OrdinalCategoricalEncoder(encoding_method='ordered',\n",
        "                                    variables=['Month', 'VisitorType'])),\n",
        "\n",
        "        # Gradient Boosted machin\n",
        "        #('gbm', GradientBoostingClassifier(random_state=0))\n",
        "        #Logistic regression\n",
        "        #('LR', LogisticRegression(solver='liblinear', random_state=0))\n",
        "        (name, clf)\n",
        "    ])\n",
        "\n",
        "    pipeline.fit(X_train, y_train)\n",
        "\n",
        "    X_train_preds = pipeline.predict_proba(X_train)[:,1]\n",
        "    X_test_preds = pipeline.predict_proba(X_test)[:,1]\n",
        "    train_preds = pipeline.predict(X_train)\n",
        "    test_preds = pipeline.predict(X_test)\n",
        "\n",
        "    print('Train set')\n",
        "    print('roc-auc: {}'.format(roc_auc_score(y_train, X_train_preds)))\n",
        "\n",
        "    print('Test set')\n",
        "    print('roc-auc: {}'.format(roc_auc_score(y_test, X_test_preds)))\n",
        "    \n",
        "    if flag:\n",
        "        importance = pd.Series(pipeline.named_steps[name].feature_importances_)\n",
        "        importance.index = dataset.drop('Revenue', axis=1).columns\n",
        "        importance.sort_values(inplace=True, ascending=False)\n",
        "        importance.plot.bar(figsize=(12,6))\n",
        "        plt.show()\n",
        "    \n",
        "\n",
        "        \n",
        "    fpr, tpr, thresholds = roc_curve(y_test, X_test_preds)\n",
        "    plot_roc_curve(fpr, tpr)\n",
        "\n",
        "    print('Confusion matrix: \\n', cm(y_test, test_preds))\n",
        "\n",
        "    print('Classification Report \\n', cr(y_test, test_preds))"
      ],
      "execution_count": 0,
      "outputs": []
    },
    {
      "cell_type": "code",
      "metadata": {
        "id": "3qG3F397BSKy",
        "colab_type": "code",
        "outputId": "76ae7d2b-1ca1-4539-c578-2976c2307755",
        "colab": {
          "base_uri": "https://localhost:8080/",
          "height": 584
        }
      },
      "source": [
        "classify('LR', LogisticRegression(solver='liblinear', random_state=0), flag=False)"
      ],
      "execution_count": 0,
      "outputs": [
        {
          "output_type": "stream",
          "text": [
            "Train set\n",
            "roc-auc: 0.9063128342059845\n",
            "Test set\n",
            "roc-auc: 0.9139253449367405\n"
          ],
          "name": "stdout"
        },
        {
          "output_type": "display_data",
          "data": {
            "image/png": "[encoded data removed]",
            "text/plain": [
              "<Figure size 432x288 with 1 Axes>"
            ]
          },
          "metadata": {
            "tags": []
          }
        },
        {
          "output_type": "stream",
          "text": [
            "Confusion matrix: \n",
            " [[1861  223]\n",
            " [  92  290]]\n",
            "Classification Report \n",
            "               precision    recall  f1-score   support\n",
            "\n",
            "       False       0.95      0.89      0.92      2084\n",
            "        True       0.57      0.76      0.65       382\n",
            "\n",
            "    accuracy                           0.87      2466\n",
            "   macro avg       0.76      0.83      0.79      2466\n",
            "weighted avg       0.89      0.87      0.88      2466\n",
            "\n"
          ],
          "name": "stdout"
        }
      ]
    },
    {
      "cell_type": "code",
      "metadata": {
        "id": "Y4gYS0vSBSMf",
        "colab_type": "code",
        "outputId": "e08a9cac-f118-485c-db4a-bc2b48481584",
        "colab": {
          "base_uri": "https://localhost:8080/",
          "height": 1000
        }
      },
      "source": [
        "classify('gbm', GradientBoostingClassifier(random_state=0))"
      ],
      "execution_count": 0,
      "outputs": [
        {
          "output_type": "stream",
          "text": [
            "Train set\n",
            "roc-auc: 0.9526024001756905\n",
            "Test set\n",
            "roc-auc: 0.9344595069891771\n"
          ],
          "name": "stdout"
        },
        {
          "output_type": "display_data",
          "data": {
            "image/png": "[encoded data removed]",
            "text/plain": [
              "<Figure size 864x432 with 1 Axes>"
            ]
          },
          "metadata": {
            "tags": []
          }
        },
        {
          "output_type": "display_data",
          "data": {
            "image/png": "[encoded data removed]",
            "text/plain": [
              "<Figure size 432x288 with 1 Axes>"
            ]
          },
          "metadata": {
            "tags": []
          }
        },
        {
          "output_type": "stream",
          "text": [
            "Confusion matrix: \n",
            " [[1820  264]\n",
            " [  60  322]]\n",
            "Classification Report \n",
            "               precision    recall  f1-score   support\n",
            "\n",
            "       False       0.97      0.87      0.92      2084\n",
            "        True       0.55      0.84      0.67       382\n",
            "\n",
            "    accuracy                           0.87      2466\n",
            "   macro avg       0.76      0.86      0.79      2466\n",
            "weighted avg       0.90      0.87      0.88      2466\n",
            "\n"
          ],
          "name": "stdout"
        }
      ]
    },
    {
      "cell_type": "code",
      "metadata": {
        "id": "VcMMuEwmEUuu",
        "colab_type": "code",
        "outputId": "85a80066-4716-4477-c236-559a36fc9392",
        "colab": {
          "base_uri": "https://localhost:8080/",
          "height": 992
        }
      },
      "source": [
        " clf = BayesSearchCV(\n",
        "    GradientBoostingClassifier(),\n",
        "    {\n",
        "        'learning_rate' : Real(1e-3, 1e-1, prior= 'log-uniform'),\n",
        "        'n_estimators' : Integer(100, 150),\n",
        "        'max_features' : Integer(1,17)     \n",
        "    },\n",
        "    n_iter=64,\n",
        "    random_state=0\n",
        ")\n",
        "\n",
        "classify('gbm', clf, flag=False)"
      ],
      "execution_count": 0,
      "outputs": [
        {
          "output_type": "stream",
          "text": [
            "/usr/local/lib/python3.6/dist-packages/skopt/optimizer/optimizer.py:409: UserWarning: The objective has been evaluated at this point before.\n",
            "  warnings.warn(\"The objective has been evaluated \"\n",
            "/usr/local/lib/python3.6/dist-packages/skopt/optimizer/optimizer.py:409: UserWarning: The objective has been evaluated at this point before.\n",
            "  warnings.warn(\"The objective has been evaluated \"\n",
            "/usr/local/lib/python3.6/dist-packages/skopt/optimizer/optimizer.py:409: UserWarning: The objective has been evaluated at this point before.\n",
            "  warnings.warn(\"The objective has been evaluated \"\n",
            "/usr/local/lib/python3.6/dist-packages/skopt/optimizer/optimizer.py:409: UserWarning: The objective has been evaluated at this point before.\n",
            "  warnings.warn(\"The objective has been evaluated \"\n",
            "/usr/local/lib/python3.6/dist-packages/skopt/optimizer/optimizer.py:409: UserWarning: The objective has been evaluated at this point before.\n",
            "  warnings.warn(\"The objective has been evaluated \"\n",
            "/usr/local/lib/python3.6/dist-packages/skopt/optimizer/optimizer.py:409: UserWarning: The objective has been evaluated at this point before.\n",
            "  warnings.warn(\"The objective has been evaluated \"\n",
            "/usr/local/lib/python3.6/dist-packages/skopt/optimizer/optimizer.py:409: UserWarning: The objective has been evaluated at this point before.\n",
            "  warnings.warn(\"The objective has been evaluated \"\n",
            "/usr/local/lib/python3.6/dist-packages/skopt/optimizer/optimizer.py:409: UserWarning: The objective has been evaluated at this point before.\n",
            "  warnings.warn(\"The objective has been evaluated \"\n",
            "/usr/local/lib/python3.6/dist-packages/skopt/optimizer/optimizer.py:409: UserWarning: The objective has been evaluated at this point before.\n",
            "  warnings.warn(\"The objective has been evaluated \"\n",
            "/usr/local/lib/python3.6/dist-packages/skopt/optimizer/optimizer.py:409: UserWarning: The objective has been evaluated at this point before.\n",
            "  warnings.warn(\"The objective has been evaluated \"\n",
            "/usr/local/lib/python3.6/dist-packages/skopt/optimizer/optimizer.py:409: UserWarning: The objective has been evaluated at this point before.\n",
            "  warnings.warn(\"The objective has been evaluated \"\n",
            "/usr/local/lib/python3.6/dist-packages/skopt/optimizer/optimizer.py:409: UserWarning: The objective has been evaluated at this point before.\n",
            "  warnings.warn(\"The objective has been evaluated \"\n"
          ],
          "name": "stderr"
        },
        {
          "output_type": "stream",
          "text": [
            "Train set\n",
            "roc-auc: 0.9588814480729362\n",
            "Test set\n",
            "roc-auc: 0.9355975721277043\n"
          ],
          "name": "stdout"
        },
        {
          "output_type": "display_data",
          "data": {
            "image/png": "[encoded data removed]",
            "text/plain": [
              "<Figure size 432x288 with 1 Axes>"
            ]
          },
          "metadata": {
            "tags": []
          }
        },
        {
          "output_type": "stream",
          "text": [
            "Confusion matrix: \n",
            " [[1831  253]\n",
            " [  65  317]]\n",
            "Classification Report \n",
            "               precision    recall  f1-score   support\n",
            "\n",
            "       False       0.97      0.88      0.92      2084\n",
            "        True       0.56      0.83      0.67       382\n",
            "\n",
            "    accuracy                           0.87      2466\n",
            "   macro avg       0.76      0.85      0.79      2466\n",
            "weighted avg       0.90      0.87      0.88      2466\n",
            "\n"
          ],
          "name": "stdout"
        }
      ]
    },
    {
      "cell_type": "code",
      "metadata": {
        "id": "j40gTkNziQ2n",
        "colab_type": "code",
        "outputId": "2df9de6e-f738-4970-e21b-9b71b66d64f5",
        "colab": {
          "base_uri": "https://localhost:8080/",
          "height": 584
        }
      },
      "source": [
        "classify('xbg', XGB())"
      ],
      "execution_count": 0,
      "outputs": [
        {
          "output_type": "stream",
          "text": [
            "Train set\n",
            "roc-auc: 0.9507622121633472\n",
            "Test set\n",
            "roc-auc: 0.9356453055441107\n"
          ],
          "name": "stdout"
        },
        {
          "output_type": "display_data",
          "data": {
            "image/png": "[encoded data removed]",
            "text/plain": [
              "<Figure size 432x288 with 1 Axes>"
            ]
          },
          "metadata": {
            "tags": []
          }
        },
        {
          "output_type": "stream",
          "text": [
            "Confusion matrix: \n",
            " [[1814  270]\n",
            " [  62  320]]\n",
            "Classification Report \n",
            "               precision    recall  f1-score   support\n",
            "\n",
            "       False       0.97      0.87      0.92      2084\n",
            "        True       0.54      0.84      0.66       382\n",
            "\n",
            "    accuracy                           0.87      2466\n",
            "   macro avg       0.75      0.85      0.79      2466\n",
            "weighted avg       0.90      0.87      0.88      2466\n",
            "\n"
          ],
          "name": "stdout"
        }
      ]
    },
    {
      "cell_type": "code",
      "metadata": {
        "id": "v07dKqrxiQ-t",
        "colab_type": "code",
        "colab": {}
      },
      "source": [
        ""
      ],
      "execution_count": 0,
      "outputs": []
    },
    {
      "cell_type": "code",
      "metadata": {
        "id": "6AhcDBa8iQ8e",
        "colab_type": "code",
        "colab": {}
      },
      "source": [
        ""
      ],
      "execution_count": 0,
      "outputs": []
    },
    {
      "cell_type": "code",
      "metadata": {
        "id": "HI03upATiQz-",
        "colab_type": "code",
        "colab": {}
      },
      "source": [
        ""
      ],
      "execution_count": 0,
      "outputs": []
    }
  ]
}