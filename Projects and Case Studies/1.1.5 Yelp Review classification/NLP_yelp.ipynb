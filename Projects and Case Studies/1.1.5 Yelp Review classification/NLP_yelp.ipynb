{
 "cells": [
  {
   "cell_type": "markdown",
   "metadata": {},
   "source": [
    "# Problem Statement\n",
    "\n",
    "Part 1: Preprocessing with Bag-of-Words\n",
    "\n",
    "The original dataset contains 5,261,668 reviews and we select 2000 from them, where half of them for reviews with 1 and 5 stars respectively.\n",
    "Download and import the dataset. And then extract text and stars columns as your X (data) and y (label). You may find pandas or numpy package helpful (if you are using Python). Both have functions to load CVS files.\n",
    "Convert the text into lower case then into bag-of-words representation. You can use a library such as one found in sklearn (if you are using Python). Do not use a pre-existing list of stop-words.\n",
    "Bag-of-words Analysis and Repreprocessing.\n",
    "Graph the distribution of words counts vs word rank.\n",
    "\n",
    "Identify the set of common stop words by looking at the words. What stop words did you choose?\n",
    "Choose a max document frequency theshold for word occurances and a minimum word occurance to cull the less useful words.\n",
    "Reprocess your data using the stop-words list you determined, the max document frequency and the minimum word occurance.\n",
    "Graph the updated words counts vs word rank.\n",
    "After removing stop-words, convert all the data into bag-of-words vectors for use in the next part.\n",
    "\n",
    "Part 2: Text-Retrieval\n",
    "\n",
    "In this section, we look at finding similar documents to a query phrase.\n",
    "\n",
    "Using nearest neighbor with a cos-distance metric, find 5 reviews matching Horrible customer service.\n",
    "Print the original text from the review along with the associated distance score. You can truncate the review to 200 words so we don't get a page of text.\n",
    "Looking at all the distance scores, how many documents do you think are good matches to the query?\n",
    "\n",
    "Part 3: Classification with Logistic Regression\n",
    "\n",
    "Here, we attempt to classify good reviews vs bad reviews using Logistic Regression.\n",
    "Separate your data in train and test sets. Use 10% of the data for test.\n",
    "Create a classifier based on Logistic Regression. Feel free to use whatever packages you like. In Python, sklearn should have what you need.\n",
    "What is the accuracy on the training set and the test set of your classifier?\n",
    "Logistic Regession returns a probability of the positive label. Although it is common to use 0.5 as the threshold to call something positive or negative, depend on your use case and the data, sometimes a different threshold is better.\n",
    "Plot a histogram of the scores on the training data.\n",
    "Example (make yours bigger):  \n",
    "Choose a new threshold based on your plot and report the accuracy on the training set and the test set. Did it improve?\n",
    "An ROC curve shows the trade-off of correct positive predictions (true positives) vs incorrect positive predictions (false positives) as the classification threshold is adjusted. Plot the ROC curve for your classifier.\n",
    "Example (make yours larger): \n",
    "At what false positive rate would your classifier minimize false positives while maximizing true positives?"
   ]
  },
  {
   "cell_type": "code",
   "execution_count": 49,
   "metadata": {},
   "outputs": [],
   "source": [
    "import numpy as np\n",
    "import pandas as pd\n",
    "import re\n",
    "import string\n",
    "from sklearn.feature_extraction.text import CountVectorizer\n",
    "import matplotlib.pyplot as plt\n",
    "from sklearn.metrics.pairwise import linear_kernel\n",
    "from sklearn.neighbors import NearestNeighbors\n",
    "from sklearn.model_selection import train_test_split\n",
    "from sklearn.linear_model import LogisticRegression\n",
    "from nltk.tokenize import TweetTokenizer\n",
    "from sklearn.metrics.pairwise import cosine_similarity as cosdis\n",
    "from sklearn.model_selection import train_test_split\n",
    "from sklearn.metrics import accuracy_score\n",
    "from sklearn.metrics import roc_curve, auc\n",
    "from sklearn.metrics import roc_auc_score"
   ]
  },
  {
   "cell_type": "code",
   "execution_count": 50,
   "metadata": {},
   "outputs": [],
   "source": [
    "#Perform data cleaning on the dataset\n",
    "def perform_data_cleaning(yelp):\n",
    "    yelp[\"text\"] = yelp[\"text\"].str.lower()\n",
    "    yelp['text'] = yelp['text'].str.replace(r'[^\\w\\s]+', '')\n",
    "    yelp['text'] = [re.sub('[%s]' % re.escape(string.punctuation),'',line) for line in yelp['text']] #remove punctuations\n",
    "    yelp['text']  = [re.sub('\\n','',line) for line in yelp['text'] ] #removing '/n'\n",
    "    yelp['text']  = [re.sub('\\w*\\d\\w*','',line) for line in yelp['text'] ]  #removing digits\n",
    "    return yelp\n",
    "\n",
    "#Calculate frequency of each word in the dataset  \n",
    "def calc_words_freq(dataset):    \n",
    "    vec = CountVectorizer().fit(dataset)\n",
    "    bag_of_words = vec.transform(dataset)\n",
    "    sum_words = bag_of_words.sum(axis=0)\n",
    "    words_freq = [list((word, sum_words[0, idx])) for word, idx in vec.vocabulary_.items()]\n",
    "    words_freq = sorted(words_freq, key = lambda x: x[1], reverse=True)\n",
    "    return words_freq\n",
    "    \n",
    "#Display word frequency plot (word count vs word rank)\n",
    "def disp_words_freq(words_freq):    \n",
    "    words, counts = (zip(*words_freq))\n",
    "    plt.plot([x + 1 for x in range(len(counts))], counts)\n",
    "    plt.xlabel('Word rank')\n",
    "    plt.ylabel('Word count')\n",
    "    plt.title('Word Frequency')\n",
    "    plt.show()\n",
    "    \n",
    "#Tokenize each word of the dataset    \n",
    "def tokenize_text(yelp):\n",
    "    tokenized_text = []\n",
    "    tokenizer = TweetTokenizer()\n",
    "    for lines in yelp['text']:\n",
    "        tokenized_text.append(tokenizer.tokenize(lines))\n",
    "    return tokenized_text\n",
    "\n",
    "#Calculate document frequency of each word    \n",
    "def create_word_stat(words_freq, tokenized_text):\n",
    "    word_stats = []\n",
    "    for word,count in words_freq:\n",
    "        word_doc_count=0\n",
    "        for lines in tokenized_text:\n",
    "            for token in lines:\n",
    "                if word == token:\n",
    "                    word_doc_count += 1\n",
    "                    break\n",
    "        doc_freq = float (word_doc_count/len(tokenized_text))\n",
    "        word_stats.append([word, count, doc_freq])\n",
    "    return word_stats\n",
    "\n",
    "#Create a list of less useful words having word occurance > 800 or document frquency > 0.7 (or 70%)\n",
    "def create_word_list(word_stats):    \n",
    "    less_useful_words = []\n",
    "    for word, count, doc_freq in word_stats:\n",
    "        if count < 800 and doc_freq < 0.7 :\n",
    "            continue\n",
    "        less_useful_words.append(word)\n",
    "    return less_useful_words\n",
    "\n",
    "#Remove list of stop words from the dataset\n",
    "def remove_stop_words(dataset, stop_words):\n",
    "    output = dataset.str.split(' ').apply(lambda x: ' '.join(k for k in x if k not in stop_words))\n",
    "    return output\n"
   ]
  },
  {
   "cell_type": "code",
   "execution_count": 51,
   "metadata": {},
   "outputs": [],
   "source": [
    "yelp = pd.read_csv(\"yelp_2k.csv\")\n",
    "yelp = yelp[[\"text\",\"stars\"]]\n",
    "yelp = perform_data_cleaning(yelp)"
   ]
  },
  {
   "cell_type": "code",
   "execution_count": 52,
   "metadata": {},
   "outputs": [
    {
     "data": {
      "image/png": "[encoded data removed]",
      "text/plain": [
       "<Figure size 432x288 with 1 Axes>"
      ]
     },
     "metadata": {
      "needs_background": "light"
     },
     "output_type": "display_data"
    },
    {
     "name": "stdout",
     "output_type": "stream",
     "text": [
      "14773\n"
     ]
    }
   ],
   "source": [
    "#Part-1\n",
    "words_freq = calc_words_freq(yelp[\"text\"])\n",
    "disp_words_freq(words_freq)\n",
    "print(len(words_freq))"
   ]
  },
  {
   "cell_type": "code",
   "execution_count": 53,
   "metadata": {},
   "outputs": [],
   "source": [
    "stop_words = ['the', 'and', 'to', 'was', 'of', 'it', 'for', 'their', 'in',\n",
    "             'is', 'my', 'that', 'they', 'them', 'this', 'we', 'with', 'you',\n",
    "             'on', 'will', 'about', 'have', 'had', 'me', 'at', 'so', 'here',\n",
    "             'were', 'are', 'be', 'as', 'an', 'if', 'he', 'she', 'there',\n",
    "             'all', 'when', 'out', 'our', 'your', 'us', 'been']\n",
    "\n",
    "yelp['text'] = remove_stop_words(yelp['text'], stop_words)"
   ]
  },
  {
   "cell_type": "code",
   "execution_count": 54,
   "metadata": {},
   "outputs": [
    {
     "name": "stdout",
     "output_type": "stream",
     "text": [
      "['not', 'but', 'place', 'food']\n",
      "\n",
      " No. of stop words:  4\n"
     ]
    }
   ],
   "source": [
    "words_freq = calc_words_freq(yelp[\"text\"])\n",
    "tokenized_text = tokenize_text(yelp)\n",
    "#\n",
    "word_stats = create_word_stat(words_freq, tokenized_text) \n",
    "\n",
    "less_useful_words = create_word_list(word_stats)  \n",
    "yelp['text'] = remove_stop_words(yelp['text'], less_useful_words)\n",
    "\n",
    "print(less_useful_words)\n",
    "print('\\n' , 'No. of stop words: ',len((less_useful_words)))"
   ]
  },
  {
   "cell_type": "code",
   "execution_count": 55,
   "metadata": {},
   "outputs": [
    {
     "data": {
      "image/png": "[encoded data removed]",
      "text/plain": [
       "<Figure size 432x288 with 1 Axes>"
      ]
     },
     "metadata": {
      "needs_background": "light"
     },
     "output_type": "display_data"
    },
    {
     "name": "stdout",
     "output_type": "stream",
     "text": [
      "14726\n"
     ]
    }
   ],
   "source": [
    "words_freq = calc_words_freq(yelp[\"text\"])\n",
    "disp_words_freq(words_freq)\n",
    "print(len(words_freq))"
   ]
  },
  {
   "cell_type": "code",
   "execution_count": 56,
   "metadata": {},
   "outputs": [
    {
     "name": "stdout",
     "output_type": "stream",
     "text": [
      "distance:  0.48673509742526344\n",
      "horrible service horrible customer service horrible quality service  do waste time or money using company pool needs  dan  broke pool filtration system left a nonworking condition  repair issue caused told go somewhere else  save yourself hassle plenty other quality pool companies  take care\n",
      "------------------------------------------\n",
      "distance:  0.5370899501137242\n",
      "rogers  over  horrible customer  faulty incorrect  poor customer  enough  never arrive appointment\n",
      "------------------------------------------\n",
      "distance:  0.5470891863421616\n",
      "service horrible came a major attitude payed  lasagna no where worth wont ever going back never recommend treated absolutely horrible horrible\n",
      "------------------------------------------\n",
      "distance:  0.6107505279192385\n",
      "went marca today get a haircut given a great service both by front desk  customer service by georgia girl who did hair i guess i got lucky her has years experience doing job has excellent customer service skills takes excellent care her customers\n",
      "------------------------------------------\n",
      "distance:  0.6150998205402495\n",
      "customer service super bad pizza cold by time delivered\n",
      "------------------------------------------\n"
     ]
    }
   ],
   "source": [
    "#Part-2\n",
    "vec = CountVectorizer().fit(yelp[\"text\"])\n",
    "bag_of_words = vec.transform(yelp[\"text\"])\n",
    "target = vec.transform([\"horrible customer service\"])\n",
    "neighbour = NearestNeighbors(n_neighbors=5, algorithm='brute', metric='cosine')\n",
    "neighbour.fit(bag_of_words)\n",
    "k = 5\n",
    "dist, index = neighbour.kneighbors(target.toarray(), n_neighbors=k)\n",
    "index = index.flatten()\n",
    "dist = dist.flatten()\n",
    "for i in range(k):\n",
    "    print(\"distance: \", dist[i])\n",
    "    print(yelp.iloc[index[i]][\"text\"])\n",
    "    print(\"------------------------------------------\")"
   ]
  },
  {
   "cell_type": "code",
   "execution_count": 77,
   "metadata": {},
   "outputs": [
    {
     "data": {
      "text/html": [
       "<div>\n",
       "<style scoped>\n",
       "    .dataframe tbody tr th:only-of-type {\n",
       "        vertical-align: middle;\n",
       "    }\n",
       "\n",
       "    .dataframe tbody tr th {\n",
       "        vertical-align: top;\n",
       "    }\n",
       "\n",
       "    .dataframe thead th {\n",
       "        text-align: right;\n",
       "    }\n",
       "</style>\n",
       "<table border=\"1\" class=\"dataframe\">\n",
       "  <thead>\n",
       "    <tr style=\"text-align: right;\">\n",
       "      <th></th>\n",
       "      <th>index</th>\n",
       "      <th>distance</th>\n",
       "    </tr>\n",
       "  </thead>\n",
       "  <tbody>\n",
       "    <tr>\n",
       "      <th>0</th>\n",
       "      <td>90</td>\n",
       "      <td>0.486735</td>\n",
       "    </tr>\n",
       "    <tr>\n",
       "      <th>1</th>\n",
       "      <td>1808</td>\n",
       "      <td>0.537090</td>\n",
       "    </tr>\n",
       "    <tr>\n",
       "      <th>2</th>\n",
       "      <td>729</td>\n",
       "      <td>0.547089</td>\n",
       "    </tr>\n",
       "    <tr>\n",
       "      <th>3</th>\n",
       "      <td>1721</td>\n",
       "      <td>0.610751</td>\n",
       "    </tr>\n",
       "    <tr>\n",
       "      <th>4</th>\n",
       "      <td>9</td>\n",
       "      <td>0.615100</td>\n",
       "    </tr>\n",
       "    <tr>\n",
       "      <th>5</th>\n",
       "      <td>825</td>\n",
       "      <td>0.615100</td>\n",
       "    </tr>\n",
       "    <tr>\n",
       "      <th>6</th>\n",
       "      <td>603</td>\n",
       "      <td>0.630726</td>\n",
       "    </tr>\n",
       "    <tr>\n",
       "      <th>7</th>\n",
       "      <td>1723</td>\n",
       "      <td>0.630726</td>\n",
       "    </tr>\n",
       "    <tr>\n",
       "      <th>8</th>\n",
       "      <td>980</td>\n",
       "      <td>0.643652</td>\n",
       "    </tr>\n",
       "    <tr>\n",
       "      <th>9</th>\n",
       "      <td>1429</td>\n",
       "      <td>0.651845</td>\n",
       "    </tr>\n",
       "  </tbody>\n",
       "</table>\n",
       "</div>"
      ],
      "text/plain": [
       "   index  distance\n",
       "0     90  0.486735\n",
       "1   1808  0.537090\n",
       "2    729  0.547089\n",
       "3   1721  0.610751\n",
       "4      9  0.615100\n",
       "5    825  0.615100\n",
       "6    603  0.630726\n",
       "7   1723  0.630726\n",
       "8    980  0.643652\n",
       "9   1429  0.651845"
      ]
     },
     "execution_count": 77,
     "metadata": {},
     "output_type": "execute_result"
    }
   ],
   "source": [
    "#distance metric for all documents\n",
    "k = len(yelp[\"text\"])\n",
    "dist, index = neighbour.kneighbors(target.toarray(), n_neighbors=k)\n",
    "index = index.flatten()\n",
    "dist = dist.flatten()\n",
    "df = pd.concat([pd.Series(index), pd.Series(dist)], axis=1)\n",
    "df.columns = ['index', 'distance']\n",
    "df = df.sort_values(by = 'distance')\n",
    "df.head(10)"
   ]
  },
  {
   "cell_type": "code",
   "execution_count": 93,
   "metadata": {},
   "outputs": [
    {
     "data": {
      "image/png": "[encoded data removed]",
      "text/plain": [
       "<Figure size 432x288 with 1 Axes>"
      ]
     },
     "metadata": {
      "needs_background": "light"
     },
     "output_type": "display_data"
    }
   ],
   "source": [
    "x= df.sort_values(by = 'distance')\n",
    "plt.vlines(x = 150, ymin = 0.5, ymax = 0.9, color = 'r', linestyles = 'dashed')\n",
    "plt.vlines(x = 650, ymin = 0.5, ymax = 1.01, color = 'r', linestyles = 'dashed')\n",
    "plt.xlabel('Documents')\n",
    "plt.ylabel('Cosine Distance')\n",
    "plt.title('Cosine distance plot')\n",
    "plt.plot(x.index, dist)\n",
    "plt.show()"
   ]
  },
  {
   "cell_type": "code",
   "execution_count": 60,
   "metadata": {},
   "outputs": [],
   "source": [
    "# Part- 3: Logistic regression"
   ]
  },
  {
   "cell_type": "code",
   "execution_count": 61,
   "metadata": {},
   "outputs": [],
   "source": [
    "#Separate data in train and test sets. Use 10% of the data for test.\n",
    "X = bag_of_words.toarray()\n",
    "y = yelp['stars'].astype(int).values\n",
    "X_train, X_test, y_train, y_test = train_test_split(X, y, test_size=0.10, random_state=42)"
   ]
  },
  {
   "cell_type": "code",
   "execution_count": 62,
   "metadata": {},
   "outputs": [
    {
     "name": "stdout",
     "output_type": "stream",
     "text": [
      "Train Set Accuracy Score: 99.94 %\n",
      "Test Set Accuracy Score: 93.5 %\n"
     ]
    }
   ],
   "source": [
    "# Create LR classifier\n",
    "# Print accuracy on the training set and the test set of the classifier\n",
    "\n",
    "LR = LogisticRegression(solver='lbfgs')\n",
    "LR.fit(X_train,y_train)\n",
    "\n",
    "y_pred_train = LR.predict(X_train)\n",
    "accuracy = accuracy_score(y_train, y_pred_train)\n",
    "print(f'Train Set Accuracy Score: {round(accuracy *100, 2)} %')\n",
    "\n",
    "y_pred_test = LR.predict(X_test)\n",
    "accuracy = accuracy_score(y_test, y_pred_test)\n",
    "print(f'Test Set Accuracy Score: {round(accuracy *100, 2)} %')"
   ]
  },
  {
   "cell_type": "code",
   "execution_count": 63,
   "metadata": {},
   "outputs": [],
   "source": [
    "prob_train = LR.predict_proba(X_train)"
   ]
  },
  {
   "cell_type": "code",
   "execution_count": 64,
   "metadata": {},
   "outputs": [
    {
     "data": {
      "text/plain": [
       "array([[0.00276895, 0.99723105],\n",
       "       [0.07144667, 0.92855333],\n",
       "       [0.99346101, 0.00653899],\n",
       "       ...,\n",
       "       [0.92676999, 0.07323001],\n",
       "       [0.0018285 , 0.9981715 ],\n",
       "       [0.9972955 , 0.0027045 ]])"
      ]
     },
     "execution_count": 64,
     "metadata": {},
     "output_type": "execute_result"
    }
   ],
   "source": [
    "prob_train"
   ]
  },
  {
   "cell_type": "code",
   "execution_count": 65,
   "metadata": {},
   "outputs": [
    {
     "name": "stdout",
     "output_type": "stream",
     "text": [
      "Minimum probability of positive class:  0.6387161632185241\n"
     ]
    },
    {
     "data": {
      "image/png": "[encoded data removed]",
      "text/plain": [
       "<Figure size 432x288 with 1 Axes>"
      ]
     },
     "metadata": {
      "needs_background": "light"
     },
     "output_type": "display_data"
    }
   ],
   "source": [
    "pos_prob = [x[0] for x in prob_train[y_pred_train == 1]]\n",
    "neg_prob = [x[0] for x in prob_train[y_pred_train == 5]]\n",
    "print('Minimum probability of positive class: ', np.min(pos_prob))\n",
    "plt.hist(pos_prob, bins=100)\n",
    "plt.hist(neg_prob, bins=100)\n",
    "plt.xlabel('Probability')\n",
    "plt.ylabel('Count')\n",
    "#plt.savefig('probability_histogram.png')\n",
    "#plt.clf()\n",
    "plt.show()"
   ]
  },
  {
   "cell_type": "code",
   "execution_count": 66,
   "metadata": {},
   "outputs": [
    {
     "name": "stdout",
     "output_type": "stream",
     "text": [
      "Train Set Accuracy Score: 99.94 %\n",
      "Test Set Accuracy Score: 94.0 %\n"
     ]
    }
   ],
   "source": [
    "# Choosing a new threshold based on the plot and checking the accuracy on the training set and the test set.\n",
    "# since the minimum probability of positive class is 0.6387, so threshold = 0.63\n",
    "threshold = 0.63\n",
    "prob_train = LR.predict_proba(X_train)\n",
    "y_pred_train_new = [1 if x[0] > threshold else 5 for x in prob_train]\n",
    "accuracy = accuracy_score(y_train, y_pred_train_new)\n",
    "print(f'Train Set Accuracy Score: {round(accuracy *100, 2)} %')\n",
    "\n",
    "prob_test = LR.predict_proba(X_test)\n",
    "y_pred_test_new = [1 if x[0] > threshold else 5 for x in prob_test]\n",
    "accuracy = accuracy_score(y_test, y_pred_test_new)\n",
    "print(f'Test Set Accuracy Score: {round(accuracy *100, 2)} %')"
   ]
  },
  {
   "cell_type": "markdown",
   "metadata": {},
   "source": [
    "The test accuracy has increased by 0.5% after putting the new threshold."
   ]
  },
  {
   "cell_type": "code",
   "execution_count": 67,
   "metadata": {},
   "outputs": [
    {
     "data": {
      "image/png": "[encoded data removed]",
      "text/plain": [
       "<Figure size 432x288 with 1 Axes>"
      ]
     },
     "metadata": {
      "needs_background": "light"
     },
     "output_type": "display_data"
    }
   ],
   "source": [
    "#ROC curve\n",
    "#Plotting the ROC curve for the classifier\n",
    "prob_test = LR.predict_proba(X_test)\n",
    "y_true = [0 if y == 1 else 1 for y in y_test]\n",
    "y_score = prob_test[:,1]\n",
    "fpr, tpr, threshold = roc_curve(y_true, y_score)\n",
    "area = auc(fpr, tpr)\n",
    "plt.plot(fpr, tpr, color='red', label='ROC curve (area = %0.3f)' % area)\n",
    "plt.legend(loc=\"lower right\")\n",
    "plt.plot([0, 1], [0, 1], color='blue', linestyle='dashed')\n",
    "plt.xlabel('False Positive Rate')\n",
    "plt.ylabel('True Positive Rate')\n",
    "# plt.savefig('roc.png')\n",
    "# plt.clf()\n",
    "plt.show()"
   ]
  },
  {
   "cell_type": "code",
   "execution_count": 103,
   "metadata": {},
   "outputs": [
    {
     "name": "stdout",
     "output_type": "stream",
     "text": [
      "Optimum Threshold that minimizes false positives while maximizing true positives :  0.444347617988936 \n",
      "\n",
      "Corresponding best combination of (FPR, TPR) is ( 0.061224489795918366 ,        0.9607843137254902 )\n"
     ]
    }
   ],
   "source": [
    "#Calculating the optimum threshold\n",
    "# We will calculate the optimum threshold  by using the roc curve where \n",
    "# true positive rate(tpr) and 1 - false positive rate(fpr) overlap.\n",
    "# The point of minimum distance between tpr and 1-fpr maximizes true positive while minimizing false negatives.\n",
    "\n",
    "min_dist = 500\n",
    "for fp,tp,thr in zip(fpr, tpr, threshold):\n",
    "    dist = np.sqrt(np.square(1-tp) + np.square(fp))\n",
    "    if dist < min_dist:\n",
    "        best_combination = (fp, tp, thr)\n",
    "        min_dist = dist\n",
    "        \n",
    "print('Optimum Threshold that minimizes false positives while maximizing true positives : ', best_combination[2], '\\n')\n",
    "\n",
    "print('Corresponding best combination of (FPR, TPR) is (',best_combination[0],', \\\n",
    "      ',best_combination[1],')')"
   ]
  }
 ],
 "metadata": {
  "kernelspec": {
   "display_name": "Python 3",
   "language": "python",
   "name": "python3"
  },
  "language_info": {
   "codemirror_mode": {
    "name": "ipython",
    "version": 3
   },
   "file_extension": ".py",
   "mimetype": "text/x-python",
   "name": "python",
   "nbconvert_exporter": "python",
   "pygments_lexer": "ipython3",
   "version": "3.6.8"
  }
 },
 "nbformat": 4,
 "nbformat_minor": 2
}
