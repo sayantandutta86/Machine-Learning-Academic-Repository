{
 "cells": [
  {
   "cell_type": "markdown",
   "metadata": {
    "colab_type": "text",
    "id": "vUTgGUi4JEft"
   },
   "source": [
    "#  CIFAR10 Image Classification with PyTorch"
   ]
  },
  {
   "cell_type": "markdown",
   "metadata": {
    "colab_type": "text",
    "id": "T5Kx8gJBJEW_"
   },
   "source": [
    "## About"
   ]
  },
  {
   "cell_type": "markdown",
   "metadata": {
    "colab_type": "text",
    "id": "aRAalfd1GITX"
   },
   "source": [
    "The goal of the homework is to train a convolutional neural network on the standard CIFAR10 image classfication dataset.\n",
    "\n",
    "When solving machine learning tasks using neural networks, one typically starts with a simple network architecture and then improves the network by adding new layers, retraining, adjusting parameters, retraining, etc.  We attempt to illustrate this process below with several architecture improvements.\n"
   ]
  },
  {
   "cell_type": "code",
   "execution_count": 1,
   "metadata": {
    "colab": {
     "base_uri": "https://localhost:8080/",
     "height": 104
    },
    "colab_type": "code",
    "id": "IaJ6BLrAJeCU",
    "outputId": "4d28ae5b-e1c3-4385-e861-3e92c8ae9bb9"
   },
   "outputs": [
    {
     "data": {
      "text/plain": [
       "tensor([[0.8038, 0.8680, 0.1140],\n",
       "        [0.2192, 0.4750, 0.1847],\n",
       "        [0.1457, 0.1643, 0.4454],\n",
       "        [0.6511, 0.0645, 0.6108],\n",
       "        [0.3816, 0.5458, 0.8831]])"
      ]
     },
     "execution_count": 1,
     "metadata": {
      "tags": []
     },
     "output_type": "execute_result"
    }
   ],
   "source": [
    "import torch\n",
    "torch.rand(5, 3)"
   ]
  },
  {
   "cell_type": "markdown",
   "metadata": {
    "colab_type": "text",
    "id": "nEmmCk1IJiGn"
   },
   "source": [
    "## Part 0 Imports and Basic Setup"
   ]
  },
  {
   "cell_type": "code",
   "execution_count": 0,
   "metadata": {
    "colab": {},
    "colab_type": "code",
    "id": "UwtDsq3VbrNY"
   },
   "outputs": [],
   "source": [
    "import numpy as np\n",
    "import torch\n",
    "from torch import nn\n",
    "from torch import optim\n",
    "\n",
    "import matplotlib.pyplot as plt"
   ]
  },
  {
   "cell_type": "code",
   "execution_count": 3,
   "metadata": {
    "colab": {
     "base_uri": "https://localhost:8080/",
     "height": 35
    },
    "colab_type": "code",
    "id": "gbGGmnIXYca9",
    "outputId": "0ee43371-4098-482d-ef56-c7b076ac1ce0"
   },
   "outputs": [
    {
     "name": "stdout",
     "output_type": "stream",
     "text": [
      "cuda:0\n"
     ]
    }
   ],
   "source": [
    "import torch.cuda as cuda\n",
    "\n",
    "# Use a GPU, i.e. cuda:0 device if it available.\n",
    "device = torch.device(\"cuda:0\" if cuda.is_available() else \"cpu\")\n",
    "print(device)"
   ]
  },
  {
   "cell_type": "markdown",
   "metadata": {
    "colab_type": "text",
    "id": "aGTcNEY6PjOh"
   },
   "source": [
    "### Training Code"
   ]
  },
  {
   "cell_type": "code",
   "execution_count": 0,
   "metadata": {
    "cellView": "form",
    "colab": {},
    "colab_type": "code",
    "id": "_DZm8ammPCbL"
   },
   "outputs": [],
   "source": [
    "import time\n",
    "\n",
    "class Flatten(nn.Module):\n",
    "  \"\"\"NN Module that flattens the incoming tensor.\"\"\"\n",
    "  def forward(self, input):\n",
    "    return input.view(input.size(0), -1)\n",
    "  \n",
    "def train(model, train_loader, test_loader, loss_func, opt, num_epochs=10):\n",
    "  all_training_loss = np.zeros((0,2))\n",
    "  all_training_acc = np.zeros((0,2))\n",
    "  all_test_loss = np.zeros((0,2))\n",
    "  all_test_acc = np.zeros((0,2))\n",
    "  \n",
    "  training_step = 0\n",
    "  training_loss, training_acc = 2.0, 0.0\n",
    "  print_every = 1000\n",
    "  \n",
    "  start = time.clock()\n",
    "  \n",
    "  for i in range(num_epochs):\n",
    "    epoch_start = time.clock() \n",
    "   \n",
    "    model.train()\n",
    "    for images, labels in train_loader:\n",
    "      images, labels = images.to(device), labels.to(device)\n",
    "      opt.zero_grad()\n",
    "\n",
    "      preds = model(images)\n",
    "      loss = loss_func(preds, labels)\n",
    "      loss.backward()\n",
    "      opt.step()\n",
    "      \n",
    "      training_loss += loss.item()\n",
    "      training_acc += (torch.argmax(preds, dim=1)==labels).float().mean()\n",
    "      \n",
    "      if training_step % print_every == 0:\n",
    "        training_loss /= print_every\n",
    "        training_acc /= print_every\n",
    "        \n",
    "        all_training_loss = np.concatenate((all_training_loss, [[training_step, training_loss]]))\n",
    "        all_training_acc = np.concatenate((all_training_acc, [[training_step, training_acc]]))\n",
    "        \n",
    "        print('  Epoch %d @ step %d: Train Loss: %3f, Train Accuracy: %3f' % (\n",
    "            i, training_step, training_loss, training_acc))\n",
    "        training_loss, training_acc = 0.0, 0.0\n",
    "        \n",
    "      training_step+=1\n",
    "\n",
    "    model.eval()\n",
    "    with torch.no_grad():\n",
    "      validation_loss, validation_acc = 0.0, 0.0\n",
    "      count = 0\n",
    "      for images, labels in test_loader:\n",
    "        images, labels = images.to(device), labels.to(device)\n",
    "        output = model(images)\n",
    "        validation_loss+=loss_func(output,labels)\n",
    "        validation_acc+=(torch.argmax(output, dim=1) == labels).float().mean()\n",
    "        count += 1\n",
    "      validation_loss/=count\n",
    "      validation_acc/=count\n",
    "      \n",
    "      all_test_loss = np.concatenate((all_test_loss, [[training_step, validation_loss]]))\n",
    "      all_test_acc = np.concatenate((all_test_acc, [[training_step, validation_acc]]))\n",
    "      \n",
    "      epoch_time = time.clock() - epoch_start\n",
    "      \n",
    "      print('Epoch %d Test Loss: %3f, Test Accuracy: %3f, time: %.1fs' % (\n",
    "          i, validation_loss, validation_acc, epoch_time))\n",
    "      \n",
    "  total_time = time.clock() - start\n",
    "  print('Final Test Loss: %3f, Test Accuracy: %3f, Total time: %.1fs' % (\n",
    "      validation_loss, validation_acc, total_time))\n",
    "\n",
    "  return {'loss': { 'train': all_training_loss, 'test': all_test_loss },\n",
    "          'accuracy': { 'train': all_training_acc, 'test': all_test_acc }}\n",
    "\n",
    "def plot_graphs(model_name, metrics):\n",
    "  for metric, values in metrics.items():\n",
    "    for name, v in values.items():\n",
    "      plt.plot(v[:,0], v[:,1], label=name)\n",
    "    plt.title(f'{metric} for {model_name}')\n",
    "    plt.legend()\n",
    "    plt.xlabel(\"Training Steps\")\n",
    "    plt.ylabel(metric)\n",
    "    plt.show()\n",
    "    "
   ]
  },
  {
   "cell_type": "markdown",
   "metadata": {
    "colab_type": "text",
    "id": "1RupXQbCaXb3"
   },
   "source": [
    "Load the** CIFA-10** dataset and define the transformations. You may also want to print its structure, size, as well as sample a few images to get a sense of how to design the network. "
   ]
  },
  {
   "cell_type": "code",
   "execution_count": 5,
   "metadata": {
    "colab": {
     "base_uri": "https://localhost:8080/",
     "height": 35
    },
    "colab_type": "code",
    "id": "mIJmLIgaZ_d3",
    "outputId": "12905003-4e31-4973-b345-812b5b7e26af"
   },
   "outputs": [
    {
     "name": "stdout",
     "output_type": "stream",
     "text": [
      "mkdir: cannot create directory ‘hw10_data’: File exists\n"
     ]
    }
   ],
   "source": [
    "!mkdir hw10_data"
   ]
  },
  {
   "cell_type": "code",
   "execution_count": 6,
   "metadata": {
    "colab": {
     "base_uri": "https://localhost:8080/",
     "height": 52
    },
    "colab_type": "code",
    "id": "aDBbPmPPaQuG",
    "outputId": "df26f232-194f-4b5e-b24d-3c77aa1c8693"
   },
   "outputs": [
    {
     "name": "stdout",
     "output_type": "stream",
     "text": [
      "Files already downloaded and verified\n",
      "Files already downloaded and verified\n"
     ]
    }
   ],
   "source": [
    "# Download the data.\n",
    "from torchvision import datasets, transforms\n",
    "\n",
    "transformations = transforms.Compose([ transforms.RandomRotation(45),\n",
    "              transforms.ToTensor(),\n",
    "              transforms.RandomApply([transforms.Normalize((0.5, 0.5, 0.5), (0.5, 0.5, 0.5))], p=0.8)])\n",
    "                                      \n",
    "train_set = datasets.CIFAR10(root='hw10_data/', download=True, transform=transformations)\n",
    "test_set = datasets.CIFAR10(root='hw10_data', download=True, train=False, transform=transformations)"
   ]
  },
  {
   "cell_type": "markdown",
   "metadata": {
    "colab_type": "text",
    "id": "dfomsGyJiKz9"
   },
   "source": [
    "Use `DataLoader` to create a loader for the training set and a loader for the testing set. You can use a `batch_size` of 8 to start, and change it if you wish."
   ]
  },
  {
   "cell_type": "code",
   "execution_count": 0,
   "metadata": {
    "colab": {},
    "colab_type": "code",
    "id": "Ioe04mbSiQiV"
   },
   "outputs": [],
   "source": [
    "from torch.utils.data import DataLoader\n",
    "\n",
    "batch_size = 8\n",
    "train_loader = torch.utils.data.DataLoader(train_set, batch_size, shuffle=True, num_workers=2)\n",
    "test_loader = torch.utils.data.DataLoader(test_set, batch_size, shuffle=True, num_workers=2)\n",
    "\n",
    "input_shape = np.array(train_set[0][0]).shape\n",
    "input_dim = input_shape[1]*input_shape[2]*input_shape[0]\n"
   ]
  },
  {
   "cell_type": "code",
   "execution_count": 0,
   "metadata": {
    "colab": {},
    "colab_type": "code",
    "id": "fGoPdmuUOOiE"
   },
   "outputs": [],
   "source": [
    "training_epochs = 5"
   ]
  },
  {
   "cell_type": "markdown",
   "metadata": {
    "colab_type": "text",
    "id": "3T2-qkh8frqF"
   },
   "source": [
    "## Part 1 CIFAR10 with Fully Connected Neural Network"
   ]
  },
  {
   "cell_type": "code",
   "execution_count": 9,
   "metadata": {
    "colab": {
     "base_uri": "https://localhost:8080/",
     "height": 676
    },
    "colab_type": "code",
    "id": "Ck1CGpRycRFE",
    "outputId": "3dedda5d-b2b2-443b-b652-126060622714"
   },
   "outputs": [
    {
     "name": "stdout",
     "output_type": "stream",
     "text": [
      "  Epoch 0 @ step 0: Train Loss: 0.004388, Train Accuracy: 0.000250\n",
      "  Epoch 0 @ step 1000: Train Loss: 2.085446, Train Accuracy: 0.254125\n",
      "  Epoch 0 @ step 2000: Train Loss: 1.949245, Train Accuracy: 0.293250\n",
      "  Epoch 0 @ step 3000: Train Loss: 1.946982, Train Accuracy: 0.288500\n",
      "  Epoch 0 @ step 4000: Train Loss: 1.932533, Train Accuracy: 0.293750\n",
      "  Epoch 0 @ step 5000: Train Loss: 1.937621, Train Accuracy: 0.297000\n",
      "  Epoch 0 @ step 6000: Train Loss: 1.924164, Train Accuracy: 0.305500\n",
      "Epoch 0 Test Loss: 1.905797, Test Accuracy: 0.297100, time: 18.8s\n",
      "  Epoch 1 @ step 7000: Train Loss: 1.925763, Train Accuracy: 0.301625\n",
      "  Epoch 1 @ step 8000: Train Loss: 1.912601, Train Accuracy: 0.305250\n",
      "  Epoch 1 @ step 9000: Train Loss: 1.920458, Train Accuracy: 0.306250\n",
      "  Epoch 1 @ step 10000: Train Loss: 1.912366, Train Accuracy: 0.307125\n",
      "  Epoch 1 @ step 11000: Train Loss: 1.911517, Train Accuracy: 0.306875\n",
      "  Epoch 1 @ step 12000: Train Loss: 1.911065, Train Accuracy: 0.308750\n",
      "Epoch 1 Test Loss: 1.903940, Test Accuracy: 0.303200, time: 17.9s\n",
      "  Epoch 2 @ step 13000: Train Loss: 1.883369, Train Accuracy: 0.309500\n",
      "  Epoch 2 @ step 14000: Train Loss: 1.919307, Train Accuracy: 0.294000\n",
      "  Epoch 2 @ step 15000: Train Loss: 1.919597, Train Accuracy: 0.304125\n",
      "  Epoch 2 @ step 16000: Train Loss: 1.900663, Train Accuracy: 0.308500\n",
      "  Epoch 2 @ step 17000: Train Loss: 1.905227, Train Accuracy: 0.306125\n",
      "  Epoch 2 @ step 18000: Train Loss: 1.911640, Train Accuracy: 0.314500\n",
      "Epoch 2 Test Loss: 1.934874, Test Accuracy: 0.298200, time: 18.4s\n",
      "  Epoch 3 @ step 19000: Train Loss: 1.895150, Train Accuracy: 0.313625\n",
      "  Epoch 3 @ step 20000: Train Loss: 1.920478, Train Accuracy: 0.299625\n",
      "  Epoch 3 @ step 21000: Train Loss: 1.910295, Train Accuracy: 0.303375\n",
      "  Epoch 3 @ step 22000: Train Loss: 1.894561, Train Accuracy: 0.309625\n",
      "  Epoch 3 @ step 23000: Train Loss: 1.893101, Train Accuracy: 0.317250\n",
      "  Epoch 3 @ step 24000: Train Loss: 1.902083, Train Accuracy: 0.306875\n",
      "Epoch 3 Test Loss: 1.870148, Test Accuracy: 0.322400, time: 17.7s\n",
      "  Epoch 4 @ step 25000: Train Loss: 1.910636, Train Accuracy: 0.308000\n",
      "  Epoch 4 @ step 26000: Train Loss: 1.908659, Train Accuracy: 0.312500\n",
      "  Epoch 4 @ step 27000: Train Loss: 1.899471, Train Accuracy: 0.308375\n",
      "  Epoch 4 @ step 28000: Train Loss: 1.910221, Train Accuracy: 0.299500\n",
      "  Epoch 4 @ step 29000: Train Loss: 1.918206, Train Accuracy: 0.304375\n",
      "  Epoch 4 @ step 30000: Train Loss: 1.915465, Train Accuracy: 0.308625\n",
      "  Epoch 4 @ step 31000: Train Loss: 1.882588, Train Accuracy: 0.316250\n",
      "Epoch 4 Test Loss: 1.923383, Test Accuracy: 0.314900, time: 17.6s\n",
      "Final Test Loss: 1.923383, Test Accuracy: 0.314900, Total time: 90.5s\n"
     ]
    }
   ],
   "source": [
    "class TwoLayerModel(nn.Module):\n",
    "  def __init__(self):\n",
    "    super(TwoLayerModel, self).__init__()\n",
    "    self.net = nn.Sequential(\n",
    "      Flatten(), \n",
    "      nn.Linear(input_dim, 64), \n",
    "      nn.ReLU(), \n",
    "      nn.Linear(64, 10))\n",
    "    \n",
    "  def forward(self, x):\n",
    "    return self.net(x)\n",
    "\n",
    "model = TwoLayerModel().to(device)\n",
    "\n",
    "loss = nn.CrossEntropyLoss()\n",
    "optimizer = optim.RMSprop(model.parameters(), lr=0.001, weight_decay=0.01)\n",
    "\n",
    "# Training epoch should be about 15-20 sec each on GPU.\n",
    "metrics = train(model, train_loader, test_loader, loss, optimizer, training_epochs)"
   ]
  },
  {
   "cell_type": "markdown",
   "metadata": {
    "colab_type": "text",
    "id": "qjbncuMnKpf7"
   },
   "source": [
    "**Plot the model results**\n",
    "\n",
    "Normally we would want to use Tensorboard for looking at metrics.  However, if colab reset while we are working, we might lose our logs and therefore our metrics.  Let's just plot some graphs that will survive across colab instances."
   ]
  },
  {
   "cell_type": "code",
   "execution_count": 10,
   "metadata": {
    "colab": {
     "base_uri": "https://localhost:8080/",
     "height": 573
    },
    "colab_type": "code",
    "id": "CuVL9MJ_D92h",
    "outputId": "1a50a3a6-b5b0-46f3-d1ea-6ba820094841"
   },
   "outputs": [
    {
     "data": {
      "image/png": "[encoded data removed]",
      "text/plain": [
       "<Figure size 432x288 with 1 Axes>"
      ]
     },
     "metadata": {
      "tags": []
     },
     "output_type": "display_data"
    },
    {
     "data": {
      "image/png": "[encoded data removed]",
      "text/plain": [
       "<Figure size 432x288 with 1 Axes>"
      ]
     },
     "metadata": {
      "tags": []
     },
     "output_type": "display_data"
    }
   ],
   "source": [
    "plot_graphs(\"TwoLayerModel\", metrics)"
   ]
  },
  {
   "cell_type": "markdown",
   "metadata": {
    "colab_type": "text",
    "id": "4_xi8bkkfsM7"
   },
   "source": [
    "## Part 2 Convolutional Neural Network (CNN) (35 Points)\n",
    "\n",
    "Now, let's design a convolution neural netwrok!\n",
    "\n",
    "Build a simple CNN model, inserting 2 CNN layers in from of our 2 layer fully connect model from above:\n",
    "\n",
    "1. A convolution with\t3x3 filter, 16 output channels, stride = 1, padding=1\n",
    "2. A ReLU activation\n",
    "2. A Max-Pooling layer with 2x2 window\n",
    "3. A convolution,\t3x3 filter, 16 output channels, stride = 1, padding=1\n",
    "4. A ReLU activation\n",
    "4. Flatten layer\n",
    "5. Fully connected linear layer with output size 64\n",
    "6. ReLU\n",
    "7. Fully connected linear layer, with output size 10\n",
    "\n",
    "You will have to figure out the input sizes of the first fully connnected layer based on the previous layer sizes. Note that you also need to fill those in the report section (see report section in the notebook for details) "
   ]
  },
  {
   "cell_type": "code",
   "execution_count": 11,
   "metadata": {
    "colab": {
     "base_uri": "https://localhost:8080/",
     "height": 676
    },
    "colab_type": "code",
    "id": "tLXjjywngO7g",
    "outputId": "f489e321-268c-43c4-95bf-e27d91770ea5"
   },
   "outputs": [
    {
     "name": "stdout",
     "output_type": "stream",
     "text": [
      "  Epoch 0 @ step 0: Train Loss: 0.004279, Train Accuracy: 0.000250\n",
      "  Epoch 0 @ step 1000: Train Loss: 1.962330, Train Accuracy: 0.274000\n",
      "  Epoch 0 @ step 2000: Train Loss: 1.662703, Train Accuracy: 0.393125\n",
      "  Epoch 0 @ step 3000: Train Loss: 1.605250, Train Accuracy: 0.425125\n",
      "  Epoch 0 @ step 4000: Train Loss: 1.548662, Train Accuracy: 0.438625\n",
      "  Epoch 0 @ step 5000: Train Loss: 1.518894, Train Accuracy: 0.455625\n",
      "  Epoch 0 @ step 6000: Train Loss: 1.499595, Train Accuracy: 0.460625\n",
      "Epoch 0 Test Loss: 1.445889, Test Accuracy: 0.480300, time: 26.4s\n",
      "  Epoch 1 @ step 7000: Train Loss: 1.467611, Train Accuracy: 0.465000\n",
      "  Epoch 1 @ step 8000: Train Loss: 1.430365, Train Accuracy: 0.487750\n",
      "  Epoch 1 @ step 9000: Train Loss: 1.439188, Train Accuracy: 0.477375\n",
      "  Epoch 1 @ step 10000: Train Loss: 1.430233, Train Accuracy: 0.485625\n",
      "  Epoch 1 @ step 11000: Train Loss: 1.377378, Train Accuracy: 0.503125\n",
      "  Epoch 1 @ step 12000: Train Loss: 1.367146, Train Accuracy: 0.512375\n",
      "Epoch 1 Test Loss: 1.375877, Test Accuracy: 0.507200, time: 25.4s\n",
      "  Epoch 2 @ step 13000: Train Loss: 1.375703, Train Accuracy: 0.500625\n",
      "  Epoch 2 @ step 14000: Train Loss: 1.369088, Train Accuracy: 0.508250\n",
      "  Epoch 2 @ step 15000: Train Loss: 1.354435, Train Accuracy: 0.520250\n",
      "  Epoch 2 @ step 16000: Train Loss: 1.349356, Train Accuracy: 0.519625\n",
      "  Epoch 2 @ step 17000: Train Loss: 1.356837, Train Accuracy: 0.512500\n",
      "  Epoch 2 @ step 18000: Train Loss: 1.330716, Train Accuracy: 0.525000\n",
      "Epoch 2 Test Loss: 1.350276, Test Accuracy: 0.520900, time: 26.7s\n",
      "  Epoch 3 @ step 19000: Train Loss: 1.348086, Train Accuracy: 0.516750\n",
      "  Epoch 3 @ step 20000: Train Loss: 1.321597, Train Accuracy: 0.522375\n",
      "  Epoch 3 @ step 21000: Train Loss: 1.304113, Train Accuracy: 0.530125\n",
      "  Epoch 3 @ step 22000: Train Loss: 1.313805, Train Accuracy: 0.526625\n",
      "  Epoch 3 @ step 23000: Train Loss: 1.314729, Train Accuracy: 0.529500\n",
      "  Epoch 3 @ step 24000: Train Loss: 1.309153, Train Accuracy: 0.530500\n",
      "Epoch 3 Test Loss: 1.296738, Test Accuracy: 0.532000, time: 28.2s\n",
      "  Epoch 4 @ step 25000: Train Loss: 1.283661, Train Accuracy: 0.537125\n",
      "  Epoch 4 @ step 26000: Train Loss: 1.292813, Train Accuracy: 0.537375\n",
      "  Epoch 4 @ step 27000: Train Loss: 1.272832, Train Accuracy: 0.545375\n",
      "  Epoch 4 @ step 28000: Train Loss: 1.269756, Train Accuracy: 0.545500\n",
      "  Epoch 4 @ step 29000: Train Loss: 1.304054, Train Accuracy: 0.538250\n",
      "  Epoch 4 @ step 30000: Train Loss: 1.305170, Train Accuracy: 0.537500\n",
      "  Epoch 4 @ step 31000: Train Loss: 1.264907, Train Accuracy: 0.547000\n",
      "Epoch 4 Test Loss: 1.274953, Test Accuracy: 0.547300, time: 27.4s\n",
      "Final Test Loss: 1.274953, Test Accuracy: 0.547300, Total time: 134.2s\n"
     ]
    }
   ],
   "source": [
    "from torchsummary import summary\n",
    "class ConvModel(nn.Module):\n",
    "  # Your Code Here\n",
    "    def __init__(self):\n",
    "      super(ConvModel, self).__init__()\n",
    "      self.net = nn.Sequential(\n",
    "        nn.Conv2d(3, 16, kernel_size = 3, stride = 1, padding = 1), \n",
    "        nn.ReLU(),\n",
    "        nn.MaxPool2d(2),\n",
    "        nn.Conv2d(16, 16, kernel_size = 3, stride = 1, padding = 1), \n",
    "        nn.ReLU(),\n",
    "        Flatten(),\n",
    "        nn.Linear(16*16*4*4, 64),\n",
    "        nn.ReLU(),\n",
    "        nn.Linear(64, 10))\n",
    "\n",
    "    \n",
    "    def forward(self, x):\n",
    "      return self.net(x)\n",
    "\n",
    "model = ConvModel().to(device)\n",
    "# summary(model, (3, 8, 8))\n",
    "\n",
    "loss = nn.CrossEntropyLoss()\n",
    "#optimizer = optim.RMSprop(model.parameters(), lr=0.001, weight_decay=0.01)\n",
    "optimizer = optim.Adam(model.parameters(), lr=0.001)\n",
    "\n",
    "metrics = train(model, train_loader, test_loader, loss, optimizer, training_epochs)"
   ]
  },
  {
   "cell_type": "code",
   "execution_count": 12,
   "metadata": {
    "colab": {
     "base_uri": "https://localhost:8080/",
     "height": 573
    },
    "colab_type": "code",
    "id": "8BGTJw-TPTfh",
    "outputId": "c07f0528-8b03-42d7-b826-fe4e12fbcf4e"
   },
   "outputs": [
    {
     "data": {
      "image/png": "[encoded data removed]",
      "text/plain": [
       "<Figure size 432x288 with 1 Axes>"
      ]
     },
     "metadata": {
      "tags": []
     },
     "output_type": "display_data"
    },
    {
     "data": {
      "image/png": "[encoded data removed]",
      "text/plain": [
       "<Figure size 432x288 with 1 Axes>"
      ]
     },
     "metadata": {
      "tags": []
     },
     "output_type": "display_data"
    }
   ],
   "source": [
    "plot_graphs(\"ConvModel\", metrics)"
   ]
  },
  {
   "cell_type": "markdown",
   "metadata": {
    "colab_type": "text",
    "id": "oFAc6IORmzCJ"
   },
   "source": [
    "Do you notice the improvement over the accuracy compared to that in Part 1?"
   ]
  },
  {
   "cell_type": "markdown",
   "metadata": {
    "colab_type": "text",
    "id": "hXpJgsjhftDP"
   },
   "source": [
    "## Part 3 Open Design Competition (35 Points + 10 bonus points)\n",
    "\n",
    "Try to beat the previous models by adding additional layers, changing parameters, etc.  You should add at least one layer.\n",
    "\n",
    "Possible changes include:\n",
    "*   Dropout\n",
    "*   Batch Normalization\n",
    "*   More layers\n",
    "*   Residual Connections (harder)\n",
    "*   Change layer size\n",
    "*   Pooling layers, stride\n",
    "*   Different optimizer\n",
    "*   Train for longer\n",
    "\n",
    "Once you have a model you think is great, evaluate it against our hidden test data (see hidden_loader above) and upload the results to the leader board on gradescope.  **The top 3 scorers will get a bonus 10 points.**\n",
    "\n",
    "You can steal model structures found on the internet if you want.  The only constraint is that **you must train the model from scratch**.\n"
   ]
  },
  {
   "cell_type": "code",
   "execution_count": 13,
   "metadata": {
    "colab": {
     "base_uri": "https://localhost:8080/",
     "height": 35
    },
    "colab_type": "code",
    "id": "3QQcVlX20J0Z",
    "outputId": "ee1b0830-f431-4584-e5fd-5a3e5d5e56f9"
   },
   "outputs": [
    {
     "name": "stdout",
     "output_type": "stream",
     "text": [
      "cuda:0\n"
     ]
    }
   ],
   "source": [
    "import numpy as np\n",
    "import torch\n",
    "from torch import nn\n",
    "from torch import optim\n",
    "from torch.autograd import Variable\n",
    "\n",
    "import matplotlib.pyplot as plt\n",
    "\n",
    "import torch.cuda as cuda\n",
    "\n",
    "# Use a GPU, i.e. cuda:0 device if it available.\n",
    "device = torch.device(\"cuda:0\" if cuda.is_available() else \"cpu\")\n",
    "print(device)"
   ]
  },
  {
   "cell_type": "code",
   "execution_count": 14,
   "metadata": {
    "colab": {
     "base_uri": "https://localhost:8080/",
     "height": 35
    },
    "colab_type": "code",
    "id": "EBGUxXrAwsli",
    "outputId": "e5e1737f-d8d9-423c-a8ca-eade1fee6dfd"
   },
   "outputs": [
    {
     "name": "stdout",
     "output_type": "stream",
     "text": [
      "mkdir: cannot create directory ‘hw10_data’: File exists\n"
     ]
    }
   ],
   "source": [
    "!mkdir hw10_data"
   ]
  },
  {
   "cell_type": "code",
   "execution_count": 15,
   "metadata": {
    "colab": {
     "base_uri": "https://localhost:8080/",
     "height": 52
    },
    "colab_type": "code",
    "id": "QZFkuraiZOaT",
    "outputId": "8f03752c-4337-476f-c2c2-7d36e9d65412"
   },
   "outputs": [
    {
     "name": "stdout",
     "output_type": "stream",
     "text": [
      "Files already downloaded and verified\n",
      "Files already downloaded and verified\n"
     ]
    }
   ],
   "source": [
    "# Download the data.\n",
    "from torchvision import datasets, transforms\n",
    "\n",
    "transform_train = transforms.Compose([\n",
    "    transforms.RandomCrop(32, padding=4),\n",
    "#      transforms.RandomHorizontalFlip(),\n",
    " #   transforms.RandomRotation(45),\n",
    "    transforms.ToTensor(),\n",
    "  #  transforms.functional.adjust_saturation(0),\n",
    "    transforms.Normalize((0.4914, 0.4822, 0.4465), (0.2023, 0.1994, 0.2010)),\n",
    "])\n",
    "\n",
    "transform_test = transforms.Compose([\n",
    "    transforms.ToTensor(),    \n",
    "    #transforms.functional.adjust_saturation(0),\n",
    "    transforms.Normalize((0.4914, 0.4822, 0.4465), (0.2023, 0.1994, 0.2010)),\n",
    "])\n",
    "\n",
    "train_set = datasets.CIFAR10(root='hw10_data/', download=True, transform=transform_train)\n",
    "test_set = datasets.CIFAR10(root='hw10_data', download=True, train=False, transform=transform_test)\n"
   ]
  },
  {
   "cell_type": "code",
   "execution_count": 0,
   "metadata": {
    "colab": {},
    "colab_type": "code",
    "id": "YxWBhfDH1CSV"
   },
   "outputs": [],
   "source": [
    "from torch.utils.data import DataLoader\n",
    "\n",
    "train_loader = torch.utils.data.DataLoader(train_set, batch_size=8, shuffle=True, num_workers=2)\n",
    "test_loader = torch.utils.data.DataLoader(test_set, batch_size=8, shuffle=False, num_workers=2)\n"
   ]
  },
  {
   "cell_type": "code",
   "execution_count": 0,
   "metadata": {
    "colab": {},
    "colab_type": "code",
    "id": "IoRV49ffQMCh"
   },
   "outputs": [],
   "source": [
    "#Convolution Neural Network - Improved Model\n",
    "\n",
    "\n",
    "class ConvModel2(nn.Module):\n",
    "    def __init__(self):\n",
    "         \n",
    "        super(ConvModel2, self).__init__()\n",
    "\n",
    "        self.conv_layer = nn.Sequential(\n",
    "\n",
    "            # Conv Layer block 1\n",
    "            nn.Conv2d(in_channels=3, out_channels=32, kernel_size=3, padding=1),\n",
    "            nn.BatchNorm2d(32),\n",
    "            nn.ReLU(inplace=True),\n",
    "            nn.Conv2d(in_channels=32, out_channels=64, kernel_size=3, padding=1),\n",
    "            nn.ReLU(inplace=True),\n",
    "             nn.MaxPool2d(kernel_size=2, stride=2),\n",
    "#            nn.Conv2d(64, 64, kernel_size=5, stride=2),\n",
    "            # Conv Layer block 2\n",
    "            nn.Conv2d(in_channels=64, out_channels=128, kernel_size=3, padding=1),\n",
    "            nn.BatchNorm2d(128),\n",
    "            nn.ReLU(inplace=True),\n",
    "            nn.Conv2d(in_channels=128, out_channels=128, kernel_size=3, padding=1),\n",
    "            nn.ReLU(inplace=True),\n",
    "             nn.MaxPool2d(kernel_size=2, stride=2),\n",
    "            nn.Dropout2d(p=0.05),\n",
    "\n",
    "            # Conv Layer block 3\n",
    "            nn.Conv2d(in_channels=128, out_channels=256, kernel_size=3, padding=1),\n",
    "            nn.BatchNorm2d(256),\n",
    "            nn.ReLU(inplace=True),\n",
    "            nn.Conv2d(in_channels=256, out_channels=256, kernel_size=3, padding=1),\n",
    "            nn.ReLU(inplace=True),\n",
    "             nn.MaxPool2d(kernel_size=2, stride=2),\n",
    "#            nn.Conv2d(256, 256, kernel_size=3, stride=2),\n",
    "\n",
    "        )\n",
    "\n",
    "\n",
    "        self.fc_layer = nn.Sequential(\n",
    "            nn.Dropout(p=0.1),\n",
    "            nn.Linear(4096, 1024),\n",
    "            nn.ReLU(inplace=True),\n",
    "            nn.Linear(1024, 512),\n",
    "            nn.ReLU(inplace=True),\n",
    "            nn.Dropout(p=0.1),\n",
    "            nn.Linear(512, 10)\n",
    "            \n",
    "        )\n",
    "\n",
    "    \n",
    "    def forward(self, x):\n",
    "        # conv layers\n",
    "        x = self.conv_layer(x)\n",
    "        \n",
    "        # flatten\n",
    "        x = x.view(x.size(0), -1)\n",
    "        \n",
    "        # fc layer\n",
    "        x = self.fc_layer(x)\n",
    "\n",
    "        return x"
   ]
  },
  {
   "cell_type": "code",
   "execution_count": 18,
   "metadata": {
    "colab": {
     "base_uri": "https://localhost:8080/",
     "height": 3189
    },
    "colab_type": "code",
    "id": "Ja2h3lZCRk26",
    "outputId": "9b0792e3-0787-4219-f4ca-40df1690e328"
   },
   "outputs": [
    {
     "name": "stdout",
     "output_type": "stream",
     "text": [
      "  Epoch 0 @ step 0: Train Loss: 0.004295, Train Accuracy: 0.000000\n",
      "  Epoch 0 @ step 1000: Train Loss: 2.090768, Train Accuracy: 0.213625\n",
      "  Epoch 0 @ step 2000: Train Loss: 1.955404, Train Accuracy: 0.263125\n",
      "  Epoch 0 @ step 3000: Train Loss: 1.885890, Train Accuracy: 0.271875\n",
      "  Epoch 0 @ step 4000: Train Loss: 1.829167, Train Accuracy: 0.310750\n",
      "  Epoch 0 @ step 5000: Train Loss: 1.773145, Train Accuracy: 0.333250\n",
      "  Epoch 0 @ step 6000: Train Loss: 1.716120, Train Accuracy: 0.355750\n",
      "Epoch 0 Test Loss: 1.577079, Test Accuracy: 0.408800, time: 54.2s\n",
      "  Epoch 1 @ step 7000: Train Loss: 1.679845, Train Accuracy: 0.367750\n",
      "  Epoch 1 @ step 8000: Train Loss: 1.640452, Train Accuracy: 0.383000\n",
      "  Epoch 1 @ step 9000: Train Loss: 1.573344, Train Accuracy: 0.409125\n",
      "  Epoch 1 @ step 10000: Train Loss: 1.560879, Train Accuracy: 0.420125\n",
      "  Epoch 1 @ step 11000: Train Loss: 1.505352, Train Accuracy: 0.437750\n",
      "  Epoch 1 @ step 12000: Train Loss: 1.468944, Train Accuracy: 0.453250\n",
      "Epoch 1 Test Loss: 1.311441, Test Accuracy: 0.506000, time: 55.1s\n",
      "  Epoch 2 @ step 13000: Train Loss: 1.437088, Train Accuracy: 0.460625\n",
      "  Epoch 2 @ step 14000: Train Loss: 1.397770, Train Accuracy: 0.486125\n",
      "  Epoch 2 @ step 15000: Train Loss: 1.357083, Train Accuracy: 0.503625\n",
      "  Epoch 2 @ step 16000: Train Loss: 1.326292, Train Accuracy: 0.515625\n",
      "  Epoch 2 @ step 17000: Train Loss: 1.313666, Train Accuracy: 0.531000\n",
      "  Epoch 2 @ step 18000: Train Loss: 1.252462, Train Accuracy: 0.543875\n",
      "Epoch 2 Test Loss: 1.119075, Test Accuracy: 0.597900, time: 55.0s\n",
      "  Epoch 3 @ step 19000: Train Loss: 1.215612, Train Accuracy: 0.561875\n",
      "  Epoch 3 @ step 20000: Train Loss: 1.182017, Train Accuracy: 0.577375\n",
      "  Epoch 3 @ step 21000: Train Loss: 1.154060, Train Accuracy: 0.586125\n",
      "  Epoch 3 @ step 22000: Train Loss: 1.114869, Train Accuracy: 0.601375\n",
      "  Epoch 3 @ step 23000: Train Loss: 1.117851, Train Accuracy: 0.594750\n",
      "  Epoch 3 @ step 24000: Train Loss: 1.085113, Train Accuracy: 0.609375\n",
      "Epoch 3 Test Loss: 0.941323, Test Accuracy: 0.674300, time: 56.1s\n",
      "  Epoch 4 @ step 25000: Train Loss: 1.048239, Train Accuracy: 0.631625\n",
      "  Epoch 4 @ step 26000: Train Loss: 1.006246, Train Accuracy: 0.642000\n",
      "  Epoch 4 @ step 27000: Train Loss: 1.001434, Train Accuracy: 0.651375\n",
      "  Epoch 4 @ step 28000: Train Loss: 0.997573, Train Accuracy: 0.648250\n",
      "  Epoch 4 @ step 29000: Train Loss: 0.978249, Train Accuracy: 0.658750\n",
      "  Epoch 4 @ step 30000: Train Loss: 0.964601, Train Accuracy: 0.662750\n",
      "  Epoch 4 @ step 31000: Train Loss: 0.966135, Train Accuracy: 0.663250\n",
      "Epoch 4 Test Loss: 0.837824, Test Accuracy: 0.712700, time: 55.3s\n",
      "  Epoch 5 @ step 32000: Train Loss: 0.904510, Train Accuracy: 0.684875\n",
      "  Epoch 5 @ step 33000: Train Loss: 0.908124, Train Accuracy: 0.682125\n",
      "  Epoch 5 @ step 34000: Train Loss: 0.901127, Train Accuracy: 0.686375\n",
      "  Epoch 5 @ step 35000: Train Loss: 0.876512, Train Accuracy: 0.690875\n",
      "  Epoch 5 @ step 36000: Train Loss: 0.864525, Train Accuracy: 0.697125\n",
      "  Epoch 5 @ step 37000: Train Loss: 0.845404, Train Accuracy: 0.702875\n",
      "Epoch 5 Test Loss: 0.823043, Test Accuracy: 0.722700, time: 53.5s\n",
      "  Epoch 6 @ step 38000: Train Loss: 0.820503, Train Accuracy: 0.716625\n",
      "  Epoch 6 @ step 39000: Train Loss: 0.820089, Train Accuracy: 0.716500\n",
      "  Epoch 6 @ step 40000: Train Loss: 0.817596, Train Accuracy: 0.726125\n",
      "  Epoch 6 @ step 41000: Train Loss: 0.799114, Train Accuracy: 0.725250\n",
      "  Epoch 6 @ step 42000: Train Loss: 0.822493, Train Accuracy: 0.720500\n",
      "  Epoch 6 @ step 43000: Train Loss: 0.821035, Train Accuracy: 0.722500\n",
      "Epoch 6 Test Loss: 0.750786, Test Accuracy: 0.745300, time: 54.8s\n",
      "  Epoch 7 @ step 44000: Train Loss: 0.780918, Train Accuracy: 0.723875\n",
      "  Epoch 7 @ step 45000: Train Loss: 0.758199, Train Accuracy: 0.736750\n",
      "  Epoch 7 @ step 46000: Train Loss: 0.736915, Train Accuracy: 0.748500\n",
      "  Epoch 7 @ step 47000: Train Loss: 0.766506, Train Accuracy: 0.734750\n",
      "  Epoch 7 @ step 48000: Train Loss: 0.791347, Train Accuracy: 0.732375\n",
      "  Epoch 7 @ step 49000: Train Loss: 0.745534, Train Accuracy: 0.737125\n",
      "Epoch 7 Test Loss: 0.702424, Test Accuracy: 0.764200, time: 54.7s\n",
      "  Epoch 8 @ step 50000: Train Loss: 0.758325, Train Accuracy: 0.739375\n",
      "  Epoch 8 @ step 51000: Train Loss: 0.708858, Train Accuracy: 0.757250\n",
      "  Epoch 8 @ step 52000: Train Loss: 0.729606, Train Accuracy: 0.748250\n",
      "  Epoch 8 @ step 53000: Train Loss: 0.738432, Train Accuracy: 0.751375\n",
      "  Epoch 8 @ step 54000: Train Loss: 0.713427, Train Accuracy: 0.756750\n",
      "  Epoch 8 @ step 55000: Train Loss: 0.720309, Train Accuracy: 0.755625\n",
      "  Epoch 8 @ step 56000: Train Loss: 0.675423, Train Accuracy: 0.769250\n",
      "Epoch 8 Test Loss: 0.665534, Test Accuracy: 0.773900, time: 55.6s\n",
      "  Epoch 9 @ step 57000: Train Loss: 0.686476, Train Accuracy: 0.771125\n",
      "  Epoch 9 @ step 58000: Train Loss: 0.701250, Train Accuracy: 0.761500\n",
      "  Epoch 9 @ step 59000: Train Loss: 0.692310, Train Accuracy: 0.760750\n",
      "  Epoch 9 @ step 60000: Train Loss: 0.658879, Train Accuracy: 0.770625\n",
      "  Epoch 9 @ step 61000: Train Loss: 0.686889, Train Accuracy: 0.768375\n",
      "  Epoch 9 @ step 62000: Train Loss: 0.706015, Train Accuracy: 0.761250\n",
      "Epoch 9 Test Loss: 0.653974, Test Accuracy: 0.789800, time: 53.8s\n",
      "  Epoch 10 @ step 63000: Train Loss: 0.664892, Train Accuracy: 0.772625\n",
      "  Epoch 10 @ step 64000: Train Loss: 0.656229, Train Accuracy: 0.775500\n",
      "  Epoch 10 @ step 65000: Train Loss: 0.665879, Train Accuracy: 0.772750\n",
      "  Epoch 10 @ step 66000: Train Loss: 0.636764, Train Accuracy: 0.787125\n",
      "  Epoch 10 @ step 67000: Train Loss: 0.666331, Train Accuracy: 0.780625\n",
      "  Epoch 10 @ step 68000: Train Loss: 0.665495, Train Accuracy: 0.778250\n",
      "Epoch 10 Test Loss: 0.639773, Test Accuracy: 0.787100, time: 54.0s\n",
      "  Epoch 11 @ step 69000: Train Loss: 0.636556, Train Accuracy: 0.784500\n",
      "  Epoch 11 @ step 70000: Train Loss: 0.649528, Train Accuracy: 0.778375\n",
      "  Epoch 11 @ step 71000: Train Loss: 0.634902, Train Accuracy: 0.786625\n",
      "  Epoch 11 @ step 72000: Train Loss: 0.620365, Train Accuracy: 0.796250\n",
      "  Epoch 11 @ step 73000: Train Loss: 0.645321, Train Accuracy: 0.791125\n",
      "  Epoch 11 @ step 74000: Train Loss: 0.634577, Train Accuracy: 0.782250\n",
      "Epoch 11 Test Loss: 0.594666, Test Accuracy: 0.808200, time: 54.5s\n",
      "  Epoch 12 @ step 75000: Train Loss: 0.635993, Train Accuracy: 0.787375\n",
      "  Epoch 12 @ step 76000: Train Loss: 0.608889, Train Accuracy: 0.792750\n",
      "  Epoch 12 @ step 77000: Train Loss: 0.636447, Train Accuracy: 0.790125\n",
      "  Epoch 12 @ step 78000: Train Loss: 0.595068, Train Accuracy: 0.800000\n",
      "  Epoch 12 @ step 79000: Train Loss: 0.611711, Train Accuracy: 0.793625\n",
      "  Epoch 12 @ step 80000: Train Loss: 0.609357, Train Accuracy: 0.794000\n",
      "  Epoch 12 @ step 81000: Train Loss: 0.605233, Train Accuracy: 0.792125\n",
      "Epoch 12 Test Loss: 0.597267, Test Accuracy: 0.808400, time: 54.6s\n",
      "  Epoch 13 @ step 82000: Train Loss: 0.595007, Train Accuracy: 0.803375\n",
      "  Epoch 13 @ step 83000: Train Loss: 0.597344, Train Accuracy: 0.804250\n",
      "  Epoch 13 @ step 84000: Train Loss: 0.576252, Train Accuracy: 0.805250\n",
      "  Epoch 13 @ step 85000: Train Loss: 0.617721, Train Accuracy: 0.797250\n",
      "  Epoch 13 @ step 86000: Train Loss: 0.599432, Train Accuracy: 0.796625\n",
      "  Epoch 13 @ step 87000: Train Loss: 0.594283, Train Accuracy: 0.801375\n",
      "Epoch 13 Test Loss: 0.564065, Test Accuracy: 0.808400, time: 56.1s\n",
      "  Epoch 14 @ step 88000: Train Loss: 0.561500, Train Accuracy: 0.812125\n",
      "  Epoch 14 @ step 89000: Train Loss: 0.571547, Train Accuracy: 0.805875\n",
      "  Epoch 14 @ step 90000: Train Loss: 0.580388, Train Accuracy: 0.803500\n",
      "  Epoch 14 @ step 91000: Train Loss: 0.561429, Train Accuracy: 0.811625\n",
      "  Epoch 14 @ step 92000: Train Loss: 0.576069, Train Accuracy: 0.807875\n",
      "  Epoch 14 @ step 93000: Train Loss: 0.567611, Train Accuracy: 0.811250\n",
      "Epoch 14 Test Loss: 0.560201, Test Accuracy: 0.811000, time: 53.5s\n",
      "  Epoch 15 @ step 94000: Train Loss: 0.577673, Train Accuracy: 0.807250\n",
      "  Epoch 15 @ step 95000: Train Loss: 0.564964, Train Accuracy: 0.812500\n",
      "  Epoch 15 @ step 96000: Train Loss: 0.562829, Train Accuracy: 0.811375\n",
      "  Epoch 15 @ step 97000: Train Loss: 0.547679, Train Accuracy: 0.817000\n",
      "  Epoch 15 @ step 98000: Train Loss: 0.560069, Train Accuracy: 0.808750\n",
      "  Epoch 15 @ step 99000: Train Loss: 0.572424, Train Accuracy: 0.811375\n",
      "Epoch 15 Test Loss: 0.554407, Test Accuracy: 0.824700, time: 54.3s\n",
      "  Epoch 16 @ step 100000: Train Loss: 0.556216, Train Accuracy: 0.814750\n",
      "  Epoch 16 @ step 101000: Train Loss: 0.544953, Train Accuracy: 0.822000\n",
      "  Epoch 16 @ step 102000: Train Loss: 0.544503, Train Accuracy: 0.820750\n",
      "  Epoch 16 @ step 103000: Train Loss: 0.535104, Train Accuracy: 0.828500\n",
      "  Epoch 16 @ step 104000: Train Loss: 0.527530, Train Accuracy: 0.820875\n",
      "  Epoch 16 @ step 105000: Train Loss: 0.528722, Train Accuracy: 0.824000\n",
      "  Epoch 16 @ step 106000: Train Loss: 0.541981, Train Accuracy: 0.817500\n",
      "Epoch 16 Test Loss: 0.550832, Test Accuracy: 0.819800, time: 54.3s\n",
      "  Epoch 17 @ step 107000: Train Loss: 0.533497, Train Accuracy: 0.819875\n",
      "  Epoch 17 @ step 108000: Train Loss: 0.549525, Train Accuracy: 0.821125\n",
      "  Epoch 17 @ step 109000: Train Loss: 0.529088, Train Accuracy: 0.827500\n",
      "  Epoch 17 @ step 110000: Train Loss: 0.520003, Train Accuracy: 0.829875\n",
      "  Epoch 17 @ step 111000: Train Loss: 0.541697, Train Accuracy: 0.822000\n",
      "  Epoch 17 @ step 112000: Train Loss: 0.507668, Train Accuracy: 0.826625\n",
      "Epoch 17 Test Loss: 0.535001, Test Accuracy: 0.824100, time: 54.6s\n",
      "  Epoch 18 @ step 113000: Train Loss: 0.526853, Train Accuracy: 0.826875\n",
      "  Epoch 18 @ step 114000: Train Loss: 0.507865, Train Accuracy: 0.831000\n",
      "  Epoch 18 @ step 115000: Train Loss: 0.514799, Train Accuracy: 0.834875\n",
      "  Epoch 18 @ step 116000: Train Loss: 0.508520, Train Accuracy: 0.831125\n",
      "  Epoch 18 @ step 117000: Train Loss: 0.521829, Train Accuracy: 0.828125\n",
      "  Epoch 18 @ step 118000: Train Loss: 0.520715, Train Accuracy: 0.827750\n",
      "Epoch 18 Test Loss: 0.530901, Test Accuracy: 0.824200, time: 55.6s\n",
      "  Epoch 19 @ step 119000: Train Loss: 0.505560, Train Accuracy: 0.829875\n",
      "  Epoch 19 @ step 120000: Train Loss: 0.484947, Train Accuracy: 0.837125\n",
      "  Epoch 19 @ step 121000: Train Loss: 0.510967, Train Accuracy: 0.829250\n",
      "  Epoch 19 @ step 122000: Train Loss: 0.508971, Train Accuracy: 0.832750\n",
      "  Epoch 19 @ step 123000: Train Loss: 0.486174, Train Accuracy: 0.837875\n",
      "  Epoch 19 @ step 124000: Train Loss: 0.511076, Train Accuracy: 0.830875\n",
      "Epoch 19 Test Loss: 0.548541, Test Accuracy: 0.829000, time: 53.6s\n",
      "  Epoch 20 @ step 125000: Train Loss: 0.512883, Train Accuracy: 0.832250\n",
      "  Epoch 20 @ step 126000: Train Loss: 0.478802, Train Accuracy: 0.841125\n",
      "  Epoch 20 @ step 127000: Train Loss: 0.483708, Train Accuracy: 0.841250\n",
      "  Epoch 20 @ step 128000: Train Loss: 0.488770, Train Accuracy: 0.841875\n",
      "  Epoch 20 @ step 129000: Train Loss: 0.477415, Train Accuracy: 0.842750\n",
      "  Epoch 20 @ step 130000: Train Loss: 0.499011, Train Accuracy: 0.833625\n",
      "  Epoch 20 @ step 131000: Train Loss: 0.541574, Train Accuracy: 0.823125\n",
      "Epoch 20 Test Loss: 0.556109, Test Accuracy: 0.829900, time: 54.5s\n",
      "  Epoch 21 @ step 132000: Train Loss: 0.474794, Train Accuracy: 0.844125\n",
      "  Epoch 21 @ step 133000: Train Loss: 0.483223, Train Accuracy: 0.839375\n",
      "  Epoch 21 @ step 134000: Train Loss: 0.469926, Train Accuracy: 0.841125\n",
      "  Epoch 21 @ step 135000: Train Loss: 0.518602, Train Accuracy: 0.831000\n",
      "  Epoch 21 @ step 136000: Train Loss: 0.475515, Train Accuracy: 0.840375\n",
      "  Epoch 21 @ step 137000: Train Loss: 0.478715, Train Accuracy: 0.845125\n",
      "Epoch 21 Test Loss: 0.517177, Test Accuracy: 0.836700, time: 54.6s\n",
      "  Epoch 22 @ step 138000: Train Loss: 0.446822, Train Accuracy: 0.851375\n",
      "  Epoch 22 @ step 139000: Train Loss: 0.439334, Train Accuracy: 0.854375\n",
      "  Epoch 22 @ step 140000: Train Loss: 0.483851, Train Accuracy: 0.839750\n",
      "  Epoch 22 @ step 141000: Train Loss: 0.463661, Train Accuracy: 0.844750\n",
      "  Epoch 22 @ step 142000: Train Loss: 0.467037, Train Accuracy: 0.844625\n",
      "  Epoch 22 @ step 143000: Train Loss: 0.482908, Train Accuracy: 0.841375\n",
      "Epoch 22 Test Loss: 0.525850, Test Accuracy: 0.838200, time: 54.4s\n",
      "  Epoch 23 @ step 144000: Train Loss: 0.458152, Train Accuracy: 0.846000\n",
      "  Epoch 23 @ step 145000: Train Loss: 0.459450, Train Accuracy: 0.846750\n",
      "  Epoch 23 @ step 146000: Train Loss: 0.461150, Train Accuracy: 0.849500\n",
      "  Epoch 23 @ step 147000: Train Loss: 0.475296, Train Accuracy: 0.845125\n",
      "  Epoch 23 @ step 148000: Train Loss: 0.525636, Train Accuracy: 0.823625\n",
      "  Epoch 23 @ step 149000: Train Loss: 0.442935, Train Accuracy: 0.850375\n",
      "Epoch 23 Test Loss: 0.579077, Test Accuracy: 0.835500, time: 54.6s\n",
      "  Epoch 24 @ step 150000: Train Loss: 0.466302, Train Accuracy: 0.850625\n",
      "  Epoch 24 @ step 151000: Train Loss: 0.430466, Train Accuracy: 0.858250\n",
      "  Epoch 24 @ step 152000: Train Loss: 0.448866, Train Accuracy: 0.853625\n",
      "  Epoch 24 @ step 153000: Train Loss: 0.434753, Train Accuracy: 0.854125\n",
      "  Epoch 24 @ step 154000: Train Loss: 0.448886, Train Accuracy: 0.849375\n",
      "  Epoch 24 @ step 155000: Train Loss: 0.445485, Train Accuracy: 0.853000\n",
      "  Epoch 24 @ step 156000: Train Loss: 0.440286, Train Accuracy: 0.859500\n",
      "Epoch 24 Test Loss: 0.542395, Test Accuracy: 0.835200, time: 54.0s\n",
      "Final Test Loss: 0.542395, Test Accuracy: 0.835200, Total time: 1365.0s\n"
     ]
    }
   ],
   "source": [
    "#Loss function and Optimizer\n",
    "model = ConvModel2().to(device)\n",
    "\n",
    "loss = nn.CrossEntropyLoss()\n",
    "optimizer = optim.Adam(model.parameters(), lr=0.001)\n",
    "training_epochs = 25\n",
    "metrics = train(model, train_loader, test_loader, loss, optimizer, training_epochs)"
   ]
  },
  {
   "cell_type": "code",
   "execution_count": 0,
   "metadata": {
    "colab": {},
    "colab_type": "code",
    "id": "NSUHsMnxZuxr"
   },
   "outputs": [],
   "source": []
  },
  {
   "cell_type": "markdown",
   "metadata": {
    "colab_type": "text",
    "id": "xbx5REUdc-Xs"
   },
   "source": [
    "**What changes did you make to improve your model?**"
   ]
  },
  {
   "cell_type": "markdown",
   "metadata": {
    "colab_type": "text",
    "id": "_P-k1JexzJhx"
   },
   "source": [
    "**We added more convolutional layers so that we could represent more complex relationships in the data and\n",
    "added dropout to prevent the network from relying too heavily on certain nodes to make its decision.\n",
    "We also added batch normalization, a well known technique that adjusts the scaling of the activation functions.**\n",
    "\n",
    "*We tried random scaling and random flips on the train loaders, but these seemed to reduce model quality.*\n",
    "*We  also tried adding more layers and changing the parameters of the convolution functions, which did not help or reduced model quality.*"
   ]
  },
  {
   "cell_type": "code",
   "execution_count": 19,
   "metadata": {
    "colab": {
     "base_uri": "https://localhost:8080/",
     "height": 573
    },
    "colab_type": "code",
    "id": "uItu0w4fZTuG",
    "outputId": "55841def-c56f-4975-a058-0a290b1595bf"
   },
   "outputs": [
    {
     "data": {
      "image/png": "[encoded data removed]",
      "text/plain": [
       "<Figure size 432x288 with 1 Axes>"
      ]
     },
     "metadata": {
      "tags": []
     },
     "output_type": "display_data"
    },
    {
     "data": {
      "image/png": "[encoded data removed]",
      "text/plain": [
       "<Figure size 432x288 with 1 Axes>"
      ]
     },
     "metadata": {
      "tags": []
     },
     "output_type": "display_data"
    }
   ],
   "source": [
    "plot_graphs(\"AwesomeModel\", metrics)"
   ]
  },
  {
   "cell_type": "markdown",
   "metadata": {
    "colab_type": "text",
    "id": "rWlP2WsodgK0"
   },
   "source": [
    "After you get a nice model, download the test_file.zip and unzip it to get test_file.pt. In colab, you can explore your files from the left side bar. You can also download the files to your machine from there."
   ]
  },
  {
   "cell_type": "code",
   "execution_count": 20,
   "metadata": {
    "colab": {
     "base_uri": "https://localhost:8080/",
     "height": 312
    },
    "colab_type": "code",
    "id": "Z6UZInUCdfQ1",
    "outputId": "3ac74077-d356-4243-e4e3-6e89302a92f9"
   },
   "outputs": [
    {
     "name": "stdout",
     "output_type": "stream",
     "text": [
      "--2019-05-02 04:46:47--  http://courses.engr.illinois.edu/cs498aml/sp2019/homeworks/test_file.zip\n",
      "Resolving courses.engr.illinois.edu (courses.engr.illinois.edu)... 130.126.151.9\n",
      "Connecting to courses.engr.illinois.edu (courses.engr.illinois.edu)|130.126.151.9|:80... connected.\n",
      "HTTP request sent, awaiting response... 301 Moved Permanently\n",
      "Location: https://courses.engr.illinois.edu/cs498aml/sp2019/homeworks/test_file.zip [following]\n",
      "--2019-05-02 04:46:48--  https://courses.engr.illinois.edu/cs498aml/sp2019/homeworks/test_file.zip\n",
      "Connecting to courses.engr.illinois.edu (courses.engr.illinois.edu)|130.126.151.9|:443... connected.\n",
      "HTTP request sent, awaiting response... 200 OK\n",
      "Length: 3841776 (3.7M) [application/x-zip-compressed]\n",
      "Saving to: ‘test_file.zip’\n",
      "\n",
      "test_file.zip       100%[===================>]   3.66M  12.6MB/s    in 0.3s    \n",
      "\n",
      "2019-05-02 04:46:48 (12.6 MB/s) - ‘test_file.zip’ saved [3841776/3841776]\n",
      "\n",
      "Archive:  test_file.zip\n",
      "  inflating: test_file.pt            \n"
     ]
    }
   ],
   "source": [
    "!wget http://courses.engr.illinois.edu/cs498aml/sp2019/homeworks/test_file.zip\n",
    "!unzip test_file.zip"
   ]
  },
  {
   "cell_type": "markdown",
   "metadata": {
    "colab_type": "text",
    "id": "7g5caFPreMLT"
   },
   "source": [
    "Then use your model to predict the label of the test images. Fill the remaining code below, where x has two dimensions (batch_size x one image size). Remember to reshpe x accordingly before feeding it into your model. The submission.txt should contain one predicted label (0~9) each line. Submit your submission.txt to the competition in gradscope."
   ]
  },
  {
   "cell_type": "code",
   "execution_count": 0,
   "metadata": {
    "colab": {},
    "colab_type": "code",
    "id": "yNdYAH9XeLlb"
   },
   "outputs": [],
   "source": [
    "import torch.utils.data as Data\n",
    "\n",
    "test_file = 'test_file.pt'\n",
    "pred_file = 'submission.txt'\n",
    "\n",
    "batch_size = 32\n",
    "device = torch.device(\"cuda:0\" if cuda.is_available() else \"cpu\")\n",
    "f_pred = open(pred_file,'w') \n",
    "tensor = torch.load(test_file)\n",
    "torch_dataset = Data.TensorDataset(tensor)  \n",
    "test_loader = torch.utils.data.DataLoader(torch_dataset, batch_size, shuffle=False, num_workers=2)\n",
    "model.eval()\n",
    "with torch.no_grad():\n",
    "  for ele in test_loader:\n",
    "      x = ele[0]\n",
    "      x = x.view(x.size(0), 3, 32, 32)\n",
    "      x = x.to(device)\n",
    "      # Fill your code here\n",
    "      pred = model(x)\n",
    "      pred = torch.argmax(pred, dim=1)\n",
    "      for i in range(int(pred.data.size()[0])):\n",
    "        f_pred.write(str(pred.data[i].item()))\n",
    "        f_pred.write('\\n')\n",
    "      \n",
    "    \n",
    "f_pred.close()"
   ]
  },
  {
   "cell_type": "markdown",
   "metadata": {
    "colab_type": "text",
    "id": "8-L6F0CMqc-A"
   },
   "source": [
    "\n",
    "# Report\n",
    "\n",
    "## Part 0: Imports and Basic Setup\n",
    "Nothing to report for this part. You will be just scored for finishing the setup.\n",
    "\n",
    "## Part 1: Fully connected neural networks\n",
    "\n",
    "Test (on validation set) accuracy (5 Points): 31.49%\n",
    "\n",
    "Test loss (5 Points): 1.9233\n",
    "\n",
    "Training time (5 Points): 90.5s\n",
    "\n",
    "\n",
    "Plots:\n",
    "\n",
    "- Plot a graph of accuracy on validation set vs training steps (5 Points)\n",
    "\n",
    "- Plot a graph of loss on validation set vs training steps (5 Points)\n",
    "\n",
    "#### Plots are in the code section.\n",
    "\n",
    "## Part 2: Convolution Network (Basic)\n",
    "\n",
    "Tensor dimensions: A good way to debug your network for size mismatches is to print the dimension of output after every layers:\n",
    "\n",
    "(10 Points)\n",
    "\n",
    "Output dimension after 1st conv layer: [-1, 16, 32, 32]\n",
    "\n",
    "Output dimension after 1st max pooling:  [-1, 16, 16, 16] \n",
    "\n",
    "Output dimension after 2nd conv layer:    [-1, 16, 16, 16]\n",
    "\n",
    "Output dimension after flatten layer: [-1, 4096] \n",
    "\n",
    "Output dimension after 1st fully connected layer:  [-1, 64] \n",
    "\n",
    "Output dimension after 2nd fully connected layer:   [-1, 10]\n",
    "\n",
    "\n",
    "Test (on validation set) Accuracy (5 Points): 54.73%\n",
    "\n",
    "Test loss (5 Points): 1.2749\n",
    "\n",
    "Training time (5 Points): 134.2s\n",
    "\n",
    "\n",
    "Plots:\n",
    "\n",
    "- Plot a graph of accuracy on validation set vs training steps (5 Points)\n",
    "\n",
    "- Plot a graph of loss on validation set vs training steps (5 Points)\n",
    "\n",
    "#### Plots are in the code section.\n",
    "\n",
    "## Part 3: Convolution Network (Add one or more  suggested changes)\n",
    "\n",
    "Describe the additional changes implemented, your intuition for as to why it works, you may also describe other approaches you experimented with (10 Points):\n",
    "\n",
    "**We added more convolutional layers so that we could represent more complex relationships in the data and\n",
    "added dropout to prevent the network from relying too heavily on certain nodes to make its decision.\n",
    "We also added batch normalization, a well known technique that adjusts the scaling of the activation functions.**\n",
    "\n",
    "*We tried random scaling and random flips on the train loaders, but these seemed to reduce model quality.*\n",
    "*We  also tried adding more layers and changing the parameters of the convolution functions, which did not help or reduced model quality.*\n",
    "\n",
    "\n",
    "Test (on validation set) Accuracy (5 Points): 83.52%\n",
    "\n",
    "Test loss (5 Points): 0.5424\n",
    "\n",
    "Training time (5 Points): 1365.0s\n",
    "\n",
    "\n",
    "Plots:\n",
    "\n",
    "- Plot a graph of accuracy on validation set vs training steps (5 Points)\n",
    "\n",
    "- Plot a graph of loss on validation set vs training steps (5 Points)"
   ]
  },
  {
   "cell_type": "code",
   "execution_count": 0,
   "metadata": {
    "colab": {},
    "colab_type": "code",
    "id": "neFzk_CWPjWf"
   },
   "outputs": [],
   "source": []
  }
 ],
 "metadata": {
  "accelerator": "GPU",
  "colab": {
   "collapsed_sections": [],
   "name": "AML_HW10_final.ipynb",
   "provenance": [],
   "version": "0.3.2"
  },
  "kernelspec": {
   "display_name": "Python 3",
   "language": "python",
   "name": "python3"
  },
  "language_info": {
   "codemirror_mode": {
    "name": "ipython",
    "version": 3
   },
   "file_extension": ".py",
   "mimetype": "text/x-python",
   "name": "python",
   "nbconvert_exporter": "python",
   "pygments_lexer": "ipython3",
   "version": "3.6.8"
  }
 },
 "nbformat": 4,
 "nbformat_minor": 1
}
